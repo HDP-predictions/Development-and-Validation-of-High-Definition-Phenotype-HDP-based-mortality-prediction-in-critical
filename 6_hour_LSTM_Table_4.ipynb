{
 "cells": [
  {
   "cell_type": "code",
   "execution_count": 1,
   "metadata": {},
   "outputs": [
    {
     "name": "stderr",
     "output_type": "stream",
     "text": [
      "Using TensorFlow backend.\n",
      "/usr/local/lib/python3.5/dist-packages/tensorflow/python/framework/dtypes.py:516: FutureWarning: Passing (type, 1) or '1type' as a synonym of type is deprecated; in a future version of numpy, it will be understood as (type, (1,)) / '(1,)type'.\n",
      "  _np_qint8 = np.dtype([(\"qint8\", np.int8, 1)])\n",
      "/usr/local/lib/python3.5/dist-packages/tensorflow/python/framework/dtypes.py:517: FutureWarning: Passing (type, 1) or '1type' as a synonym of type is deprecated; in a future version of numpy, it will be understood as (type, (1,)) / '(1,)type'.\n",
      "  _np_quint8 = np.dtype([(\"quint8\", np.uint8, 1)])\n",
      "/usr/local/lib/python3.5/dist-packages/tensorflow/python/framework/dtypes.py:518: FutureWarning: Passing (type, 1) or '1type' as a synonym of type is deprecated; in a future version of numpy, it will be understood as (type, (1,)) / '(1,)type'.\n",
      "  _np_qint16 = np.dtype([(\"qint16\", np.int16, 1)])\n",
      "/usr/local/lib/python3.5/dist-packages/tensorflow/python/framework/dtypes.py:519: FutureWarning: Passing (type, 1) or '1type' as a synonym of type is deprecated; in a future version of numpy, it will be understood as (type, (1,)) / '(1,)type'.\n",
      "  _np_quint16 = np.dtype([(\"quint16\", np.uint16, 1)])\n",
      "/usr/local/lib/python3.5/dist-packages/tensorflow/python/framework/dtypes.py:520: FutureWarning: Passing (type, 1) or '1type' as a synonym of type is deprecated; in a future version of numpy, it will be understood as (type, (1,)) / '(1,)type'.\n",
      "  _np_qint32 = np.dtype([(\"qint32\", np.int32, 1)])\n",
      "/usr/local/lib/python3.5/dist-packages/tensorflow/python/framework/dtypes.py:525: FutureWarning: Passing (type, 1) or '1type' as a synonym of type is deprecated; in a future version of numpy, it will be understood as (type, (1,)) / '(1,)type'.\n",
      "  np_resource = np.dtype([(\"resource\", np.ubyte, 1)])\n",
      "/usr/local/lib/python3.5/dist-packages/tensorboard/compat/tensorflow_stub/dtypes.py:541: FutureWarning: Passing (type, 1) or '1type' as a synonym of type is deprecated; in a future version of numpy, it will be understood as (type, (1,)) / '(1,)type'.\n",
      "  _np_qint8 = np.dtype([(\"qint8\", np.int8, 1)])\n",
      "/usr/local/lib/python3.5/dist-packages/tensorboard/compat/tensorflow_stub/dtypes.py:542: FutureWarning: Passing (type, 1) or '1type' as a synonym of type is deprecated; in a future version of numpy, it will be understood as (type, (1,)) / '(1,)type'.\n",
      "  _np_quint8 = np.dtype([(\"quint8\", np.uint8, 1)])\n",
      "/usr/local/lib/python3.5/dist-packages/tensorboard/compat/tensorflow_stub/dtypes.py:543: FutureWarning: Passing (type, 1) or '1type' as a synonym of type is deprecated; in a future version of numpy, it will be understood as (type, (1,)) / '(1,)type'.\n",
      "  _np_qint16 = np.dtype([(\"qint16\", np.int16, 1)])\n",
      "/usr/local/lib/python3.5/dist-packages/tensorboard/compat/tensorflow_stub/dtypes.py:544: FutureWarning: Passing (type, 1) or '1type' as a synonym of type is deprecated; in a future version of numpy, it will be understood as (type, (1,)) / '(1,)type'.\n",
      "  _np_quint16 = np.dtype([(\"quint16\", np.uint16, 1)])\n",
      "/usr/local/lib/python3.5/dist-packages/tensorboard/compat/tensorflow_stub/dtypes.py:545: FutureWarning: Passing (type, 1) or '1type' as a synonym of type is deprecated; in a future version of numpy, it will be understood as (type, (1,)) / '(1,)type'.\n",
      "  _np_qint32 = np.dtype([(\"qint32\", np.int32, 1)])\n",
      "/usr/local/lib/python3.5/dist-packages/tensorboard/compat/tensorflow_stub/dtypes.py:550: FutureWarning: Passing (type, 1) or '1type' as a synonym of type is deprecated; in a future version of numpy, it will be understood as (type, (1,)) / '(1,)type'.\n",
      "  np_resource = np.dtype([(\"resource\", np.ubyte, 1)])\n"
     ]
    }
   ],
   "source": [
    "import pandas as pd\n",
    "import numpy as np\n",
    "from keras.layers import Activation, Dense, Dropout, SpatialDropout1D,Input,Masking,Bidirectional, TimeDistributed\n",
    "from keras.layers.embeddings import Embedding\n",
    "from keras.layers.recurrent import LSTM,GRU\n",
    "from keras.models import Sequential, Model\n",
    "from keras.preprocessing import sequence\n",
    "from sklearn.model_selection import train_test_split\n",
    "from keras.callbacks import EarlyStopping\n",
    "from random import seed\n",
    "#seed(1)\n",
    "import tensorflow as tf\n",
    "from keras.layers import Input, Dense\n",
    "from keras.models import Model\n",
    "\n",
    "#defining the early stopping criteria\n",
    "es = EarlyStopping(monitor='val_loss', mode='min', verbose=1,restore_best_weights=True,patience=3)\n"
   ]
  },
  {
   "cell_type": "code",
   "execution_count": 2,
   "metadata": {},
   "outputs": [
    {
     "name": "stderr",
     "output_type": "stream",
     "text": [
      "/usr/local/lib/python3.5/dist-packages/IPython/core/interactiveshell.py:2785: DtypeWarning: Columns (14,15,16,24,34,40,42,44,45,46,47,52,54,56) have mixed types. Specify dtype option on import or set low_memory=False.\n",
      "  interactivity=interactivity, compiler=compiler, result=result)\n"
     ]
    }
   ],
   "source": [
    "gs = pd.read_csv('LSTM_6_hour.csv')\n",
    "gs.drop('Unnamed: 0',axis=1,inplace=True)"
   ]
  },
  {
   "cell_type": "code",
   "execution_count": 3,
   "metadata": {},
   "outputs": [],
   "source": [
    "cols_to_use = ['uhid','pulserate', 'ecg_resprate',\n",
    "       'spo2', 'heartrate', 'mean_bp', 'sys_bp', 'dia_bp',\n",
    "       'peep', 'pip', 'map', 'tidalvol', 'minvol', 'ti', 'fio2',\n",
    "       'abd_difference_y',\n",
    "       'abdomen_girth_y','currentdateheight',\n",
    "       'currentdateweight','dischargestatus', \n",
    "       'new_ph', \n",
    "       'rbs',  'stool_day_total', \n",
    "       'temp', 'total_intake', 'totalparenteralvolume',\n",
    "       'tpn-tfl', 'typevalue_Antibiotics', 'typevalue_Inotropes',\n",
    "       'urine', 'urine_per_hour',\n",
    "       'urine_per_kg_hour','gender', 'birthweight',\n",
    "       'birthlength', 'birthheadcircumference', 'inout_patient_status',\n",
    "       'gestationweekbylmp', 'gestationdaysbylmp',\n",
    "       'baby_type', 'central_temp', 'apgar_onemin', 'apgar_fivemin',\n",
    "       'apgar_tenmin', 'motherage', 'conception_type', 'mode_of_delivery',\n",
    "       'steroidname', 'numberofdose', 'gestation']"
   ]
  },
  {
   "cell_type": "code",
   "execution_count": 4,
   "metadata": {},
   "outputs": [],
   "source": [
    "gd = gs[cols_to_use]"
   ]
  },
  {
   "cell_type": "code",
   "execution_count": 5,
   "metadata": {},
   "outputs": [],
   "source": [
    "def range_finder(x):\n",
    "    length = x\n",
    "    fractional = (x/15.0) - math.floor(x/15.0)\n",
    "    return int(round(fractional*15))"
   ]
  },
  {
   "cell_type": "code",
   "execution_count": 6,
   "metadata": {},
   "outputs": [],
   "source": [
    "import math\n",
    "final_df = pd.DataFrame(columns=gd.columns)\n",
    "for i in gd.uhid.unique():\n",
    "    x = gd[gd['uhid']==i]\n",
    "    x = x[range_finder(len(x)):len(x)]\n",
    "    \n",
    "    final_df = final_df.append(x,ignore_index=True)\n",
    "    "
   ]
  },
  {
   "cell_type": "code",
   "execution_count": 15,
   "metadata": {},
   "outputs": [],
   "source": [
    "train = final_df[:13365]\n",
    "test = final_df[13365:]"
   ]
  },
  {
   "cell_type": "code",
   "execution_count": 16,
   "metadata": {},
   "outputs": [],
   "source": [
    "y_train = train['dischargestatus']\n",
    "X_train = train.drop('dischargestatus',axis=1)\n",
    "X_train = X_train.drop('uhid',axis=1)\n",
    "#X_train = X_train.drop('visittime',axis=1)\n",
    "\n",
    "y_test = test['dischargestatus']\n",
    "X_test = test.drop('dischargestatus',axis=1)\n",
    "X_test = X_test.drop('uhid',axis=1)\n",
    "#X_test = X_test.drop('startdate',axis=1)"
   ]
  },
  {
   "cell_type": "code",
   "execution_count": 17,
   "metadata": {},
   "outputs": [],
   "source": [
    "#converting the data into a numpy array\n",
    "X_train = np.array(X_train)\n",
    "y_train = np.array(y_train)\n",
    "X_test = np.array(X_test)\n",
    "y_test = np.array(y_test)\n",
    "\n",
    "ytrain1 = []\n",
    "for i in range(0,len(y_train),15):\n",
    "    #print(i)\n",
    "    y1 = y_train[i:i+15]\n",
    "    ytrain1.append(y1[-1])\n",
    "    \n",
    "ytest1 = []\n",
    "for i in range(0,len(y_test),15):\n",
    "    #print(i)\n",
    "    y1 = y_test[i:i+15]\n",
    "    ytest1.append(y1[-1])\n",
    "    \n",
    "ytrain1 = np.array(ytrain1)\n",
    "ytest1 = np.array(ytest1)\n",
    "\n",
    "Xtrain = np.reshape(X_train, (-1, 15, X_train.shape[1]))\n",
    "Xtest = np.reshape(X_test, (-1, 15, X_test.shape[1]))"
   ]
  },
  {
   "cell_type": "code",
   "execution_count": 18,
   "metadata": {},
   "outputs": [],
   "source": [
    "auc_roc_inter = []\n",
    "from sklearn.metrics import roc_auc_score\n",
    "val_a = []\n",
    "train_a = []"
   ]
  },
  {
   "cell_type": "code",
   "execution_count": 19,
   "metadata": {
    "scrolled": true
   },
   "outputs": [
    {
     "name": "stdout",
     "output_type": "stream",
     "text": [
      "WARNING:tensorflow:From /usr/local/lib/python3.5/dist-packages/keras/backend/tensorflow_backend.py:517: The name tf.placeholder is deprecated. Please use tf.compat.v1.placeholder instead.\n",
      "\n",
      "WARNING:tensorflow:From /usr/local/lib/python3.5/dist-packages/keras/backend/tensorflow_backend.py:74: The name tf.get_default_graph is deprecated. Please use tf.compat.v1.get_default_graph instead.\n",
      "\n",
      "WARNING:tensorflow:From /usr/local/lib/python3.5/dist-packages/keras/backend/tensorflow_backend.py:4138: The name tf.random_uniform is deprecated. Please use tf.random.uniform instead.\n",
      "\n",
      "WARNING:tensorflow:From /usr/local/lib/python3.5/dist-packages/keras/backend/tensorflow_backend.py:133: The name tf.placeholder_with_default is deprecated. Please use tf.compat.v1.placeholder_with_default instead.\n",
      "\n",
      "WARNING:tensorflow:From /usr/local/lib/python3.5/dist-packages/keras/backend/tensorflow_backend.py:3445: calling dropout (from tensorflow.python.ops.nn_ops) with keep_prob is deprecated and will be removed in a future version.\n",
      "Instructions for updating:\n",
      "Please use `rate` instead of `keep_prob`. Rate should be set to `rate = 1 - keep_prob`.\n",
      "WARNING:tensorflow:From /usr/local/lib/python3.5/dist-packages/keras/backend/tensorflow_backend.py:2974: add_dispatch_support.<locals>.wrapper (from tensorflow.python.ops.array_ops) is deprecated and will be removed in a future version.\n",
      "Instructions for updating:\n",
      "Use tf.where in 2.0, which has the same broadcast rule as np.where\n",
      "WARNING:tensorflow:From /usr/local/lib/python3.5/dist-packages/keras/optimizers.py:790: The name tf.train.Optimizer is deprecated. Please use tf.compat.v1.train.Optimizer instead.\n",
      "\n",
      "WARNING:tensorflow:From /usr/local/lib/python3.5/dist-packages/keras/backend/tensorflow_backend.py:3376: The name tf.log is deprecated. Please use tf.math.log instead.\n",
      "\n",
      "Train on 757 samples, validate on 134 samples\n",
      "Epoch 1/38\n",
      "757/757 [==============================] - 4s 5ms/step - loss: 0.5008 - acc: 0.7239 - val_loss: 0.2218 - val_acc: 1.0000\n",
      "Epoch 2/38\n",
      "757/757 [==============================] - 1s 2ms/step - loss: 0.2367 - acc: 0.9155 - val_loss: 0.2611 - val_acc: 0.8358\n",
      "Epoch 3/38\n",
      "757/757 [==============================] - 1s 2ms/step - loss: 0.1521 - acc: 0.9234 - val_loss: 0.6430 - val_acc: 0.8358\n",
      "Epoch 4/38\n",
      "757/757 [==============================] - 1s 2ms/step - loss: 0.1569 - acc: 0.9339 - val_loss: 0.1978 - val_acc: 0.8582\n",
      "Epoch 5/38\n",
      "757/757 [==============================] - 1s 2ms/step - loss: 0.1186 - acc: 0.9498 - val_loss: 0.1084 - val_acc: 0.9851\n",
      "Epoch 6/38\n",
      "757/757 [==============================] - 1s 2ms/step - loss: 0.1305 - acc: 0.9498 - val_loss: 0.1201 - val_acc: 0.9328\n",
      "Epoch 7/38\n",
      "757/757 [==============================] - 1s 2ms/step - loss: 0.1124 - acc: 0.9604 - val_loss: 0.0171 - val_acc: 1.0000\n",
      "Epoch 8/38\n",
      "757/757 [==============================] - 1s 2ms/step - loss: 0.0875 - acc: 0.9604 - val_loss: 0.4926 - val_acc: 0.8209\n",
      "Epoch 9/38\n",
      "757/757 [==============================] - 1s 2ms/step - loss: 0.0786 - acc: 0.9709 - val_loss: 0.3525 - val_acc: 0.8358\n",
      "Epoch 10/38\n",
      "757/757 [==============================] - 1s 2ms/step - loss: 0.0721 - acc: 0.9736 - val_loss: 0.1865 - val_acc: 0.8358\n",
      "Restoring model weights from the end of the best epoch\n",
      "Epoch 00010: early stopping\n",
      "Train on 757 samples, validate on 134 samples\n",
      "Epoch 1/38\n",
      "757/757 [==============================] - 4s 5ms/step - loss: 0.4596 - acc: 0.7635 - val_loss: 0.2181 - val_acc: 0.8284\n",
      "Epoch 2/38\n",
      "757/757 [==============================] - 1s 2ms/step - loss: 0.2079 - acc: 0.9247 - val_loss: 0.3726 - val_acc: 0.8358\n",
      "Epoch 3/38\n",
      "757/757 [==============================] - 1s 2ms/step - loss: 0.1336 - acc: 0.9511 - val_loss: 0.2544 - val_acc: 0.8358\n",
      "Epoch 4/38\n",
      "757/757 [==============================] - 1s 2ms/step - loss: 0.1375 - acc: 0.9432 - val_loss: 0.1516 - val_acc: 0.8582\n",
      "Epoch 5/38\n",
      "757/757 [==============================] - 1s 2ms/step - loss: 0.1078 - acc: 0.9577 - val_loss: 0.0115 - val_acc: 1.0000\n",
      "Epoch 6/38\n",
      "757/757 [==============================] - 1s 2ms/step - loss: 0.1007 - acc: 0.9617 - val_loss: 0.3703 - val_acc: 0.8358\n",
      "Epoch 7/38\n",
      "757/757 [==============================] - 1s 2ms/step - loss: 0.0975 - acc: 0.9538 - val_loss: 0.0223 - val_acc: 1.0000\n",
      "Epoch 8/38\n",
      "757/757 [==============================] - 1s 2ms/step - loss: 0.1100 - acc: 0.9511 - val_loss: 0.0876 - val_acc: 0.9851\n",
      "Restoring model weights from the end of the best epoch\n",
      "Epoch 00008: early stopping\n",
      "Train on 757 samples, validate on 134 samples\n",
      "Epoch 1/38\n",
      "757/757 [==============================] - 4s 6ms/step - loss: 0.4980 - acc: 0.7398 - val_loss: 0.2486 - val_acc: 0.9254\n",
      "Epoch 2/38\n",
      "757/757 [==============================] - 1s 2ms/step - loss: 0.2141 - acc: 0.9221 - val_loss: 0.1788 - val_acc: 0.8358\n",
      "Epoch 3/38\n",
      "757/757 [==============================] - 1s 2ms/step - loss: 0.1512 - acc: 0.9353 - val_loss: 0.0785 - val_acc: 1.0000\n",
      "Epoch 4/38\n",
      "757/757 [==============================] - 1s 2ms/step - loss: 0.1063 - acc: 0.9577 - val_loss: 0.0412 - val_acc: 1.0000\n",
      "Epoch 5/38\n",
      "757/757 [==============================] - 1s 2ms/step - loss: 0.0826 - acc: 0.9709 - val_loss: 0.4831 - val_acc: 0.8284\n",
      "Epoch 6/38\n",
      "757/757 [==============================] - 1s 2ms/step - loss: 0.0986 - acc: 0.9617 - val_loss: 0.2822 - val_acc: 0.7537\n",
      "Epoch 7/38\n",
      "757/757 [==============================] - 1s 2ms/step - loss: 0.0799 - acc: 0.9723 - val_loss: 0.2726 - val_acc: 0.8358\n",
      "Restoring model weights from the end of the best epoch\n",
      "Epoch 00007: early stopping\n",
      "Train on 757 samples, validate on 134 samples\n",
      "Epoch 1/38\n",
      "757/757 [==============================] - 5s 7ms/step - loss: 0.5101 - acc: 0.7199 - val_loss: 0.2254 - val_acc: 0.8209\n",
      "Epoch 2/38\n",
      "757/757 [==============================] - 1s 2ms/step - loss: 0.2401 - acc: 0.9194 - val_loss: 0.3513 - val_acc: 0.8284\n",
      "Epoch 3/38\n",
      "757/757 [==============================] - 1s 2ms/step - loss: 0.1615 - acc: 0.9419 - val_loss: 0.1353 - val_acc: 0.9328\n",
      "Epoch 4/38\n",
      "757/757 [==============================] - 1s 2ms/step - loss: 0.1383 - acc: 0.9472 - val_loss: 0.0414 - val_acc: 1.0000\n",
      "Epoch 5/38\n",
      "757/757 [==============================] - 1s 2ms/step - loss: 0.1199 - acc: 0.9538 - val_loss: 0.0040 - val_acc: 1.0000\n",
      "Epoch 6/38\n",
      "757/757 [==============================] - 1s 2ms/step - loss: 0.1194 - acc: 0.9551 - val_loss: 0.3829 - val_acc: 0.8284\n",
      "Epoch 7/38\n",
      "757/757 [==============================] - 1s 2ms/step - loss: 0.0828 - acc: 0.9736 - val_loss: 0.0049 - val_acc: 1.0000\n",
      "Epoch 8/38\n",
      "757/757 [==============================] - 1s 2ms/step - loss: 0.1009 - acc: 0.9630 - val_loss: 0.1832 - val_acc: 0.8358\n",
      "Restoring model weights from the end of the best epoch\n",
      "Epoch 00008: early stopping\n",
      "Train on 757 samples, validate on 134 samples\n",
      "Epoch 1/38\n",
      "757/757 [==============================] - 6s 7ms/step - loss: 0.4855 - acc: 0.7477 - val_loss: 0.3235 - val_acc: 0.6418\n",
      "Epoch 2/38\n",
      "757/757 [==============================] - 1s 2ms/step - loss: 0.2149 - acc: 0.9234 - val_loss: 0.0225 - val_acc: 1.0000\n",
      "Epoch 3/38\n",
      "757/757 [==============================] - 1s 1ms/step - loss: 0.1460 - acc: 0.9366 - val_loss: 0.0756 - val_acc: 1.0000\n",
      "Epoch 4/38\n",
      "757/757 [==============================] - 1s 2ms/step - loss: 0.1231 - acc: 0.9524 - val_loss: 0.0541 - val_acc: 1.0000\n",
      "Epoch 5/38\n",
      "757/757 [==============================] - 1s 2ms/step - loss: 0.1313 - acc: 0.9551 - val_loss: 0.0262 - val_acc: 1.0000\n",
      "Restoring model weights from the end of the best epoch\n",
      "Epoch 00005: early stopping\n"
     ]
    }
   ],
   "source": [
    "for i in range(5):\n",
    "    #Building the LSTM model\n",
    "    X = Input(shape=(None, 48), name='X')\n",
    "    mX = Masking()(X)\n",
    "    lstm = Bidirectional(LSTM(units=512,activation='tanh',return_sequences=True,recurrent_dropout=0.5,dropout=0.3))\n",
    "    mX = lstm(mX)\n",
    "    L = LSTM(units=64,activation='tanh',return_sequences=False)(mX)\n",
    "    y = Dense(1, activation=\"sigmoid\")(L)\n",
    "    outputs = [y]\n",
    "    inputs = [X]\n",
    "    model = Model(inputs,outputs)\n",
    "    model.compile(loss=\"binary_crossentropy\",optimizer='adam',metrics=['accuracy'])\n",
    "\n",
    "    \n",
    "    #fitting the model\n",
    "    model.fit(Xtrain, ytrain1, batch_size=60 ,validation_split=0.15,epochs=38,callbacks=[es])\n",
    "    #history = model.fit(Xtrain, ytrain1, batch_size=60 ,validation_split=0.15,epochs=38,callbacks=[es])\n",
    "    for i in range(len(model.history.history['val_acc'])):\n",
    "        val_a.append(model.history.history['val_acc'][i])\n",
    "        train_a.append(model.history.history['acc'][i])\n",
    "    #predictions\n",
    "    y_pred = model.predict(Xtest)\n",
    "    #y_pred = y_pred.round()\n",
    "    y_test = np.array(ytest1)\n",
    "    y_pred = np.array(y_pred)\n",
    "    y_test = pd.DataFrame(y_test)\n",
    "    y_test = np.array(y_test)\n",
    "\n",
    "    def acc(x):\n",
    "        if x>0.5:\n",
    "            return 1\n",
    "        else:\n",
    "            return 0\n",
    "\n",
    "    y_model=[]\n",
    "    for i in y_pred:\n",
    "        y_model.append(acc(i))\n",
    "    y_answer=[]\n",
    "    for j in y_test:\n",
    "        y_answer.append(acc(j))\n",
    "    \n",
    "    auc_roc_inter.append(roc_auc_score(y_answer,y_pred))"
   ]
  },
  {
   "cell_type": "code",
   "execution_count": 20,
   "metadata": {},
   "outputs": [],
   "source": [
    "import scipy.stats\n",
    "def mean_confidence_interval(data, confidence=0.95):\n",
    "    a = 1.0 * np.array(data)\n",
    "    n = len(a)\n",
    "    m, se = np.mean(a), scipy.stats.sem(a)\n",
    "    h = se * scipy.stats.t.ppf((1 + confidence) / 2., n-1)\n",
    "    return m, m-h, m+h"
   ]
  },
  {
   "cell_type": "code",
   "execution_count": 21,
   "metadata": {},
   "outputs": [
    {
     "data": {
      "text/plain": [
       "(0.877464553794829, 0.8533993639526575, 0.9015297436370006)"
      ]
     },
     "execution_count": 21,
     "metadata": {},
     "output_type": "execute_result"
    }
   ],
   "source": [
    "mean_confidence_interval(auc_roc_inter)"
   ]
  },
  {
   "cell_type": "code",
   "execution_count": 22,
   "metadata": {},
   "outputs": [],
   "source": [
    "from sklearn.metrics import classification_report, confusion_matrix\n",
    "cm = confusion_matrix(y_answer,y_model)"
   ]
  },
  {
   "cell_type": "code",
   "execution_count": 23,
   "metadata": {},
   "outputs": [],
   "source": [
    "ppv = (cm[0][0])/(cm[0][0]+cm[0][1])\n",
    "npv = (cm[1][1])/(cm[1][0]+cm[1][1])"
   ]
  },
  {
   "cell_type": "code",
   "execution_count": 24,
   "metadata": {},
   "outputs": [
    {
     "name": "stdout",
     "output_type": "stream",
     "text": [
      "The PPV and NPV:\n",
      "0.85 0.89\n"
     ]
    }
   ],
   "source": [
    "print(\"The PPV and NPV:\")\n",
    "print(round(ppv,2),round(npv,2))"
   ]
  },
  {
   "cell_type": "code",
   "execution_count": null,
   "metadata": {},
   "outputs": [],
   "source": []
  },
  {
   "cell_type": "code",
   "execution_count": null,
   "metadata": {},
   "outputs": [],
   "source": []
  }
 ],
 "metadata": {
  "kernelspec": {
   "display_name": "Python 3",
   "language": "python",
   "name": "python3"
  },
  "language_info": {
   "codemirror_mode": {
    "name": "ipython",
    "version": 3
   },
   "file_extension": ".py",
   "mimetype": "text/x-python",
   "name": "python",
   "nbconvert_exporter": "python",
   "pygments_lexer": "ipython3",
   "version": "3.5.2"
  }
 },
 "nbformat": 4,
 "nbformat_minor": 4
}
