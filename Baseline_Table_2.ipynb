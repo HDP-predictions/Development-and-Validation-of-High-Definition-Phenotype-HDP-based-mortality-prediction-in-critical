{
 "cells": [
  {
   "cell_type": "code",
   "execution_count": 63,
   "metadata": {},
   "outputs": [],
   "source": [
    "import pandas as pd\n",
    "import numpy as np\n",
    "import plotly.graph_objects as go\n",
    "from pylab import rcParams\n",
    "from scipy.stats import ttest_1samp, ttest_ind, mannwhitneyu, levene, shapiro, pearsonr\n",
    "from statsmodels.stats.proportion import proportions_ztest"
   ]
  },
  {
   "cell_type": "code",
   "execution_count": 43,
   "metadata": {},
   "outputs": [],
   "source": [
    "df = pd.read_csv('baseline.csv')\n",
    "df.drop('Unnamed: 0',axis=1,inplace=True)"
   ]
  },
  {
   "cell_type": "code",
   "execution_count": 44,
   "metadata": {},
   "outputs": [],
   "source": [
    "def mean_std(x):\n",
    "    w = (str(round(pd.DataFrame(x).mean(),1)[0]))\n",
    "    e = (str(round(pd.DataFrame(x).std(),1)[0]))\n",
    "    t = w + \"(\" + e +\")\"\n",
    "    return t\n",
    "\n",
    "#Count\n",
    "\n",
    "def inout_count(x):\n",
    "    a = []\n",
    "    b = []\n",
    "    for i in x:\n",
    "        \n",
    "        if i == 'Out Born':\n",
    "            b.append(x)\n",
    "        else:\n",
    "            a.append(x)\n",
    "\n",
    "    inborn = str(len(a))\n",
    "    outborn = str(len(b))\n",
    "    return (inborn,outborn)\n",
    "\n",
    "#Median IQR\n",
    "\n",
    "def median_IQR(x):\n",
    "    q1 = str(pd.DataFrame(x).quantile(.25)[0])\n",
    "    q2 = str(pd.DataFrame(x).quantile(.75)[0])\n",
    "    q3 = str(pd.DataFrame(x).median()[0])\n",
    "    q4 = q3 + \"(\" +q1 +\"-\" + q2 + \")\"\n",
    "    \n",
    "    \n",
    "    \n",
    "    return q4\n",
    "\n",
    "#Gender Count\n",
    "\n",
    "def gender_count(x):\n",
    "    a = []\n",
    "    b = []\n",
    "    for i in x:\n",
    "        \n",
    "        if i == 'Male':\n",
    "            a.append(x)\n",
    "        else:\n",
    "            b.append(x)\n",
    "\n",
    "    male = str(len(a))\n",
    "    female = str(len(b))\n",
    "    return (male,female)\n",
    "\n",
    "#Mode of Delivery Count\n",
    "\n",
    "def MOD_count(x):\n",
    "    a = []\n",
    "    b = []\n",
    "    for i in x:\n",
    "        \n",
    "        if i == 'LSCS':\n",
    "            b.append(x)\n",
    "        else:\n",
    "            a.append(x)\n",
    "\n",
    "    nvd = str(len(a))\n",
    "    lscs = str(len(b))\n",
    "    return (nvd,lscs)\n",
    "\n",
    "#Baby Count\n",
    "\n",
    "\n",
    "def single_count1(x):\n",
    "    \n",
    "    a = []\n",
    "    b = []\n",
    "    for i in x:\n",
    "             \n",
    "        if i == 'Single':\n",
    "            a.append(x)\n",
    "        else:\n",
    "            b.append(x)\n",
    "\n",
    "    multiple = str(len(b))\n",
    "    single = str(len(a))\n",
    "    return (single,multiple)\n",
    "\n",
    "#NEOFAX Count\n",
    "\n",
    "def neofax_count(x):\n",
    "    a = []\n",
    "    b = []\n",
    "    c=[]\n",
    "    for i in x:\n",
    "        \n",
    "        if i == 'No_err':\n",
    "            a.append(x)\n",
    "        elif i == 'ERROR':\n",
    "            b.append(x)\n",
    "        else:\n",
    "            c.append(x)\n",
    "\n",
    "    no_error = str(len(a))\n",
    "    error = str(len(b))\n",
    "    NE = str(len(c))\n",
    "    \n",
    "    return (no_error,error,NE)\n",
    "\n",
    "#Medication Administration Count\n",
    "\n",
    "def medadmin_count(x):\n",
    "    a = []\n",
    "    b = []\n",
    "    c=[]\n",
    "    for i in x:\n",
    "        \n",
    "        if i == 'No_err':\n",
    "            a.append(x)\n",
    "        elif i == 'ERROR':\n",
    "            b.append(x)\n",
    "        else:\n",
    "            c.append(x)\n",
    "\n",
    "    no_error = str(len(a))\n",
    "    error = str(len(b))\n",
    "    NE = str(len(c))\n",
    "    return (no_error,error,NE)\n",
    "\n",
    "#ESPGHAN Count\n",
    "\n",
    "def espgan_count(x):\n",
    "    a = []\n",
    "    b = []\n",
    "    c=[]\n",
    "    for i in x:\n",
    "        \n",
    "        if i == 'No_err':\n",
    "            a.append(x)\n",
    "        elif i == 'ERROR':\n",
    "            b.append(x)\n",
    "        else:\n",
    "            c.append(x)\n",
    "\n",
    "    no_error = str(len(a))\n",
    "    error = str(len(b))\n",
    "    NE = str(len(c))\n",
    "    return (no_error,error,NE)\n",
    "\n",
    "#Nutrition Administration Count\n",
    "\n",
    "def nutri_count(x):\n",
    "    a = []\n",
    "    b = []\n",
    "    c=[]\n",
    "    for i in x:\n",
    "        \n",
    "        if i == 'No_err':\n",
    "            a.append(x)\n",
    "        elif i == 'ERROR':\n",
    "            b.append(x)\n",
    "        else:\n",
    "            c.append(x)\n",
    "\n",
    "    no_error = str(len(a))\n",
    "    error = str(len(b))\n",
    "    NE = str(len(c))\n",
    "    return (no_error,error,NE)\n",
    "\n",
    "#RDS Count\n",
    "\n",
    "def RDS_count(x):\n",
    "    a = []\n",
    "    b = []\n",
    "    c=[]\n",
    "    for i in x:\n",
    "        \n",
    "        if i == 'Yes':\n",
    "            a.append(x)\n",
    "        else:\n",
    "            b.append(x)\n",
    "        \n",
    "\n",
    "    t = str(len(a))\n",
    "    f = str(len(b))\n",
    "    return (t,f)\n",
    "\n",
    "#Jaundice Count\n",
    "\n",
    "def jaundice_count(x):\n",
    "    a = []\n",
    "    b = []\n",
    "    c=[]\n",
    "    for i in x:\n",
    "        \n",
    "        if i == 'Yes':\n",
    "            a.append(x)\n",
    "        else:\n",
    "            b.append(x)\n",
    "        \n",
    "\n",
    "    t = str(len(a))\n",
    "    f = str(len(b))\n",
    "    return (t,f)\n",
    "\n",
    "#Sepsis Count\n",
    "\n",
    "def spesis_count(x):\n",
    "    a = []\n",
    "    b = []\n",
    "    c=[]\n",
    "    for i in x:\n",
    "        \n",
    "        if i == 'yes':\n",
    "            a.append(x)\n",
    "        else:\n",
    "            b.append(x)\n",
    "        \n",
    "\n",
    "    t = str(len(a))\n",
    "    f = str(len(b))\n",
    "    return (t,f)\n",
    "\n",
    "#Sepsis Count\n",
    "\n",
    "def spesis_count1(x):\n",
    "    a = []\n",
    "    b = []\n",
    "    c=[]\n",
    "    for i in x:\n",
    "        \n",
    "        if (i == 'true') or (i =='TRUE'):\n",
    "            a.append(x)\n",
    "        else:\n",
    "            b.append(x)\n",
    "        \n",
    "\n",
    "    t = str(len(a))\n",
    "    f = str(len(b))\n",
    "    return (t,f)\n",
    "def conception(x):\n",
    "    a = []\n",
    "    b = []\n",
    "    c=[]\n",
    "    d=[]\n",
    "    for i in x:\n",
    "        \n",
    "        if i == 'ivf':\n",
    "            a.append(x)\n",
    "        elif i == 'natural':\n",
    "            b.append(x)\n",
    "        else:\n",
    "            d.append(x)\n",
    "        \n",
    "\n",
    "    t = str(len(a))\n",
    "    f = str(len(b))\n",
    "    e = str(len(d))\n",
    "    return (t,f,e)"
   ]
  },
  {
   "cell_type": "code",
   "execution_count": 45,
   "metadata": {},
   "outputs": [],
   "source": [
    "cols_2 = ['gestation']"
   ]
  },
  {
   "cell_type": "code",
   "execution_count": 46,
   "metadata": {},
   "outputs": [],
   "source": [
    "for i in cols_2:\n",
    "    df[i] = pd.to_numeric(df[i])"
   ]
  },
  {
   "cell_type": "code",
   "execution_count": 47,
   "metadata": {},
   "outputs": [],
   "source": [
    "def age_check(x):\n",
    "    if x <= 15:\n",
    "        return np.nan\n",
    "    else:\n",
    "        return x\n",
    "    \n",
    "def birthweight_check(x):\n",
    "    if x < 10:\n",
    "        return x*1000\n",
    "    else:\n",
    "        return x\n",
    "    \n",
    "def birthhead_check(x):\n",
    "    if x <= 12:\n",
    "        return 32.7\n",
    "    else:\n",
    "        return x\n",
    "    \n"
   ]
  },
  {
   "cell_type": "code",
   "execution_count": 48,
   "metadata": {},
   "outputs": [],
   "source": [
    "df['birthweight'] = df['birthweight'].apply(birthweight_check)"
   ]
  },
  {
   "cell_type": "code",
   "execution_count": 49,
   "metadata": {},
   "outputs": [],
   "source": [
    "df['motherage'] = df['motherage'].apply(age_check)"
   ]
  },
  {
   "cell_type": "code",
   "execution_count": 50,
   "metadata": {},
   "outputs": [],
   "source": [
    "df['birthheadcircumference'] = df['birthheadcircumference'].apply(birthhead_check)"
   ]
  },
  {
   "cell_type": "code",
   "execution_count": 51,
   "metadata": {},
   "outputs": [],
   "source": [
    "df = df[df['los']>=0]"
   ]
  },
  {
   "cell_type": "code",
   "execution_count": 41,
   "metadata": {},
   "outputs": [],
   "source": [
    "#df = pd.read_csv('change_values.csv')"
   ]
  },
  {
   "cell_type": "code",
   "execution_count": 52,
   "metadata": {},
   "outputs": [],
   "source": [
    "def datetime_to(x):\n",
    "    return pd.to_datetime(x)"
   ]
  },
  {
   "cell_type": "code",
   "execution_count": 53,
   "metadata": {},
   "outputs": [],
   "source": [
    "df['dischargeddate'] = df['dischargeddate'].apply(datetime_to)\n",
    "df['dateofadmission'] = df['dateofadmission'].apply(datetime_to)"
   ]
  },
  {
   "cell_type": "code",
   "execution_count": 54,
   "metadata": {},
   "outputs": [],
   "source": [
    "df['LOS'] = df['dischargeddate'] - df['dateofadmission']"
   ]
  },
  {
   "cell_type": "code",
   "execution_count": 55,
   "metadata": {},
   "outputs": [],
   "source": [
    "def to_float(x):\n",
    "    try:\n",
    "        return int(x.days)\n",
    "    except:\n",
    "        pass"
   ]
  },
  {
   "cell_type": "code",
   "execution_count": 56,
   "metadata": {},
   "outputs": [],
   "source": [
    "df['LOS'] = df['LOS'].apply(to_float)"
   ]
  },
  {
   "cell_type": "code",
   "execution_count": 58,
   "metadata": {},
   "outputs": [],
   "source": [
    "x_R = df[df['dischargestatus']==1]\n",
    "x_0 = df[df['dischargestatus']==0]"
   ]
  },
  {
   "cell_type": "code",
   "execution_count": 62,
   "metadata": {},
   "outputs": [
    {
     "data": {
      "application/vnd.plotly.v1+json": {
       "config": {
        "plotlyServerURL": "https://plot.ly"
       },
       "data": [
        {
         "cells": {
          "align": [
           "left",
           "center"
          ],
          "fill": {
           "color": [
            [
             "white",
             "lightgrey",
             "white",
             "lightgrey",
             "white",
             "lightgrey",
             "white",
             "lightgrey",
             "white",
             "lightgrey",
             "white",
             "lightgrey",
             "white",
             "lightgrey",
             "white",
             "lightgrey",
             "white",
             "lightgrey",
             "white",
             "lightgrey",
             "white",
             "lightgrey",
             "white",
             "lightgrey",
             "white",
             "lightgrey",
             "white",
             "lightgrey",
             "white",
             "lightgrey",
             "white",
             "lightgrey",
             "white",
             "lightgrey",
             "white",
             "lightgrey"
            ]
           ]
          },
          "font": {
           "color": "darkslategray",
           "size": 11
          },
          "line": {
           "color": "darkslategray"
          },
          "values": [
           [
            "Count",
            "Gestation",
            "Birth Weight",
            "Birth Head Circumference",
            "Mothers Age",
            "IVF",
            "Natural",
            "Unknown",
            "Male",
            "Female",
            "One Min APGAR",
            "Five Min APGAR",
            "Ten Min APGAR",
            "NVD",
            "LSCS",
            "In Born",
            "Out Born",
            "Jaundice True",
            "Jaundice False",
            "Sepsis True",
            "Sepsis False",
            "RDS True",
            "RDS False",
            "Single",
            "Multiple",
            "Antenatal Steroids True",
            "Antenatal Steroids False"
           ],
           [
            24,
            "29.8(4.6)",
            "1269.8(779.1)",
            "28.5(4.8)",
            "31.9(3.9)",
            "14",
            "5",
            "5",
            "14",
            "10",
            "6.2(1.2)",
            "7.4(0.9)",
            "8.5(0.8)",
            "7",
            "17",
            "20",
            "4",
            "11",
            "13",
            "16",
            "8",
            "19",
            "5",
            "6",
            "18",
            "12",
            "12"
           ],
           [
            1664,
            "34.9(3.2)",
            "2325.3(707.5)",
            "32.4(2.8)",
            "32.2(5.5)",
            "405",
            "571",
            "688",
            "929",
            "735",
            "7.8(0.8)",
            "8.8(0.6)",
            "9.3(0.6)",
            "755",
            "909",
            "1281",
            "383",
            "646",
            "1018",
            "165",
            "1499",
            "62",
            "1602",
            "784",
            "880",
            "450",
            "1214"
           ]
          ]
         },
         "header": {
          "align": [
           "left",
           "center"
          ],
          "fill": {
           "color": "grey"
          },
          "font": {
           "color": "white",
           "size": 12
          },
          "line": {
           "color": "darkslategray"
          },
          "values": [
           "<b>FIELDS</b>",
           "<b>Death</b>",
           "<b>Discharge</b>"
          ]
         },
         "type": "table"
        }
       ],
       "layout": {
        "template": {
         "data": {
          "bar": [
           {
            "error_x": {
             "color": "#2a3f5f"
            },
            "error_y": {
             "color": "#2a3f5f"
            },
            "marker": {
             "line": {
              "color": "#E5ECF6",
              "width": 0.5
             }
            },
            "type": "bar"
           }
          ],
          "barpolar": [
           {
            "marker": {
             "line": {
              "color": "#E5ECF6",
              "width": 0.5
             }
            },
            "type": "barpolar"
           }
          ],
          "carpet": [
           {
            "aaxis": {
             "endlinecolor": "#2a3f5f",
             "gridcolor": "white",
             "linecolor": "white",
             "minorgridcolor": "white",
             "startlinecolor": "#2a3f5f"
            },
            "baxis": {
             "endlinecolor": "#2a3f5f",
             "gridcolor": "white",
             "linecolor": "white",
             "minorgridcolor": "white",
             "startlinecolor": "#2a3f5f"
            },
            "type": "carpet"
           }
          ],
          "choropleth": [
           {
            "colorbar": {
             "outlinewidth": 0,
             "ticks": ""
            },
            "type": "choropleth"
           }
          ],
          "contour": [
           {
            "colorbar": {
             "outlinewidth": 0,
             "ticks": ""
            },
            "colorscale": [
             [
              0,
              "#0d0887"
             ],
             [
              0.1111111111111111,
              "#46039f"
             ],
             [
              0.2222222222222222,
              "#7201a8"
             ],
             [
              0.3333333333333333,
              "#9c179e"
             ],
             [
              0.4444444444444444,
              "#bd3786"
             ],
             [
              0.5555555555555556,
              "#d8576b"
             ],
             [
              0.6666666666666666,
              "#ed7953"
             ],
             [
              0.7777777777777778,
              "#fb9f3a"
             ],
             [
              0.8888888888888888,
              "#fdca26"
             ],
             [
              1,
              "#f0f921"
             ]
            ],
            "type": "contour"
           }
          ],
          "contourcarpet": [
           {
            "colorbar": {
             "outlinewidth": 0,
             "ticks": ""
            },
            "type": "contourcarpet"
           }
          ],
          "heatmap": [
           {
            "colorbar": {
             "outlinewidth": 0,
             "ticks": ""
            },
            "colorscale": [
             [
              0,
              "#0d0887"
             ],
             [
              0.1111111111111111,
              "#46039f"
             ],
             [
              0.2222222222222222,
              "#7201a8"
             ],
             [
              0.3333333333333333,
              "#9c179e"
             ],
             [
              0.4444444444444444,
              "#bd3786"
             ],
             [
              0.5555555555555556,
              "#d8576b"
             ],
             [
              0.6666666666666666,
              "#ed7953"
             ],
             [
              0.7777777777777778,
              "#fb9f3a"
             ],
             [
              0.8888888888888888,
              "#fdca26"
             ],
             [
              1,
              "#f0f921"
             ]
            ],
            "type": "heatmap"
           }
          ],
          "heatmapgl": [
           {
            "colorbar": {
             "outlinewidth": 0,
             "ticks": ""
            },
            "colorscale": [
             [
              0,
              "#0d0887"
             ],
             [
              0.1111111111111111,
              "#46039f"
             ],
             [
              0.2222222222222222,
              "#7201a8"
             ],
             [
              0.3333333333333333,
              "#9c179e"
             ],
             [
              0.4444444444444444,
              "#bd3786"
             ],
             [
              0.5555555555555556,
              "#d8576b"
             ],
             [
              0.6666666666666666,
              "#ed7953"
             ],
             [
              0.7777777777777778,
              "#fb9f3a"
             ],
             [
              0.8888888888888888,
              "#fdca26"
             ],
             [
              1,
              "#f0f921"
             ]
            ],
            "type": "heatmapgl"
           }
          ],
          "histogram": [
           {
            "marker": {
             "colorbar": {
              "outlinewidth": 0,
              "ticks": ""
             }
            },
            "type": "histogram"
           }
          ],
          "histogram2d": [
           {
            "colorbar": {
             "outlinewidth": 0,
             "ticks": ""
            },
            "colorscale": [
             [
              0,
              "#0d0887"
             ],
             [
              0.1111111111111111,
              "#46039f"
             ],
             [
              0.2222222222222222,
              "#7201a8"
             ],
             [
              0.3333333333333333,
              "#9c179e"
             ],
             [
              0.4444444444444444,
              "#bd3786"
             ],
             [
              0.5555555555555556,
              "#d8576b"
             ],
             [
              0.6666666666666666,
              "#ed7953"
             ],
             [
              0.7777777777777778,
              "#fb9f3a"
             ],
             [
              0.8888888888888888,
              "#fdca26"
             ],
             [
              1,
              "#f0f921"
             ]
            ],
            "type": "histogram2d"
           }
          ],
          "histogram2dcontour": [
           {
            "colorbar": {
             "outlinewidth": 0,
             "ticks": ""
            },
            "colorscale": [
             [
              0,
              "#0d0887"
             ],
             [
              0.1111111111111111,
              "#46039f"
             ],
             [
              0.2222222222222222,
              "#7201a8"
             ],
             [
              0.3333333333333333,
              "#9c179e"
             ],
             [
              0.4444444444444444,
              "#bd3786"
             ],
             [
              0.5555555555555556,
              "#d8576b"
             ],
             [
              0.6666666666666666,
              "#ed7953"
             ],
             [
              0.7777777777777778,
              "#fb9f3a"
             ],
             [
              0.8888888888888888,
              "#fdca26"
             ],
             [
              1,
              "#f0f921"
             ]
            ],
            "type": "histogram2dcontour"
           }
          ],
          "mesh3d": [
           {
            "colorbar": {
             "outlinewidth": 0,
             "ticks": ""
            },
            "type": "mesh3d"
           }
          ],
          "parcoords": [
           {
            "line": {
             "colorbar": {
              "outlinewidth": 0,
              "ticks": ""
             }
            },
            "type": "parcoords"
           }
          ],
          "pie": [
           {
            "automargin": true,
            "type": "pie"
           }
          ],
          "scatter": [
           {
            "marker": {
             "colorbar": {
              "outlinewidth": 0,
              "ticks": ""
             }
            },
            "type": "scatter"
           }
          ],
          "scatter3d": [
           {
            "line": {
             "colorbar": {
              "outlinewidth": 0,
              "ticks": ""
             }
            },
            "marker": {
             "colorbar": {
              "outlinewidth": 0,
              "ticks": ""
             }
            },
            "type": "scatter3d"
           }
          ],
          "scattercarpet": [
           {
            "marker": {
             "colorbar": {
              "outlinewidth": 0,
              "ticks": ""
             }
            },
            "type": "scattercarpet"
           }
          ],
          "scattergeo": [
           {
            "marker": {
             "colorbar": {
              "outlinewidth": 0,
              "ticks": ""
             }
            },
            "type": "scattergeo"
           }
          ],
          "scattergl": [
           {
            "marker": {
             "colorbar": {
              "outlinewidth": 0,
              "ticks": ""
             }
            },
            "type": "scattergl"
           }
          ],
          "scattermapbox": [
           {
            "marker": {
             "colorbar": {
              "outlinewidth": 0,
              "ticks": ""
             }
            },
            "type": "scattermapbox"
           }
          ],
          "scatterpolar": [
           {
            "marker": {
             "colorbar": {
              "outlinewidth": 0,
              "ticks": ""
             }
            },
            "type": "scatterpolar"
           }
          ],
          "scatterpolargl": [
           {
            "marker": {
             "colorbar": {
              "outlinewidth": 0,
              "ticks": ""
             }
            },
            "type": "scatterpolargl"
           }
          ],
          "scatterternary": [
           {
            "marker": {
             "colorbar": {
              "outlinewidth": 0,
              "ticks": ""
             }
            },
            "type": "scatterternary"
           }
          ],
          "surface": [
           {
            "colorbar": {
             "outlinewidth": 0,
             "ticks": ""
            },
            "colorscale": [
             [
              0,
              "#0d0887"
             ],
             [
              0.1111111111111111,
              "#46039f"
             ],
             [
              0.2222222222222222,
              "#7201a8"
             ],
             [
              0.3333333333333333,
              "#9c179e"
             ],
             [
              0.4444444444444444,
              "#bd3786"
             ],
             [
              0.5555555555555556,
              "#d8576b"
             ],
             [
              0.6666666666666666,
              "#ed7953"
             ],
             [
              0.7777777777777778,
              "#fb9f3a"
             ],
             [
              0.8888888888888888,
              "#fdca26"
             ],
             [
              1,
              "#f0f921"
             ]
            ],
            "type": "surface"
           }
          ],
          "table": [
           {
            "cells": {
             "fill": {
              "color": "#EBF0F8"
             },
             "line": {
              "color": "white"
             }
            },
            "header": {
             "fill": {
              "color": "#C8D4E3"
             },
             "line": {
              "color": "white"
             }
            },
            "type": "table"
           }
          ]
         },
         "layout": {
          "annotationdefaults": {
           "arrowcolor": "#2a3f5f",
           "arrowhead": 0,
           "arrowwidth": 1
          },
          "coloraxis": {
           "colorbar": {
            "outlinewidth": 0,
            "ticks": ""
           }
          },
          "colorscale": {
           "diverging": [
            [
             0,
             "#8e0152"
            ],
            [
             0.1,
             "#c51b7d"
            ],
            [
             0.2,
             "#de77ae"
            ],
            [
             0.3,
             "#f1b6da"
            ],
            [
             0.4,
             "#fde0ef"
            ],
            [
             0.5,
             "#f7f7f7"
            ],
            [
             0.6,
             "#e6f5d0"
            ],
            [
             0.7,
             "#b8e186"
            ],
            [
             0.8,
             "#7fbc41"
            ],
            [
             0.9,
             "#4d9221"
            ],
            [
             1,
             "#276419"
            ]
           ],
           "sequential": [
            [
             0,
             "#0d0887"
            ],
            [
             0.1111111111111111,
             "#46039f"
            ],
            [
             0.2222222222222222,
             "#7201a8"
            ],
            [
             0.3333333333333333,
             "#9c179e"
            ],
            [
             0.4444444444444444,
             "#bd3786"
            ],
            [
             0.5555555555555556,
             "#d8576b"
            ],
            [
             0.6666666666666666,
             "#ed7953"
            ],
            [
             0.7777777777777778,
             "#fb9f3a"
            ],
            [
             0.8888888888888888,
             "#fdca26"
            ],
            [
             1,
             "#f0f921"
            ]
           ],
           "sequentialminus": [
            [
             0,
             "#0d0887"
            ],
            [
             0.1111111111111111,
             "#46039f"
            ],
            [
             0.2222222222222222,
             "#7201a8"
            ],
            [
             0.3333333333333333,
             "#9c179e"
            ],
            [
             0.4444444444444444,
             "#bd3786"
            ],
            [
             0.5555555555555556,
             "#d8576b"
            ],
            [
             0.6666666666666666,
             "#ed7953"
            ],
            [
             0.7777777777777778,
             "#fb9f3a"
            ],
            [
             0.8888888888888888,
             "#fdca26"
            ],
            [
             1,
             "#f0f921"
            ]
           ]
          },
          "colorway": [
           "#636efa",
           "#EF553B",
           "#00cc96",
           "#ab63fa",
           "#FFA15A",
           "#19d3f3",
           "#FF6692",
           "#B6E880",
           "#FF97FF",
           "#FECB52"
          ],
          "font": {
           "color": "#2a3f5f"
          },
          "geo": {
           "bgcolor": "white",
           "lakecolor": "white",
           "landcolor": "#E5ECF6",
           "showlakes": true,
           "showland": true,
           "subunitcolor": "white"
          },
          "hoverlabel": {
           "align": "left"
          },
          "hovermode": "closest",
          "mapbox": {
           "style": "light"
          },
          "paper_bgcolor": "white",
          "plot_bgcolor": "#E5ECF6",
          "polar": {
           "angularaxis": {
            "gridcolor": "white",
            "linecolor": "white",
            "ticks": ""
           },
           "bgcolor": "#E5ECF6",
           "radialaxis": {
            "gridcolor": "white",
            "linecolor": "white",
            "ticks": ""
           }
          },
          "scene": {
           "xaxis": {
            "backgroundcolor": "#E5ECF6",
            "gridcolor": "white",
            "gridwidth": 2,
            "linecolor": "white",
            "showbackground": true,
            "ticks": "",
            "zerolinecolor": "white"
           },
           "yaxis": {
            "backgroundcolor": "#E5ECF6",
            "gridcolor": "white",
            "gridwidth": 2,
            "linecolor": "white",
            "showbackground": true,
            "ticks": "",
            "zerolinecolor": "white"
           },
           "zaxis": {
            "backgroundcolor": "#E5ECF6",
            "gridcolor": "white",
            "gridwidth": 2,
            "linecolor": "white",
            "showbackground": true,
            "ticks": "",
            "zerolinecolor": "white"
           }
          },
          "shapedefaults": {
           "line": {
            "color": "#2a3f5f"
           }
          },
          "ternary": {
           "aaxis": {
            "gridcolor": "white",
            "linecolor": "white",
            "ticks": ""
           },
           "baxis": {
            "gridcolor": "white",
            "linecolor": "white",
            "ticks": ""
           },
           "bgcolor": "#E5ECF6",
           "caxis": {
            "gridcolor": "white",
            "linecolor": "white",
            "ticks": ""
           }
          },
          "title": {
           "x": 0.05
          },
          "xaxis": {
           "automargin": true,
           "gridcolor": "white",
           "linecolor": "white",
           "ticks": "",
           "title": {
            "standoff": 15
           },
           "zerolinecolor": "white",
           "zerolinewidth": 2
          },
          "yaxis": {
           "automargin": true,
           "gridcolor": "white",
           "linecolor": "white",
           "ticks": "",
           "title": {
            "standoff": 15
           },
           "zerolinecolor": "white",
           "zerolinewidth": 2
          }
         }
        }
       }
      },
      "text/html": [
       "<div>\n",
       "        \n",
       "        \n",
       "            <div id=\"8261ea82-d654-434a-bc8e-2c1d39aea7f0\" class=\"plotly-graph-div\" style=\"height:525px; width:100%;\"></div>\n",
       "            <script type=\"text/javascript\">\n",
       "                require([\"plotly\"], function(Plotly) {\n",
       "                    window.PLOTLYENV=window.PLOTLYENV || {};\n",
       "                    \n",
       "                if (document.getElementById(\"8261ea82-d654-434a-bc8e-2c1d39aea7f0\")) {\n",
       "                    Plotly.newPlot(\n",
       "                        '8261ea82-d654-434a-bc8e-2c1d39aea7f0',\n",
       "                        [{\"cells\": {\"align\": [\"left\", \"center\"], \"fill\": {\"color\": [[\"white\", \"lightgrey\", \"white\", \"lightgrey\", \"white\", \"lightgrey\", \"white\", \"lightgrey\", \"white\", \"lightgrey\", \"white\", \"lightgrey\", \"white\", \"lightgrey\", \"white\", \"lightgrey\", \"white\", \"lightgrey\", \"white\", \"lightgrey\", \"white\", \"lightgrey\", \"white\", \"lightgrey\", \"white\", \"lightgrey\", \"white\", \"lightgrey\", \"white\", \"lightgrey\", \"white\", \"lightgrey\", \"white\", \"lightgrey\", \"white\", \"lightgrey\"]]}, \"font\": {\"color\": \"darkslategray\", \"size\": 11}, \"line\": {\"color\": \"darkslategray\"}, \"values\": [[\"Count\", \"Gestation\", \"Birth Weight\", \"Birth Head Circumference\", \"Mothers Age\", \"IVF\", \"Natural\", \"Unknown\", \"Male\", \"Female\", \"One Min APGAR\", \"Five Min APGAR\", \"Ten Min APGAR\", \"NVD\", \"LSCS\", \"In Born\", \"Out Born\", \"Jaundice True\", \"Jaundice False\", \"Sepsis True\", \"Sepsis False\", \"RDS True\", \"RDS False\", \"Single\", \"Multiple\", \"Antenatal Steroids True\", \"Antenatal Steroids False\"], [24, \"29.8(4.6)\", \"1269.8(779.1)\", \"28.5(4.8)\", \"31.9(3.9)\", \"14\", \"5\", \"5\", \"14\", \"10\", \"6.2(1.2)\", \"7.4(0.9)\", \"8.5(0.8)\", \"7\", \"17\", \"20\", \"4\", \"11\", \"13\", \"16\", \"8\", \"19\", \"5\", \"6\", \"18\", \"12\", \"12\"], [1664, \"34.9(3.2)\", \"2325.3(707.5)\", \"32.4(2.8)\", \"32.2(5.5)\", \"405\", \"571\", \"688\", \"929\", \"735\", \"7.8(0.8)\", \"8.8(0.6)\", \"9.3(0.6)\", \"755\", \"909\", \"1281\", \"383\", \"646\", \"1018\", \"165\", \"1499\", \"62\", \"1602\", \"784\", \"880\", \"450\", \"1214\"]]}, \"header\": {\"align\": [\"left\", \"center\"], \"fill\": {\"color\": \"grey\"}, \"font\": {\"color\": \"white\", \"size\": 12}, \"line\": {\"color\": \"darkslategray\"}, \"values\": [\"<b>FIELDS</b>\", \"<b>Death</b>\", \"<b>Discharge</b>\"]}, \"type\": \"table\"}],\n",
       "                        {\"template\": {\"data\": {\"bar\": [{\"error_x\": {\"color\": \"#2a3f5f\"}, \"error_y\": {\"color\": \"#2a3f5f\"}, \"marker\": {\"line\": {\"color\": \"#E5ECF6\", \"width\": 0.5}}, \"type\": \"bar\"}], \"barpolar\": [{\"marker\": {\"line\": {\"color\": \"#E5ECF6\", \"width\": 0.5}}, \"type\": \"barpolar\"}], \"carpet\": [{\"aaxis\": {\"endlinecolor\": \"#2a3f5f\", \"gridcolor\": \"white\", \"linecolor\": \"white\", \"minorgridcolor\": \"white\", \"startlinecolor\": \"#2a3f5f\"}, \"baxis\": {\"endlinecolor\": \"#2a3f5f\", \"gridcolor\": \"white\", \"linecolor\": \"white\", \"minorgridcolor\": \"white\", \"startlinecolor\": \"#2a3f5f\"}, \"type\": \"carpet\"}], \"choropleth\": [{\"colorbar\": {\"outlinewidth\": 0, \"ticks\": \"\"}, \"type\": \"choropleth\"}], \"contour\": [{\"colorbar\": {\"outlinewidth\": 0, \"ticks\": \"\"}, \"colorscale\": [[0.0, \"#0d0887\"], [0.1111111111111111, \"#46039f\"], [0.2222222222222222, \"#7201a8\"], [0.3333333333333333, \"#9c179e\"], [0.4444444444444444, \"#bd3786\"], [0.5555555555555556, \"#d8576b\"], [0.6666666666666666, \"#ed7953\"], [0.7777777777777778, \"#fb9f3a\"], [0.8888888888888888, \"#fdca26\"], [1.0, \"#f0f921\"]], \"type\": \"contour\"}], \"contourcarpet\": [{\"colorbar\": {\"outlinewidth\": 0, \"ticks\": \"\"}, \"type\": \"contourcarpet\"}], \"heatmap\": [{\"colorbar\": {\"outlinewidth\": 0, \"ticks\": \"\"}, \"colorscale\": [[0.0, \"#0d0887\"], [0.1111111111111111, \"#46039f\"], [0.2222222222222222, \"#7201a8\"], [0.3333333333333333, \"#9c179e\"], [0.4444444444444444, \"#bd3786\"], [0.5555555555555556, \"#d8576b\"], [0.6666666666666666, \"#ed7953\"], [0.7777777777777778, \"#fb9f3a\"], [0.8888888888888888, \"#fdca26\"], [1.0, \"#f0f921\"]], \"type\": \"heatmap\"}], \"heatmapgl\": [{\"colorbar\": {\"outlinewidth\": 0, \"ticks\": \"\"}, \"colorscale\": [[0.0, \"#0d0887\"], [0.1111111111111111, \"#46039f\"], [0.2222222222222222, \"#7201a8\"], [0.3333333333333333, \"#9c179e\"], [0.4444444444444444, \"#bd3786\"], [0.5555555555555556, \"#d8576b\"], [0.6666666666666666, \"#ed7953\"], [0.7777777777777778, \"#fb9f3a\"], [0.8888888888888888, \"#fdca26\"], [1.0, \"#f0f921\"]], \"type\": \"heatmapgl\"}], \"histogram\": [{\"marker\": {\"colorbar\": {\"outlinewidth\": 0, \"ticks\": \"\"}}, \"type\": \"histogram\"}], \"histogram2d\": [{\"colorbar\": {\"outlinewidth\": 0, \"ticks\": \"\"}, \"colorscale\": [[0.0, \"#0d0887\"], [0.1111111111111111, \"#46039f\"], [0.2222222222222222, \"#7201a8\"], [0.3333333333333333, \"#9c179e\"], [0.4444444444444444, \"#bd3786\"], [0.5555555555555556, \"#d8576b\"], [0.6666666666666666, \"#ed7953\"], [0.7777777777777778, \"#fb9f3a\"], [0.8888888888888888, \"#fdca26\"], [1.0, \"#f0f921\"]], \"type\": \"histogram2d\"}], \"histogram2dcontour\": [{\"colorbar\": {\"outlinewidth\": 0, \"ticks\": \"\"}, \"colorscale\": [[0.0, \"#0d0887\"], [0.1111111111111111, \"#46039f\"], [0.2222222222222222, \"#7201a8\"], [0.3333333333333333, \"#9c179e\"], [0.4444444444444444, \"#bd3786\"], [0.5555555555555556, \"#d8576b\"], [0.6666666666666666, \"#ed7953\"], [0.7777777777777778, \"#fb9f3a\"], [0.8888888888888888, \"#fdca26\"], [1.0, \"#f0f921\"]], \"type\": \"histogram2dcontour\"}], \"mesh3d\": [{\"colorbar\": {\"outlinewidth\": 0, \"ticks\": \"\"}, \"type\": \"mesh3d\"}], \"parcoords\": [{\"line\": {\"colorbar\": {\"outlinewidth\": 0, \"ticks\": \"\"}}, \"type\": \"parcoords\"}], \"pie\": [{\"automargin\": true, \"type\": \"pie\"}], \"scatter\": [{\"marker\": {\"colorbar\": {\"outlinewidth\": 0, \"ticks\": \"\"}}, \"type\": \"scatter\"}], \"scatter3d\": [{\"line\": {\"colorbar\": {\"outlinewidth\": 0, \"ticks\": \"\"}}, \"marker\": {\"colorbar\": {\"outlinewidth\": 0, \"ticks\": \"\"}}, \"type\": \"scatter3d\"}], \"scattercarpet\": [{\"marker\": {\"colorbar\": {\"outlinewidth\": 0, \"ticks\": \"\"}}, \"type\": \"scattercarpet\"}], \"scattergeo\": [{\"marker\": {\"colorbar\": {\"outlinewidth\": 0, \"ticks\": \"\"}}, \"type\": \"scattergeo\"}], \"scattergl\": [{\"marker\": {\"colorbar\": {\"outlinewidth\": 0, \"ticks\": \"\"}}, \"type\": \"scattergl\"}], \"scattermapbox\": [{\"marker\": {\"colorbar\": {\"outlinewidth\": 0, \"ticks\": \"\"}}, \"type\": \"scattermapbox\"}], \"scatterpolar\": [{\"marker\": {\"colorbar\": {\"outlinewidth\": 0, \"ticks\": \"\"}}, \"type\": \"scatterpolar\"}], \"scatterpolargl\": [{\"marker\": {\"colorbar\": {\"outlinewidth\": 0, \"ticks\": \"\"}}, \"type\": \"scatterpolargl\"}], \"scatterternary\": [{\"marker\": {\"colorbar\": {\"outlinewidth\": 0, \"ticks\": \"\"}}, \"type\": \"scatterternary\"}], \"surface\": [{\"colorbar\": {\"outlinewidth\": 0, \"ticks\": \"\"}, \"colorscale\": [[0.0, \"#0d0887\"], [0.1111111111111111, \"#46039f\"], [0.2222222222222222, \"#7201a8\"], [0.3333333333333333, \"#9c179e\"], [0.4444444444444444, \"#bd3786\"], [0.5555555555555556, \"#d8576b\"], [0.6666666666666666, \"#ed7953\"], [0.7777777777777778, \"#fb9f3a\"], [0.8888888888888888, \"#fdca26\"], [1.0, \"#f0f921\"]], \"type\": \"surface\"}], \"table\": [{\"cells\": {\"fill\": {\"color\": \"#EBF0F8\"}, \"line\": {\"color\": \"white\"}}, \"header\": {\"fill\": {\"color\": \"#C8D4E3\"}, \"line\": {\"color\": \"white\"}}, \"type\": \"table\"}]}, \"layout\": {\"annotationdefaults\": {\"arrowcolor\": \"#2a3f5f\", \"arrowhead\": 0, \"arrowwidth\": 1}, \"coloraxis\": {\"colorbar\": {\"outlinewidth\": 0, \"ticks\": \"\"}}, \"colorscale\": {\"diverging\": [[0, \"#8e0152\"], [0.1, \"#c51b7d\"], [0.2, \"#de77ae\"], [0.3, \"#f1b6da\"], [0.4, \"#fde0ef\"], [0.5, \"#f7f7f7\"], [0.6, \"#e6f5d0\"], [0.7, \"#b8e186\"], [0.8, \"#7fbc41\"], [0.9, \"#4d9221\"], [1, \"#276419\"]], \"sequential\": [[0.0, \"#0d0887\"], [0.1111111111111111, \"#46039f\"], [0.2222222222222222, \"#7201a8\"], [0.3333333333333333, \"#9c179e\"], [0.4444444444444444, \"#bd3786\"], [0.5555555555555556, \"#d8576b\"], [0.6666666666666666, \"#ed7953\"], [0.7777777777777778, \"#fb9f3a\"], [0.8888888888888888, \"#fdca26\"], [1.0, \"#f0f921\"]], \"sequentialminus\": [[0.0, \"#0d0887\"], [0.1111111111111111, \"#46039f\"], [0.2222222222222222, \"#7201a8\"], [0.3333333333333333, \"#9c179e\"], [0.4444444444444444, \"#bd3786\"], [0.5555555555555556, \"#d8576b\"], [0.6666666666666666, \"#ed7953\"], [0.7777777777777778, \"#fb9f3a\"], [0.8888888888888888, \"#fdca26\"], [1.0, \"#f0f921\"]]}, \"colorway\": [\"#636efa\", \"#EF553B\", \"#00cc96\", \"#ab63fa\", \"#FFA15A\", \"#19d3f3\", \"#FF6692\", \"#B6E880\", \"#FF97FF\", \"#FECB52\"], \"font\": {\"color\": \"#2a3f5f\"}, \"geo\": {\"bgcolor\": \"white\", \"lakecolor\": \"white\", \"landcolor\": \"#E5ECF6\", \"showlakes\": true, \"showland\": true, \"subunitcolor\": \"white\"}, \"hoverlabel\": {\"align\": \"left\"}, \"hovermode\": \"closest\", \"mapbox\": {\"style\": \"light\"}, \"paper_bgcolor\": \"white\", \"plot_bgcolor\": \"#E5ECF6\", \"polar\": {\"angularaxis\": {\"gridcolor\": \"white\", \"linecolor\": \"white\", \"ticks\": \"\"}, \"bgcolor\": \"#E5ECF6\", \"radialaxis\": {\"gridcolor\": \"white\", \"linecolor\": \"white\", \"ticks\": \"\"}}, \"scene\": {\"xaxis\": {\"backgroundcolor\": \"#E5ECF6\", \"gridcolor\": \"white\", \"gridwidth\": 2, \"linecolor\": \"white\", \"showbackground\": true, \"ticks\": \"\", \"zerolinecolor\": \"white\"}, \"yaxis\": {\"backgroundcolor\": \"#E5ECF6\", \"gridcolor\": \"white\", \"gridwidth\": 2, \"linecolor\": \"white\", \"showbackground\": true, \"ticks\": \"\", \"zerolinecolor\": \"white\"}, \"zaxis\": {\"backgroundcolor\": \"#E5ECF6\", \"gridcolor\": \"white\", \"gridwidth\": 2, \"linecolor\": \"white\", \"showbackground\": true, \"ticks\": \"\", \"zerolinecolor\": \"white\"}}, \"shapedefaults\": {\"line\": {\"color\": \"#2a3f5f\"}}, \"ternary\": {\"aaxis\": {\"gridcolor\": \"white\", \"linecolor\": \"white\", \"ticks\": \"\"}, \"baxis\": {\"gridcolor\": \"white\", \"linecolor\": \"white\", \"ticks\": \"\"}, \"bgcolor\": \"#E5ECF6\", \"caxis\": {\"gridcolor\": \"white\", \"linecolor\": \"white\", \"ticks\": \"\"}}, \"title\": {\"x\": 0.05}, \"xaxis\": {\"automargin\": true, \"gridcolor\": \"white\", \"linecolor\": \"white\", \"ticks\": \"\", \"title\": {\"standoff\": 15}, \"zerolinecolor\": \"white\", \"zerolinewidth\": 2}, \"yaxis\": {\"automargin\": true, \"gridcolor\": \"white\", \"linecolor\": \"white\", \"ticks\": \"\", \"title\": {\"standoff\": 15}, \"zerolinecolor\": \"white\", \"zerolinewidth\": 2}}}},\n",
       "                        {\"responsive\": true}\n",
       "                    ).then(function(){\n",
       "                            \n",
       "var gd = document.getElementById('8261ea82-d654-434a-bc8e-2c1d39aea7f0');\n",
       "var x = new MutationObserver(function (mutations, observer) {{\n",
       "        var display = window.getComputedStyle(gd).display;\n",
       "        if (!display || display === 'none') {{\n",
       "            console.log([gd, 'removed!']);\n",
       "            Plotly.purge(gd);\n",
       "            observer.disconnect();\n",
       "        }}\n",
       "}});\n",
       "\n",
       "// Listen for the removal of the full notebook cells\n",
       "var notebookContainer = gd.closest('#notebook-container');\n",
       "if (notebookContainer) {{\n",
       "    x.observe(notebookContainer, {childList: true});\n",
       "}}\n",
       "\n",
       "// Listen for the clearing of the current output cell\n",
       "var outputEl = gd.closest('.output');\n",
       "if (outputEl) {{\n",
       "    x.observe(outputEl, {childList: true});\n",
       "}}\n",
       "\n",
       "                        })\n",
       "                };\n",
       "                });\n",
       "            </script>\n",
       "        </div>"
      ]
     },
     "metadata": {},
     "output_type": "display_data"
    }
   ],
   "source": [
    "headerColor = 'grey'\n",
    "rowEvenColor = 'lightgrey'\n",
    "rowOddColor = 'white'\n",
    "\n",
    "fig = go.Figure(data=[go.Table(\n",
    "  header=dict(\n",
    "    values=['<b>FIELDS</b>','<b>Death</b>','<b>Discharge</b>'],\n",
    "    line_color='darkslategray',\n",
    "    fill_color=headerColor,\n",
    "    align=['left','center'],\n",
    "    font=dict(color='white', size=12)\n",
    "  ),\n",
    "  cells=dict(\n",
    "    values=[\n",
    "      ['Count','Gestation','Birth Weight','Birth Head Circumference','Mothers Age','IVF','Natural','Unknown', 'Male','Female', 'One Min APGAR', 'Five Min APGAR', 'Ten Min APGAR','NVD','LSCS','In Born','Out Born','Jaundice True','Jaundice False','Sepsis True','Sepsis False','RDS True','RDS False','Single','Multiple','Antenatal Steroids True','Antenatal Steroids False'],\n",
    "      [x_R.count()[0],mean_std(x_R['gestation']),mean_std(x_R['birthweight']),mean_std(x_R['birthheadcircumference']),mean_std(x_R['motherage']),conception(x_R['conception_type'])[0],conception(x_R['conception_type'])[1],conception(x_R['conception_type'])[2] ,gender_count(x_R['gender'])[0],gender_count(x_R['gender'])[1], mean_std(x_R['apgar_onemin']), mean_std(x_R['apgar_fivemin']),mean_std(x_R['apgar_tenmin']) ,MOD_count(x_R['mode_of_delivery'])[0],MOD_count(x_R['mode_of_delivery'])[1],inout_count(x_R['inout_patient_status'])[0],inout_count(x_R['inout_patient_status'])[1],jaundice_count(x_R['jaundice'])[0],jaundice_count(x_R['jaundice'])[1],spesis_count(x_R['sepsis'])[0],spesis_count(x_R['sepsis'])[1], RDS_count(x_R['rds'])[0],RDS_count(x_R['rds'])[1],single_count1(x_R['baby_type'])[0],single_count1(x_R['baby_type'])[1],spesis_count1(x_R['isantenatalsteroidgiven'])[0],spesis_count1(x_R['isantenatalsteroidgiven'])[1]],\n",
    "      [x_0.count()[0],mean_std(x_0['gestation']),mean_std(x_0['birthweight']),mean_std(x_0['birthheadcircumference']),mean_std(x_0['motherage']),conception(x_0['conception_type'])[0],conception(x_0['conception_type'])[1],conception(x_0['conception_type'])[2] ,gender_count(x_0['gender'])[0],gender_count(x_0['gender'])[1], mean_std(x_0['apgar_onemin']), mean_std(x_0['apgar_fivemin']),mean_std(x_0['apgar_tenmin']) ,MOD_count(x_0['mode_of_delivery'])[0],MOD_count(x_0['mode_of_delivery'])[1],inout_count(x_0['inout_patient_status'])[0],inout_count(x_0['inout_patient_status'])[1],jaundice_count(x_0['jaundice'])[0],jaundice_count(x_0['jaundice'])[1],spesis_count(x_0['sepsis'])[0],spesis_count(x_0['sepsis'])[1], RDS_count(x_0['rds'])[0],RDS_count(x_0['rds'])[1],single_count1(x_0['baby_type'])[0],single_count1(x_0['baby_type'])[1],spesis_count1(x_0['isantenatalsteroidgiven'])[0],spesis_count1(x_0['isantenatalsteroidgiven'])[1]],\n",
    "\n",
    "      ],\n",
    "    line_color='darkslategray',\n",
    "    # 2-D list of colors for alternating rows\n",
    "    fill_color = [[rowOddColor,rowEvenColor]*18],\n",
    "    align = ['left', 'center'],\n",
    "    font = dict(color = 'darkslategray', size = 11)\n",
    "    ))\n",
    "])\n",
    "\n",
    "fig.show()"
   ]
  },
  {
   "cell_type": "code",
   "execution_count": 64,
   "metadata": {},
   "outputs": [],
   "source": [
    "#P-Value"
   ]
  },
  {
   "cell_type": "code",
   "execution_count": 65,
   "metadata": {},
   "outputs": [],
   "source": [
    "cont = ['birthweight', 'birthlength', 'birthheadcircumference', 'gestation',\n",
    "        'admissionweight','los', 'apgar_onemin', 'apgar_fivemin', 'apgar_tenmin',      \n",
    "       'motherage', 'gestation']"
   ]
  },
  {
   "cell_type": "code",
   "execution_count": 66,
   "metadata": {},
   "outputs": [],
   "source": [
    "cat = ['conception_type', 'gender', 'inout_patient_status',\n",
    "       'baby_type', 'isantenatalsteroidgiven', 'mode_of_delivery',\n",
    "       'jaundice', 'sepsis','rds']"
   ]
  },
  {
   "cell_type": "code",
   "execution_count": 67,
   "metadata": {},
   "outputs": [],
   "source": [
    "p_val_cont = []\n",
    "t_stat_cont = []\n",
    "parameter_cont = []"
   ]
  },
  {
   "cell_type": "code",
   "execution_count": 68,
   "metadata": {},
   "outputs": [],
   "source": [
    "for i in cont:\n",
    "    try:\n",
    "        d = x_0.dropna(subset=[i])\n",
    "        d_1 = x_R.dropna(subset=[i])\n",
    "        t_stat, p_val = ttest_ind(d[i],d_1[i], equal_var = False)\n",
    "        p_val_cont.append(p_val)\n",
    "        t_stat_cont.append(t_stat)\n",
    "        parameter_cont.append(i)\n",
    "    except:\n",
    "        continue\n",
    "    "
   ]
  },
  {
   "cell_type": "code",
   "execution_count": 69,
   "metadata": {},
   "outputs": [
    {
     "name": "stdout",
     "output_type": "stream",
     "text": [
      "(8.746499820058187e-07, 'birthweight')\n",
      "(0.22875913166618453, 'birthlength')\n",
      "(0.10622950411643711, 'birthheadcircumference')\n",
      "(1.9750122801725998e-05, 'gestation')\n",
      "(9.402910571825523e-05, 'admissionweight')\n",
      "(0.5858655899059051, 'los')\n",
      "(4.308132957217856e-05, 'apgar_onemin')\n",
      "(9.010305223732138e-06, 'apgar_fivemin')\n",
      "(0.056845892096139015, 'apgar_tenmin')\n",
      "(0.8085401077480989, 'motherage')\n",
      "(1.9750122801725998e-05, 'gestation')\n"
     ]
    }
   ],
   "source": [
    "for i in zip(p_val_cont,parameter_cont):\n",
    "    print(i)"
   ]
  },
  {
   "cell_type": "code",
   "execution_count": 71,
   "metadata": {},
   "outputs": [],
   "source": [
    "def ante(x):\n",
    "    if (x == 'TRUE') or (x == 'true'):\n",
    "        return 1\n",
    "    else:\n",
    "        return 0\n",
    "def mofd(x):\n",
    "    if x == 'LSCS':\n",
    "        return 1\n",
    "    else:\n",
    "        return 0\n",
    "    \n",
    "def c_type(x):\n",
    "    if x == 'ivf':\n",
    "        return 1\n",
    "    else:\n",
    "        return 0\n",
    "def b_type(x):\n",
    "    if x == 'Twins' or x == 'Triplets':\n",
    "        return 1\n",
    "    else:\n",
    "        return 0\n",
    "    \n",
    "def in_out(x):\n",
    "    if x == 'Out Born':\n",
    "        return 1\n",
    "    else:\n",
    "        return 0\n",
    "def jaundice_1(x):\n",
    "    if x == 'Yes':\n",
    "        return 1\n",
    "    else:\n",
    "        return 0\n",
    "    \n",
    "def sepsis_1(x):\n",
    "    if x == 'yes':\n",
    "        return 1\n",
    "    else:\n",
    "        return 0\n",
    "    \n",
    "def rds_1(x):\n",
    "    if x == 'Yes':\n",
    "        return 1\n",
    "    else:\n",
    "        return 0\n",
    "\n",
    "def asphyxia(x):\n",
    "    if x == 'yes':\n",
    "        return 1\n",
    "    else:\n",
    "        return 0\n",
    "\n",
    "def gender_1(x):\n",
    "    if x == 'Male':\n",
    "        return 1\n",
    "    else:\n",
    "        return 0"
   ]
  },
  {
   "cell_type": "code",
   "execution_count": 72,
   "metadata": {},
   "outputs": [
    {
     "name": "stderr",
     "output_type": "stream",
     "text": [
      "/usr/local/lib/python3.5/dist-packages/ipykernel_launcher.py:1: SettingWithCopyWarning:\n",
      "\n",
      "\n",
      "A value is trying to be set on a copy of a slice from a DataFrame.\n",
      "Try using .loc[row_indexer,col_indexer] = value instead\n",
      "\n",
      "See the caveats in the documentation: http://pandas.pydata.org/pandas-docs/stable/indexing.html#indexing-view-versus-copy\n",
      "\n",
      "/usr/local/lib/python3.5/dist-packages/ipykernel_launcher.py:2: SettingWithCopyWarning:\n",
      "\n",
      "\n",
      "A value is trying to be set on a copy of a slice from a DataFrame.\n",
      "Try using .loc[row_indexer,col_indexer] = value instead\n",
      "\n",
      "See the caveats in the documentation: http://pandas.pydata.org/pandas-docs/stable/indexing.html#indexing-view-versus-copy\n",
      "\n",
      "/usr/local/lib/python3.5/dist-packages/ipykernel_launcher.py:3: SettingWithCopyWarning:\n",
      "\n",
      "\n",
      "A value is trying to be set on a copy of a slice from a DataFrame.\n",
      "Try using .loc[row_indexer,col_indexer] = value instead\n",
      "\n",
      "See the caveats in the documentation: http://pandas.pydata.org/pandas-docs/stable/indexing.html#indexing-view-versus-copy\n",
      "\n",
      "/usr/local/lib/python3.5/dist-packages/ipykernel_launcher.py:4: SettingWithCopyWarning:\n",
      "\n",
      "\n",
      "A value is trying to be set on a copy of a slice from a DataFrame.\n",
      "Try using .loc[row_indexer,col_indexer] = value instead\n",
      "\n",
      "See the caveats in the documentation: http://pandas.pydata.org/pandas-docs/stable/indexing.html#indexing-view-versus-copy\n",
      "\n",
      "/usr/local/lib/python3.5/dist-packages/ipykernel_launcher.py:5: SettingWithCopyWarning:\n",
      "\n",
      "\n",
      "A value is trying to be set on a copy of a slice from a DataFrame.\n",
      "Try using .loc[row_indexer,col_indexer] = value instead\n",
      "\n",
      "See the caveats in the documentation: http://pandas.pydata.org/pandas-docs/stable/indexing.html#indexing-view-versus-copy\n",
      "\n",
      "/usr/local/lib/python3.5/dist-packages/ipykernel_launcher.py:6: SettingWithCopyWarning:\n",
      "\n",
      "\n",
      "A value is trying to be set on a copy of a slice from a DataFrame.\n",
      "Try using .loc[row_indexer,col_indexer] = value instead\n",
      "\n",
      "See the caveats in the documentation: http://pandas.pydata.org/pandas-docs/stable/indexing.html#indexing-view-versus-copy\n",
      "\n",
      "/usr/local/lib/python3.5/dist-packages/ipykernel_launcher.py:7: SettingWithCopyWarning:\n",
      "\n",
      "\n",
      "A value is trying to be set on a copy of a slice from a DataFrame.\n",
      "Try using .loc[row_indexer,col_indexer] = value instead\n",
      "\n",
      "See the caveats in the documentation: http://pandas.pydata.org/pandas-docs/stable/indexing.html#indexing-view-versus-copy\n",
      "\n",
      "/usr/local/lib/python3.5/dist-packages/ipykernel_launcher.py:8: SettingWithCopyWarning:\n",
      "\n",
      "\n",
      "A value is trying to be set on a copy of a slice from a DataFrame.\n",
      "Try using .loc[row_indexer,col_indexer] = value instead\n",
      "\n",
      "See the caveats in the documentation: http://pandas.pydata.org/pandas-docs/stable/indexing.html#indexing-view-versus-copy\n",
      "\n",
      "/usr/local/lib/python3.5/dist-packages/ipykernel_launcher.py:9: SettingWithCopyWarning:\n",
      "\n",
      "\n",
      "A value is trying to be set on a copy of a slice from a DataFrame.\n",
      "Try using .loc[row_indexer,col_indexer] = value instead\n",
      "\n",
      "See the caveats in the documentation: http://pandas.pydata.org/pandas-docs/stable/indexing.html#indexing-view-versus-copy\n",
      "\n",
      "/usr/local/lib/python3.5/dist-packages/ipykernel_launcher.py:10: SettingWithCopyWarning:\n",
      "\n",
      "\n",
      "A value is trying to be set on a copy of a slice from a DataFrame.\n",
      "Try using .loc[row_indexer,col_indexer] = value instead\n",
      "\n",
      "See the caveats in the documentation: http://pandas.pydata.org/pandas-docs/stable/indexing.html#indexing-view-versus-copy\n",
      "\n",
      "/usr/local/lib/python3.5/dist-packages/ipykernel_launcher.py:11: SettingWithCopyWarning:\n",
      "\n",
      "\n",
      "A value is trying to be set on a copy of a slice from a DataFrame.\n",
      "Try using .loc[row_indexer,col_indexer] = value instead\n",
      "\n",
      "See the caveats in the documentation: http://pandas.pydata.org/pandas-docs/stable/indexing.html#indexing-view-versus-copy\n",
      "\n",
      "/usr/local/lib/python3.5/dist-packages/ipykernel_launcher.py:12: SettingWithCopyWarning:\n",
      "\n",
      "\n",
      "A value is trying to be set on a copy of a slice from a DataFrame.\n",
      "Try using .loc[row_indexer,col_indexer] = value instead\n",
      "\n",
      "See the caveats in the documentation: http://pandas.pydata.org/pandas-docs/stable/indexing.html#indexing-view-versus-copy\n",
      "\n",
      "/usr/local/lib/python3.5/dist-packages/ipykernel_launcher.py:13: SettingWithCopyWarning:\n",
      "\n",
      "\n",
      "A value is trying to be set on a copy of a slice from a DataFrame.\n",
      "Try using .loc[row_indexer,col_indexer] = value instead\n",
      "\n",
      "See the caveats in the documentation: http://pandas.pydata.org/pandas-docs/stable/indexing.html#indexing-view-versus-copy\n",
      "\n",
      "/usr/local/lib/python3.5/dist-packages/ipykernel_launcher.py:14: SettingWithCopyWarning:\n",
      "\n",
      "\n",
      "A value is trying to be set on a copy of a slice from a DataFrame.\n",
      "Try using .loc[row_indexer,col_indexer] = value instead\n",
      "\n",
      "See the caveats in the documentation: http://pandas.pydata.org/pandas-docs/stable/indexing.html#indexing-view-versus-copy\n",
      "\n",
      "/usr/local/lib/python3.5/dist-packages/ipykernel_launcher.py:15: SettingWithCopyWarning:\n",
      "\n",
      "\n",
      "A value is trying to be set on a copy of a slice from a DataFrame.\n",
      "Try using .loc[row_indexer,col_indexer] = value instead\n",
      "\n",
      "See the caveats in the documentation: http://pandas.pydata.org/pandas-docs/stable/indexing.html#indexing-view-versus-copy\n",
      "\n",
      "/usr/local/lib/python3.5/dist-packages/ipykernel_launcher.py:16: SettingWithCopyWarning:\n",
      "\n",
      "\n",
      "A value is trying to be set on a copy of a slice from a DataFrame.\n",
      "Try using .loc[row_indexer,col_indexer] = value instead\n",
      "\n",
      "See the caveats in the documentation: http://pandas.pydata.org/pandas-docs/stable/indexing.html#indexing-view-versus-copy\n",
      "\n",
      "/usr/local/lib/python3.5/dist-packages/ipykernel_launcher.py:17: SettingWithCopyWarning:\n",
      "\n",
      "\n",
      "A value is trying to be set on a copy of a slice from a DataFrame.\n",
      "Try using .loc[row_indexer,col_indexer] = value instead\n",
      "\n",
      "See the caveats in the documentation: http://pandas.pydata.org/pandas-docs/stable/indexing.html#indexing-view-versus-copy\n",
      "\n",
      "/usr/local/lib/python3.5/dist-packages/ipykernel_launcher.py:18: SettingWithCopyWarning:\n",
      "\n",
      "\n",
      "A value is trying to be set on a copy of a slice from a DataFrame.\n",
      "Try using .loc[row_indexer,col_indexer] = value instead\n",
      "\n",
      "See the caveats in the documentation: http://pandas.pydata.org/pandas-docs/stable/indexing.html#indexing-view-versus-copy\n",
      "\n"
     ]
    }
   ],
   "source": [
    "x_R['gender'] =  x_R['gender'].apply(gender_1)\n",
    "x_0['gender'] = x_0['gender'].apply(gender_1)\n",
    "x_R['isantenatalsteroidgiven'] =  x_R['isantenatalsteroidgiven'].apply(ante)\n",
    "x_0['isantenatalsteroidgiven'] = x_0['isantenatalsteroidgiven'].apply(ante)\n",
    "x_R['mode_of_delivery'] =  x_R['mode_of_delivery'].apply(mofd)\n",
    "x_0['mode_of_delivery'] = x_0['mode_of_delivery'].apply(mofd)\n",
    "x_R['conception_type'] =  x_R['conception_type'].apply(c_type)\n",
    "x_0['conception_type'] = x_0['conception_type'].apply(c_type)\n",
    "x_R['baby_type'] =  x_R['baby_type'].apply(b_type)\n",
    "x_0['baby_type'] = x_0['baby_type'].apply(b_type)\n",
    "x_R['inout_patient_status'] =  x_R['inout_patient_status'].apply(in_out)\n",
    "x_0['inout_patient_status'] = x_0['inout_patient_status'].apply(in_out)\n",
    "x_R['rds'] =  x_R['rds'].apply(rds_1)\n",
    "x_0['rds'] = x_0['rds'].apply(rds_1)\n",
    "x_R['sepsis'] =  x_R['sepsis'].apply(sepsis_1)\n",
    "x_0['sepsis'] = x_0['sepsis'].apply(sepsis_1)\n",
    "x_R['jaundice'] =  x_R['jaundice'].apply(jaundice_1)\n",
    "x_0['jaundice'] = x_0['jaundice'].apply(jaundice_1)"
   ]
  },
  {
   "cell_type": "code",
   "execution_count": 73,
   "metadata": {},
   "outputs": [],
   "source": [
    "p_val_cat = []\n",
    "t_stat_cat = []\n",
    "parameter_cat = []"
   ]
  },
  {
   "cell_type": "code",
   "execution_count": 74,
   "metadata": {},
   "outputs": [],
   "source": [
    "for i in cat:\n",
    "    try:\n",
    "        d = x_0.dropna(subset=[i])\n",
    "        d_1 = x_R.dropna(subset=[i])\n",
    "        \n",
    "        #d = d[d[i]==1]\n",
    "        #d_1 = d_1[d_1[i]==1]\n",
    "        t_stat, p_val = proportions_ztest([len(d[d[i]==1]),len(d_1[d_1[i]==1])],[len(d),len(d_1)])\n",
    "        p_val_cat.append(p_val)\n",
    "        t_stat_cat.append(t_stat)\n",
    "        parameter_cat.append(i)\n",
    "    except:\n",
    "        continue\n",
    "    "
   ]
  },
  {
   "cell_type": "code",
   "execution_count": 75,
   "metadata": {},
   "outputs": [
    {
     "name": "stdout",
     "output_type": "stream",
     "text": [
      "(0.00012934602302146046, 'conception_type')\n",
      "(0.8062362174244548, 'gender')\n",
      "(0.46247170547638017, 'inout_patient_status')\n",
      "(5.536325702772039e-06, 'baby_type')\n",
      "(0.012264202753745774, 'isantenatalsteroidgiven')\n",
      "(0.11319015706756952, 'mode_of_delivery')\n",
      "(0.48427761269949066, 'jaundice')\n",
      "(4.594427150053137e-19, 'sepsis')\n",
      "(4.5975165736121343e-66, 'rds')\n"
     ]
    }
   ],
   "source": [
    "for i in zip(p_val_cat,parameter_cat):\n",
    "    print(i)"
   ]
  }
 ],
 "metadata": {
  "kernelspec": {
   "display_name": "Python 3",
   "language": "python",
   "name": "python3"
  },
  "language_info": {
   "codemirror_mode": {
    "name": "ipython",
    "version": 3
   },
   "file_extension": ".py",
   "mimetype": "text/x-python",
   "name": "python",
   "nbconvert_exporter": "python",
   "pygments_lexer": "ipython3",
   "version": "3.5.2"
  }
 },
 "nbformat": 4,
 "nbformat_minor": 4
}
