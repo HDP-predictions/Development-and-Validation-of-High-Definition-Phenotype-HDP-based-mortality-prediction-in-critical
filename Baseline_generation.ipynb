{
 "cells": [
  {
   "cell_type": "code",
   "execution_count": 2,
   "metadata": {},
   "outputs": [],
   "source": [
    "import pandas as pd\n",
    "import numpy as np\n",
    "\n",
    "import pandas as pd\n",
    "import numpy as np\n",
    "#import plotly.graph_objects as go\n",
    "import psycopg2\n",
    "\n",
    "%matplotlib inline\n",
    "\n",
    "con = psycopg2.connect (user = 'postgres',\n",
    "                password = 'postgres',\n",
    "                port = '5432',\n",
    "                host = 'localhost',                \n",
    "                database = 'inicudb')\n",
    "\n",
    "cur  = con.cursor()"
   ]
  },
  {
   "cell_type": "code",
   "execution_count": 6,
   "metadata": {},
   "outputs": [],
   "source": [
    "cur1 = con.cursor()\n",
    "cur1.execute(\"SELECT DISTINCT(uhid) FROM apollo.baby_detail WHERE dateofadmission >= '2018-07-01' AND dateofadmission <= '2020-05-31' and UHID IN (select distinct(uhid) from apollo.babyfeed_detail UNION select distinct(uhid) from apollo.nursing_intake_output UNION select distinct(uhid) from apollo.baby_prescription UNION select distinct(uhid) from apollo.nursing_vitalparameters UNION select distinct(uhid) from apollo.nursing_bloodgas UNION select distinct(uhid) from apollo.baby_visit UNION select distinct(uhid) from apollo.device_ventilator_detail UNION select distinct(uhid) from apollo.device_monitor_detail UNION select distinct(uhid) from apollo.device_monitor_detail_dump UNION select distinct(uhid) from apollo.device_ventilator_detail_dump UNION select distinct(uhid) from apollo.parent_detail UNION select distinct(uhid) from apollo.birth_to_nicu UNION select distinct(uhid) from apollo.antenatal_history_detail UNION select distinct(uhid) from apollo.sa_resp_rds UNION select distinct(uhid) from apollo.sa_jaundice UNION select distinct(uhid) from apollo.sa_infection_sepsis) and (dischargestatus = 'Death' OR dischargestatus = 'Discharge') and isreadmitted is not true and gestationweekbylmp is not null and birthweight is not null;\")\n",
    "cols1 = list(map(lambda x: x[0], cur1.description))\n",
    "ds = pd.DataFrame(cur1.fetchall(),columns=cols1)\n",
    "#ds.sort_values('modificationtime',inplace=True)"
   ]
  },
  {
   "cell_type": "code",
   "execution_count": 8,
   "metadata": {},
   "outputs": [],
   "source": [
    "cur2 = con.cursor()\n",
    "cur2.execute(\"select distinct(b.uhid),l.conception_type, b.gender, b.dateofadmission, b.dischargestatus,b.birthweight,b.weight_galevel,b.weight_centile,b.birthlength,b.birthheadcircumference, b.inout_patient_status, b.gestationweekbylmp, b.gestationdaysbylmp,round( CAST((b.gestationweekbylmp + b.gestationdaysbylmp/7::float) as numeric),2) as Gestation,b.dischargeddate, b.admissionweight, b.baby_type,b.baby_number, b.branchname ,DATE_PART('day',b.dischargeddate - b.dateofadmission) as LOS,c.apgar_onemin, c.apgar_fivemin,c.apgar_tenmin, c.resuscitation,d.isantenatalsteroidgiven, d.mode_of_delivery,z.motherage,e.jaundicestatus as JAUNDICE,  f.eventstatus as SEPSIS,f.progressnotes, g.eventstatus as RDS, g.progressnotes,y.eventstatus as ASPHYXIA,y.progressnotes from apollo.baby_detail as b left join apollo.birth_to_nicu as c on b.uhid = c.uhid and b.episodeid = c.episodeid left join apollo.parent_detail as z on b.uhid = z.uhid and b.episodeid = z.episodeid left join apollo.antenatal_history_detail as d on b.uhid = d.uhid and b.episodeid = d.episodeid left join apollo.sa_jaundice AS e ON b.uhid = e.uhid and e.jaundicestatus = 'Yes' and e.phototherapyvalue='Start' left join apollo.sa_infection_sepsis AS f ON b.uhid = f.uhid and f.eventstatus = 'yes' and f.episode_number = 1 left join apollo.sa_cns_asphyxia AS y ON b.uhid = y.uhid and y.eventstatus = 'yes' and y.episode_number = 1 left join apollo.antenatal_history_detail as l on b.uhid=l.uhid left join apollo.sa_resp_rds AS g ON b.uhid = g.uhid and g.eventstatus = 'Yes' and g.episode_number = 1 and g.uhid IN (select distinct(h.uhid) from apollo.respsupport AS h where h.eventname='Respiratory Distress' and (h.rs_vent_type ='Mechanical Ventilation' OR h.rs_vent_type ='HFO') UNION select distinct(i.uhid) from apollo.sa_resp_rds AS i where i.sufactantname is not null) order by b.dateofadmission\")\n",
    "cols2 = list(map(lambda x: x[0], cur2.description))\n",
    "dt = pd.DataFrame(cur2.fetchall(),columns=cols2)\n",
    "#ds.sort_values('modificationtime',inplace=True)"
   ]
  },
  {
   "cell_type": "code",
   "execution_count": 10,
   "metadata": {},
   "outputs": [],
   "source": [
    "final = pd.DataFrame()\n",
    "for i in ds.uhid.unique():\n",
    "    x = dt[dt['uhid']==i]\n",
    "    final = final.append(x,ignore_index=True)"
   ]
  },
  {
   "cell_type": "code",
   "execution_count": 13,
   "metadata": {},
   "outputs": [
    {
     "data": {
      "text/plain": [
       "1574"
      ]
     },
     "execution_count": 13,
     "metadata": {},
     "output_type": "execute_result"
    }
   ],
   "source": [
    "len(final.uhid.unique())"
   ]
  },
  {
   "cell_type": "code",
   "execution_count": 14,
   "metadata": {},
   "outputs": [],
   "source": [
    "dh = final.drop_duplicates('uhid',keep='first')"
   ]
  },
  {
   "cell_type": "code",
   "execution_count": 16,
   "metadata": {},
   "outputs": [
    {
     "data": {
      "text/plain": [
       "array(['Death', 'Discharge'], dtype=object)"
      ]
     },
     "execution_count": 16,
     "metadata": {},
     "output_type": "execute_result"
    }
   ],
   "source": [
    "dh.dischargestatus.unique()"
   ]
  },
  {
   "cell_type": "code",
   "execution_count": 17,
   "metadata": {},
   "outputs": [],
   "source": [
    "dh.to_csv('baseline_20th_june.csv')"
   ]
  },
  {
   "cell_type": "code",
   "execution_count": null,
   "metadata": {},
   "outputs": [],
   "source": []
  }
 ],
 "metadata": {
  "kernelspec": {
   "display_name": "Python 3",
   "language": "python",
   "name": "python3"
  },
  "language_info": {
   "codemirror_mode": {
    "name": "ipython",
    "version": 2
   },
   "file_extension": ".py",
   "mimetype": "text/x-python",
   "name": "python",
   "nbconvert_exporter": "python",
   "pygments_lexer": "ipython2",
   "version": "2.7.17"
  }
 },
 "nbformat": 4,
 "nbformat_minor": 2
}
