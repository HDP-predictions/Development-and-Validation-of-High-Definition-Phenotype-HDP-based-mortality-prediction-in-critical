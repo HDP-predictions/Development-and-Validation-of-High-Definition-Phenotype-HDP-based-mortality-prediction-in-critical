{
 "cells": [
  {
   "cell_type": "code",
   "execution_count": 1,
   "metadata": {},
   "outputs": [],
   "source": [
    "import pandas as pd\n",
    "import numpy as np\n",
    "\n",
    "import pandas as pd\n",
    "import numpy as np\n",
    "import psycopg2\n",
    "from datetime import timedelta\n",
    "\n",
    "%matplotlib inline\n",
    "\n",
    "con = psycopg2.connect (user = 'postgres',\n",
    "                password = 'postgres',\n",
    "                port = '5432',\n",
    "                \n",
    "                database = 'inicudb')\n",
    "\n",
    "cur  = con.cursor()"
   ]
  },
  {
   "cell_type": "code",
   "execution_count": null,
   "metadata": {},
   "outputs": [],
   "source": []
  },
  {
   "cell_type": "code",
   "execution_count": 2,
   "metadata": {},
   "outputs": [],
   "source": [
    "schemaName = \"apollo\""
   ]
  },
  {
   "cell_type": "code",
   "execution_count": null,
   "metadata": {},
   "outputs": [],
   "source": []
  },
  {
   "cell_type": "code",
   "execution_count": null,
   "metadata": {},
   "outputs": [],
   "source": []
  },
  {
   "cell_type": "code",
   "execution_count": 3,
   "metadata": {},
   "outputs": [],
   "source": [
    "cur1 = con.cursor()\n",
    "cur1.execute(\"SELECT uhid,dischargestatus,birthweight,gestationweekbylmp,gestationdaysbylmp,dateofadmission,timeofadmission,gender,central_temp FROM \"+schemaName+\".baby_detail WHERE dateofadmission >= '2018-07-01' AND dateofadmission <= '2020-05-31' and UHID IN  (select distinct(uhid) from \"+schemaName+\".babyfeed_detail where uhid in  ( select distinct(uhid) from \"+schemaName+\".baby_visit where uhid in (select  distinct(uhid) from \"+schemaName+\".nursing_vitalparameters where uhid in ( select distinct(uhid) from \"+schemaName+\".device_monitor_detail UNION select distinct(uhid) from \"+schemaName+\".device_monitor_detail_dump)))) and (dischargestatus = 'Discharge' OR dischargestatus = 'Death' ) and isreadmitted is not true and gestationweekbylmp is not null and birthweight is not null;\")\n",
    "cols1 = list(map(lambda x: x[0], cur1.description))\n",
    "ds = pd.DataFrame(cur1.fetchall(),columns=cols1)\n",
    "#ds.sort_values('modificationtime',inplace=True)"
   ]
  },
  {
   "cell_type": "code",
   "execution_count": null,
   "metadata": {},
   "outputs": [],
   "source": []
  },
  {
   "cell_type": "code",
   "execution_count": 4,
   "metadata": {},
   "outputs": [],
   "source": [
    "uhids = ds.uhid.unique()"
   ]
  },
  {
   "cell_type": "code",
   "execution_count": null,
   "metadata": {},
   "outputs": [],
   "source": []
  },
  {
   "cell_type": "code",
   "execution_count": null,
   "metadata": {},
   "outputs": [],
   "source": []
  },
  {
   "cell_type": "code",
   "execution_count": null,
   "metadata": {},
   "outputs": [],
   "source": []
  },
  {
   "cell_type": "code",
   "execution_count": null,
   "metadata": {},
   "outputs": [],
   "source": []
  },
  {
   "cell_type": "code",
   "execution_count": null,
   "metadata": {},
   "outputs": [],
   "source": []
  },
  {
   "cell_type": "code",
   "execution_count": null,
   "metadata": {},
   "outputs": [],
   "source": []
  },
  {
   "cell_type": "code",
   "execution_count": null,
   "metadata": {},
   "outputs": [],
   "source": []
  },
  {
   "cell_type": "code",
   "execution_count": 33,
   "metadata": {},
   "outputs": [
    {
     "data": {
      "text/plain": [
       "807"
      ]
     },
     "execution_count": 33,
     "metadata": {},
     "output_type": "execute_result"
    }
   ],
   "source": [
    "len(ds)"
   ]
  },
  {
   "cell_type": "code",
   "execution_count": null,
   "metadata": {},
   "outputs": [],
   "source": []
  },
  {
   "cell_type": "code",
   "execution_count": null,
   "metadata": {},
   "outputs": [],
   "source": []
  },
  {
   "cell_type": "code",
   "execution_count": null,
   "metadata": {},
   "outputs": [],
   "source": []
  },
  {
   "cell_type": "code",
   "execution_count": null,
   "metadata": {},
   "outputs": [],
   "source": []
  },
  {
   "cell_type": "code",
   "execution_count": null,
   "metadata": {},
   "outputs": [],
   "source": []
  },
  {
   "cell_type": "code",
   "execution_count": null,
   "metadata": {},
   "outputs": [],
   "source": []
  },
  {
   "cell_type": "code",
   "execution_count": 5,
   "metadata": {},
   "outputs": [],
   "source": [
    "def birthweight_correction(x):\n",
    "    if x<0.6:\n",
    "        return x * 1000\n",
    "    elif x<2.0 and x>1.1:\n",
    "        return x * 1000\n",
    "    elif x>=2.0 and x<4.0:\n",
    "        return x * 1000\n",
    "    else:\n",
    "        return x"
   ]
  },
  {
   "cell_type": "code",
   "execution_count": null,
   "metadata": {},
   "outputs": [],
   "source": []
  },
  {
   "cell_type": "code",
   "execution_count": null,
   "metadata": {},
   "outputs": [],
   "source": []
  },
  {
   "cell_type": "code",
   "execution_count": null,
   "metadata": {},
   "outputs": [],
   "source": []
  },
  {
   "cell_type": "code",
   "execution_count": null,
   "metadata": {},
   "outputs": [],
   "source": []
  },
  {
   "cell_type": "code",
   "execution_count": 6,
   "metadata": {},
   "outputs": [],
   "source": [
    "ds.birthweight = ds.birthweight.apply(birthweight_correction)"
   ]
  },
  {
   "cell_type": "code",
   "execution_count": null,
   "metadata": {},
   "outputs": [],
   "source": []
  },
  {
   "cell_type": "code",
   "execution_count": null,
   "metadata": {},
   "outputs": [],
   "source": []
  },
  {
   "cell_type": "code",
   "execution_count": null,
   "metadata": {},
   "outputs": [],
   "source": []
  },
  {
   "cell_type": "code",
   "execution_count": null,
   "metadata": {},
   "outputs": [],
   "source": []
  },
  {
   "cell_type": "code",
   "execution_count": 7,
   "metadata": {},
   "outputs": [],
   "source": [
    "def start_time(x,y):\n",
    "    try:\n",
    "        y = str(y)\n",
    "        if x.split(',')[2] == 'AM':\n",
    "            return y +\" \"+ x.split(',')[0] +\":\"+ x.split(',')[1] + \".000\"\n",
    "        else:\n",
    "            return str(pd.to_datetime(y +\" \"+ x.split(',')[0] +\":\"+ (x.split(',')[1]) + \".000\") + timedelta(hours=12))\n",
    "    except:\n",
    "        pass"
   ]
  },
  {
   "cell_type": "code",
   "execution_count": null,
   "metadata": {},
   "outputs": [],
   "source": []
  },
  {
   "cell_type": "code",
   "execution_count": null,
   "metadata": {},
   "outputs": [],
   "source": []
  },
  {
   "cell_type": "code",
   "execution_count": null,
   "metadata": {},
   "outputs": [],
   "source": []
  },
  {
   "cell_type": "code",
   "execution_count": 8,
   "metadata": {},
   "outputs": [],
   "source": [
    "ds['admission_date'] = ds.apply(lambda x: start_time(x['timeofadmission'],x['dateofadmission']),axis=1)"
   ]
  },
  {
   "cell_type": "code",
   "execution_count": null,
   "metadata": {},
   "outputs": [],
   "source": []
  },
  {
   "cell_type": "code",
   "execution_count": null,
   "metadata": {},
   "outputs": [],
   "source": []
  },
  {
   "cell_type": "code",
   "execution_count": null,
   "metadata": {},
   "outputs": [],
   "source": []
  },
  {
   "cell_type": "code",
   "execution_count": 9,
   "metadata": {},
   "outputs": [],
   "source": [
    "ds['gestation'] = ds['gestationweekbylmp'] + ds['gestationdaysbylmp']/7.0"
   ]
  },
  {
   "cell_type": "code",
   "execution_count": null,
   "metadata": {},
   "outputs": [],
   "source": []
  },
  {
   "cell_type": "code",
   "execution_count": null,
   "metadata": {},
   "outputs": [],
   "source": []
  },
  {
   "cell_type": "code",
   "execution_count": null,
   "metadata": {},
   "outputs": [],
   "source": []
  },
  {
   "cell_type": "code",
   "execution_count": 10,
   "metadata": {},
   "outputs": [],
   "source": [
    "ds = ds[(ds['birthweight']<=1500) | (ds['gestation']<=31)]"
   ]
  },
  {
   "cell_type": "code",
   "execution_count": null,
   "metadata": {},
   "outputs": [],
   "source": []
  },
  {
   "cell_type": "code",
   "execution_count": null,
   "metadata": {},
   "outputs": [],
   "source": []
  },
  {
   "cell_type": "code",
   "execution_count": null,
   "metadata": {},
   "outputs": [],
   "source": []
  },
  {
   "cell_type": "code",
   "execution_count": 11,
   "metadata": {},
   "outputs": [
    {
     "data": {
      "text/plain": [
       "uhid                  169\n",
       "dischargestatus       169\n",
       "birthweight           169\n",
       "gestationweekbylmp    169\n",
       "gestationdaysbylmp    169\n",
       "dateofadmission       169\n",
       "timeofadmission       169\n",
       "gender                169\n",
       "central_temp           16\n",
       "admission_date        168\n",
       "gestation             169\n",
       "dtype: int64"
      ]
     },
     "execution_count": 11,
     "metadata": {},
     "output_type": "execute_result"
    }
   ],
   "source": [
    "ds.count()"
   ]
  },
  {
   "cell_type": "code",
   "execution_count": null,
   "metadata": {},
   "outputs": [],
   "source": []
  },
  {
   "cell_type": "code",
   "execution_count": null,
   "metadata": {},
   "outputs": [],
   "source": []
  },
  {
   "cell_type": "code",
   "execution_count": null,
   "metadata": {},
   "outputs": [],
   "source": []
  },
  {
   "cell_type": "code",
   "execution_count": 12,
   "metadata": {},
   "outputs": [],
   "source": [
    "def to_date(x):\n",
    "    return pd.to_datetime(x)"
   ]
  },
  {
   "cell_type": "code",
   "execution_count": null,
   "metadata": {},
   "outputs": [],
   "source": []
  },
  {
   "cell_type": "code",
   "execution_count": null,
   "metadata": {},
   "outputs": [],
   "source": []
  },
  {
   "cell_type": "code",
   "execution_count": null,
   "metadata": {},
   "outputs": [],
   "source": []
  },
  {
   "cell_type": "code",
   "execution_count": 13,
   "metadata": {},
   "outputs": [],
   "source": [
    "ds['admission_date'] = ds['admission_date'].apply(to_date)"
   ]
  },
  {
   "cell_type": "code",
   "execution_count": null,
   "metadata": {},
   "outputs": [],
   "source": []
  },
  {
   "cell_type": "code",
   "execution_count": null,
   "metadata": {},
   "outputs": [],
   "source": []
  },
  {
   "cell_type": "code",
   "execution_count": null,
   "metadata": {},
   "outputs": [],
   "source": []
  },
  {
   "cell_type": "code",
   "execution_count": 14,
   "metadata": {},
   "outputs": [],
   "source": [
    "ds['CRIB_1Hr'] = ds['admission_date'] + timedelta(hours = 12)"
   ]
  },
  {
   "cell_type": "code",
   "execution_count": null,
   "metadata": {},
   "outputs": [],
   "source": []
  },
  {
   "cell_type": "code",
   "execution_count": null,
   "metadata": {},
   "outputs": [],
   "source": []
  },
  {
   "cell_type": "code",
   "execution_count": null,
   "metadata": {},
   "outputs": [],
   "source": []
  },
  {
   "cell_type": "code",
   "execution_count": 28,
   "metadata": {},
   "outputs": [],
   "source": []
  },
  {
   "cell_type": "code",
   "execution_count": 16,
   "metadata": {},
   "outputs": [
    {
     "ename": "NameError",
     "evalue": "name 'uhid' is not defined",
     "output_type": "error",
     "traceback": [
      "\u001b[0;31m---------------------------------------------------------------------------\u001b[0m",
      "\u001b[0;31mNameError\u001b[0m                                 Traceback (most recent call last)",
      "\u001b[0;32m<ipython-input-16-d199e80c546b>\u001b[0m in \u001b[0;36m<module>\u001b[0;34m\u001b[0m\n\u001b[0;32m----> 1\u001b[0;31m \u001b[0mlen\u001b[0m\u001b[0;34m(\u001b[0m\u001b[0muhid\u001b[0m\u001b[0;34m)\u001b[0m\u001b[0;34m\u001b[0m\u001b[0;34m\u001b[0m\u001b[0m\n\u001b[0m",
      "\u001b[0;31mNameError\u001b[0m: name 'uhid' is not defined"
     ]
    }
   ],
   "source": []
  },
  {
   "cell_type": "code",
   "execution_count": null,
   "metadata": {},
   "outputs": [],
   "source": []
  },
  {
   "cell_type": "code",
   "execution_count": null,
   "metadata": {},
   "outputs": [],
   "source": []
  },
  {
   "cell_type": "code",
   "execution_count": 15,
   "metadata": {},
   "outputs": [],
   "source": [
    "#Max BE\n",
    "cur2 = con.cursor()\n",
    "cur2.execute(\"SELECT t1.uhid,t1.be,t1.modificationtime FROM apollo.nursing_bloodgas AS t1\")\n",
    "cols2 = list(map(lambda x: x[0], cur2.description))\n",
    "be = pd.DataFrame(cur2.fetchall(),columns=cols2)\n",
    "#ds.sort_values('modificationtime',inplace=True)"
   ]
  },
  {
   "cell_type": "code",
   "execution_count": null,
   "metadata": {},
   "outputs": [],
   "source": []
  },
  {
   "cell_type": "code",
   "execution_count": null,
   "metadata": {},
   "outputs": [],
   "source": []
  },
  {
   "cell_type": "code",
   "execution_count": null,
   "metadata": {},
   "outputs": [],
   "source": []
  },
  {
   "cell_type": "code",
   "execution_count": null,
   "metadata": {},
   "outputs": [],
   "source": []
  },
  {
   "cell_type": "code",
   "execution_count": null,
   "metadata": {},
   "outputs": [],
   "source": []
  },
  {
   "cell_type": "code",
   "execution_count": null,
   "metadata": {},
   "outputs": [],
   "source": []
  },
  {
   "cell_type": "code",
   "execution_count": 47,
   "metadata": {},
   "outputs": [
    {
     "data": {
      "text/html": [
       "<div>\n",
       "<style scoped>\n",
       "    .dataframe tbody tr th:only-of-type {\n",
       "        vertical-align: middle;\n",
       "    }\n",
       "\n",
       "    .dataframe tbody tr th {\n",
       "        vertical-align: top;\n",
       "    }\n",
       "\n",
       "    .dataframe thead th {\n",
       "        text-align: right;\n",
       "    }\n",
       "</style>\n",
       "<table border=\"1\" class=\"dataframe\">\n",
       "  <thead>\n",
       "    <tr style=\"text-align: right;\">\n",
       "      <th></th>\n",
       "      <th>uhid</th>\n",
       "      <th>be</th>\n",
       "      <th>modificationtime</th>\n",
       "    </tr>\n",
       "  </thead>\n",
       "  <tbody>\n",
       "    <tr>\n",
       "      <th>0</th>\n",
       "      <td>RSHI.0000006352</td>\n",
       "      <td>None</td>\n",
       "      <td>2017-08-23 16:50:43.306798</td>\n",
       "    </tr>\n",
       "    <tr>\n",
       "      <th>1</th>\n",
       "      <td>RSHI.0000006352</td>\n",
       "      <td>None</td>\n",
       "      <td>2017-08-23 16:52:33.241413</td>\n",
       "    </tr>\n",
       "    <tr>\n",
       "      <th>2</th>\n",
       "      <td>RSHI.0000006352</td>\n",
       "      <td>None</td>\n",
       "      <td>2017-08-23 17:26:43.904732</td>\n",
       "    </tr>\n",
       "    <tr>\n",
       "      <th>3</th>\n",
       "      <td>RSHI.0000006352</td>\n",
       "      <td>12</td>\n",
       "      <td>2017-08-23 17:34:56.742368</td>\n",
       "    </tr>\n",
       "    <tr>\n",
       "      <th>4</th>\n",
       "      <td>RSHI.0000006352</td>\n",
       "      <td>12</td>\n",
       "      <td>2017-08-23 17:44:52.288618</td>\n",
       "    </tr>\n",
       "    <tr>\n",
       "      <th>5</th>\n",
       "      <td>RSHI.0000006352</td>\n",
       "      <td>14</td>\n",
       "      <td>2017-08-23 18:01:07.075524</td>\n",
       "    </tr>\n",
       "    <tr>\n",
       "      <th>6</th>\n",
       "      <td>RSHI.0000006514</td>\n",
       "      <td>-22</td>\n",
       "      <td>2017-08-16 16:43:34.353000</td>\n",
       "    </tr>\n",
       "    <tr>\n",
       "      <th>7</th>\n",
       "      <td>RSHI.0000006514</td>\n",
       "      <td>-22</td>\n",
       "      <td>2017-08-16 19:55:50.590000</td>\n",
       "    </tr>\n",
       "    <tr>\n",
       "      <th>8</th>\n",
       "      <td>RSHI.0000006514</td>\n",
       "      <td>-22</td>\n",
       "      <td>2017-08-16 15:50:55.970000</td>\n",
       "    </tr>\n",
       "    <tr>\n",
       "      <th>9</th>\n",
       "      <td>RSHI.0000006514</td>\n",
       "      <td>10</td>\n",
       "      <td>2017-08-16 23:00:28.367000</td>\n",
       "    </tr>\n",
       "    <tr>\n",
       "      <th>10</th>\n",
       "      <td>RSHI.000000599</td>\n",
       "      <td>None</td>\n",
       "      <td>2017-07-11 21:00:36.278000</td>\n",
       "    </tr>\n",
       "    <tr>\n",
       "      <th>11</th>\n",
       "      <td>RSHI.000000599</td>\n",
       "      <td>-17.2</td>\n",
       "      <td>2017-07-13 18:06:46.500000</td>\n",
       "    </tr>\n",
       "    <tr>\n",
       "      <th>12</th>\n",
       "      <td>RSHI.000000599</td>\n",
       "      <td>None</td>\n",
       "      <td>2017-07-13 23:30:58.127000</td>\n",
       "    </tr>\n",
       "    <tr>\n",
       "      <th>13</th>\n",
       "      <td>RSHI.000000567</td>\n",
       "      <td>None</td>\n",
       "      <td>2017-07-19 02:00:31.899000</td>\n",
       "    </tr>\n",
       "    <tr>\n",
       "      <th>14</th>\n",
       "      <td>RSHI.0000008699</td>\n",
       "      <td>None</td>\n",
       "      <td>2018-01-29 19:34:27.000000</td>\n",
       "    </tr>\n",
       "    <tr>\n",
       "      <th>15</th>\n",
       "      <td>B/O PRATIMA</td>\n",
       "      <td>None</td>\n",
       "      <td>2018-01-29 20:26:41.000000</td>\n",
       "    </tr>\n",
       "    <tr>\n",
       "      <th>16</th>\n",
       "      <td>RSHI.0000008699</td>\n",
       "      <td>None</td>\n",
       "      <td>2018-01-29 19:34:27.000000</td>\n",
       "    </tr>\n",
       "    <tr>\n",
       "      <th>17</th>\n",
       "      <td>B/O SELVI</td>\n",
       "      <td>None</td>\n",
       "      <td>2018-02-02 13:07:01.000000</td>\n",
       "    </tr>\n",
       "    <tr>\n",
       "      <th>18</th>\n",
       "      <td>B/O NEHA</td>\n",
       "      <td>None</td>\n",
       "      <td>2018-02-05 19:24:38.000000</td>\n",
       "    </tr>\n",
       "    <tr>\n",
       "      <th>19</th>\n",
       "      <td>^B/O NISHA VERMA</td>\n",
       "      <td>None</td>\n",
       "      <td>2018-02-06 12:05:50.000000</td>\n",
       "    </tr>\n",
       "    <tr>\n",
       "      <th>20</th>\n",
       "      <td>^B/O ANUPAMA</td>\n",
       "      <td>None</td>\n",
       "      <td>2018-02-06 12:47:24.000000</td>\n",
       "    </tr>\n",
       "    <tr>\n",
       "      <th>21</th>\n",
       "      <td>DEEPIKA</td>\n",
       "      <td>None</td>\n",
       "      <td>2018-02-06 14:23:15.000000</td>\n",
       "    </tr>\n",
       "    <tr>\n",
       "      <th>22</th>\n",
       "      <td>B/OPOOJA</td>\n",
       "      <td>None</td>\n",
       "      <td>2018-02-06 19:38:31.000000</td>\n",
       "    </tr>\n",
       "    <tr>\n",
       "      <th>23</th>\n",
       "      <td>B/O ANUPAMA</td>\n",
       "      <td>None</td>\n",
       "      <td>2018-02-07 00:01:17.000000</td>\n",
       "    </tr>\n",
       "    <tr>\n",
       "      <th>24</th>\n",
       "      <td>^</td>\n",
       "      <td>None</td>\n",
       "      <td>2018-02-07 15:11:28.000000</td>\n",
       "    </tr>\n",
       "    <tr>\n",
       "      <th>25</th>\n",
       "      <td>^</td>\n",
       "      <td>None</td>\n",
       "      <td>2018-02-07 18:40:56.000000</td>\n",
       "    </tr>\n",
       "    <tr>\n",
       "      <th>26</th>\n",
       "      <td>B/O ANUPAMA</td>\n",
       "      <td>None</td>\n",
       "      <td>2018-02-07 23:26:10.000000</td>\n",
       "    </tr>\n",
       "    <tr>\n",
       "      <th>27</th>\n",
       "      <td>^B/O ANUPAMA</td>\n",
       "      <td>None</td>\n",
       "      <td>2018-02-08 03:17:52.000000</td>\n",
       "    </tr>\n",
       "    <tr>\n",
       "      <th>28</th>\n",
       "      <td>B/O ANUPAMA</td>\n",
       "      <td>None</td>\n",
       "      <td>2018-02-08 05:49:33.000000</td>\n",
       "    </tr>\n",
       "    <tr>\n",
       "      <th>29</th>\n",
       "      <td>B/O ANUPAMA</td>\n",
       "      <td>None</td>\n",
       "      <td>2018-02-08 08:18:31.000000</td>\n",
       "    </tr>\n",
       "    <tr>\n",
       "      <th>...</th>\n",
       "      <td>...</td>\n",
       "      <td>...</td>\n",
       "      <td>...</td>\n",
       "    </tr>\n",
       "    <tr>\n",
       "      <th>43322</th>\n",
       "      <td>RMAR.0000037446</td>\n",
       "      <td>-5.6</td>\n",
       "      <td>2020-03-27 03:05:25.661000</td>\n",
       "    </tr>\n",
       "    <tr>\n",
       "      <th>43323</th>\n",
       "      <td>RMAR.0000037446</td>\n",
       "      <td>-3.9</td>\n",
       "      <td>2020-03-27 04:44:25.661000</td>\n",
       "    </tr>\n",
       "    <tr>\n",
       "      <th>43324</th>\n",
       "      <td>RMAR.0000037446</td>\n",
       "      <td>-4.4</td>\n",
       "      <td>2020-03-27 07:58:46.880000</td>\n",
       "    </tr>\n",
       "    <tr>\n",
       "      <th>43325</th>\n",
       "      <td>RMAR.0000037446</td>\n",
       "      <td>-4.4</td>\n",
       "      <td>2020-03-27 11:00:46.269000</td>\n",
       "    </tr>\n",
       "    <tr>\n",
       "      <th>43326</th>\n",
       "      <td>RMAR.0000037446</td>\n",
       "      <td>-5.6</td>\n",
       "      <td>2020-03-28 04:57:47.649000</td>\n",
       "    </tr>\n",
       "    <tr>\n",
       "      <th>43327</th>\n",
       "      <td>RMAR.0000037446</td>\n",
       "      <td>-5.6</td>\n",
       "      <td>2020-03-28 09:30:49.054000</td>\n",
       "    </tr>\n",
       "    <tr>\n",
       "      <th>43328</th>\n",
       "      <td>RNEH.0000014474</td>\n",
       "      <td>None</td>\n",
       "      <td>2020-03-30 07:00:18.803000</td>\n",
       "    </tr>\n",
       "    <tr>\n",
       "      <th>43329</th>\n",
       "      <td>RMAR.0000037475</td>\n",
       "      <td>None</td>\n",
       "      <td>2020-04-03 02:04:20.227000</td>\n",
       "    </tr>\n",
       "    <tr>\n",
       "      <th>43330</th>\n",
       "      <td>RNEH.0000014351</td>\n",
       "      <td>None</td>\n",
       "      <td>2020-04-07 05:30:35.078000</td>\n",
       "    </tr>\n",
       "    <tr>\n",
       "      <th>43331</th>\n",
       "      <td>RNEH.0000014549</td>\n",
       "      <td>None</td>\n",
       "      <td>2020-04-08 16:30:00.000000</td>\n",
       "    </tr>\n",
       "    <tr>\n",
       "      <th>43332</th>\n",
       "      <td>RNEH.0000014557</td>\n",
       "      <td>None</td>\n",
       "      <td>2020-04-10 14:21:08.401000</td>\n",
       "    </tr>\n",
       "    <tr>\n",
       "      <th>43333</th>\n",
       "      <td>RKON.0000029753</td>\n",
       "      <td>None</td>\n",
       "      <td>2020-04-12 04:46:10.595000</td>\n",
       "    </tr>\n",
       "    <tr>\n",
       "      <th>43334</th>\n",
       "      <td>RSHI.0000024620</td>\n",
       "      <td>None</td>\n",
       "      <td>2020-04-14 05:20:58.403000</td>\n",
       "    </tr>\n",
       "    <tr>\n",
       "      <th>43335</th>\n",
       "      <td>RSHI.0000024620</td>\n",
       "      <td>None</td>\n",
       "      <td>2020-04-14 05:21:06.162000</td>\n",
       "    </tr>\n",
       "    <tr>\n",
       "      <th>43336</th>\n",
       "      <td>RNEH.0000014519</td>\n",
       "      <td>None</td>\n",
       "      <td>2020-04-14 07:39:16.158938</td>\n",
       "    </tr>\n",
       "    <tr>\n",
       "      <th>43337</th>\n",
       "      <td>RNEH.0000014519</td>\n",
       "      <td>None</td>\n",
       "      <td>2020-04-14 07:39:17.174000</td>\n",
       "    </tr>\n",
       "    <tr>\n",
       "      <th>43338</th>\n",
       "      <td>RNEH.0000014557</td>\n",
       "      <td>None</td>\n",
       "      <td>2020-04-14 10:39:54.345000</td>\n",
       "    </tr>\n",
       "    <tr>\n",
       "      <th>43339</th>\n",
       "      <td>RNEH.0000014557</td>\n",
       "      <td>None</td>\n",
       "      <td>2020-04-14 10:39:54.345000</td>\n",
       "    </tr>\n",
       "    <tr>\n",
       "      <th>43340</th>\n",
       "      <td>RSHI.0000024700</td>\n",
       "      <td>None</td>\n",
       "      <td>2020-04-09 10:02:00.000000</td>\n",
       "    </tr>\n",
       "    <tr>\n",
       "      <th>43341</th>\n",
       "      <td>RSHI.0000024700</td>\n",
       "      <td>None</td>\n",
       "      <td>2020-04-15 10:37:12.308881</td>\n",
       "    </tr>\n",
       "    <tr>\n",
       "      <th>43342</th>\n",
       "      <td>RNEH.0000014351</td>\n",
       "      <td>None</td>\n",
       "      <td>2020-04-15 11:17:20.109000</td>\n",
       "    </tr>\n",
       "    <tr>\n",
       "      <th>43343</th>\n",
       "      <td>RNEH.0000014351</td>\n",
       "      <td>None</td>\n",
       "      <td>2020-04-15 11:41:28.157000</td>\n",
       "    </tr>\n",
       "    <tr>\n",
       "      <th>43344</th>\n",
       "      <td>RNEH.0000014351</td>\n",
       "      <td>None</td>\n",
       "      <td>2020-04-15 02:45:28.836000</td>\n",
       "    </tr>\n",
       "    <tr>\n",
       "      <th>43345</th>\n",
       "      <td>RSHI.0000024405</td>\n",
       "      <td>None</td>\n",
       "      <td>2020-04-07 18:30:00.000000</td>\n",
       "    </tr>\n",
       "    <tr>\n",
       "      <th>43346</th>\n",
       "      <td>RSHI.0000024405</td>\n",
       "      <td>None</td>\n",
       "      <td>2020-04-10 18:30:00.000000</td>\n",
       "    </tr>\n",
       "    <tr>\n",
       "      <th>43347</th>\n",
       "      <td>RSHI.0000024405</td>\n",
       "      <td>None</td>\n",
       "      <td>2020-04-14 21:30:00.000000</td>\n",
       "    </tr>\n",
       "    <tr>\n",
       "      <th>43348</th>\n",
       "      <td>RSHI.0000024620</td>\n",
       "      <td>None</td>\n",
       "      <td>2020-04-15 14:19:07.209000</td>\n",
       "    </tr>\n",
       "    <tr>\n",
       "      <th>43349</th>\n",
       "      <td>567677</td>\n",
       "      <td>None</td>\n",
       "      <td>2020-04-16 18:36:20.252000</td>\n",
       "    </tr>\n",
       "    <tr>\n",
       "      <th>43350</th>\n",
       "      <td>567677</td>\n",
       "      <td>None</td>\n",
       "      <td>2020-04-16 18:33:29.103000</td>\n",
       "    </tr>\n",
       "    <tr>\n",
       "      <th>43351</th>\n",
       "      <td>RSHI.0000024690</td>\n",
       "      <td>None</td>\n",
       "      <td>2020-04-20 16:24:24.669592</td>\n",
       "    </tr>\n",
       "  </tbody>\n",
       "</table>\n",
       "<p>43352 rows × 3 columns</p>\n",
       "</div>"
      ],
      "text/plain": [
       "                   uhid     be           modificationtime\n",
       "0       RSHI.0000006352   None 2017-08-23 16:50:43.306798\n",
       "1       RSHI.0000006352   None 2017-08-23 16:52:33.241413\n",
       "2       RSHI.0000006352   None 2017-08-23 17:26:43.904732\n",
       "3       RSHI.0000006352     12 2017-08-23 17:34:56.742368\n",
       "4       RSHI.0000006352     12 2017-08-23 17:44:52.288618\n",
       "5       RSHI.0000006352     14 2017-08-23 18:01:07.075524\n",
       "6       RSHI.0000006514    -22 2017-08-16 16:43:34.353000\n",
       "7       RSHI.0000006514    -22 2017-08-16 19:55:50.590000\n",
       "8       RSHI.0000006514    -22 2017-08-16 15:50:55.970000\n",
       "9       RSHI.0000006514     10 2017-08-16 23:00:28.367000\n",
       "10       RSHI.000000599   None 2017-07-11 21:00:36.278000\n",
       "11       RSHI.000000599  -17.2 2017-07-13 18:06:46.500000\n",
       "12       RSHI.000000599   None 2017-07-13 23:30:58.127000\n",
       "13       RSHI.000000567   None 2017-07-19 02:00:31.899000\n",
       "14      RSHI.0000008699   None 2018-01-29 19:34:27.000000\n",
       "15          B/O PRATIMA   None 2018-01-29 20:26:41.000000\n",
       "16      RSHI.0000008699   None 2018-01-29 19:34:27.000000\n",
       "17            B/O SELVI   None 2018-02-02 13:07:01.000000\n",
       "18             B/O NEHA   None 2018-02-05 19:24:38.000000\n",
       "19     ^B/O NISHA VERMA   None 2018-02-06 12:05:50.000000\n",
       "20         ^B/O ANUPAMA   None 2018-02-06 12:47:24.000000\n",
       "21              DEEPIKA   None 2018-02-06 14:23:15.000000\n",
       "22             B/OPOOJA   None 2018-02-06 19:38:31.000000\n",
       "23          B/O ANUPAMA   None 2018-02-07 00:01:17.000000\n",
       "24                    ^   None 2018-02-07 15:11:28.000000\n",
       "25                    ^   None 2018-02-07 18:40:56.000000\n",
       "26          B/O ANUPAMA   None 2018-02-07 23:26:10.000000\n",
       "27         ^B/O ANUPAMA   None 2018-02-08 03:17:52.000000\n",
       "28          B/O ANUPAMA   None 2018-02-08 05:49:33.000000\n",
       "29          B/O ANUPAMA   None 2018-02-08 08:18:31.000000\n",
       "...                 ...    ...                        ...\n",
       "43322   RMAR.0000037446   -5.6 2020-03-27 03:05:25.661000\n",
       "43323   RMAR.0000037446   -3.9 2020-03-27 04:44:25.661000\n",
       "43324   RMAR.0000037446   -4.4 2020-03-27 07:58:46.880000\n",
       "43325   RMAR.0000037446   -4.4 2020-03-27 11:00:46.269000\n",
       "43326   RMAR.0000037446   -5.6 2020-03-28 04:57:47.649000\n",
       "43327   RMAR.0000037446   -5.6 2020-03-28 09:30:49.054000\n",
       "43328   RNEH.0000014474   None 2020-03-30 07:00:18.803000\n",
       "43329   RMAR.0000037475   None 2020-04-03 02:04:20.227000\n",
       "43330   RNEH.0000014351   None 2020-04-07 05:30:35.078000\n",
       "43331   RNEH.0000014549   None 2020-04-08 16:30:00.000000\n",
       "43332   RNEH.0000014557   None 2020-04-10 14:21:08.401000\n",
       "43333   RKON.0000029753   None 2020-04-12 04:46:10.595000\n",
       "43334   RSHI.0000024620   None 2020-04-14 05:20:58.403000\n",
       "43335   RSHI.0000024620   None 2020-04-14 05:21:06.162000\n",
       "43336   RNEH.0000014519   None 2020-04-14 07:39:16.158938\n",
       "43337   RNEH.0000014519   None 2020-04-14 07:39:17.174000\n",
       "43338   RNEH.0000014557   None 2020-04-14 10:39:54.345000\n",
       "43339   RNEH.0000014557   None 2020-04-14 10:39:54.345000\n",
       "43340   RSHI.0000024700   None 2020-04-09 10:02:00.000000\n",
       "43341   RSHI.0000024700   None 2020-04-15 10:37:12.308881\n",
       "43342   RNEH.0000014351   None 2020-04-15 11:17:20.109000\n",
       "43343   RNEH.0000014351   None 2020-04-15 11:41:28.157000\n",
       "43344   RNEH.0000014351   None 2020-04-15 02:45:28.836000\n",
       "43345   RSHI.0000024405   None 2020-04-07 18:30:00.000000\n",
       "43346   RSHI.0000024405   None 2020-04-10 18:30:00.000000\n",
       "43347   RSHI.0000024405   None 2020-04-14 21:30:00.000000\n",
       "43348   RSHI.0000024620   None 2020-04-15 14:19:07.209000\n",
       "43349            567677   None 2020-04-16 18:36:20.252000\n",
       "43350            567677   None 2020-04-16 18:33:29.103000\n",
       "43351   RSHI.0000024690   None 2020-04-20 16:24:24.669592\n",
       "\n",
       "[43352 rows x 3 columns]"
      ]
     },
     "execution_count": 47,
     "metadata": {},
     "output_type": "execute_result"
    }
   ],
   "source": [
    "be"
   ]
  },
  {
   "cell_type": "code",
   "execution_count": null,
   "metadata": {},
   "outputs": [],
   "source": []
  },
  {
   "cell_type": "code",
   "execution_count": null,
   "metadata": {},
   "outputs": [],
   "source": []
  },
  {
   "cell_type": "code",
   "execution_count": 17,
   "metadata": {
    "scrolled": true
   },
   "outputs": [],
   "source": [
    "be_1 = pd.DataFrame(columns=be.columns)\n",
    "for i in uhids:\n",
    "    try:\n",
    "        x = be[be['uhid']==i]\n",
    "        if(len(x) > 0):\n",
    "            u = ds[ds['uhid']==i]\n",
    "            if(len(u) > 0):\n",
    "                j = u.CRIB_1Hr.iloc[0]\n",
    "\n",
    "                x = x[x['modificationtime']<=j]\n",
    "                be_1 = be_1.append(x,ignore_index=True)\n",
    "    except Exception as e:\n",
    "        print(r,\"error\")\n",
    "        "
   ]
  },
  {
   "cell_type": "code",
   "execution_count": null,
   "metadata": {},
   "outputs": [],
   "source": []
  },
  {
   "cell_type": "code",
   "execution_count": null,
   "metadata": {},
   "outputs": [],
   "source": []
  },
  {
   "cell_type": "code",
   "execution_count": null,
   "metadata": {},
   "outputs": [],
   "source": []
  },
  {
   "cell_type": "code",
   "execution_count": null,
   "metadata": {},
   "outputs": [],
   "source": []
  },
  {
   "cell_type": "code",
   "execution_count": null,
   "metadata": {},
   "outputs": [],
   "source": []
  },
  {
   "cell_type": "code",
   "execution_count": null,
   "metadata": {},
   "outputs": [],
   "source": []
  },
  {
   "cell_type": "code",
   "execution_count": null,
   "metadata": {},
   "outputs": [],
   "source": []
  },
  {
   "cell_type": "code",
   "execution_count": null,
   "metadata": {},
   "outputs": [],
   "source": []
  },
  {
   "cell_type": "code",
   "execution_count": null,
   "metadata": {},
   "outputs": [],
   "source": []
  },
  {
   "cell_type": "code",
   "execution_count": 18,
   "metadata": {},
   "outputs": [],
   "source": [
    "#Max and Min\n",
    "cur3 = con.cursor()\n",
    "cur3.execute(\"SELECT t1.uhid,t1.fio2,t1.start_time,t1.modificationtime FROM apollo.device_ventilator_detail AS t1 UNION SELECT t2.uhid,t2.fio2,t2.start_time,t2.modificationtime FROM apollo.device_ventilator_detail_dump AS t2 ;\")\n",
    "cols3 = list(map(lambda x: x[0], cur3.description))\n",
    "fio2 = pd.DataFrame(cur3.fetchall(),columns=cols3)\n",
    "#ds.sort_values('modificationtime',inplace=True)"
   ]
  },
  {
   "cell_type": "code",
   "execution_count": null,
   "metadata": {},
   "outputs": [],
   "source": []
  },
  {
   "cell_type": "code",
   "execution_count": null,
   "metadata": {},
   "outputs": [],
   "source": []
  },
  {
   "cell_type": "code",
   "execution_count": 19,
   "metadata": {},
   "outputs": [],
   "source": [
    "fio2_1 = pd.DataFrame(columns=fio2.columns)"
   ]
  },
  {
   "cell_type": "code",
   "execution_count": null,
   "metadata": {},
   "outputs": [],
   "source": []
  },
  {
   "cell_type": "code",
   "execution_count": null,
   "metadata": {},
   "outputs": [],
   "source": []
  },
  {
   "cell_type": "code",
   "execution_count": 21,
   "metadata": {
    "scrolled": true
   },
   "outputs": [
    {
     "name": "stdout",
     "output_type": "stream",
     "text": [
      "RSHI.0000021953\n",
      "RNEH.0000013244\n",
      "RNEH.0000014505\n",
      "RSHI.0000022306\n",
      "RSHI.0000024036\n",
      "RSHI.0000022118\n",
      "RSHI.0000017430\n",
      "RSHI.0000022137\n",
      "RSHI.0000022270\n",
      "RSHI.0000023343\n",
      "RSHI.0000016530\n",
      "RSHI.0000022450\n",
      "RSHI.0000021806\n",
      "RSHI.0000024071\n",
      "RSHI.0000012827\n",
      "RSHI.0000019945\n",
      "RSHI.0000019884\n",
      "RSHI.0000012831\n",
      "RSHI.0000019707\n",
      "RNEH.0000013236\n",
      "RNEH.0000010725\n",
      "RSHI.0000019496\n",
      "RSHI.0000020326\n",
      "RMAR.0000026647\n",
      "RNEH.0000010724\n",
      "RSHI.0000019631\n",
      "RNEH.0000010531\n",
      "RSHI.0000014261\n",
      "RNEH.0000010783\n",
      "RNEH.0000010784\n",
      "RSHI.0000022489\n",
      "RSHI.0000012828\n",
      "RSHI.0000016565\n",
      "RSHI.0000016666\n",
      "RNEH.0000010413\n",
      "RSHI.0000020604\n",
      "RNEH.0000012325\n",
      "RSHI.0000018972\n",
      "RNEH.0000012326\n",
      "RSHI.0000016283\n",
      "RJUB.12475\n",
      "RSHI.0000014097\n",
      "RSHI.0000018016\n",
      "RNEH.0000012581\n",
      "RSHI.0000014510\n",
      "RSHI.0000022235\n",
      "RSHI.0000018153\n",
      "RNEH.0000010414\n",
      "RSHI.0000017931\n",
      "RSHI.0000018152\n",
      "RSHI.0000022514\n",
      "RSHI.0000012830\n",
      "RSHI.0000018556\n",
      "RSHI.0000014677\n",
      "RNEH.0000011301\n",
      "RNEH.0000011300\n",
      "RSHI.0000017787\n",
      "RSHI.0000020758\n",
      "RSHI.000001984\n",
      "RSHI.0000019951\n",
      "RNEH.0000011749\n",
      "RSHI.0000019960\n",
      "RSHI.0000019171\n",
      "RSHI.0000020032\n",
      "RSHI.0000020806\n",
      "RSHI.0000021004\n",
      "RSHI.0000021833\n",
      "RSHI.0000019495\n",
      "RSHI.0000021807\n",
      "RSHI.0000014267\n",
      "RSHI.0000016285\n",
      "RSHI.0000019654\n",
      "RSHI.0000021067\n",
      "RSHI.0000013266\n",
      "RSHI.0000021224\n",
      "RMAR.0000032787\n",
      "RSHI.0000014389\n",
      "RNEH.0000009255\n",
      "RSHI.0000014934\n",
      "RSHI.0000014935\n",
      "RNEH.0000013044\n",
      "RSHI.0000013287\n",
      "RSHI.0000012984\n",
      "RSHI.0000014731\n",
      "RSHI.0000016564\n",
      "RSHI.0000015492\n",
      "RSHI.0000015585\n",
      "RSHI.0000015493\n",
      "RSHI.0000015179\n",
      "RSHI.0000023452\n",
      "RSHI.0000014720\n",
      "RSHI.0000014719\n",
      "RSHI.0000014962\n",
      "RKON.0000029290\n",
      "RSHI.0000012004\n",
      "RSHI.0000012002\n",
      "RSHI.0000012985\n",
      "RSHI.0000015970\n",
      "RSHI.0000016148\n",
      "RNEH.0000008002\n",
      "RSHI.0000015561\n",
      "RSHI.0000015211\n",
      "RSHI.0000015178\n",
      "RNEH.0000008375\n",
      "RSHI.0000015979\n",
      "RSHI.0000022850\n",
      "RSHI.0000017056\n",
      "RSHI.0000014884\n",
      "RSHI.0000017057\n",
      "RSHI.0000012088\n",
      "RSHI.0000017047\n",
      "RSHI.0000017431\n",
      "RSHI.0000017466\n",
      "RNEH.0000008377\n",
      "RSHI.0000022896\n",
      "RNEH.0000008001\n",
      "RSHI.0000021832\n",
      "RSHI.0000013264\n",
      "RSHI.0000023554\n",
      "RSHI0000022137\n",
      "RSHI.0000024986\n",
      "RSHI.0000023451\n",
      "RSHI.0000023049\n",
      "RNEH.0000013396\n",
      "RSHI.0000013288\n",
      "RSHI.0000024405\n",
      "RSHI.0000024406\n",
      "RNEH.0000013707\n",
      "RSHI.0000023050\n",
      "RSHI.0000023765\n",
      "RSHI.0000022234\n",
      "RSHI.0000023843\n",
      "RNEH.0000014469\n",
      "RSHI.0000016774\n",
      "RSHI.0000017471\n",
      "023877\n",
      "RSHI.0000024534\n",
      "RSHI.0000024533\n",
      "RSHI.0000012087\n",
      "RNEH.0000010921\n",
      "RSHI.0000025089\n",
      "RSHI.0000023842\n",
      "RNEH.0000008114\n",
      "RSHI.0000023766\n",
      "RSHI.0000014511\n",
      "RSHI.0000025161\n",
      "RSHI.0000025160\n",
      "RSHI.0000025397\n",
      "RSHI.0000025766\n",
      "RKON.0000018392\n",
      "RKON.0000018396\n",
      "RSHI.0000014695\n",
      "RSHI.0000016935\n",
      "RSHI.0000017641\n",
      "RNEH.0000011968\n",
      "RSHI.0000021068\n",
      "RNEH.0000013015\n",
      "RSHI.0000021329\n",
      "RNEH.0000013016\n",
      "RSHI.0000014902\n",
      "RSHI.0000014730\n",
      "RSHI.0000015058\n",
      "RSHI.0000015691\n",
      "RNEH.0000009034\n",
      "RKON.0000023872\n",
      "RSHI.0000011990\n",
      "RNEH.0000009308\n",
      "RSHI.0000016604\n"
     ]
    }
   ],
   "source": [
    "for i in uhids:\n",
    "    try:\n",
    "        x = fio2[fio2['uhid']==i]\n",
    "        u = ds[ds['uhid']==i]\n",
    "        j = u.CRIB_1Hr.iloc[0]\n",
    "        \n",
    "\n",
    "        x = x[x['modificationtime']<=j]\n",
    "        print(i)\n",
    "        fio2_1 = fio2_1.append(x,ignore_index=True)\n",
    "        \n",
    "    except:\n",
    "        p = 1"
   ]
  },
  {
   "cell_type": "code",
   "execution_count": null,
   "metadata": {},
   "outputs": [],
   "source": []
  },
  {
   "cell_type": "code",
   "execution_count": null,
   "metadata": {},
   "outputs": [],
   "source": []
  },
  {
   "cell_type": "code",
   "execution_count": null,
   "metadata": {},
   "outputs": [],
   "source": []
  },
  {
   "cell_type": "code",
   "execution_count": null,
   "metadata": {},
   "outputs": [],
   "source": []
  },
  {
   "cell_type": "code",
   "execution_count": 22,
   "metadata": {},
   "outputs": [],
   "source": [
    "test = be.drop_duplicates('uhid',keep='first')"
   ]
  },
  {
   "cell_type": "code",
   "execution_count": null,
   "metadata": {},
   "outputs": [],
   "source": []
  },
  {
   "cell_type": "code",
   "execution_count": null,
   "metadata": {},
   "outputs": [],
   "source": []
  },
  {
   "cell_type": "code",
   "execution_count": 23,
   "metadata": {},
   "outputs": [
    {
     "data": {
      "text/plain": [
       "uhid                681\n",
       "be                  310\n",
       "modificationtime    681\n",
       "dtype: int64"
      ]
     },
     "execution_count": 23,
     "metadata": {},
     "output_type": "execute_result"
    }
   ],
   "source": [
    "test.count()"
   ]
  },
  {
   "cell_type": "code",
   "execution_count": null,
   "metadata": {},
   "outputs": [],
   "source": []
  },
  {
   "cell_type": "code",
   "execution_count": null,
   "metadata": {},
   "outputs": [],
   "source": []
  },
  {
   "cell_type": "code",
   "execution_count": 24,
   "metadata": {},
   "outputs": [],
   "source": [
    "def to_float(x):\n",
    "    try:\n",
    "        return float(x)\n",
    "    except:\n",
    "        pass"
   ]
  },
  {
   "cell_type": "code",
   "execution_count": null,
   "metadata": {},
   "outputs": [],
   "source": []
  },
  {
   "cell_type": "code",
   "execution_count": null,
   "metadata": {},
   "outputs": [],
   "source": []
  },
  {
   "cell_type": "code",
   "execution_count": 25,
   "metadata": {},
   "outputs": [],
   "source": [
    "fio2_1.fio2 = fio2_1.fio2.apply(to_float)"
   ]
  },
  {
   "cell_type": "code",
   "execution_count": null,
   "metadata": {},
   "outputs": [],
   "source": []
  },
  {
   "cell_type": "code",
   "execution_count": null,
   "metadata": {},
   "outputs": [],
   "source": []
  },
  {
   "cell_type": "code",
   "execution_count": null,
   "metadata": {},
   "outputs": [],
   "source": []
  },
  {
   "cell_type": "code",
   "execution_count": 26,
   "metadata": {},
   "outputs": [],
   "source": [
    "fio2_max_min = pd.DataFrame(columns=['uhid','max_fio2','min_fio2'])"
   ]
  },
  {
   "cell_type": "code",
   "execution_count": null,
   "metadata": {},
   "outputs": [],
   "source": []
  },
  {
   "cell_type": "code",
   "execution_count": null,
   "metadata": {},
   "outputs": [],
   "source": []
  },
  {
   "cell_type": "code",
   "execution_count": 27,
   "metadata": {},
   "outputs": [],
   "source": [
    "#Calculating Maximum and Minimum FiO2\n",
    "for i in fio2_1.uhid.unique():\n",
    "    x = fio2_1[fio2_1['uhid']==i]\n",
    "    \n",
    "    fio2_max_min = fio2_max_min.append({'uhid':i,'max_fio2':x['fio2'].max(),'min_fio2':x['fio2'].min()},ignore_index=True)"
   ]
  },
  {
   "cell_type": "code",
   "execution_count": null,
   "metadata": {},
   "outputs": [],
   "source": []
  },
  {
   "cell_type": "code",
   "execution_count": null,
   "metadata": {},
   "outputs": [],
   "source": []
  },
  {
   "cell_type": "code",
   "execution_count": 28,
   "metadata": {},
   "outputs": [],
   "source": [
    "be_max = pd.DataFrame(columns=['uhid','max_be'])"
   ]
  },
  {
   "cell_type": "code",
   "execution_count": null,
   "metadata": {},
   "outputs": [],
   "source": []
  },
  {
   "cell_type": "code",
   "execution_count": null,
   "metadata": {},
   "outputs": [],
   "source": []
  },
  {
   "cell_type": "code",
   "execution_count": 29,
   "metadata": {},
   "outputs": [],
   "source": [
    "be_1.be = be_1.be.apply(to_float)"
   ]
  },
  {
   "cell_type": "code",
   "execution_count": null,
   "metadata": {},
   "outputs": [],
   "source": []
  },
  {
   "cell_type": "code",
   "execution_count": null,
   "metadata": {},
   "outputs": [],
   "source": []
  },
  {
   "cell_type": "code",
   "execution_count": 30,
   "metadata": {},
   "outputs": [
    {
     "data": {
      "text/plain": [
       "uhid                54\n",
       "be                  11\n",
       "modificationtime    54\n",
       "dtype: int64"
      ]
     },
     "execution_count": 30,
     "metadata": {},
     "output_type": "execute_result"
    }
   ],
   "source": [
    "be_1.count()"
   ]
  },
  {
   "cell_type": "code",
   "execution_count": null,
   "metadata": {},
   "outputs": [],
   "source": []
  },
  {
   "cell_type": "code",
   "execution_count": null,
   "metadata": {},
   "outputs": [],
   "source": []
  },
  {
   "cell_type": "code",
   "execution_count": 31,
   "metadata": {},
   "outputs": [],
   "source": [
    "#Calculating Maximum Base Excess\n",
    "for i in be_1.uhid.unique():\n",
    "    x = be_1[be_1['uhid']==i]\n",
    "    \n",
    "    be_max = be_max.append({'uhid':i,'max_be':x['be'].max()},ignore_index=True)"
   ]
  },
  {
   "cell_type": "code",
   "execution_count": null,
   "metadata": {},
   "outputs": [],
   "source": []
  },
  {
   "cell_type": "code",
   "execution_count": null,
   "metadata": {},
   "outputs": [],
   "source": []
  },
  {
   "cell_type": "code",
   "execution_count": 32,
   "metadata": {},
   "outputs": [],
   "source": [
    "df = pd.merge(ds,fio2_max_min,on=['uhid'],how='left',copy=False)"
   ]
  },
  {
   "cell_type": "code",
   "execution_count": null,
   "metadata": {},
   "outputs": [],
   "source": []
  },
  {
   "cell_type": "code",
   "execution_count": null,
   "metadata": {},
   "outputs": [],
   "source": []
  },
  {
   "cell_type": "code",
   "execution_count": 33,
   "metadata": {},
   "outputs": [],
   "source": [
    "data = pd.merge(df,be_max,on=['uhid'],how='left',copy=False)"
   ]
  },
  {
   "cell_type": "code",
   "execution_count": null,
   "metadata": {},
   "outputs": [],
   "source": []
  },
  {
   "cell_type": "code",
   "execution_count": null,
   "metadata": {},
   "outputs": [],
   "source": []
  },
  {
   "cell_type": "code",
   "execution_count": 35,
   "metadata": {},
   "outputs": [],
   "source": [
    "complete_df = pd.DataFrame(columns=data.columns)\n",
    "for i in uhids:\n",
    "    x = data[data['uhid']==i]\n",
    "    complete_df = complete_df.append(x,ignore_index=True)"
   ]
  },
  {
   "cell_type": "code",
   "execution_count": null,
   "metadata": {},
   "outputs": [],
   "source": []
  },
  {
   "cell_type": "code",
   "execution_count": null,
   "metadata": {},
   "outputs": [],
   "source": []
  },
  {
   "cell_type": "code",
   "execution_count": null,
   "metadata": {},
   "outputs": [],
   "source": []
  },
  {
   "cell_type": "code",
   "execution_count": 36,
   "metadata": {},
   "outputs": [],
   "source": [
    "#imputing the missing fio2 values with 21% which is the normal fio2 level when baby is breathing normally\n",
    "complete_df.max_fio2 = complete_df.max_fio2.fillna(21)\n",
    "complete_df.min_fio2 = complete_df.min_fio2.fillna(21)"
   ]
  },
  {
   "cell_type": "code",
   "execution_count": null,
   "metadata": {},
   "outputs": [],
   "source": []
  },
  {
   "cell_type": "code",
   "execution_count": null,
   "metadata": {},
   "outputs": [],
   "source": []
  },
  {
   "cell_type": "code",
   "execution_count": 33,
   "metadata": {},
   "outputs": [],
   "source": [
    "#complete_df.dropna()"
   ]
  },
  {
   "cell_type": "code",
   "execution_count": 37,
   "metadata": {},
   "outputs": [
    {
     "data": {
      "text/plain": [
       "0"
      ]
     },
     "execution_count": 37,
     "metadata": {},
     "output_type": "execute_result"
    }
   ],
   "source": [
    "len(fio2_1[fio2_1['fio2']>21].uhid.unique())"
   ]
  },
  {
   "cell_type": "code",
   "execution_count": null,
   "metadata": {},
   "outputs": [],
   "source": []
  },
  {
   "cell_type": "code",
   "execution_count": null,
   "metadata": {},
   "outputs": [],
   "source": []
  },
  {
   "cell_type": "code",
   "execution_count": 38,
   "metadata": {},
   "outputs": [],
   "source": [
    "complete_df.max_be = complete_df.max_be.fillna(3)"
   ]
  },
  {
   "cell_type": "code",
   "execution_count": null,
   "metadata": {},
   "outputs": [],
   "source": []
  },
  {
   "cell_type": "code",
   "execution_count": null,
   "metadata": {},
   "outputs": [],
   "source": []
  },
  {
   "cell_type": "code",
   "execution_count": 77,
   "metadata": {},
   "outputs": [
    {
     "data": {
      "text/plain": [
       "uhid                  163\n",
       "dischargestatus       163\n",
       "birthweight           163\n",
       "gestationweekbylmp    163\n",
       "gestationdaysbylmp    163\n",
       "dateofadmission       163\n",
       "timeofadmission       163\n",
       "gender                163\n",
       "central_temp           16\n",
       "admission_date        162\n",
       "gestation             163\n",
       "CRIB_1Hr              162\n",
       "max_fio2              163\n",
       "min_fio2              163\n",
       "max_be                163\n",
       "dtype: int64"
      ]
     },
     "execution_count": 77,
     "metadata": {},
     "output_type": "execute_result"
    }
   ],
   "source": [
    "complete_df.count()"
   ]
  },
  {
   "cell_type": "code",
   "execution_count": null,
   "metadata": {},
   "outputs": [],
   "source": []
  },
  {
   "cell_type": "code",
   "execution_count": 39,
   "metadata": {},
   "outputs": [],
   "source": [
    "complete_df = complete_df.drop_duplicates(subset=['uhid'])"
   ]
  },
  {
   "cell_type": "code",
   "execution_count": null,
   "metadata": {},
   "outputs": [],
   "source": []
  },
  {
   "cell_type": "code",
   "execution_count": null,
   "metadata": {},
   "outputs": [],
   "source": []
  },
  {
   "cell_type": "code",
   "execution_count": 40,
   "metadata": {},
   "outputs": [],
   "source": [
    "def bw(x):\n",
    "    if x>1350.0:\n",
    "        return 0\n",
    "    elif x>850.0 and x<=1350.0:\n",
    "        return 1\n",
    "    elif x>701.0 and x<=850.0:\n",
    "        return 4\n",
    "    else:\n",
    "        return 7"
   ]
  },
  {
   "cell_type": "code",
   "execution_count": null,
   "metadata": {},
   "outputs": [],
   "source": []
  },
  {
   "cell_type": "code",
   "execution_count": null,
   "metadata": {},
   "outputs": [],
   "source": []
  },
  {
   "cell_type": "code",
   "execution_count": 41,
   "metadata": {},
   "outputs": [],
   "source": [
    "def ga(x):\n",
    "    if x>24.0:\n",
    "        return 0\n",
    "    else:\n",
    "        return 1    \n",
    "    \n",
    "def be(x):\n",
    "    if x>7.0:\n",
    "        return 0\n",
    "    elif x>-9.9 and x<=-7.0:\n",
    "        return 1\n",
    "    elif x>-14.9 and x<=-10.0:\n",
    "        return 2\n",
    "    else:\n",
    "        return 4\n",
    "\n",
    "def min_fio2_FUNC(x):\n",
    "    if x<40.0:\n",
    "        return 0\n",
    "    elif x>41.0 and x<=80.0:\n",
    "        return 2\n",
    "    elif x>81.0 and x<=90.0:\n",
    "        return 3\n",
    "    else:\n",
    "        return 4\n",
    "\n",
    "def max_fio2_FUNC(x):\n",
    "    if x<40.0:\n",
    "        return 0\n",
    "    elif x>41.0 and x<=80.0:\n",
    "        return 1\n",
    "    elif x>81.0 and x<=90.0:\n",
    "        return 3\n",
    "    else:\n",
    "        return 5\n"
   ]
  },
  {
   "cell_type": "code",
   "execution_count": null,
   "metadata": {},
   "outputs": [],
   "source": []
  },
  {
   "cell_type": "code",
   "execution_count": null,
   "metadata": {},
   "outputs": [],
   "source": []
  },
  {
   "cell_type": "code",
   "execution_count": 42,
   "metadata": {},
   "outputs": [],
   "source": [
    "complete_df['CRIB'] = complete_df.birthweight.apply(bw) + complete_df.gestationweekbylmp.apply(ga) + complete_df.max_be.apply(be) + complete_df.min_fio2.apply(min_fio2_FUNC)+complete_df.max_fio2.apply(max_fio2_FUNC)"
   ]
  },
  {
   "cell_type": "code",
   "execution_count": null,
   "metadata": {},
   "outputs": [],
   "source": []
  },
  {
   "cell_type": "code",
   "execution_count": null,
   "metadata": {},
   "outputs": [],
   "source": []
  },
  {
   "cell_type": "code",
   "execution_count": 43,
   "metadata": {},
   "outputs": [],
   "source": [
    "def crib_prob(x):\n",
    "    if x>=15:\n",
    "        return 1.0\n",
    "    elif x>11 and x<=15:\n",
    "        return 0.73\n",
    "    elif x>6 and x<=10:\n",
    "        return 0.55\n",
    "    else:\n",
    "        return 0.09"
   ]
  },
  {
   "cell_type": "code",
   "execution_count": null,
   "metadata": {},
   "outputs": [],
   "source": []
  },
  {
   "cell_type": "code",
   "execution_count": null,
   "metadata": {},
   "outputs": [],
   "source": []
  },
  {
   "cell_type": "code",
   "execution_count": 44,
   "metadata": {},
   "outputs": [],
   "source": [
    "complete_df['pred'] = complete_df.CRIB.apply(crib_prob)"
   ]
  },
  {
   "cell_type": "code",
   "execution_count": null,
   "metadata": {},
   "outputs": [],
   "source": []
  },
  {
   "cell_type": "code",
   "execution_count": null,
   "metadata": {},
   "outputs": [],
   "source": []
  },
  {
   "cell_type": "code",
   "execution_count": 45,
   "metadata": {},
   "outputs": [],
   "source": [
    "def bina(x):\n",
    "    if x == 'Death':\n",
    "        return 1\n",
    "    else:\n",
    "        return 0"
   ]
  },
  {
   "cell_type": "code",
   "execution_count": null,
   "metadata": {},
   "outputs": [],
   "source": []
  },
  {
   "cell_type": "code",
   "execution_count": null,
   "metadata": {},
   "outputs": [],
   "source": []
  },
  {
   "cell_type": "code",
   "execution_count": 46,
   "metadata": {},
   "outputs": [],
   "source": [
    "complete_df.dischargestatus = complete_df.dischargestatus.apply(bina)"
   ]
  },
  {
   "cell_type": "code",
   "execution_count": null,
   "metadata": {},
   "outputs": [],
   "source": []
  },
  {
   "cell_type": "code",
   "execution_count": null,
   "metadata": {},
   "outputs": [],
   "source": []
  },
  {
   "cell_type": "code",
   "execution_count": 47,
   "metadata": {},
   "outputs": [],
   "source": [
    "from sklearn.metrics import roc_auc_score\n",
    "from sklearn.metrics import roc_curve\n",
    "from sklearn.metrics import precision_recall_curve\\\n",
    "\n",
    "\n",
    "lr_fpr, lr_tpr, _ = roc_curve(complete_df.dischargestatus,complete_df.pred,drop_intermediate=False)"
   ]
  },
  {
   "cell_type": "code",
   "execution_count": null,
   "metadata": {},
   "outputs": [],
   "source": []
  },
  {
   "cell_type": "code",
   "execution_count": null,
   "metadata": {},
   "outputs": [],
   "source": []
  },
  {
   "cell_type": "code",
   "execution_count": 48,
   "metadata": {},
   "outputs": [],
   "source": [
    "import matplotlib.pyplot as plt"
   ]
  },
  {
   "cell_type": "code",
   "execution_count": null,
   "metadata": {},
   "outputs": [],
   "source": []
  },
  {
   "cell_type": "code",
   "execution_count": null,
   "metadata": {},
   "outputs": [],
   "source": []
  },
  {
   "cell_type": "code",
   "execution_count": 49,
   "metadata": {},
   "outputs": [
    {
     "data": {
      "text/plain": [
       "<matplotlib.legend.Legend at 0x1117c5210>"
      ]
     },
     "execution_count": 49,
     "metadata": {},
     "output_type": "execute_result"
    },
    {
     "data": {
      "image/png": "[encoded data removed]",
      "text/plain": [
       "<Figure size 432x288 with 1 Axes>"
      ]
     },
     "metadata": {
      "needs_background": "light"
     },
     "output_type": "display_data"
    }
   ],
   "source": [
    "plt.title('AUC ROC CURVE')\n",
    "plt.xlabel('False Positive Rate')\n",
    "plt.ylabel('True Positive Rate')\n",
    "#plt.plot(cr_fpr, cr_tpr, linestyle='--',linewidth=3, label='CRIB')\n",
    "#plt.plot(cr2_fpr, cr2_tpr, 'r+',linestyle='--', label='CRIB II')\n",
    "plt.plot(lr_fpr, lr_tpr, marker='.', label='Neural Network')\n",
    "#plt.plot(ns_fpr, ns_tpr, linestyle='--', label='SNAPPE II')\n",
    "#plt.plot(ns2_fpr, ns2_tpr, linestyle='--', label='SNAP II')\n",
    "#plt.plot(log_fpr, log_tpr, marker='.', label='Logistic Regression')\n",
    "plt.legend(loc=0)\n",
    "#plt.savefig('AUC_2.png',dpi=1200)"
   ]
  },
  {
   "cell_type": "code",
   "execution_count": null,
   "metadata": {},
   "outputs": [],
   "source": []
  },
  {
   "cell_type": "code",
   "execution_count": null,
   "metadata": {},
   "outputs": [],
   "source": []
  },
  {
   "cell_type": "code",
   "execution_count": 50,
   "metadata": {},
   "outputs": [
    {
     "data": {
      "text/plain": [
       "0.6240694789081886"
      ]
     },
     "execution_count": 50,
     "metadata": {},
     "output_type": "execute_result"
    }
   ],
   "source": [
    "roc_auc_score(complete_df.dischargestatus,complete_df.pred)"
   ]
  },
  {
   "cell_type": "code",
   "execution_count": null,
   "metadata": {},
   "outputs": [],
   "source": []
  },
  {
   "cell_type": "code",
   "execution_count": null,
   "metadata": {},
   "outputs": [],
   "source": []
  },
  {
   "cell_type": "code",
   "execution_count": 51,
   "metadata": {},
   "outputs": [],
   "source": [
    "ds = pd.DataFrame(complete_df.pred)\n",
    "ds['true_outcome'] = complete_df.dischargestatus"
   ]
  },
  {
   "cell_type": "code",
   "execution_count": null,
   "metadata": {},
   "outputs": [],
   "source": []
  },
  {
   "cell_type": "code",
   "execution_count": null,
   "metadata": {},
   "outputs": [],
   "source": []
  },
  {
   "cell_type": "code",
   "execution_count": 52,
   "metadata": {},
   "outputs": [],
   "source": [
    "def classify(x):\n",
    "    if x>0.5:\n",
    "        return 1\n",
    "    else:\n",
    "        return 0"
   ]
  },
  {
   "cell_type": "code",
   "execution_count": null,
   "metadata": {},
   "outputs": [],
   "source": []
  },
  {
   "cell_type": "code",
   "execution_count": null,
   "metadata": {},
   "outputs": [],
   "source": []
  },
  {
   "cell_type": "code",
   "execution_count": 53,
   "metadata": {},
   "outputs": [
    {
     "name": "stderr",
     "output_type": "stream",
     "text": [
      "/usr/local/lib/python3.7/site-packages/ipykernel_launcher.py:1: UserWarning: Pandas doesn't allow columns to be created via a new attribute name - see https://pandas.pydata.org/pandas-docs/stable/indexing.html#attribute-access\n",
      "  \"\"\"Entry point for launching an IPython kernel.\n"
     ]
    }
   ],
   "source": [
    "complete_df.pred_1 = complete_df.pred.apply(classify)"
   ]
  },
  {
   "cell_type": "code",
   "execution_count": null,
   "metadata": {},
   "outputs": [],
   "source": []
  },
  {
   "cell_type": "code",
   "execution_count": 54,
   "metadata": {},
   "outputs": [
    {
     "name": "stdout",
     "output_type": "stream",
     "text": [
      "              precision    recall  f1-score   support\n",
      "\n",
      "           0       0.94      0.94      0.94       155\n",
      "           1       0.29      0.31      0.30        13\n",
      "\n",
      "    accuracy                           0.89       168\n",
      "   macro avg       0.61      0.62      0.62       168\n",
      "weighted avg       0.89      0.89      0.89       168\n",
      "\n",
      "[[145  10]\n",
      " [  9   4]]\n"
     ]
    }
   ],
   "source": [
    "#reports\n",
    "#Results might vary with each iteration as Deep Neural Networks,initially assigns random weights.\n",
    "from sklearn.metrics import classification_report, confusion_matrix\n",
    "print(classification_report(complete_df.dischargestatus,complete_df.pred_1))\n",
    "print(confusion_matrix(complete_df.dischargestatus,complete_df.pred_1))"
   ]
  },
  {
   "cell_type": "code",
   "execution_count": null,
   "metadata": {},
   "outputs": [],
   "source": []
  },
  {
   "cell_type": "code",
   "execution_count": null,
   "metadata": {},
   "outputs": [],
   "source": []
  },
  {
   "cell_type": "code",
   "execution_count": null,
   "metadata": {},
   "outputs": [],
   "source": []
  },
  {
   "cell_type": "code",
   "execution_count": null,
   "metadata": {},
   "outputs": [],
   "source": []
  },
  {
   "cell_type": "code",
   "execution_count": 53,
   "metadata": {},
   "outputs": [],
   "source": [
    "#complete_df.to_csv('CRIB_10_Jan_2.csv')"
   ]
  },
  {
   "cell_type": "code",
   "execution_count": 95,
   "metadata": {},
   "outputs": [
    {
     "data": {
      "text/plain": [
       "162"
      ]
     },
     "execution_count": 95,
     "metadata": {},
     "output_type": "execute_result"
    }
   ],
   "source": [
    "len(ds)"
   ]
  },
  {
   "cell_type": "code",
   "execution_count": null,
   "metadata": {},
   "outputs": [],
   "source": []
  },
  {
   "cell_type": "code",
   "execution_count": 55,
   "metadata": {},
   "outputs": [
    {
     "data": {
      "text/plain": [
       "16.5"
      ]
     },
     "execution_count": 55,
     "metadata": {},
     "output_type": "execute_result"
    }
   ],
   "source": [
    "33/2"
   ]
  },
  {
   "cell_type": "code",
   "execution_count": 96,
   "metadata": {},
   "outputs": [],
   "source": [
    "crib = pd.DataFrame(complete_df.dischargestatus)"
   ]
  },
  {
   "cell_type": "code",
   "execution_count": null,
   "metadata": {},
   "outputs": [],
   "source": []
  },
  {
   "cell_type": "code",
   "execution_count": 97,
   "metadata": {},
   "outputs": [],
   "source": [
    "crib['pred'] = complete_df.pred"
   ]
  },
  {
   "cell_type": "code",
   "execution_count": null,
   "metadata": {},
   "outputs": [],
   "source": []
  },
  {
   "cell_type": "code",
   "execution_count": 98,
   "metadata": {},
   "outputs": [],
   "source": [
    "crib.to_csv('crib_auc_new.csv')"
   ]
  },
  {
   "cell_type": "code",
   "execution_count": null,
   "metadata": {},
   "outputs": [],
   "source": []
  },
  {
   "cell_type": "code",
   "execution_count": 99,
   "metadata": {},
   "outputs": [
    {
     "data": {
      "text/html": [
       "<div>\n",
       "<style scoped>\n",
       "    .dataframe tbody tr th:only-of-type {\n",
       "        vertical-align: middle;\n",
       "    }\n",
       "\n",
       "    .dataframe tbody tr th {\n",
       "        vertical-align: top;\n",
       "    }\n",
       "\n",
       "    .dataframe thead th {\n",
       "        text-align: right;\n",
       "    }\n",
       "</style>\n",
       "<table border=\"1\" class=\"dataframe\">\n",
       "  <thead>\n",
       "    <tr style=\"text-align: right;\">\n",
       "      <th></th>\n",
       "      <th>dischargestatus</th>\n",
       "      <th>pred</th>\n",
       "    </tr>\n",
       "  </thead>\n",
       "  <tbody>\n",
       "    <tr>\n",
       "      <th>0</th>\n",
       "      <td>1</td>\n",
       "      <td>0.55</td>\n",
       "    </tr>\n",
       "    <tr>\n",
       "      <th>1</th>\n",
       "      <td>1</td>\n",
       "      <td>0.55</td>\n",
       "    </tr>\n",
       "    <tr>\n",
       "      <th>2</th>\n",
       "      <td>1</td>\n",
       "      <td>0.09</td>\n",
       "    </tr>\n",
       "    <tr>\n",
       "      <th>3</th>\n",
       "      <td>1</td>\n",
       "      <td>0.09</td>\n",
       "    </tr>\n",
       "    <tr>\n",
       "      <th>4</th>\n",
       "      <td>1</td>\n",
       "      <td>0.09</td>\n",
       "    </tr>\n",
       "    <tr>\n",
       "      <th>5</th>\n",
       "      <td>1</td>\n",
       "      <td>0.09</td>\n",
       "    </tr>\n",
       "    <tr>\n",
       "      <th>6</th>\n",
       "      <td>1</td>\n",
       "      <td>0.09</td>\n",
       "    </tr>\n",
       "    <tr>\n",
       "      <th>7</th>\n",
       "      <td>1</td>\n",
       "      <td>0.55</td>\n",
       "    </tr>\n",
       "    <tr>\n",
       "      <th>8</th>\n",
       "      <td>1</td>\n",
       "      <td>0.73</td>\n",
       "    </tr>\n",
       "    <tr>\n",
       "      <th>9</th>\n",
       "      <td>1</td>\n",
       "      <td>0.09</td>\n",
       "    </tr>\n",
       "    <tr>\n",
       "      <th>10</th>\n",
       "      <td>1</td>\n",
       "      <td>0.09</td>\n",
       "    </tr>\n",
       "    <tr>\n",
       "      <th>11</th>\n",
       "      <td>1</td>\n",
       "      <td>0.09</td>\n",
       "    </tr>\n",
       "    <tr>\n",
       "      <th>12</th>\n",
       "      <td>1</td>\n",
       "      <td>0.09</td>\n",
       "    </tr>\n",
       "    <tr>\n",
       "      <th>13</th>\n",
       "      <td>0</td>\n",
       "      <td>0.09</td>\n",
       "    </tr>\n",
       "    <tr>\n",
       "      <th>14</th>\n",
       "      <td>0</td>\n",
       "      <td>0.09</td>\n",
       "    </tr>\n",
       "    <tr>\n",
       "      <th>15</th>\n",
       "      <td>0</td>\n",
       "      <td>0.09</td>\n",
       "    </tr>\n",
       "    <tr>\n",
       "      <th>16</th>\n",
       "      <td>0</td>\n",
       "      <td>0.09</td>\n",
       "    </tr>\n",
       "    <tr>\n",
       "      <th>17</th>\n",
       "      <td>0</td>\n",
       "      <td>0.09</td>\n",
       "    </tr>\n",
       "    <tr>\n",
       "      <th>18</th>\n",
       "      <td>0</td>\n",
       "      <td>0.09</td>\n",
       "    </tr>\n",
       "    <tr>\n",
       "      <th>19</th>\n",
       "      <td>0</td>\n",
       "      <td>0.09</td>\n",
       "    </tr>\n",
       "    <tr>\n",
       "      <th>20</th>\n",
       "      <td>0</td>\n",
       "      <td>0.09</td>\n",
       "    </tr>\n",
       "    <tr>\n",
       "      <th>21</th>\n",
       "      <td>0</td>\n",
       "      <td>0.09</td>\n",
       "    </tr>\n",
       "    <tr>\n",
       "      <th>22</th>\n",
       "      <td>0</td>\n",
       "      <td>0.09</td>\n",
       "    </tr>\n",
       "    <tr>\n",
       "      <th>23</th>\n",
       "      <td>0</td>\n",
       "      <td>0.09</td>\n",
       "    </tr>\n",
       "    <tr>\n",
       "      <th>24</th>\n",
       "      <td>0</td>\n",
       "      <td>0.09</td>\n",
       "    </tr>\n",
       "    <tr>\n",
       "      <th>25</th>\n",
       "      <td>0</td>\n",
       "      <td>0.09</td>\n",
       "    </tr>\n",
       "    <tr>\n",
       "      <th>26</th>\n",
       "      <td>0</td>\n",
       "      <td>0.09</td>\n",
       "    </tr>\n",
       "    <tr>\n",
       "      <th>27</th>\n",
       "      <td>0</td>\n",
       "      <td>0.09</td>\n",
       "    </tr>\n",
       "    <tr>\n",
       "      <th>28</th>\n",
       "      <td>0</td>\n",
       "      <td>0.09</td>\n",
       "    </tr>\n",
       "    <tr>\n",
       "      <th>29</th>\n",
       "      <td>0</td>\n",
       "      <td>0.09</td>\n",
       "    </tr>\n",
       "    <tr>\n",
       "      <th>...</th>\n",
       "      <td>...</td>\n",
       "      <td>...</td>\n",
       "    </tr>\n",
       "    <tr>\n",
       "      <th>133</th>\n",
       "      <td>0</td>\n",
       "      <td>0.09</td>\n",
       "    </tr>\n",
       "    <tr>\n",
       "      <th>134</th>\n",
       "      <td>0</td>\n",
       "      <td>0.09</td>\n",
       "    </tr>\n",
       "    <tr>\n",
       "      <th>135</th>\n",
       "      <td>0</td>\n",
       "      <td>0.09</td>\n",
       "    </tr>\n",
       "    <tr>\n",
       "      <th>136</th>\n",
       "      <td>0</td>\n",
       "      <td>0.09</td>\n",
       "    </tr>\n",
       "    <tr>\n",
       "      <th>137</th>\n",
       "      <td>0</td>\n",
       "      <td>0.09</td>\n",
       "    </tr>\n",
       "    <tr>\n",
       "      <th>138</th>\n",
       "      <td>0</td>\n",
       "      <td>0.09</td>\n",
       "    </tr>\n",
       "    <tr>\n",
       "      <th>139</th>\n",
       "      <td>0</td>\n",
       "      <td>0.09</td>\n",
       "    </tr>\n",
       "    <tr>\n",
       "      <th>140</th>\n",
       "      <td>0</td>\n",
       "      <td>0.09</td>\n",
       "    </tr>\n",
       "    <tr>\n",
       "      <th>141</th>\n",
       "      <td>0</td>\n",
       "      <td>0.09</td>\n",
       "    </tr>\n",
       "    <tr>\n",
       "      <th>142</th>\n",
       "      <td>0</td>\n",
       "      <td>0.09</td>\n",
       "    </tr>\n",
       "    <tr>\n",
       "      <th>143</th>\n",
       "      <td>0</td>\n",
       "      <td>0.09</td>\n",
       "    </tr>\n",
       "    <tr>\n",
       "      <th>144</th>\n",
       "      <td>0</td>\n",
       "      <td>0.09</td>\n",
       "    </tr>\n",
       "    <tr>\n",
       "      <th>145</th>\n",
       "      <td>0</td>\n",
       "      <td>0.09</td>\n",
       "    </tr>\n",
       "    <tr>\n",
       "      <th>146</th>\n",
       "      <td>0</td>\n",
       "      <td>0.09</td>\n",
       "    </tr>\n",
       "    <tr>\n",
       "      <th>147</th>\n",
       "      <td>0</td>\n",
       "      <td>0.09</td>\n",
       "    </tr>\n",
       "    <tr>\n",
       "      <th>148</th>\n",
       "      <td>0</td>\n",
       "      <td>0.09</td>\n",
       "    </tr>\n",
       "    <tr>\n",
       "      <th>149</th>\n",
       "      <td>0</td>\n",
       "      <td>0.55</td>\n",
       "    </tr>\n",
       "    <tr>\n",
       "      <th>150</th>\n",
       "      <td>0</td>\n",
       "      <td>0.55</td>\n",
       "    </tr>\n",
       "    <tr>\n",
       "      <th>151</th>\n",
       "      <td>0</td>\n",
       "      <td>0.09</td>\n",
       "    </tr>\n",
       "    <tr>\n",
       "      <th>152</th>\n",
       "      <td>0</td>\n",
       "      <td>0.09</td>\n",
       "    </tr>\n",
       "    <tr>\n",
       "      <th>153</th>\n",
       "      <td>0</td>\n",
       "      <td>0.09</td>\n",
       "    </tr>\n",
       "    <tr>\n",
       "      <th>154</th>\n",
       "      <td>0</td>\n",
       "      <td>0.09</td>\n",
       "    </tr>\n",
       "    <tr>\n",
       "      <th>155</th>\n",
       "      <td>0</td>\n",
       "      <td>0.09</td>\n",
       "    </tr>\n",
       "    <tr>\n",
       "      <th>156</th>\n",
       "      <td>0</td>\n",
       "      <td>0.09</td>\n",
       "    </tr>\n",
       "    <tr>\n",
       "      <th>157</th>\n",
       "      <td>0</td>\n",
       "      <td>0.55</td>\n",
       "    </tr>\n",
       "    <tr>\n",
       "      <th>158</th>\n",
       "      <td>0</td>\n",
       "      <td>0.09</td>\n",
       "    </tr>\n",
       "    <tr>\n",
       "      <th>159</th>\n",
       "      <td>0</td>\n",
       "      <td>0.09</td>\n",
       "    </tr>\n",
       "    <tr>\n",
       "      <th>160</th>\n",
       "      <td>0</td>\n",
       "      <td>0.09</td>\n",
       "    </tr>\n",
       "    <tr>\n",
       "      <th>161</th>\n",
       "      <td>0</td>\n",
       "      <td>0.09</td>\n",
       "    </tr>\n",
       "    <tr>\n",
       "      <th>162</th>\n",
       "      <td>0</td>\n",
       "      <td>0.09</td>\n",
       "    </tr>\n",
       "  </tbody>\n",
       "</table>\n",
       "<p>162 rows × 2 columns</p>\n",
       "</div>"
      ],
      "text/plain": [
       "     dischargestatus  pred\n",
       "0                  1  0.55\n",
       "1                  1  0.55\n",
       "2                  1  0.09\n",
       "3                  1  0.09\n",
       "4                  1  0.09\n",
       "5                  1  0.09\n",
       "6                  1  0.09\n",
       "7                  1  0.55\n",
       "8                  1  0.73\n",
       "9                  1  0.09\n",
       "10                 1  0.09\n",
       "11                 1  0.09\n",
       "12                 1  0.09\n",
       "13                 0  0.09\n",
       "14                 0  0.09\n",
       "15                 0  0.09\n",
       "16                 0  0.09\n",
       "17                 0  0.09\n",
       "18                 0  0.09\n",
       "19                 0  0.09\n",
       "20                 0  0.09\n",
       "21                 0  0.09\n",
       "22                 0  0.09\n",
       "23                 0  0.09\n",
       "24                 0  0.09\n",
       "25                 0  0.09\n",
       "26                 0  0.09\n",
       "27                 0  0.09\n",
       "28                 0  0.09\n",
       "29                 0  0.09\n",
       "..               ...   ...\n",
       "133                0  0.09\n",
       "134                0  0.09\n",
       "135                0  0.09\n",
       "136                0  0.09\n",
       "137                0  0.09\n",
       "138                0  0.09\n",
       "139                0  0.09\n",
       "140                0  0.09\n",
       "141                0  0.09\n",
       "142                0  0.09\n",
       "143                0  0.09\n",
       "144                0  0.09\n",
       "145                0  0.09\n",
       "146                0  0.09\n",
       "147                0  0.09\n",
       "148                0  0.09\n",
       "149                0  0.55\n",
       "150                0  0.55\n",
       "151                0  0.09\n",
       "152                0  0.09\n",
       "153                0  0.09\n",
       "154                0  0.09\n",
       "155                0  0.09\n",
       "156                0  0.09\n",
       "157                0  0.55\n",
       "158                0  0.09\n",
       "159                0  0.09\n",
       "160                0  0.09\n",
       "161                0  0.09\n",
       "162                0  0.09\n",
       "\n",
       "[162 rows x 2 columns]"
      ]
     },
     "execution_count": 99,
     "metadata": {},
     "output_type": "execute_result"
    }
   ],
   "source": [
    "crib"
   ]
  },
  {
   "cell_type": "code",
   "execution_count": null,
   "metadata": {},
   "outputs": [],
   "source": []
  },
  {
   "cell_type": "code",
   "execution_count": null,
   "metadata": {},
   "outputs": [],
   "source": []
  }
 ],
 "metadata": {
  "kernelspec": {
   "display_name": "Python 3",
   "language": "python",
   "name": "python3"
  },
  "language_info": {
   "codemirror_mode": {
    "name": "ipython",
    "version": 3
   },
   "file_extension": ".py",
   "mimetype": "text/x-python",
   "name": "python",
   "nbconvert_exporter": "python",
   "pygments_lexer": "ipython3",
   "version": "3.7.6"
  }
 },
 "nbformat": 4,
 "nbformat_minor": 2
}
