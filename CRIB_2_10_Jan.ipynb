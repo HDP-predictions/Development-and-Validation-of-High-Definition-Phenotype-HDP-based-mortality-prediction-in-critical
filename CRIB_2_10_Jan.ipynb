{
 "cells": [
  {
   "cell_type": "code",
   "execution_count": 1,
   "metadata": {},
   "outputs": [],
   "source": [
    "import pandas as pd\n",
    "import numpy as np\n",
    "\n",
    "import pandas as pd\n",
    "import numpy as np\n",
    "import psycopg2\n",
    "from datetime import timedelta\n",
    "\n",
    "%matplotlib inline\n",
    "\n",
    "con = psycopg2.connect (user = 'postgres',\n",
    "                password = 'postgres',\n",
    "                port = '5432',\n",
    "                \n",
    "                database = 'inicudb')\n",
    "\n",
    "cur  = con.cursor()"
   ]
  },
  {
   "cell_type": "code",
   "execution_count": 2,
   "metadata": {},
   "outputs": [],
   "source": [
    "schemaName = \"apollo\""
   ]
  },
  {
   "cell_type": "code",
   "execution_count": null,
   "metadata": {},
   "outputs": [],
   "source": []
  },
  {
   "cell_type": "code",
   "execution_count": 3,
   "metadata": {},
   "outputs": [],
   "source": [
    "cur1 = con.cursor()\n",
    "cur1.execute(\"SELECT uhid,dischargestatus,birthweight,gestationweekbylmp,gestationdaysbylmp,dateofadmission,timeofadmission,gender,central_temp FROM \"+schemaName+\".baby_detail WHERE dateofadmission >= '2018-07-01' AND dateofadmission <= '2020-05-31' and UHID IN  (select distinct(uhid) from \"+schemaName+\".babyfeed_detail where uhid in  ( select distinct(uhid) from \"+schemaName+\".baby_visit where uhid in (select  distinct(uhid) from \"+schemaName+\".nursing_vitalparameters where uhid in ( select distinct(uhid) from \"+schemaName+\".device_monitor_detail UNION select distinct(uhid) from \"+schemaName+\".device_monitor_detail_dump)))) and (dischargestatus = 'Discharge' OR dischargestatus = 'Death' ) and isreadmitted is not true and gestationweekbylmp is not null and birthweight is not null;\")\n",
    "\n",
    "cols1 = list(map(lambda x: x[0], cur1.description))\n",
    "ds = pd.DataFrame(cur1.fetchall(),columns=cols1)\n",
    "#ds.sort_values('modificationtime',inplace=True)"
   ]
  },
  {
   "cell_type": "code",
   "execution_count": 4,
   "metadata": {},
   "outputs": [],
   "source": [
    "uhids = ds.uhid.unique()"
   ]
  },
  {
   "cell_type": "code",
   "execution_count": null,
   "metadata": {},
   "outputs": [],
   "source": []
  },
  {
   "cell_type": "code",
   "execution_count": 5,
   "metadata": {},
   "outputs": [],
   "source": [
    "def birthweight_correction(x):\n",
    "    if x<0.6:\n",
    "        return x * 1000\n",
    "    elif x<2.0 and x>1.1:\n",
    "        return x * 1000\n",
    "    elif x>=2.0 and x<4.0:\n",
    "        return x * 1000\n",
    "    else:\n",
    "        return x"
   ]
  },
  {
   "cell_type": "code",
   "execution_count": null,
   "metadata": {},
   "outputs": [],
   "source": []
  },
  {
   "cell_type": "code",
   "execution_count": 6,
   "metadata": {},
   "outputs": [],
   "source": [
    "ds.birthweight = ds.birthweight.apply(birthweight_correction)"
   ]
  },
  {
   "cell_type": "code",
   "execution_count": null,
   "metadata": {},
   "outputs": [],
   "source": []
  },
  {
   "cell_type": "code",
   "execution_count": 7,
   "metadata": {},
   "outputs": [],
   "source": [
    "def start_time(x,y):\n",
    "    try:\n",
    "        y = str(y)\n",
    "        if x.split(',')[2] == 'AM':\n",
    "            return y +\" \"+ x.split(',')[0] +\":\"+ x.split(',')[1] + \".000\"\n",
    "        else:\n",
    "            return str(pd.to_datetime(y +\" \"+ x.split(',')[0] +\":\"+ (x.split(',')[1]) + \".000\") + timedelta(hours=12))\n",
    "    except:\n",
    "        pass"
   ]
  },
  {
   "cell_type": "code",
   "execution_count": null,
   "metadata": {},
   "outputs": [],
   "source": []
  },
  {
   "cell_type": "code",
   "execution_count": 8,
   "metadata": {},
   "outputs": [],
   "source": [
    "ds['admission_date'] = ds.apply(lambda x: start_time(x['timeofadmission'],x['dateofadmission']),axis=1)"
   ]
  },
  {
   "cell_type": "code",
   "execution_count": null,
   "metadata": {},
   "outputs": [],
   "source": []
  },
  {
   "cell_type": "code",
   "execution_count": 9,
   "metadata": {},
   "outputs": [],
   "source": [
    "ds['gestation'] = ds['gestationweekbylmp'] + ds['gestationdaysbylmp']/7.0"
   ]
  },
  {
   "cell_type": "code",
   "execution_count": null,
   "metadata": {},
   "outputs": [],
   "source": []
  },
  {
   "cell_type": "code",
   "execution_count": 10,
   "metadata": {},
   "outputs": [],
   "source": [
    "ds = ds[(ds['birthweight']<=3000) | (ds['gestation']<=32)]"
   ]
  },
  {
   "cell_type": "code",
   "execution_count": null,
   "metadata": {},
   "outputs": [],
   "source": []
  },
  {
   "cell_type": "code",
   "execution_count": 11,
   "metadata": {},
   "outputs": [],
   "source": [
    "def to_date(x):\n",
    "    return pd.to_datetime(x)"
   ]
  },
  {
   "cell_type": "code",
   "execution_count": null,
   "metadata": {},
   "outputs": [],
   "source": []
  },
  {
   "cell_type": "code",
   "execution_count": 12,
   "metadata": {},
   "outputs": [],
   "source": [
    "ds['admission_date'] = ds['admission_date'].apply(to_date)\n",
    "ds['CRIB_1Hr'] = ds['admission_date'] + timedelta(hours = 1)"
   ]
  },
  {
   "cell_type": "code",
   "execution_count": null,
   "metadata": {},
   "outputs": [],
   "source": []
  },
  {
   "cell_type": "code",
   "execution_count": 11,
   "metadata": {},
   "outputs": [],
   "source": []
  },
  {
   "cell_type": "code",
   "execution_count": 14,
   "metadata": {},
   "outputs": [],
   "source": [
    "#Max BE\n",
    "cur2 = con.cursor()\n",
    "cur2.execute(\"SELECT t1.uhid,t1.be,t1.modificationtime FROM apollo.nursing_bloodgas AS t1 ;\")\n",
    "cols2 = list(map(lambda x: x[0], cur2.description))\n",
    "be = pd.DataFrame(cur2.fetchall(),columns=cols2)\n",
    "#ds.sort_values('modificationtime',inplace=True)"
   ]
  },
  {
   "cell_type": "code",
   "execution_count": null,
   "metadata": {},
   "outputs": [],
   "source": []
  },
  {
   "cell_type": "code",
   "execution_count": 16,
   "metadata": {
    "scrolled": true
   },
   "outputs": [],
   "source": [
    "be_1 = pd.DataFrame(columns=be.columns)\n",
    "for i in uhids:\n",
    "    try:\n",
    "        x = be[be['uhid']==i]\n",
    "        if(len(x) > 0):\n",
    "            u = ds[ds['uhid']==i]\n",
    "            if(len(u) > 0):\n",
    "                j = u.CRIB_1Hr.iloc[0]\n",
    "\n",
    "                x = x[x['modificationtime']<=j]\n",
    "                be_1 = be_1.append(x,ignore_index=True)\n",
    "    except:\n",
    "        continue"
   ]
  },
  {
   "cell_type": "code",
   "execution_count": null,
   "metadata": {},
   "outputs": [],
   "source": []
  },
  {
   "cell_type": "code",
   "execution_count": null,
   "metadata": {},
   "outputs": [],
   "source": []
  },
  {
   "cell_type": "code",
   "execution_count": 14,
   "metadata": {},
   "outputs": [],
   "source": [
    "be_1.be = be_1.be.fillna(3)"
   ]
  },
  {
   "cell_type": "code",
   "execution_count": 15,
   "metadata": {},
   "outputs": [],
   "source": [
    "def crib_2_bw_ga_sex(x,y,z):\n",
    "    if z == 'Male':\n",
    "        if x == 22:\n",
    "            if y>251 and y<500:\n",
    "                return 15\n",
    "            else:\n",
    "                return 14\n",
    "        elif x == 23:\n",
    "            if y>251 and y<=500:\n",
    "                return 14\n",
    "            elif y>=501 and y<=750:\n",
    "                return 13\n",
    "            elif y>=751 and y<=1000:\n",
    "                return 12\n",
    "            else:\n",
    "                return 12\n",
    "        elif x == 24:\n",
    "            if y>251 and y<=500:\n",
    "                return 13\n",
    "            elif y>=501 and y<=750:\n",
    "                return 12\n",
    "            elif y>=751 and y<=1000:\n",
    "                return 11\n",
    "            else:\n",
    "                return 10\n",
    "        elif x == 25:\n",
    "            if y>251 and y<=500:\n",
    "                return 12\n",
    "            elif y>=501 and y<=750:\n",
    "                return 11\n",
    "            elif y>=751 and y<=1000:\n",
    "                return 11\n",
    "            else:\n",
    "                return 9\n",
    "        elif x == 26:\n",
    "            if y>251 and y<=500:\n",
    "                return 11\n",
    "            elif y>=501 and y<=750:\n",
    "                return 10\n",
    "            elif y>=751 and y<=1000:\n",
    "                return 8\n",
    "            else:\n",
    "                return 8\n",
    "        elif x == 27:\n",
    "            if y>251 and y<=500:\n",
    "                return 10\n",
    "            elif y>=501 and y<=750:\n",
    "                return 9\n",
    "            elif y>=751 and y<=1000:\n",
    "                return 7\n",
    "            elif y>=1001 and y<=1250:\n",
    "                return 7\n",
    "            elif y>=1251 and y<=1500:\n",
    "                return 6\n",
    "            else:\n",
    "                return 6\n",
    "        elif x == 28:\n",
    "            if y>251 and y<=500:\n",
    "                return 10\n",
    "            elif y>=501 and y<=750:\n",
    "                return 8\n",
    "            elif y>=751 and y<=1000:\n",
    "                return 7\n",
    "            elif y>=1001 and y<=1250:\n",
    "                return 6\n",
    "            elif y>=1251 and y<=1500:\n",
    "                return 5\n",
    "            else:\n",
    "                return 5\n",
    "        elif x == 29:\n",
    "            if y>251 and y<=500:\n",
    "                return 10\n",
    "            elif y>=501 and y<=750:\n",
    "                return 8\n",
    "            elif y>=751 and y<=1000:\n",
    "                return 6\n",
    "            elif y>=1001 and y<=1250:\n",
    "                return 5\n",
    "            elif y>=1251 and y<=1500:\n",
    "                return 3\n",
    "            else:\n",
    "                return 3\n",
    "        elif x == 30:\n",
    "            if y>251 and y<=500:\n",
    "                return 10\n",
    "            elif y>=501 and y<=750:\n",
    "                return 8\n",
    "            elif y>=751 and y<=1000:\n",
    "                return 6\n",
    "            elif y>=1001 and y<=1250:\n",
    "                return 4\n",
    "            elif y>=1251 and y<=1500:\n",
    "                return 3\n",
    "            elif y>=1501 and y<=1750:\n",
    "                return 2\n",
    "            elif y>=1751 and y<=2000:\n",
    "                return 1\n",
    "            elif y>=2001 and y<=2250:\n",
    "                return 2\n",
    "            elif y>=2251 and y<=2500:\n",
    "                return 3\n",
    "            else:\n",
    "                return 3\n",
    "        elif x == 31:\n",
    "            if y>251 and y<=500:\n",
    "                return 10\n",
    "            elif y>=501 and y<=750:\n",
    "                return 8\n",
    "            elif y>=751 and y<=1000:\n",
    "                return 6\n",
    "            elif y>=1001 and y<=1250:\n",
    "                return 3\n",
    "            elif y>=1251 and y<=1500:\n",
    "                return 2\n",
    "            elif y>=1501 and y<=1750:\n",
    "                return 1\n",
    "            elif y>=1751 and y<=2000:\n",
    "                return 0\n",
    "            elif y>=2001 and y<=2250:\n",
    "                return 0\n",
    "            elif y>=2251 and y<=2500:\n",
    "                return 0\n",
    "            elif y>=2501 and y<=2750:\n",
    "                return 1\n",
    "            else:\n",
    "                return 1\n",
    "        elif x == 32:\n",
    "            if y>251 and y<=500:\n",
    "                return 10\n",
    "            elif y>=501 and y<=750:\n",
    "                return 8\n",
    "            elif y>=751 and y<=1000:\n",
    "                return 6\n",
    "            elif y>=1001 and y<=1250:\n",
    "                return 3\n",
    "            elif y>=1251 and y<=1500:\n",
    "                return 1\n",
    "            elif y>=1501 and y<=1750:\n",
    "                return 0\n",
    "            elif y>=1751 and y<=2000:\n",
    "                return 0\n",
    "            elif y>=2001 and y<=2250:\n",
    "                return 0\n",
    "            elif y>=2251 and y<=2500:\n",
    "                return 0\n",
    "            elif y>=2501 and y<=2750:\n",
    "                return 0\n",
    "            else:\n",
    "                return 0\n",
    "            \n",
    "            \n",
    "    if z == 'Female':\n",
    "        if x == 22:\n",
    "            if y>251 and y<500:\n",
    "                return 14\n",
    "            else:\n",
    "                return 13\n",
    "        elif x == 23:\n",
    "            if y>251 and y<=500:\n",
    "                return 13\n",
    "            elif y>=501 and y<=750:\n",
    "                return 12\n",
    "            elif y>=751 and y<=1000:\n",
    "                return 11\n",
    "            else:\n",
    "                return 11\n",
    "        elif x == 24:\n",
    "            if y>251 and y<=500:\n",
    "                return 12\n",
    "            elif y>=501 and y<=750:\n",
    "                return 11\n",
    "            elif y>=751 and y<=1000:\n",
    "                return 10\n",
    "            else:\n",
    "                return 10\n",
    "        elif x == 25:\n",
    "            if y>251 and y<=500:\n",
    "                return 11\n",
    "            elif y>=501 and y<=750:\n",
    "                return 10\n",
    "            elif y>=751 and y<=1000:\n",
    "                return 9\n",
    "            else:\n",
    "                return 8\n",
    "        elif x == 26:\n",
    "            if y>251 and y<=500:\n",
    "                return 10\n",
    "            elif y>=501 and y<=750:\n",
    "                return 9\n",
    "            elif y>=751 and y<=1000:\n",
    "                return 8\n",
    "            else:\n",
    "                return 7\n",
    "        elif x == 27:\n",
    "            if y>251 and y<=500:\n",
    "                return 10\n",
    "            elif y>=501 and y<=750:\n",
    "                return 8\n",
    "            elif y>=751 and y<=1000:\n",
    "                return 7\n",
    "            elif y>=1001 and y<=1250:\n",
    "                return 6\n",
    "            elif y>=1251 and y<=1500:\n",
    "                return 5\n",
    "            else:\n",
    "                return 6\n",
    "        elif x == 28:\n",
    "            if y>251 and y<=500:\n",
    "                return 10\n",
    "            elif y>=501 and y<=750:\n",
    "                return 8\n",
    "            elif y>=751 and y<=1000:\n",
    "                return 6\n",
    "            elif y>=1001 and y<=1250:\n",
    "                return 5\n",
    "            elif y>=1251 and y<=1500:\n",
    "                return 4\n",
    "            else:\n",
    "                return 4\n",
    "        elif x == 29:\n",
    "            if y>251 and y<=500:\n",
    "                return 10\n",
    "            elif y>=501 and y<=750:\n",
    "                return 7\n",
    "            elif y>=751 and y<=1000:\n",
    "                return 5\n",
    "            elif y>=1001 and y<=1250:\n",
    "                return 4\n",
    "            elif y>=1251 and y<=1500:\n",
    "                return 3\n",
    "            else:\n",
    "                return 3\n",
    "        elif x == 30:\n",
    "            if y>251 and y<=500:\n",
    "                return 10\n",
    "            elif y>=501 and y<=750:\n",
    "                return 7\n",
    "            elif y>=751 and y<=1000:\n",
    "                return 5\n",
    "            elif y>=1001 and y<=1250:\n",
    "                return 3\n",
    "            elif y>=1251 and y<=1500:\n",
    "                return 2\n",
    "            elif y>=1501 and y<=1750:\n",
    "                return 1\n",
    "            elif y>=1751 and y<=2000:\n",
    "                return 1\n",
    "            elif y>=2001 and y<=2250:\n",
    "                return 1\n",
    "            elif y>=2251 and y<=2500:\n",
    "                return 2\n",
    "            else:\n",
    "                return 2\n",
    "        elif x == 31:\n",
    "            if y>251 and y<=500:\n",
    "                return 10\n",
    "            elif y>=501 and y<=750:\n",
    "                return 7\n",
    "            elif y>=751 and y<=1000:\n",
    "                return 5\n",
    "            elif y>=1001 and y<=1250:\n",
    "                return 3\n",
    "            elif y>=1251 and y<=1500:\n",
    "                return 1\n",
    "            elif y>=1501 and y<=1750:\n",
    "                return 0\n",
    "            elif y>=1751 and y<=2000:\n",
    "                return 0\n",
    "            elif y>=2001 and y<=2250:\n",
    "                return 0\n",
    "            elif y>=2251 and y<=2500:\n",
    "                return 0\n",
    "            elif y>=2501 and y<=2750:\n",
    "                return 1\n",
    "            else:\n",
    "                return 0\n",
    "        elif x == 32:\n",
    "            if y>251 and y<=500:\n",
    "                return 10\n",
    "            elif y>=501 and y<=750:\n",
    "                return 8\n",
    "            elif y>=751 and y<=1000:\n",
    "                return 5\n",
    "            elif y>=1001 and y<=1250:\n",
    "                return 3\n",
    "            elif y>=1251 and y<=1500:\n",
    "                return 1\n",
    "            elif y>=1501 and y<=1750:\n",
    "                return 0\n",
    "            elif y>=1751 and y<=2000:\n",
    "                return 0\n",
    "            elif y>=2001 and y<=2250:\n",
    "                return 0\n",
    "            elif y>=2251 and y<=2500:\n",
    "                return 0\n",
    "            elif y>=2501 and y<=2750:\n",
    "                return 0\n",
    "            else:\n",
    "                return 0          "
   ]
  },
  {
   "cell_type": "code",
   "execution_count": 16,
   "metadata": {},
   "outputs": [],
   "source": [
    "def admission_temp(x):\n",
    "    if x<=29.6:\n",
    "        return 5\n",
    "    elif x>=29.7 and x<=31.2:\n",
    "        return 4\n",
    "    elif x>=31.3 and x<=32.8:\n",
    "        return 3\n",
    "    elif x>=32.9 and x<=34.4:\n",
    "        return 2\n",
    "    elif x>=34.5 and x<=36.0:\n",
    "        return 1\n",
    "    elif x>=36.1 and x<=37.5:\n",
    "        return 0\n",
    "    elif x>=37.6 and x<=39.1:\n",
    "        return 1\n",
    "    elif x>=39.2 and x<=40.7:\n",
    "        return 2\n",
    "    else:\n",
    "        return 3"
   ]
  },
  {
   "cell_type": "code",
   "execution_count": 17,
   "metadata": {},
   "outputs": [],
   "source": [
    "def to_float(x):\n",
    "    try:\n",
    "        return float(x)\n",
    "    except:\n",
    "        pass"
   ]
  },
  {
   "cell_type": "code",
   "execution_count": 18,
   "metadata": {},
   "outputs": [],
   "source": [
    "be_1.be = be_1.be.apply(to_float)"
   ]
  },
  {
   "cell_type": "code",
   "execution_count": 19,
   "metadata": {},
   "outputs": [],
   "source": [
    "def be_calc(x):\n",
    "    if x<=-26.0:\n",
    "        return 7\n",
    "    elif x>=-26.0 and x<=-23.0:\n",
    "        return 6\n",
    "    elif x>=-22.0 and x<=-18.0:\n",
    "        return 5\n",
    "    elif x>=-17.0 and x<=-13.0:\n",
    "        return 4\n",
    "    elif x>=-12.0 and x<=-8.0:\n",
    "        return 3\n",
    "    elif x>=-7.0 and x<=-3.0:\n",
    "        return 2\n",
    "    elif x>=-2.0 and x<=2.0:\n",
    "        return 1\n",
    "    else:\n",
    "        return 0\n",
    "        \n",
    "        "
   ]
  },
  {
   "cell_type": "code",
   "execution_count": null,
   "metadata": {},
   "outputs": [],
   "source": []
  },
  {
   "cell_type": "code",
   "execution_count": 20,
   "metadata": {},
   "outputs": [],
   "source": [
    "be_max = pd.DataFrame(columns=['uhid','max_be'])\n",
    "#Calculating Maximum Base Excess\n",
    "for i in be_1.uhid.unique():\n",
    "    x = be_1[be_1['uhid']==i]\n",
    "    \n",
    "    be_max = be_max.append({'uhid':i,'max_be':x['be'].max()},ignore_index=True)"
   ]
  },
  {
   "cell_type": "code",
   "execution_count": 21,
   "metadata": {},
   "outputs": [],
   "source": [
    "data = pd.merge(ds,be_max,on=['uhid'],how='left',copy=False)"
   ]
  },
  {
   "cell_type": "code",
   "execution_count": 22,
   "metadata": {},
   "outputs": [],
   "source": [
    "data = data.drop_duplicates(subset=['uhid'],keep='first')"
   ]
  },
  {
   "cell_type": "code",
   "execution_count": 23,
   "metadata": {},
   "outputs": [],
   "source": [
    "data.max_be = data.max_be.fillna(3)"
   ]
  },
  {
   "cell_type": "code",
   "execution_count": 24,
   "metadata": {},
   "outputs": [],
   "source": [
    "complete_df = pd.DataFrame(columns=data.columns)\n",
    "for i in uhid:\n",
    "    x = data[data['uhid']==i]\n",
    "    complete_df = complete_df.append(x,ignore_index=True)"
   ]
  },
  {
   "cell_type": "code",
   "execution_count": 25,
   "metadata": {},
   "outputs": [],
   "source": [
    "complete_df['CRIB'] = complete_df.max_be.apply(be_calc) + complete_df.central_temp.apply(admission_temp) + complete_df.apply(lambda x: crib_2_bw_ga_sex(x['gestationweekbylmp'],x['birthweight'],x['gender']),axis=1)"
   ]
  },
  {
   "cell_type": "code",
   "execution_count": 26,
   "metadata": {},
   "outputs": [],
   "source": [
    "def crib_prob(x):\n",
    "    if x>10:\n",
    "        return 1.0\n",
    "    \n",
    "    else:\n",
    "        return 0.09"
   ]
  },
  {
   "cell_type": "code",
   "execution_count": 27,
   "metadata": {},
   "outputs": [],
   "source": [
    "complete_df['pred'] = complete_df.CRIB.apply(crib_prob)"
   ]
  },
  {
   "cell_type": "code",
   "execution_count": 28,
   "metadata": {},
   "outputs": [],
   "source": [
    "def bina(x):\n",
    "    if x == 'Death':\n",
    "        return 1\n",
    "    else:\n",
    "        return 0"
   ]
  },
  {
   "cell_type": "code",
   "execution_count": 29,
   "metadata": {},
   "outputs": [],
   "source": [
    "complete_df.dischargestatus = complete_df.dischargestatus.apply(bina)"
   ]
  },
  {
   "cell_type": "code",
   "execution_count": 30,
   "metadata": {},
   "outputs": [],
   "source": [
    "from sklearn.metrics import roc_auc_score\n",
    "from sklearn.metrics import roc_curve\n",
    "from sklearn.metrics import precision_recall_curve\n",
    "\n",
    "\n",
    "lr_fpr, lr_tpr, _ = roc_curve(complete_df.dischargestatus,complete_df.pred,drop_intermediate=False)"
   ]
  },
  {
   "cell_type": "code",
   "execution_count": 31,
   "metadata": {},
   "outputs": [],
   "source": [
    "import matplotlib.pyplot as plt"
   ]
  },
  {
   "cell_type": "code",
   "execution_count": 32,
   "metadata": {},
   "outputs": [
    {
     "data": {
      "text/plain": [
       "<matplotlib.legend.Legend at 0x1bc6508f828>"
      ]
     },
     "execution_count": 32,
     "metadata": {},
     "output_type": "execute_result"
    },
    {
     "data": {
      "image/png": "[encoded data removed]",
      "text/plain": [
       "<Figure size 432x288 with 1 Axes>"
      ]
     },
     "metadata": {
      "needs_background": "light"
     },
     "output_type": "display_data"
    }
   ],
   "source": [
    "plt.title('AUC ROC CURVE')\n",
    "plt.xlabel('False Positive Rate')\n",
    "plt.ylabel('True Positive Rate')\n",
    "#plt.plot(cr_fpr, cr_tpr, linestyle='--',linewidth=3, label='CRIB')\n",
    "#plt.plot(cr2_fpr, cr2_tpr, 'r+',linestyle='--', label='CRIB II')\n",
    "plt.plot(lr_fpr, lr_tpr, marker='.', label='Neural Network')\n",
    "#plt.plot(ns_fpr, ns_tpr, linestyle='--', label='SNAPPE II')\n",
    "#plt.plot(ns2_fpr, ns2_tpr, linestyle='--', label='SNAP II')\n",
    "#plt.plot(log_fpr, log_tpr, marker='.', label='Logistic Regression')\n",
    "plt.legend(loc=0)\n",
    "#plt.savefig('AUC_2.png',dpi=1200)"
   ]
  },
  {
   "cell_type": "code",
   "execution_count": 33,
   "metadata": {},
   "outputs": [
    {
     "data": {
      "text/plain": [
       "0.715034965034965"
      ]
     },
     "execution_count": 33,
     "metadata": {},
     "output_type": "execute_result"
    }
   ],
   "source": [
    "roc_auc_score(complete_df.dischargestatus,complete_df.pred)"
   ]
  },
  {
   "cell_type": "code",
   "execution_count": 34,
   "metadata": {},
   "outputs": [],
   "source": [
    "#complete_df.to_csv('CRIB_2_10_JAN.csv')"
   ]
  },
  {
   "cell_type": "code",
   "execution_count": 35,
   "metadata": {},
   "outputs": [
    {
     "name": "stdout",
     "output_type": "stream",
     "text": [
      "              precision    recall  f1-score   support\n",
      "\n",
      "           0       0.99      0.98      0.98      1144\n",
      "           1       0.26      0.45      0.33        22\n",
      "\n",
      "   micro avg       0.97      0.97      0.97      1166\n",
      "   macro avg       0.63      0.72      0.66      1166\n",
      "weighted avg       0.98      0.97      0.97      1166\n",
      "\n",
      "[[1116   28]\n",
      " [  12   10]]\n"
     ]
    }
   ],
   "source": [
    "#reports\n",
    "#Results might vary with each iteration as Deep Neural Networks,initially assigns random weights.\n",
    "from sklearn.metrics import classification_report, confusion_matrix\n",
    "print(classification_report(complete_df.dischargestatus,np.round(complete_df.pred)))\n",
    "print(confusion_matrix(complete_df.dischargestatus,np.round(complete_df.pred)))"
   ]
  },
  {
   "cell_type": "code",
   "execution_count": 36,
   "metadata": {},
   "outputs": [
    {
     "data": {
      "text/plain": [
       "1166"
      ]
     },
     "execution_count": 36,
     "metadata": {},
     "output_type": "execute_result"
    }
   ],
   "source": [
    "len(complete_df)"
   ]
  },
  {
   "cell_type": "code",
   "execution_count": 37,
   "metadata": {},
   "outputs": [],
   "source": [
    "crib_2 = pd.DataFrame(complete_df.dischargestatus)"
   ]
  },
  {
   "cell_type": "code",
   "execution_count": 38,
   "metadata": {},
   "outputs": [],
   "source": [
    "crib_2['pred'] = complete_df.pred"
   ]
  },
  {
   "cell_type": "code",
   "execution_count": 39,
   "metadata": {},
   "outputs": [],
   "source": [
    "crib_2.to_csv('crib_2_AUC_ROC_6th_may.csv')"
   ]
  },
  {
   "cell_type": "code",
   "execution_count": null,
   "metadata": {},
   "outputs": [],
   "source": []
  }
 ],
 "metadata": {
  "kernelspec": {
   "display_name": "Python 3",
   "language": "python",
   "name": "python3"
  },
  "language_info": {
   "codemirror_mode": {
    "name": "ipython",
    "version": 3
   },
   "file_extension": ".py",
   "mimetype": "text/x-python",
   "name": "python",
   "nbconvert_exporter": "python",
   "pygments_lexer": "ipython3",
   "version": "3.7.6"
  }
 },
 "nbformat": 4,
 "nbformat_minor": 2
}
