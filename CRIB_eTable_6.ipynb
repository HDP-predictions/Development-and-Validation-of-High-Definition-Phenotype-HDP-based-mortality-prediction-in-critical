{
 "cells": [
  {
   "cell_type": "code",
   "execution_count": 1,
   "metadata": {},
   "outputs": [],
   "source": [
    "import pandas as pd\n",
    "import numpy as np"
   ]
  },
  {
   "cell_type": "code",
   "execution_count": 5,
   "metadata": {},
   "outputs": [],
   "source": [
    "complete_df = pd.read_csv('crib.csv')"
   ]
  },
  {
   "cell_type": "code",
   "execution_count": 6,
   "metadata": {},
   "outputs": [],
   "source": [
    "def bw(x):\n",
    "    if x>1350.0:\n",
    "        return 0\n",
    "    elif x>850.0 and x<=1350.0:\n",
    "        return 1\n",
    "    elif x>701.0 and x<=850.0:\n",
    "        return 4\n",
    "    else:\n",
    "        return 7\n",
    "    \n",
    "def ga(x):\n",
    "    if x>24.0:\n",
    "        return 0\n",
    "    else:\n",
    "        return 1    \n",
    "    \n",
    "def be(x):\n",
    "    if x>7.0:\n",
    "        return 0\n",
    "    elif x>-9.9 and x<=-7.0:\n",
    "        return 1\n",
    "    elif x>-14.9 and x<=-10.0:\n",
    "        return 2\n",
    "    else:\n",
    "        return 4\n",
    "\n",
    "def min_fio2_FUNC(x):\n",
    "    if x<40.0:\n",
    "        return 0\n",
    "    elif x>41.0 and x<=80.0:\n",
    "        return 2\n",
    "    elif x>81.0 and x<=90.0:\n",
    "        return 3\n",
    "    else:\n",
    "        return 4\n",
    "\n",
    "def max_fio2_FUNC(x):\n",
    "    if x<40.0:\n",
    "        return 0\n",
    "    elif x>41.0 and x<=80.0:\n",
    "        return 1\n",
    "    elif x>81.0 and x<=90.0:\n",
    "        return 3\n",
    "    else:\n",
    "        return 5\n",
    "\n"
   ]
  },
  {
   "cell_type": "code",
   "execution_count": 7,
   "metadata": {},
   "outputs": [],
   "source": [
    "complete_df['CRIB'] = complete_df.birthweight.apply(bw) + complete_df.gestationweekbylmp.apply(ga) + complete_df.max_be.apply(be) + complete_df.min_fio2.apply(min_fio2_FUNC)+complete_df.max_fio2.apply(max_fio2_FUNC)"
   ]
  },
  {
   "cell_type": "code",
   "execution_count": 8,
   "metadata": {},
   "outputs": [],
   "source": [
    "def crib_prob(x):\n",
    "    if x>=15:\n",
    "        return 1.0\n",
    "    elif x>11 and x<=15:\n",
    "        return 0.73\n",
    "    elif x>6 and x<=10:\n",
    "        return 0.55\n",
    "    else:\n",
    "        return 0.09"
   ]
  },
  {
   "cell_type": "code",
   "execution_count": 9,
   "metadata": {},
   "outputs": [],
   "source": [
    "complete_df['pred'] = complete_df.CRIB.apply(crib_prob)"
   ]
  },
  {
   "cell_type": "code",
   "execution_count": 10,
   "metadata": {},
   "outputs": [],
   "source": [
    "def bina(x):\n",
    "    if x == 'Death':\n",
    "        return 1\n",
    "    else:\n",
    "        return 0"
   ]
  },
  {
   "cell_type": "code",
   "execution_count": 11,
   "metadata": {},
   "outputs": [],
   "source": [
    "complete_df.dischargestatus = complete_df.dischargestatus.apply(bina)"
   ]
  },
  {
   "cell_type": "code",
   "execution_count": 12,
   "metadata": {},
   "outputs": [],
   "source": [
    "from sklearn.metrics import roc_auc_score\n",
    "from sklearn.metrics import roc_curve\n",
    "from sklearn.metrics import precision_recall_curve\\\n",
    "\n",
    "\n",
    "lr_fpr, lr_tpr, _ = roc_curve(complete_df.dischargestatus,complete_df.pred,drop_intermediate=False)"
   ]
  },
  {
   "cell_type": "code",
   "execution_count": 13,
   "metadata": {},
   "outputs": [],
   "source": [
    "import matplotlib.pyplot as plt"
   ]
  },
  {
   "cell_type": "code",
   "execution_count": 14,
   "metadata": {},
   "outputs": [
    {
     "data": {
      "text/plain": [
       "<matplotlib.legend.Legend at 0x2828b7fa550>"
      ]
     },
     "execution_count": 14,
     "metadata": {},
     "output_type": "execute_result"
    },
    {
     "data": {
      "image/png": "[encoded data removed]",
      "text/plain": [
       "<Figure size 432x288 with 1 Axes>"
      ]
     },
     "metadata": {
      "needs_background": "light"
     },
     "output_type": "display_data"
    }
   ],
   "source": [
    "plt.title('AUC ROC CURVE')\n",
    "plt.xlabel('False Positive Rate')\n",
    "plt.ylabel('True Positive Rate')\n",
    "plt.plot(lr_fpr, lr_tpr, marker='.', label='Neural Network')\n",
    "plt.legend(loc=0)"
   ]
  },
  {
   "cell_type": "code",
   "execution_count": 15,
   "metadata": {},
   "outputs": [
    {
     "data": {
      "text/plain": [
       "0.6570289132602194"
      ]
     },
     "execution_count": 15,
     "metadata": {},
     "output_type": "execute_result"
    }
   ],
   "source": [
    "roc_auc_score(complete_df.dischargestatus,complete_df.pred)"
   ]
  },
  {
   "cell_type": "code",
   "execution_count": 16,
   "metadata": {},
   "outputs": [],
   "source": [
    "ds = pd.DataFrame(complete_df.pred)\n",
    "ds['true_outcome'] = complete_df.dischargestatus"
   ]
  },
  {
   "cell_type": "code",
   "execution_count": 18,
   "metadata": {},
   "outputs": [],
   "source": [
    "def classify(x):\n",
    "    if x>0.5:\n",
    "        return 1\n",
    "    else:\n",
    "        return 0"
   ]
  },
  {
   "cell_type": "code",
   "execution_count": 19,
   "metadata": {},
   "outputs": [
    {
     "name": "stderr",
     "output_type": "stream",
     "text": [
      "C:\\Users\\Dell\\Anaconda3\\lib\\site-packages\\ipykernel_launcher.py:1: UserWarning: Pandas doesn't allow columns to be created via a new attribute name - see https://pandas.pydata.org/pandas-docs/stable/indexing.html#attribute-access\n",
      "  \"\"\"Entry point for launching an IPython kernel.\n"
     ]
    }
   ],
   "source": [
    "complete_df.pred_1 = complete_df.pred.apply(classify)"
   ]
  },
  {
   "cell_type": "code",
   "execution_count": 20,
   "metadata": {},
   "outputs": [
    {
     "name": "stdout",
     "output_type": "stream",
     "text": [
      "              precision    recall  f1-score   support\n",
      "\n",
      "           0       0.95      0.96      0.96       236\n",
      "           1       0.38      0.35      0.36        17\n",
      "\n",
      "   micro avg       0.92      0.92      0.92       253\n",
      "   macro avg       0.66      0.66      0.66       253\n",
      "weighted avg       0.91      0.92      0.92       253\n",
      "\n",
      "[[226  10]\n",
      " [ 11   6]]\n"
     ]
    }
   ],
   "source": [
    "from sklearn.metrics import classification_report, confusion_matrix\n",
    "print(classification_report(complete_df.dischargestatus,complete_df.pred_1))\n",
    "print(confusion_matrix(complete_df.dischargestatus,complete_df.pred_1))"
   ]
  },
  {
   "cell_type": "code",
   "execution_count": null,
   "metadata": {},
   "outputs": [],
   "source": []
  }
 ],
 "metadata": {
  "kernelspec": {
   "display_name": "Python 3",
   "language": "python",
   "name": "python3"
  },
  "language_info": {
   "codemirror_mode": {
    "name": "ipython",
    "version": 3
   },
   "file_extension": ".py",
   "mimetype": "text/x-python",
   "name": "python",
   "nbconvert_exporter": "python",
   "pygments_lexer": "ipython3",
   "version": "3.7.3"
  }
 },
 "nbformat": 4,
 "nbformat_minor": 2
}
