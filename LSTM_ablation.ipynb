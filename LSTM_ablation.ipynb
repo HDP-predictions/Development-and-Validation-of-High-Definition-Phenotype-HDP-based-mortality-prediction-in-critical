{
 "cells": [
  {
   "cell_type": "code",
   "execution_count": null,
   "metadata": {},
   "outputs": [],
   "source": [
    "import pandas as pd\n",
    "import numpy as np"
   ]
  },
  {
   "cell_type": "code",
   "execution_count": null,
   "metadata": {},
   "outputs": [],
   "source": [
    "df = pd.read_csv('5th_june_all_2.csv')"
   ]
  },
  {
   "cell_type": "code",
   "execution_count": null,
   "metadata": {},
   "outputs": [],
   "source": [
    "df.dischargestatus_x.fillna(-999,inplace=True)\n",
    "df.dischargestatus_y.fillna(-999,inplace=True)"
   ]
  },
  {
   "cell_type": "code",
   "execution_count": null,
   "metadata": {},
   "outputs": [],
   "source": [
    "def discharge(x,y):\n",
    "    if x == -999:\n",
    "        return y\n",
    "    else:\n",
    "        return x"
   ]
  },
  {
   "cell_type": "code",
   "execution_count": null,
   "metadata": {},
   "outputs": [],
   "source": [
    "df.dischargestatus_y.unique()"
   ]
  },
  {
   "cell_type": "code",
   "execution_count": null,
   "metadata": {},
   "outputs": [],
   "source": [
    "df = df[(df['dischargestatus']==1)|(df['dischargestatus']==0)]"
   ]
  },
  {
   "cell_type": "code",
   "execution_count": null,
   "metadata": {},
   "outputs": [],
   "source": [
    "df.columns"
   ]
  },
  {
   "cell_type": "code",
   "execution_count": null,
   "metadata": {},
   "outputs": [],
   "source": [
    "death = df[df['dischargestatus']==1]\n",
    "dis = df[df['dischargestatus']==0]"
   ]
  },
  {
   "cell_type": "code",
   "execution_count": null,
   "metadata": {},
   "outputs": [],
   "source": [
    "discharge = dis[0:len(death)]"
   ]
  },
  {
   "cell_type": "code",
   "execution_count": null,
   "metadata": {},
   "outputs": [],
   "source": [
    "final_df = pd.concat([death,discharge])"
   ]
  },
  {
   "cell_type": "code",
   "execution_count": null,
   "metadata": {},
   "outputs": [],
   "source": [
    "ids = final_df.uhid.unique()"
   ]
  },
  {
   "cell_type": "code",
   "execution_count": null,
   "metadata": {},
   "outputs": [],
   "source": [
    "import random\n",
    "random.shuffle(ids)\n",
    "gd = pd.DataFrame(columns=final_df.columns)\n",
    "for i in ids:\n",
    "    x = final_df[final_df['uhid']==i]\n",
    "    \n",
    "    x.dischargestatus_x.fillna(method='ffill',inplace=True)\n",
    "    x.dischargestatus_x.fillna(method='bfill',inplace=True)\n",
    "    \n",
    "    gd = gd.append(x,ignore_index=True)"
   ]
  },
  {
   "cell_type": "code",
   "execution_count": null,
   "metadata": {},
   "outputs": [],
   "source": [
    "gd['typevalue_Antibiotics'] = gd['typevalue_Antibiotics'].fillna(0)\n",
    "gd['typevalue_Inotropes'] = gd['typevalue_Inotropes'].fillna(0)\n",
    "gd = gd.fillna(-999)"
   ]
  },
  {
   "cell_type": "code",
   "execution_count": null,
   "metadata": {},
   "outputs": [],
   "source": [
    "gs = gd.copy()"
   ]
  },
  {
   "cell_type": "code",
   "execution_count": null,
   "metadata": {},
   "outputs": [],
   "source": [
    "cols_to_use = ['pulserate',\n",
    "       'ecg_resprate', 'spo2', 'heartrate', 'dischargestatus', 'mean_bp',\n",
    "       'sys_bp', 'dia_bp', 'peep', 'pip', 'map', 'tidalvol',\n",
    "       'minvol', 'ti', 'fio2',\n",
    "       'abd_difference_y',\n",
    "       'abdomen_girth_y', 'currentdateheight', 'currentdateweight',\n",
    "       \n",
    "       'new_ph', 'ph', 'rbs',\n",
    "       'stool_day_total', 'stool_passed', 'temp',\n",
    "       'total_intake', 'totalparenteralvolume',\n",
    "       'tpn-tfl', 'typevalue_Antibiotics', 'typevalue_Inotropes',\n",
    "       'urine', 'urine_per_hour',\n",
    "       'urine_per_kg_hour', 'gender', 'birthweight',\n",
    "       'birthlength', 'birthheadcircumference', 'inout_patient_status',\n",
    "       'gestationweekbylmp', 'gestationdaysbylmp', 'dischargestatus',\n",
    "       'baby_type', 'central_temp', 'apgar_onemin', 'apgar_fivemin',\n",
    "       'apgar_tenmin', 'motherage', 'conception_type', 'mode_of_delivery',\n",
    "       'steroidname', 'numberofdose', 'gestation','uhid']"
   ]
  },
  {
   "cell_type": "code",
   "execution_count": null,
   "metadata": {},
   "outputs": [],
   "source": [
    "gd = gs[cols_to_use]"
   ]
  },
  {
   "cell_type": "code",
   "execution_count": null,
   "metadata": {},
   "outputs": [],
   "source": [
    "def range_finder(x):\n",
    "    length = x\n",
    "    fractional = (x/15.0) - math.floor(x/15.0)\n",
    "    return int(round(fractional*15))"
   ]
  },
  {
   "cell_type": "code",
   "execution_count": null,
   "metadata": {},
   "outputs": [],
   "source": [
    "import math\n",
    "final_df = pd.DataFrame(columns=gd.columns)\n",
    "for i in gd.uhid.unique():\n",
    "    x = gd[gd['uhid']==i]\n",
    "    x = x[range_finder(len(x)):len(x)]\n",
    "    \n",
    "    final_df = final_df.append(x,ignore_index=True)\n",
    "    "
   ]
  },
  {
   "cell_type": "code",
   "execution_count": null,
   "metadata": {},
   "outputs": [],
   "source": [
    "final_df.fillna(-999,inplace=True)"
   ]
  },
  {
   "cell_type": "code",
   "execution_count": null,
   "metadata": {},
   "outputs": [],
   "source": [
    "train = final_df[:515340]\n",
    "test = final_df[515340:]"
   ]
  },
  {
   "cell_type": "code",
   "execution_count": null,
   "metadata": {},
   "outputs": [],
   "source": [
    "y_train = train['dischargestatus']\n",
    "X_train = train.drop('dischargestatus',axis=1)\n",
    "X_train = X_train.drop('uhid',axis=1)\n",
    "#X_train = X_train.drop('visittime',axis=1)\n",
    "\n",
    "y_test = test['dischargestatus']\n",
    "X_test = test.drop('dischargestatus',axis=1)\n",
    "X_test = X_test.drop('uhid',axis=1)\n",
    "#X_test = X_test.drop('startdate',axis=1)"
   ]
  },
  {
   "cell_type": "code",
   "execution_count": null,
   "metadata": {},
   "outputs": [],
   "source": [
    "#converting the data into a numpy array\n",
    "X_train = np.array(X_train)\n",
    "y_train = np.array(y_train[:,0])\n",
    "X_test = np.array(X_test)\n",
    "y_test = np.array(y_test[:,0])\n",
    "\n",
    "ytrain1 = []\n",
    "for i in range(0,len(y_train),15):\n",
    "    #print(i)\n",
    "    y1 = y_train[i:i+15]\n",
    "    ytrain1.append(y1[-1])\n",
    "    \n",
    "ytest1 = []\n",
    "for i in range(0,len(y_test),15):\n",
    "    #print(i)\n",
    "    y1 = y_test[i:i+15]\n",
    "    ytest1.append(y1[-1])\n",
    "    \n",
    "ytrain1 = np.array(ytrain1)\n",
    "ytest1 = np.array(ytest1)\n",
    "\n",
    "Xtrain = np.reshape(X_train, (-1, 15, X_train.shape[1]))\n",
    "Xtest = np.reshape(X_test, (-1, 15, X_test.shape[1]))"
   ]
  },
  {
   "cell_type": "code",
   "execution_count": null,
   "metadata": {},
   "outputs": [],
   "source": [
    "from keras.layers import Activation, Dense, Dropout, SpatialDropout1D,Input,Masking,Bidirectional, TimeDistributed\n",
    "from keras.layers.embeddings import Embedding\n",
    "from keras.layers.recurrent import LSTM,GRU\n",
    "from keras.models import Sequential, Model\n",
    "from keras.preprocessing import sequence\n",
    "from sklearn.model_selection import train_test_split\n",
    "from keras.callbacks import EarlyStopping\n",
    "from random import seed\n",
    "#seed(1)\n",
    "import tensorflow as tf\n",
    "from keras.layers import Input, Dense\n",
    "from keras.models import Model\n",
    "\n",
    "#defining the early stopping criteria\n",
    "es = EarlyStopping(monitor='val_loss', mode='min', verbose=1,restore_best_weights=True,patience=3)\n"
   ]
  },
  {
   "cell_type": "code",
   "execution_count": null,
   "metadata": {},
   "outputs": [],
   "source": [
    "auc_roc_inter = []\n",
    "from sklearn.metrics import roc_auc_score\n",
    "val_a = []\n",
    "train_a = []"
   ]
  },
  {
   "cell_type": "code",
   "execution_count": null,
   "metadata": {},
   "outputs": [],
   "source": [
    "for i in range(25):\n",
    "    #Building the LSTM model\n",
    "    X = Input(shape=(None, 50), name='X')\n",
    "    mX = Masking()(X)\n",
    "    lstm = Bidirectional(LSTM(units=512,activation='tanh',return_sequences=True,recurrent_dropout=0.5,dropout=0.3))\n",
    "    mX = lstm(mX)\n",
    "    L = LSTM(units=64,activation='tanh',return_sequences=False)(mX)\n",
    "    y = Dense(1, activation=\"sigmoid\")(L)\n",
    "    outputs = [y]\n",
    "    inputs = [X]\n",
    "    model = Model(inputs,outputs)\n",
    "    model.compile(loss=\"binary_crossentropy\",optimizer='adam',metrics=['accuracy'])\n",
    "\n",
    "    \n",
    "    #fitting the model\n",
    "    model.fit(Xtrain, ytrain1, batch_size=60 ,validation_split=0.15,epochs=38,callbacks=[es])\n",
    "    #history = model.fit(Xtrain, ytrain1, batch_size=60 ,validation_split=0.15,epochs=38,callbacks=[es])\n",
    "    for i in range(len(model.history.history['val_acc'])):\n",
    "        val_a.append(model.history.history['val_acc'][i])\n",
    "        train_a.append(model.history.history['acc'][i])\n",
    "    #predictions\n",
    "    y_pred = model.predict(Xtest)\n",
    "    #y_pred = y_pred.round()\n",
    "    y_test = np.array(ytest1)\n",
    "    y_pred = np.array(y_pred)\n",
    "    y_test = pd.DataFrame(y_test)\n",
    "    y_test = np.array(y_test)\n",
    "\n",
    "    def acc(x):\n",
    "        if x>0.5:\n",
    "            return 1\n",
    "        else:\n",
    "            return 0\n",
    "\n",
    "    y_model=[]\n",
    "    for i in y_pred:\n",
    "        y_model.append(acc(i))\n",
    "    y_answer=[]\n",
    "    for j in y_test:\n",
    "        y_answer.append(acc(j))\n",
    "    \n",
    "    auc_roc_inter.append(roc_auc_score(y_answer,y_pred))"
   ]
  },
  {
   "cell_type": "code",
   "execution_count": null,
   "metadata": {},
   "outputs": [],
   "source": [
    "def mean_confidence_interval(data, confidence=0.95):\n",
    "    a = 1.0 * np.array(data)\n",
    "    n = len(a)\n",
    "    m, se = np.mean(a), scipy.stats.sem(a)\n",
    "    h = se * scipy.stats.t.ppf((1 + confidence) / 2., n-1)\n",
    "    return m, m-h, m+h"
   ]
  },
  {
   "cell_type": "code",
   "execution_count": null,
   "metadata": {},
   "outputs": [],
   "source": [
    "import scipy.stats\n",
    "\n",
    "mean_confidence_interval(auc_roc_inter)"
   ]
  },
  {
   "cell_type": "code",
   "execution_count": null,
   "metadata": {},
   "outputs": [],
   "source": [
    "mean_confidence_interval(val_a)"
   ]
  },
  {
   "cell_type": "code",
   "execution_count": null,
   "metadata": {},
   "outputs": [],
   "source": [
    "mean_confidence_interval(train_a)"
   ]
  },
  {
   "cell_type": "code",
   "execution_count": null,
   "metadata": {},
   "outputs": [],
   "source": [
    "#Cont+Intermittent"
   ]
  },
  {
   "cell_type": "code",
   "execution_count": null,
   "metadata": {},
   "outputs": [],
   "source": [
    "cols_to_use = ['pulserate', 'spo2', 'heartrate', 'uhid','peep','pip','map','tidalvol','ti','minvol',\n",
    "        'abd_difference',\n",
    "       'abd_difference_y', 'abdomen_girth_y', 'centraltemp',  'currentdateheight',\n",
    "       'currentdateweight',\n",
    "       'new_ph', 'ph',\n",
    "       'rbs', 'skintemp', 'stool_day_total', 'stool_passed',\n",
    "       'temp', 'total_intake', 'totalparenteralvolume',\n",
    "       'tpn-tfl', 'typevalue_Antibiotics', 'typevalue_Inotropes',\n",
    "       'typevalue_Pulmonary Vasodilators', 'urine', 'urine_per_hour',\n",
    "       'urine_per_kg_hour','dischargestatus','mean_bp','sys_bp','dia_bp']"
   ]
  },
  {
   "cell_type": "code",
   "execution_count": null,
   "metadata": {},
   "outputs": [],
   "source": [
    "gd = gs[cols_to_use]"
   ]
  },
  {
   "cell_type": "code",
   "execution_count": null,
   "metadata": {},
   "outputs": [],
   "source": [
    "import math\n",
    "final_df = pd.DataFrame(columns=gd.columns)\n",
    "for i in gd.uhid.unique():\n",
    "    x = gd[gd['uhid']==i]\n",
    "    x = x[range_finder(len(x)):len(x)]\n",
    "    \n",
    "    final_df = final_df.append(x,ignore_index=True)\n",
    "    "
   ]
  },
  {
   "cell_type": "code",
   "execution_count": null,
   "metadata": {},
   "outputs": [],
   "source": [
    "final_df.fillna(-999,inplace=True)"
   ]
  },
  {
   "cell_type": "code",
   "execution_count": null,
   "metadata": {},
   "outputs": [],
   "source": [
    "train = final_df[:515340]\n",
    "test = final_df[515340:]"
   ]
  },
  {
   "cell_type": "code",
   "execution_count": null,
   "metadata": {},
   "outputs": [],
   "source": [
    "y_train = train['dischargestatus']\n",
    "X_train = train.drop('dischargestatus',axis=1)\n",
    "X_train = X_train.drop('uhid',axis=1)\n",
    "#X_train = X_train.drop('visittime',axis=1)\n",
    "\n",
    "y_test = test['dischargestatus']\n",
    "X_test = test.drop('dischargestatus',axis=1)\n",
    "X_test = X_test.drop('uhid',axis=1)\n",
    "#X_test = X_test.drop('startdate',axis=1)"
   ]
  },
  {
   "cell_type": "code",
   "execution_count": null,
   "metadata": {},
   "outputs": [],
   "source": [
    "#converting the data into a numpy array\n",
    "X_train = np.array(X_train)\n",
    "y_train = np.array(y_train)\n",
    "X_test = np.array(X_test)\n",
    "y_test = np.array(y_test)\n",
    "\n",
    "ytrain1 = []\n",
    "for i in range(0,len(y_train),15):\n",
    "    #print(i)\n",
    "    y1 = y_train[i:i+15]\n",
    "    ytrain1.append(y1[-1])\n",
    "    \n",
    "ytest1 = []\n",
    "for i in range(0,len(y_test),15):\n",
    "    #print(i)\n",
    "    y1 = y_test[i:i+15]\n",
    "    ytest1.append(y1[-1])\n",
    "    \n",
    "ytrain1 = np.array(ytrain1)\n",
    "ytest1 = np.array(ytest1)\n",
    "\n",
    "Xtrain = np.reshape(X_train, (-1, 15, X_train.shape[1]))\n",
    "Xtest = np.reshape(X_test, (-1, 15, X_test.shape[1]))"
   ]
  },
  {
   "cell_type": "code",
   "execution_count": null,
   "metadata": {},
   "outputs": [],
   "source": [
    "auc_roc_inter = []\n",
    "from sklearn.metrics import roc_auc_score\n",
    "val_a = []\n",
    "train_a = []"
   ]
  },
  {
   "cell_type": "code",
   "execution_count": null,
   "metadata": {},
   "outputs": [],
   "source": [
    "for i in range(25):\n",
    "    #Building the LSTM model\n",
    "    X = Input(shape=(None, 34), name='X')\n",
    "    mX = Masking()(X)\n",
    "    lstm = Bidirectional(LSTM(units=512,activation='tanh',return_sequences=True,recurrent_dropout=0.5,dropout=0.3))\n",
    "    mX = lstm(mX)\n",
    "    L = LSTM(units=64,activation='tanh',return_sequences=False)(mX)\n",
    "    y = Dense(1, activation=\"sigmoid\")(L)\n",
    "    outputs = [y]\n",
    "    inputs = [X]\n",
    "    model = Model(inputs,outputs)\n",
    "    model.compile(loss=\"binary_crossentropy\",optimizer='adam',metrics=['accuracy'])\n",
    "\n",
    "    \n",
    "    #fitting the model\n",
    "    model.fit(Xtrain, ytrain1, batch_size=60 ,validation_split=0.15,epochs=38,callbacks=[es])\n",
    "    #history = model.fit(Xtrain, ytrain1, batch_size=60 ,validation_split=0.15,epochs=38,callbacks=[es])\n",
    "    for i in range(len(model.history.history['val_acc'])):\n",
    "        val_a.append(model.history.history['val_acc'][i])\n",
    "        train_a.append(model.history.history['acc'][i])\n",
    "    #predictions\n",
    "    y_pred = model.predict(Xtest)\n",
    "    #y_pred = y_pred.round()\n",
    "    y_test = np.array(ytest1)\n",
    "    y_pred = np.array(y_pred)\n",
    "    y_test = pd.DataFrame(y_test)\n",
    "    y_test = np.array(y_test)\n",
    "\n",
    "    def acc(x):\n",
    "        if x>0.5:\n",
    "            return 1\n",
    "        else:\n",
    "            return 0\n",
    "\n",
    "    y_model=[]\n",
    "    for i in y_pred:\n",
    "        y_model.append(acc(i))\n",
    "    y_answer=[]\n",
    "    for j in y_test:\n",
    "        y_answer.append(acc(j))\n",
    "    \n",
    "    auc_roc_inter.append(roc_auc_score(y_answer,y_pred))"
   ]
  },
  {
   "cell_type": "code",
   "execution_count": null,
   "metadata": {},
   "outputs": [],
   "source": [
    "mean_confidence_interval(auc_roc_inter)"
   ]
  },
  {
   "cell_type": "code",
   "execution_count": null,
   "metadata": {},
   "outputs": [],
   "source": [
    "mean_confidence_interval(val_a)"
   ]
  },
  {
   "cell_type": "code",
   "execution_count": null,
   "metadata": {},
   "outputs": [],
   "source": [
    "mean_confidence_interval(train_a)"
   ]
  },
  {
   "cell_type": "code",
   "execution_count": null,
   "metadata": {},
   "outputs": [],
   "source": [
    "#Fixed+Intermittent"
   ]
  },
  {
   "cell_type": "code",
   "execution_count": null,
   "metadata": {},
   "outputs": [],
   "source": [
    "cols_to_use = ['dischargestatus', 'mean_bp',\n",
    "       'sys_bp', 'dia_bp', 'peep', 'pip', 'map', 'tidalvol',\n",
    "       'minvol', 'ti', 'fio2',\n",
    "       'abd_difference_y',\n",
    "       'abdomen_girth_y', 'currentdateheight', 'currentdateweight',\n",
    "       \n",
    "       'new_ph', 'ph', 'rbs',\n",
    "       'stool_day_total', 'stool_passed', 'temp',\n",
    "       'total_intake', 'totalparenteralvolume',\n",
    "       'tpn-tfl', 'typevalue_Antibiotics', 'typevalue_Inotropes',\n",
    "       'urine', 'urine_per_hour',\n",
    "       'urine_per_kg_hour', 'gender', 'birthweight',\n",
    "       'birthlength', 'birthheadcircumference', 'inout_patient_status',\n",
    "       'gestationweekbylmp', 'gestationdaysbylmp', 'dischargestatus',\n",
    "       'baby_type', 'central_temp', 'apgar_onemin', 'apgar_fivemin',\n",
    "       'apgar_tenmin', 'motherage', 'conception_type', 'mode_of_delivery',\n",
    "       'steroidname', 'numberofdose', 'gestation','uhid','mean_bp','sys_bp','dia_bp']"
   ]
  },
  {
   "cell_type": "code",
   "execution_count": null,
   "metadata": {},
   "outputs": [],
   "source": [
    "gd = gs[cols_to_use]"
   ]
  },
  {
   "cell_type": "code",
   "execution_count": null,
   "metadata": {},
   "outputs": [],
   "source": [
    "import math\n",
    "final_df = pd.DataFrame(columns=gd.columns)\n",
    "for i in gd.uhid.unique():\n",
    "    x = gd[gd['uhid']==i]\n",
    "    x = x[range_finder(len(x)):len(x)]\n",
    "    \n",
    "    final_df = final_df.append(x,ignore_index=True)\n",
    "    "
   ]
  },
  {
   "cell_type": "code",
   "execution_count": null,
   "metadata": {},
   "outputs": [],
   "source": [
    "final_df.fillna(-999,inplace=True)"
   ]
  },
  {
   "cell_type": "code",
   "execution_count": null,
   "metadata": {},
   "outputs": [],
   "source": [
    "import math\n",
    "final_df = pd.DataFrame(columns=gd.columns)\n",
    "for i in gd.uhid.unique():\n",
    "    x = gd[gd['uhid']==i]\n",
    "    x = x[range_finder(len(x)):len(x)]\n",
    "    \n",
    "    final_df = final_df.append(x,ignore_index=True)\n",
    "    "
   ]
  },
  {
   "cell_type": "code",
   "execution_count": null,
   "metadata": {},
   "outputs": [],
   "source": [
    "train = final_df[:515340]\n",
    "test = final_df[515340:]"
   ]
  },
  {
   "cell_type": "code",
   "execution_count": null,
   "metadata": {},
   "outputs": [],
   "source": [
    "y_train = train['dischargestatus']\n",
    "X_train = train.drop('dischargestatus',axis=1)\n",
    "X_train = X_train.drop('uhid',axis=1)\n",
    "#X_train = X_train.drop('visittime',axis=1)\n",
    "\n",
    "y_test = test['dischargestatus']\n",
    "X_test = test.drop('dischargestatus',axis=1)\n",
    "X_test = X_test.drop('uhid',axis=1)\n",
    "#X_test = X_test.drop('startdate',axis=1)"
   ]
  },
  {
   "cell_type": "code",
   "execution_count": null,
   "metadata": {},
   "outputs": [],
   "source": [
    "#converting the data into a numpy array\n",
    "X_train = np.array(X_train)\n",
    "y_train = np.array(y_train[:,0])\n",
    "X_test = np.array(X_test)\n",
    "y_test = np.array(y_test[:,0])\n",
    "\n",
    "ytrain1 = []\n",
    "for i in range(0,len(y_train),15):\n",
    "    #print(i)\n",
    "    y1 = y_train[i:i+15]\n",
    "    ytrain1.append(y1[-1])\n",
    "    \n",
    "ytest1 = []\n",
    "for i in range(0,len(y_test),15):\n",
    "    #print(i)\n",
    "    y1 = y_test[i:i+15]\n",
    "    ytest1.append(y1[-1])\n",
    "    \n",
    "ytrain1 = np.array(ytrain1)\n",
    "ytest1 = np.array(ytest1)\n",
    "\n",
    "Xtrain = np.reshape(X_train, (-1, 15, X_train.shape[1]))\n",
    "Xtest = np.reshape(X_test, (-1, 15, X_test.shape[1]))"
   ]
  },
  {
   "cell_type": "code",
   "execution_count": null,
   "metadata": {},
   "outputs": [],
   "source": [
    "auc_roc_inter = []\n",
    "from sklearn.metrics import roc_auc_score\n",
    "val_a = []\n",
    "train_a = []"
   ]
  },
  {
   "cell_type": "code",
   "execution_count": null,
   "metadata": {},
   "outputs": [],
   "source": [
    "for i in range(25):\n",
    "    #Building the LSTM model\n",
    "    X = Input(shape=(None, 49), name='X')\n",
    "    mX = Masking()(X)\n",
    "    lstm = Bidirectional(LSTM(units=512,activation='tanh',return_sequences=True,recurrent_dropout=0.5,dropout=0.3))\n",
    "    mX = lstm(mX)\n",
    "    L = LSTM(units=64,activation='tanh',return_sequences=False)(mX)\n",
    "    y = Dense(1, activation=\"sigmoid\")(L)\n",
    "    outputs = [y]\n",
    "    inputs = [X]\n",
    "    model = Model(inputs,outputs)\n",
    "    model.compile(loss=\"binary_crossentropy\",optimizer='adam',metrics=['accuracy'])\n",
    "\n",
    "    \n",
    "    #fitting the model\n",
    "    model.fit(Xtrain, ytrain1, batch_size=60 ,validation_split=0.15,epochs=38,callbacks=[es])\n",
    "    #history = model.fit(Xtrain, ytrain1, batch_size=60 ,validation_split=0.15,epochs=38,callbacks=[es])\n",
    "    for i in range(len(model.history.history['val_acc'])):\n",
    "        val_a.append(model.history.history['val_acc'][i])\n",
    "        train_a.append(model.history.history['acc'][i])\n",
    "    #predictions\n",
    "    y_pred = model.predict(Xtest)\n",
    "    #y_pred = y_pred.round()\n",
    "    y_test = np.array(ytest1)\n",
    "    y_pred = np.array(y_pred)\n",
    "    y_test = pd.DataFrame(y_test)\n",
    "    y_test = np.array(y_test)\n",
    "\n",
    "    def acc(x):\n",
    "        if x>0.5:\n",
    "            return 1\n",
    "        else:\n",
    "            return 0\n",
    "\n",
    "    y_model=[]\n",
    "    for i in y_pred:\n",
    "        y_model.append(acc(i))\n",
    "    y_answer=[]\n",
    "    for j in y_test:\n",
    "        y_answer.append(acc(j))\n",
    "    \n",
    "    auc_roc_inter.append(roc_auc_score(y_answer,y_pred))"
   ]
  },
  {
   "cell_type": "code",
   "execution_count": null,
   "metadata": {},
   "outputs": [],
   "source": [
    "mean_confidence_interval(auc_roc_inter)"
   ]
  },
  {
   "cell_type": "code",
   "execution_count": null,
   "metadata": {},
   "outputs": [],
   "source": [
    "mean_confidence_interval(val_a)"
   ]
  },
  {
   "cell_type": "code",
   "execution_count": null,
   "metadata": {},
   "outputs": [],
   "source": [
    "mean_confidence_interval(train_a)"
   ]
  },
  {
   "cell_type": "code",
   "execution_count": null,
   "metadata": {},
   "outputs": [],
   "source": [
    "#Cont+Fixed"
   ]
  },
  {
   "cell_type": "code",
   "execution_count": null,
   "metadata": {},
   "outputs": [],
   "source": [
    "cols_to_use = ['pulserate',\n",
    "       'ecg_resprate', 'spo2', 'heartrate', 'dischargestatus',  'gender', 'birthweight',\n",
    "       'birthlength', 'birthheadcircumference', 'inout_patient_status',\n",
    "       'gestationweekbylmp', 'gestationdaysbylmp',\n",
    "       'baby_type', 'central_temp', 'apgar_onemin', 'apgar_fivemin',\n",
    "       'apgar_tenmin', 'motherage', 'conception_type', 'mode_of_delivery',\n",
    "       'steroidname', 'numberofdose', 'gestation','uhid']"
   ]
  },
  {
   "cell_type": "code",
   "execution_count": null,
   "metadata": {},
   "outputs": [],
   "source": [
    "gd = gs[cols_to_use]"
   ]
  },
  {
   "cell_type": "code",
   "execution_count": null,
   "metadata": {},
   "outputs": [],
   "source": [
    "import math\n",
    "final_df = pd.DataFrame(columns=gd.columns)\n",
    "for i in gd.uhid.unique():\n",
    "    x = gd[gd['uhid']==i]\n",
    "    x = x[range_finder(len(x)):len(x)]\n",
    "    \n",
    "    final_df = final_df.append(x,ignore_index=True)\n",
    "    "
   ]
  },
  {
   "cell_type": "code",
   "execution_count": null,
   "metadata": {},
   "outputs": [],
   "source": [
    "final_df.fillna(-999,inplace=True)"
   ]
  },
  {
   "cell_type": "code",
   "execution_count": null,
   "metadata": {},
   "outputs": [],
   "source": [
    "train = final_df[:515340]\n",
    "test = final_df[515340:]"
   ]
  },
  {
   "cell_type": "code",
   "execution_count": null,
   "metadata": {},
   "outputs": [],
   "source": [
    "y_train = train['dischargestatus']\n",
    "X_train = train.drop('dischargestatus',axis=1)\n",
    "X_train = X_train.drop('uhid',axis=1)\n",
    "#X_train = X_train.drop('visittime',axis=1)\n",
    "\n",
    "y_test = test['dischargestatus']\n",
    "X_test = test.drop('dischargestatus',axis=1)\n",
    "X_test = X_test.drop('uhid',axis=1)\n",
    "#X_test = X_test.drop('startdate',axis=1)"
   ]
  },
  {
   "cell_type": "code",
   "execution_count": null,
   "metadata": {},
   "outputs": [],
   "source": [
    "#converting the data into a numpy array\n",
    "X_train = np.array(X_train)\n",
    "y_train = np.array(y_train)\n",
    "X_test = np.array(X_test)\n",
    "y_test = np.array(y_test)\n",
    "\n",
    "ytrain1 = []\n",
    "for i in range(0,len(y_train),15):\n",
    "    #print(i)\n",
    "    y1 = y_train[i:i+15]\n",
    "    ytrain1.append(y1[-1])\n",
    "    \n",
    "ytest1 = []\n",
    "for i in range(0,len(y_test),15):\n",
    "    #print(i)\n",
    "    y1 = y_test[i:i+15]\n",
    "    ytest1.append(y1[-1])\n",
    "    \n",
    "ytrain1 = np.array(ytrain1)\n",
    "ytest1 = np.array(ytest1)\n",
    "\n",
    "Xtrain = np.reshape(X_train, (-1, 15, X_train.shape[1]))\n",
    "Xtest = np.reshape(X_test, (-1, 15, X_test.shape[1]))"
   ]
  },
  {
   "cell_type": "code",
   "execution_count": null,
   "metadata": {},
   "outputs": [],
   "source": [
    "auc_roc_inter = []\n",
    "from sklearn.metrics import roc_auc_score\n",
    "val_a = []\n",
    "train_a = []"
   ]
  },
  {
   "cell_type": "code",
   "execution_count": null,
   "metadata": {},
   "outputs": [],
   "source": [
    "for i in range(25):\n",
    "    #Building the LSTM model\n",
    "    X = Input(shape=(None, 22), name='X')\n",
    "    mX = Masking()(X)\n",
    "    lstm = Bidirectional(LSTM(units=512,activation='tanh',return_sequences=True,recurrent_dropout=0.5,dropout=0.3))\n",
    "    mX = lstm(mX)\n",
    "    L = LSTM(units=64,activation='tanh',return_sequences=False)(mX)\n",
    "    y = Dense(1, activation=\"sigmoid\")(L)\n",
    "    outputs = [y]\n",
    "    inputs = [X]\n",
    "    model = Model(inputs,outputs)\n",
    "    model.compile(loss=\"binary_crossentropy\",optimizer='adam',metrics=['accuracy'])\n",
    "\n",
    "    \n",
    "    #fitting the model\n",
    "    model.fit(Xtrain, ytrain1, batch_size=60 ,validation_split=0.15,epochs=38,callbacks=[es])\n",
    "    #history = model.fit(Xtrain, ytrain1, batch_size=60 ,validation_split=0.15,epochs=38,callbacks=[es])\n",
    "    for i in range(len(model.history.history['val_acc'])):\n",
    "        val_a.append(model.history.history['val_acc'][i])\n",
    "        train_a.append(model.history.history['acc'][i])\n",
    "    #predictions\n",
    "    y_pred = model.predict(Xtest)\n",
    "    #y_pred = y_pred.round()\n",
    "    y_test = np.array(ytest1)\n",
    "    y_pred = np.array(y_pred)\n",
    "    y_test = pd.DataFrame(y_test)\n",
    "    y_test = np.array(y_test)\n",
    "\n",
    "    def acc(x):\n",
    "        if x>0.5:\n",
    "            return 1\n",
    "        else:\n",
    "            return 0\n",
    "\n",
    "    y_model=[]\n",
    "    for i in y_pred:\n",
    "        y_model.append(acc(i))\n",
    "    y_answer=[]\n",
    "    for j in y_test:\n",
    "        y_answer.append(acc(j))\n",
    "    \n",
    "    auc_roc_inter.append(roc_auc_score(y_answer,y_pred))"
   ]
  },
  {
   "cell_type": "code",
   "execution_count": null,
   "metadata": {},
   "outputs": [],
   "source": [
    "mean_confidence_interval(auc_roc_inter)"
   ]
  },
  {
   "cell_type": "code",
   "execution_count": null,
   "metadata": {},
   "outputs": [],
   "source": [
    "mean_confidence_interval(val_a)"
   ]
  },
  {
   "cell_type": "code",
   "execution_count": null,
   "metadata": {},
   "outputs": [],
   "source": [
    "mean_confidence_interval(train_a)"
   ]
  },
  {
   "cell_type": "code",
   "execution_count": null,
   "metadata": {},
   "outputs": [],
   "source": [
    "#Cont"
   ]
  },
  {
   "cell_type": "code",
   "execution_count": null,
   "metadata": {},
   "outputs": [],
   "source": [
    "cols_to_use = ['pulserate',\n",
    "       'ecg_resprate', 'spo2', 'heartrate', 'dischargestatus', 'uhid']"
   ]
  },
  {
   "cell_type": "code",
   "execution_count": null,
   "metadata": {},
   "outputs": [],
   "source": [
    "gd = gs[cols_to_use]"
   ]
  },
  {
   "cell_type": "code",
   "execution_count": null,
   "metadata": {},
   "outputs": [],
   "source": [
    "import math\n",
    "final_df = pd.DataFrame(columns=gd.columns)\n",
    "for i in gd.uhid.unique():\n",
    "    x = gd[gd['uhid']==i]\n",
    "    x = x[range_finder(len(x)):len(x)]\n",
    "    \n",
    "    final_df = final_df.append(x,ignore_index=True)\n",
    "    "
   ]
  },
  {
   "cell_type": "code",
   "execution_count": null,
   "metadata": {},
   "outputs": [],
   "source": [
    "final_df.fillna(-999,inplace=True)"
   ]
  },
  {
   "cell_type": "code",
   "execution_count": null,
   "metadata": {},
   "outputs": [],
   "source": [
    "train = final_df[:515340]\n",
    "test = final_df[515340:]"
   ]
  },
  {
   "cell_type": "code",
   "execution_count": null,
   "metadata": {},
   "outputs": [],
   "source": [
    "y_train = train['dischargestatus']\n",
    "X_train = train.drop('dischargestatus',axis=1)\n",
    "X_train = X_train.drop('uhid',axis=1)\n",
    "#X_train = X_train.drop('visittime',axis=1)\n",
    "\n",
    "y_test = test['dischargestatus']\n",
    "X_test = test.drop('dischargestatus',axis=1)\n",
    "X_test = X_test.drop('uhid',axis=1)\n",
    "#X_test = X_test.drop('startdate',axis=1)"
   ]
  },
  {
   "cell_type": "code",
   "execution_count": null,
   "metadata": {},
   "outputs": [],
   "source": [
    "#converting the data into a numpy array\n",
    "X_train = np.array(X_train)\n",
    "y_train = np.array(y_train)\n",
    "X_test = np.array(X_test)\n",
    "y_test = np.array(y_test)\n",
    "\n",
    "ytrain1 = []\n",
    "for i in range(0,len(y_train),15):\n",
    "    #print(i)\n",
    "    y1 = y_train[i:i+15]\n",
    "    ytrain1.append(y1[-1])\n",
    "    \n",
    "ytest1 = []\n",
    "for i in range(0,len(y_test),15):\n",
    "    #print(i)\n",
    "    y1 = y_test[i:i+15]\n",
    "    ytest1.append(y1[-1])\n",
    "    \n",
    "ytrain1 = np.array(ytrain1)\n",
    "ytest1 = np.array(ytest1)\n",
    "\n",
    "Xtrain = np.reshape(X_train, (-1, 15, X_train.shape[1]))\n",
    "Xtest = np.reshape(X_test, (-1, 15, X_test.shape[1]))"
   ]
  },
  {
   "cell_type": "code",
   "execution_count": null,
   "metadata": {},
   "outputs": [],
   "source": [
    "for i in range(25):\n",
    "    #Building the LSTM model\n",
    "    X = Input(shape=(None, 4), name='X')\n",
    "    mX = Masking()(X)\n",
    "    lstm = Bidirectional(LSTM(units=512,activation='tanh',return_sequences=True,recurrent_dropout=0.5,dropout=0.3))\n",
    "    mX = lstm(mX)\n",
    "    L = LSTM(units=64,activation='tanh',return_sequences=False)(mX)\n",
    "    y = Dense(1, activation=\"sigmoid\")(L)\n",
    "    outputs = [y]\n",
    "    inputs = [X]\n",
    "    model = Model(inputs,outputs)\n",
    "    model.compile(loss=\"binary_crossentropy\",optimizer='adam',metrics=['accuracy'])\n",
    "\n",
    "    \n",
    "    #fitting the model\n",
    "    model.fit(Xtrain, ytrain1, batch_size=60 ,validation_split=0.15,epochs=38,callbacks=[es])\n",
    "    #history = model.fit(Xtrain, ytrain1, batch_size=60 ,validation_split=0.15,epochs=38,callbacks=[es])\n",
    "    for i in range(len(model.history.history['val_acc'])):\n",
    "        val_a.append(model.history.history['val_acc'][i])\n",
    "        train_a.append(model.history.history['acc'][i])\n",
    "    #predictions\n",
    "    y_pred = model.predict(Xtest)\n",
    "    #y_pred = y_pred.round()\n",
    "    y_test = np.array(ytest1)\n",
    "    y_pred = np.array(y_pred)\n",
    "    y_test = pd.DataFrame(y_test)\n",
    "    y_test = np.array(y_test)\n",
    "\n",
    "    def acc(x):\n",
    "        if x>0.5:\n",
    "            return 1\n",
    "        else:\n",
    "            return 0\n",
    "\n",
    "    y_model=[]\n",
    "    for i in y_pred:\n",
    "        y_model.append(acc(i))\n",
    "    y_answer=[]\n",
    "    for j in y_test:\n",
    "        y_answer.append(acc(j))\n",
    "    \n",
    "    auc_roc_inter.append(roc_auc_score(y_answer,y_pred))"
   ]
  },
  {
   "cell_type": "code",
   "execution_count": null,
   "metadata": {},
   "outputs": [],
   "source": [
    "mean_confidence_interval(auc_roc_inter)"
   ]
  },
  {
   "cell_type": "code",
   "execution_count": null,
   "metadata": {},
   "outputs": [],
   "source": [
    "mean_confidence_interval(val_a)"
   ]
  },
  {
   "cell_type": "code",
   "execution_count": null,
   "metadata": {},
   "outputs": [],
   "source": [
    "mean_confidence_interval(train_a)"
   ]
  },
  {
   "cell_type": "code",
   "execution_count": null,
   "metadata": {},
   "outputs": [],
   "source": [
    "#Fixed"
   ]
  },
  {
   "cell_type": "code",
   "execution_count": null,
   "metadata": {},
   "outputs": [],
   "source": [
    "cols_to_use = ['dischargestatus',  'gender', 'birthweight',\n",
    "       'birthlength', 'birthheadcircumference', 'inout_patient_status',\n",
    "       'gestationweekbylmp', 'gestationdaysbylmp',\n",
    "       'baby_type', 'central_temp', 'apgar_onemin', 'apgar_fivemin',\n",
    "       'apgar_tenmin', 'motherage', 'conception_type', 'mode_of_delivery',\n",
    "       'steroidname', 'numberofdose', 'gestation','uhid']"
   ]
  },
  {
   "cell_type": "code",
   "execution_count": null,
   "metadata": {},
   "outputs": [],
   "source": [
    "gd = gs[cols_to_use]"
   ]
  },
  {
   "cell_type": "code",
   "execution_count": null,
   "metadata": {},
   "outputs": [],
   "source": [
    "import math\n",
    "final_df = pd.DataFrame(columns=gd.columns)\n",
    "for i in gd.uhid.unique():\n",
    "    x = gd[gd['uhid']==i]\n",
    "    x = x[range_finder(len(x)):len(x)]\n",
    "    \n",
    "    final_df = final_df.append(x,ignore_index=True)\n",
    "    "
   ]
  },
  {
   "cell_type": "code",
   "execution_count": null,
   "metadata": {},
   "outputs": [],
   "source": [
    "final_df.fillna(-999,inplace=True)"
   ]
  },
  {
   "cell_type": "code",
   "execution_count": null,
   "metadata": {},
   "outputs": [],
   "source": [
    "train = final_df[:515340]\n",
    "test = final_df[515340:]"
   ]
  },
  {
   "cell_type": "code",
   "execution_count": null,
   "metadata": {},
   "outputs": [],
   "source": [
    "y_train = train['dischargestatus']\n",
    "X_train = train.drop('dischargestatus',axis=1)\n",
    "X_train = X_train.drop('uhid',axis=1)\n",
    "#X_train = X_train.drop('visittime',axis=1)\n",
    "\n",
    "y_test = test['dischargestatus']\n",
    "X_test = test.drop('dischargestatus',axis=1)\n",
    "X_test = X_test.drop('uhid',axis=1)\n",
    "#X_test = X_test.drop('startdate',axis=1)"
   ]
  },
  {
   "cell_type": "code",
   "execution_count": null,
   "metadata": {},
   "outputs": [],
   "source": [
    "#converting the data into a numpy array\n",
    "X_train = np.array(X_train)\n",
    "y_train = np.array(y_train)\n",
    "X_test = np.array(X_test)\n",
    "y_test = np.array(y_test)\n",
    "\n",
    "ytrain1 = []\n",
    "for i in range(0,len(y_train),15):\n",
    "    #print(i)\n",
    "    y1 = y_train[i:i+15]\n",
    "    ytrain1.append(y1[-1])\n",
    "    \n",
    "ytest1 = []\n",
    "for i in range(0,len(y_test),15):\n",
    "    #print(i)\n",
    "    y1 = y_test[i:i+15]\n",
    "    ytest1.append(y1[-1])\n",
    "    \n",
    "ytrain1 = np.array(ytrain1)\n",
    "ytest1 = np.array(ytest1)\n",
    "\n",
    "Xtrain = np.reshape(X_train, (-1, 15, X_train.shape[1]))\n",
    "Xtest = np.reshape(X_test, (-1, 15, X_test.shape[1]))"
   ]
  },
  {
   "cell_type": "code",
   "execution_count": null,
   "metadata": {},
   "outputs": [],
   "source": [
    "for i in range(25):\n",
    "    #Building the LSTM model\n",
    "    X = Input(shape=(None, 18), name='X')\n",
    "    mX = Masking()(X)\n",
    "    lstm = Bidirectional(LSTM(units=512,activation='tanh',return_sequences=True,recurrent_dropout=0.5,dropout=0.3))\n",
    "    mX = lstm(mX)\n",
    "    L = LSTM(units=64,activation='tanh',return_sequences=False)(mX)\n",
    "    y = Dense(1, activation=\"sigmoid\")(L)\n",
    "    outputs = [y]\n",
    "    inputs = [X]\n",
    "    model = Model(inputs,outputs)\n",
    "    model.compile(loss=\"binary_crossentropy\",optimizer='adam',metrics=['accuracy'])\n",
    "\n",
    "    \n",
    "    #fitting the model\n",
    "    model.fit(Xtrain, ytrain1, batch_size=60 ,validation_split=0.15,epochs=38,callbacks=[es])\n",
    "    #history = model.fit(Xtrain, ytrain1, batch_size=60 ,validation_split=0.15,epochs=38,callbacks=[es])\n",
    "    for i in range(len(model.history.history['val_acc'])):\n",
    "        val_a.append(model.history.history['val_acc'][i])\n",
    "        train_a.append(model.history.history['acc'][i])\n",
    "    #predictions\n",
    "    y_pred = model.predict(Xtest)\n",
    "    #y_pred = y_pred.round()\n",
    "    y_test = np.array(ytest1)\n",
    "    y_pred = np.array(y_pred)\n",
    "    y_test = pd.DataFrame(y_test)\n",
    "    y_test = np.array(y_test)\n",
    "\n",
    "    def acc(x):\n",
    "        if x>0.5:\n",
    "            return 1\n",
    "        else:\n",
    "            return 0\n",
    "\n",
    "    y_model=[]\n",
    "    for i in y_pred:\n",
    "        y_model.append(acc(i))\n",
    "    y_answer=[]\n",
    "    for j in y_test:\n",
    "        y_answer.append(acc(j))\n",
    "    \n",
    "    auc_roc_inter.append(roc_auc_score(y_answer,y_pred))"
   ]
  },
  {
   "cell_type": "code",
   "execution_count": null,
   "metadata": {},
   "outputs": [],
   "source": [
    "mean_confidence_interval(auc_roc_inter)"
   ]
  },
  {
   "cell_type": "code",
   "execution_count": null,
   "metadata": {},
   "outputs": [],
   "source": [
    "mean_confidence_interval(val_a)"
   ]
  },
  {
   "cell_type": "code",
   "execution_count": null,
   "metadata": {},
   "outputs": [],
   "source": [
    "mean_confidence_interval(train_a)"
   ]
  },
  {
   "cell_type": "code",
   "execution_count": null,
   "metadata": {},
   "outputs": [],
   "source": [
    "#Intermittent"
   ]
  },
  {
   "cell_type": "code",
   "execution_count": null,
   "metadata": {},
   "outputs": [],
   "source": [
    "cols_to_use = ['dischargestatus', 'mean_bp',\n",
    "       'sys_bp', 'dia_bp', 'peep', 'pip', 'map', 'tidalvol',\n",
    "       'minvol', 'ti', 'fio2',\n",
    "       'abd_difference_y',\n",
    "       'abdomen_girth_y', 'currentdateheight', 'currentdateweight',\n",
    "       \n",
    "       'new_ph', 'ph', 'rbs',\n",
    "       'stool_day_total', 'stool_passed', 'temp',\n",
    "       'total_intake', 'totalparenteralvolume',\n",
    "       'tpn-tfl', 'typevalue_Antibiotics', 'typevalue_Inotropes',\n",
    "       'urine', 'urine_per_hour',\n",
    "       'urine_per_kg_hour', 'uhid']"
   ]
  },
  {
   "cell_type": "code",
   "execution_count": null,
   "metadata": {},
   "outputs": [],
   "source": [
    "gd = gs[cols_to_use]"
   ]
  },
  {
   "cell_type": "code",
   "execution_count": null,
   "metadata": {},
   "outputs": [],
   "source": [
    "import math\n",
    "final_df = pd.DataFrame(columns=gd.columns)\n",
    "for i in gd.uhid.unique():\n",
    "    x = gd[gd['uhid']==i]\n",
    "    x = x[range_finder(len(x)):len(x)]\n",
    "    \n",
    "    final_df = final_df.append(x,ignore_index=True)\n",
    "    "
   ]
  },
  {
   "cell_type": "code",
   "execution_count": null,
   "metadata": {},
   "outputs": [],
   "source": [
    "final_df.fillna(-999,inplace=True)"
   ]
  },
  {
   "cell_type": "code",
   "execution_count": null,
   "metadata": {},
   "outputs": [],
   "source": [
    "train = final_df[:515340]\n",
    "test = final_df[515340:]"
   ]
  },
  {
   "cell_type": "code",
   "execution_count": null,
   "metadata": {},
   "outputs": [],
   "source": [
    "y_train = train['dischargestatus']\n",
    "X_train = train.drop('dischargestatus',axis=1)\n",
    "X_train = X_train.drop('uhid',axis=1)\n",
    "#X_train = X_train.drop('visittime',axis=1)\n",
    "\n",
    "y_test = test['dischargestatus']\n",
    "X_test = test.drop('dischargestatus',axis=1)\n",
    "X_test = X_test.drop('uhid',axis=1)\n",
    "#X_test = X_test.drop('startdate',axis=1)"
   ]
  },
  {
   "cell_type": "code",
   "execution_count": null,
   "metadata": {},
   "outputs": [],
   "source": [
    "#converting the data into a numpy array\n",
    "X_train = np.array(X_train)\n",
    "y_train = np.array(y_train)\n",
    "X_test = np.array(X_test)\n",
    "y_test = np.array(y_test)\n",
    "\n",
    "ytrain1 = []\n",
    "for i in range(0,len(y_train),15):\n",
    "    #print(i)\n",
    "    y1 = y_train[i:i+15]\n",
    "    ytrain1.append(y1[-1])\n",
    "    \n",
    "ytest1 = []\n",
    "for i in range(0,len(y_test),15):\n",
    "    #print(i)\n",
    "    y1 = y_test[i:i+15]\n",
    "    ytest1.append(y1[-1])\n",
    "    \n",
    "ytrain1 = np.array(ytrain1)\n",
    "ytest1 = np.array(ytest1)\n",
    "\n",
    "Xtrain = np.reshape(X_train, (-1, 15, X_train.shape[1]))\n",
    "Xtest = np.reshape(X_test, (-1, 15, X_test.shape[1]))"
   ]
  },
  {
   "cell_type": "code",
   "execution_count": null,
   "metadata": {},
   "outputs": [],
   "source": [
    "for i in range(1):\n",
    "    #Building the LSTM model\n",
    "    X = Input(shape=(None, 28), name='X')\n",
    "    mX = Masking()(X)\n",
    "    lstm = Bidirectional(LSTM(units=512,activation='tanh',return_sequences=True,recurrent_dropout=0.5,dropout=0.3))\n",
    "    mX = lstm(mX)\n",
    "    L = LSTM(units=64,activation='tanh',return_sequences=False)(mX)\n",
    "    y = Dense(1, activation=\"sigmoid\")(L)\n",
    "    outputs = [y]\n",
    "    inputs = [X]\n",
    "    model = Model(inputs,outputs)\n",
    "    model.compile(loss=\"binary_crossentropy\",optimizer='adam',metrics=['accuracy'])\n",
    "\n",
    "    \n",
    "    #fitting the model\n",
    "    model.fit(Xtrain, ytrain1, batch_size=60 ,validation_split=0.15,epochs=38,callbacks=[es])\n",
    "    #history = model.fit(Xtrain, ytrain1, batch_size=60 ,validation_split=0.15,epochs=38,callbacks=[es])\n",
    "    for i in range(len(model.history.history['val_acc'])):\n",
    "        val_a.append(model.history.history['val_acc'][i])\n",
    "        train_a.append(model.history.history['acc'][i])\n",
    "    #predictions\n",
    "    y_pred = model.predict(Xtest)\n",
    "    #y_pred = y_pred.round()\n",
    "    y_test = np.array(ytest1)\n",
    "    y_pred = np.array(y_pred)\n",
    "    y_test = pd.DataFrame(y_test)\n",
    "    y_test = np.array(y_test)\n",
    "\n",
    "    def acc(x):\n",
    "        if x>0.5:\n",
    "            return 1\n",
    "        else:\n",
    "            return 0\n",
    "\n",
    "    y_model=[]\n",
    "    for i in y_pred:\n",
    "        y_model.append(acc(i))\n",
    "    y_answer=[]\n",
    "    for j in y_test:\n",
    "        y_answer.append(acc(j))\n",
    "    \n",
    "    auc_roc_inter.append(roc_auc_score(y_answer,y_pred))"
   ]
  },
  {
   "cell_type": "code",
   "execution_count": null,
   "metadata": {},
   "outputs": [],
   "source": [
    "mean_confidence_interval(auc_roc_inter)"
   ]
  },
  {
   "cell_type": "code",
   "execution_count": null,
   "metadata": {},
   "outputs": [],
   "source": [
    "mean_confidence_interval(val_a)"
   ]
  },
  {
   "cell_type": "code",
   "execution_count": null,
   "metadata": {},
   "outputs": [],
   "source": [
    "mean_confidence_interval(train_a)"
   ]
  },
  {
   "cell_type": "code",
   "execution_count": null,
   "metadata": {},
   "outputs": [],
   "source": []
  },
  {
   "cell_type": "code",
   "execution_count": null,
   "metadata": {},
   "outputs": [],
   "source": []
  }
 ],
 "metadata": {
  "kernelspec": {
   "display_name": "Python 3",
   "language": "python",
   "name": "python3"
  },
  "language_info": {
   "codemirror_mode": {
    "name": "ipython",
    "version": 3
   },
   "file_extension": ".py",
   "mimetype": "text/x-python",
   "name": "python",
   "nbconvert_exporter": "python",
   "pygments_lexer": "ipython3",
   "version": "3.5.2"
  }
 },
 "nbformat": 4,
 "nbformat_minor": 4
}
