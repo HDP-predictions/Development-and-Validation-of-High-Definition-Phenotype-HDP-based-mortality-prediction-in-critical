{
 "cells": [
  {
   "cell_type": "code",
   "execution_count": 1,
   "metadata": {},
   "outputs": [],
   "source": [
    "import pandas as pd\n",
    "import numpy as np\n",
    "from sklearn.metrics import roc_auc_score\n",
    "from sklearn.metrics import roc_curve\n",
    "from sklearn.metrics import precision_recall_curve"
   ]
  },
  {
   "cell_type": "code",
   "execution_count": 25,
   "metadata": {},
   "outputs": [],
   "source": [
    "snap_2 = pd.read_csv('snap.csv')"
   ]
  },
  {
   "cell_type": "code",
   "execution_count": 26,
   "metadata": {},
   "outputs": [],
   "source": [
    "def mean_bp(x):\n",
    "    if x < 20.0:\n",
    "        return 19\n",
    "    elif x>=20 and x<30:\n",
    "        return 9\n",
    "    else:\n",
    "        return 0\n",
    "\n",
    "def temp(x):\n",
    "    if x>35.6:\n",
    "        return 0\n",
    "    elif x>35 and x<=35.6:\n",
    "        return 8\n",
    "    else:\n",
    "        return 15\n",
    "    \n",
    "def po2_fio2(x):\n",
    "    if x>2.49:\n",
    "        return 0\n",
    "    elif x>1.0 and x<=2.49:\n",
    "        return 5\n",
    "    elif x>0.3 and x<=0.99:\n",
    "        return 16\n",
    "    else:\n",
    "        return 28    \n",
    "    \n",
    "def ph_calc(x):\n",
    "    if x>7.20:\n",
    "        return 0\n",
    "    elif x>7.10 and x<=7.19:\n",
    "        return 7\n",
    "    else:\n",
    "        return 16\n",
    "    \n",
    "def urine_output_calc(x):\n",
    "    if x>=1.0:\n",
    "        return 0\n",
    "    elif x>0.1 and x<=0.9:\n",
    "        return 5\n",
    "    else:\n",
    "        return 18\n",
    "    \n",
    "def apgar(x):\n",
    "    if x>=7:\n",
    "        return 0\n",
    "    else:\n",
    "        return 8\n",
    "    \n",
    "def birthweight_calc(x):\n",
    "    if x>=1000.0:\n",
    "        return 0\n",
    "    elif x>750.0 and x<=999.0:\n",
    "        return 10\n",
    "    else:\n",
    "        return 17\n",
    "    \n",
    "def sga_calc(x):\n",
    "    if x==0:\n",
    "        return 0\n",
    "    else:\n",
    "        return 12\n",
    "    \n",
    "def snap_2_pred(x):\n",
    "    if x > 5:\n",
    "        return 1\n",
    "    else:\n",
    "        return 0\n",
    "    \n",
    "def bina(x):\n",
    "    if x == 'Death':\n",
    "        return 1\n",
    "    else:\n",
    "        return 0"
   ]
  },
  {
   "cell_type": "code",
   "execution_count": 27,
   "metadata": {},
   "outputs": [],
   "source": [
    "snap_2['score'] = snap_2.central_temp.apply(temp) + snap_2.bp_mean.apply(mean_bp) + snap_2.new_ph.apply(ph_calc) + snap_2.po2_fio2_ratio.apply(po2_fio2) + snap_2.urine_output.apply(urine_output_calc)"
   ]
  },
  {
   "cell_type": "code",
   "execution_count": 28,
   "metadata": {},
   "outputs": [],
   "source": [
    "snap_2['pred'] = snap_2.score.apply(snap_2_pred)"
   ]
  },
  {
   "cell_type": "code",
   "execution_count": 29,
   "metadata": {},
   "outputs": [],
   "source": [
    "snap_2['true_outcome'] = snap_2.dischargestatus.apply(bina)"
   ]
  },
  {
   "cell_type": "code",
   "execution_count": 30,
   "metadata": {},
   "outputs": [],
   "source": [
    "lr_fpr, lr_tpr, _ = roc_curve(snap_2.true_outcome,snap_2.pred,drop_intermediate=False)"
   ]
  },
  {
   "cell_type": "code",
   "execution_count": 31,
   "metadata": {},
   "outputs": [
    {
     "data": {
      "text/plain": [
       "<matplotlib.legend.Legend at 0x20210f89668>"
      ]
     },
     "execution_count": 31,
     "metadata": {},
     "output_type": "execute_result"
    },
    {
     "data": {
      "image/png": "[encoded data removed]",
      "text/plain": [
       "<Figure size 432x288 with 1 Axes>"
      ]
     },
     "metadata": {
      "needs_background": "light"
     },
     "output_type": "display_data"
    }
   ],
   "source": [
    "import matplotlib.pyplot as plt\n",
    "\n",
    "%matplotlib inline\n",
    "\n",
    "plt.title('AUC ROC CURVE')\n",
    "plt.xlabel('False Positive Rate')\n",
    "plt.ylabel('True Positive Rate')\n",
    "plt.plot(lr_fpr, lr_tpr, marker='.', label='SNAP 2')\n",
    "plt.legend(loc=0)"
   ]
  },
  {
   "cell_type": "code",
   "execution_count": 32,
   "metadata": {},
   "outputs": [
    {
     "data": {
      "text/plain": [
       "0.5066105769230769"
      ]
     },
     "execution_count": 32,
     "metadata": {},
     "output_type": "execute_result"
    }
   ],
   "source": [
    "roc_auc_score(snap_2.true_outcome,snap_2.pred)"
   ]
  },
  {
   "cell_type": "code",
   "execution_count": 33,
   "metadata": {},
   "outputs": [],
   "source": [
    "cols_snappe = ['uhid', 'dischargestatus', 'birthweight', \n",
    "       'weight_galevel', 'central_temp', 'bp_mean', 'admissionweight',\n",
    "       'new_ph', 'apgar_fivemin', 'po2_fio2_ratio',\n",
    "       'urine_output']"
   ]
  },
  {
   "cell_type": "code",
   "execution_count": 34,
   "metadata": {},
   "outputs": [],
   "source": [
    "snappe = pd.read_csv('snappe.csv')"
   ]
  },
  {
   "cell_type": "code",
   "execution_count": 35,
   "metadata": {},
   "outputs": [],
   "source": [
    "snappe['score'] = snappe.bp_mean.apply(mean_bp) + snappe.central_temp.apply(temp) + snappe.po2_fio2_ratio.apply(po2_fio2) + snappe.new_ph.apply(ph_calc)+snappe.urine_output.apply(urine_output_calc)+snappe.apgar_fivemin.apply(apgar)+snappe.birthweight.apply(birthweight_calc)+snappe.weight_galevel.apply(sga_calc)"
   ]
  },
  {
   "cell_type": "code",
   "execution_count": 36,
   "metadata": {},
   "outputs": [],
   "source": [
    "def snappe_pred(x):\n",
    "    if x>5:\n",
    "        return 1\n",
    "    else:\n",
    "        return 0"
   ]
  },
  {
   "cell_type": "code",
   "execution_count": 37,
   "metadata": {},
   "outputs": [],
   "source": [
    "snappe['pred'] = snappe['score'].apply(snappe_pred)\n",
    "snappe['true_outcome'] = snappe['dischargestatus'].apply(bina)"
   ]
  },
  {
   "cell_type": "code",
   "execution_count": 38,
   "metadata": {},
   "outputs": [],
   "source": [
    "snappe_fpr, snappe_tpr, _ = roc_curve(snappe.true_outcome,snappe.pred,drop_intermediate=False)"
   ]
  },
  {
   "cell_type": "code",
   "execution_count": 39,
   "metadata": {},
   "outputs": [
    {
     "data": {
      "text/plain": [
       "<matplotlib.legend.Legend at 0x202110ee588>"
      ]
     },
     "execution_count": 39,
     "metadata": {},
     "output_type": "execute_result"
    },
    {
     "data": {
      "image/png": "[encoded data removed]",
      "text/plain": [
       "<Figure size 432x288 with 1 Axes>"
      ]
     },
     "metadata": {
      "needs_background": "light"
     },
     "output_type": "display_data"
    }
   ],
   "source": [
    "import matplotlib.pyplot as plt\n",
    "\n",
    "plt.title('AUC ROC CURVE')\n",
    "plt.xlabel('False Positive Rate')\n",
    "plt.ylabel('True Positive Rate')\n",
    "plt.plot(snappe_fpr, snappe_tpr, marker='.', label='SNAPPE 2')\n",
    "plt.legend(loc=0)"
   ]
  },
  {
   "cell_type": "code",
   "execution_count": 40,
   "metadata": {},
   "outputs": [
    {
     "data": {
      "text/plain": [
       "0.7007211538461539"
      ]
     },
     "execution_count": 40,
     "metadata": {},
     "output_type": "execute_result"
    }
   ],
   "source": [
    "roc_auc_score(snappe.true_outcome,snappe.pred)"
   ]
  },
  {
   "cell_type": "code",
   "execution_count": 41,
   "metadata": {},
   "outputs": [],
   "source": [
    "snap = pd.DataFrame(snap_2.true_outcome)"
   ]
  },
  {
   "cell_type": "code",
   "execution_count": 42,
   "metadata": {},
   "outputs": [],
   "source": [
    "snap['pred'] = snap_2.pred"
   ]
  },
  {
   "cell_type": "code",
   "execution_count": 43,
   "metadata": {},
   "outputs": [],
   "source": [
    "snappe_2 = pd.DataFrame(snappe.true_outcome)"
   ]
  },
  {
   "cell_type": "code",
   "execution_count": 44,
   "metadata": {},
   "outputs": [],
   "source": [
    "snappe_2['pred'] = snappe.pred"
   ]
  },
  {
   "cell_type": "code",
   "execution_count": 45,
   "metadata": {},
   "outputs": [
    {
     "name": "stdout",
     "output_type": "stream",
     "text": [
      "              precision    recall  f1-score   support\n",
      "\n",
      "           0       0.99      0.65      0.79      1664\n",
      "           1       0.03      0.75      0.06        24\n",
      "\n",
      "   micro avg       0.65      0.65      0.65      1688\n",
      "   macro avg       0.51      0.70      0.42      1688\n",
      "weighted avg       0.98      0.65      0.78      1688\n",
      "\n",
      "[[1084  580]\n",
      " [   6   18]]\n"
     ]
    }
   ],
   "source": [
    "#SNAPPE 2\n",
    "from sklearn.metrics import classification_report, confusion_matrix\n",
    "print(classification_report(snappe.true_outcome,snappe.pred))\n",
    "print(confusion_matrix(snappe.true_outcome,snappe.pred))"
   ]
  },
  {
   "cell_type": "code",
   "execution_count": 46,
   "metadata": {},
   "outputs": [
    {
     "name": "stdout",
     "output_type": "stream",
     "text": [
      "              precision    recall  f1-score   support\n",
      "\n",
      "           0       0.99      0.76      0.86      1664\n",
      "           1       0.01      0.25      0.03        24\n",
      "\n",
      "   micro avg       0.76      0.76      0.76      1688\n",
      "   macro avg       0.50      0.51      0.44      1688\n",
      "weighted avg       0.97      0.76      0.85      1688\n",
      "\n",
      "[[1270  394]\n",
      " [  18    6]]\n"
     ]
    }
   ],
   "source": [
    "#SNAP 2\n",
    "print(classification_report(snap_2.true_outcome,snap_2.pred))\n",
    "print(confusion_matrix(snap_2.true_outcome,snap_2.pred))"
   ]
  },
  {
   "cell_type": "code",
   "execution_count": null,
   "metadata": {},
   "outputs": [],
   "source": []
  },
  {
   "cell_type": "code",
   "execution_count": null,
   "metadata": {},
   "outputs": [],
   "source": []
  }
 ],
 "metadata": {
  "kernelspec": {
   "display_name": "Python 3",
   "language": "python",
   "name": "python3"
  },
  "language_info": {
   "codemirror_mode": {
    "name": "ipython",
    "version": 3
   },
   "file_extension": ".py",
   "mimetype": "text/x-python",
   "name": "python",
   "nbconvert_exporter": "python",
   "pygments_lexer": "ipython3",
   "version": "3.7.3"
  }
 },
 "nbformat": 4,
 "nbformat_minor": 2
}
