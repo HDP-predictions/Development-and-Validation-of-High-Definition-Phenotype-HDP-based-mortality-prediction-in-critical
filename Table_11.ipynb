{
 "cells": [
  {
   "cell_type": "code",
   "execution_count": null,
   "metadata": {},
   "outputs": [],
   "source": [
    "import pandas as pd\n",
    "import numpy as np\n",
    "from keras.layers import Activation, Dense, Dropout, SpatialDropout1D,Input,Masking,Bidirectional, TimeDistributed\n",
    "from keras.layers.embeddings import Embedding\n",
    "from keras.layers.recurrent import LSTM,GRU\n",
    "from keras.models import Sequential, Model\n",
    "from keras.preprocessing import sequence\n",
    "from sklearn.model_selection import train_test_split\n",
    "from keras.callbacks import EarlyStopping\n",
    "from random import seed\n",
    "from sklearn.metrics import roc_auc_score\n",
    "#seed(1)\n",
    "import tensorflow as tf\n",
    "from keras.layers import Input, Dense\n",
    "from keras.models import Model\n",
    "import scipy.stats\n",
    "from prettytable import PrettyTable\n",
    "import math\n",
    "import itertools\n",
    "from random import shuffle\n",
    "\n",
    "\n",
    "#defining the early stopping criteria\n",
    "es = EarlyStopping(monitor='val_loss', mode='min', verbose=1,restore_best_weights=True,patience=3)\n",
    "\n",
    "gs = pd.read_csv('data_19th_june.csv')\n",
    "gs.drop('Unnamed: 0',axis=1,inplace=True)\n",
    "gs.drop('Unnamed: 0.1',axis=1,inplace=True)\n",
    "\n",
    "\n",
    "\n",
    "def split_70(x):\n",
    "    return int((round((x/15)*0.7))*15)\n",
    "\n",
    "\n",
    "def mean_confidence_interval(data, confidence=0.95):\n",
    "    a = 1.0 * np.array(data)\n",
    "    n = len(a)\n",
    "    m, se = np.mean(a), scipy.stats.sem(a)\n",
    "    h = se * scipy.stats.t.ppf((1 + confidence) / 2., n-1)\n",
    "    return round(m,3), round(m-h,3), round(m+h,3)\n",
    "\n",
    "\n",
    "\n",
    "\n",
    "def make_lstm(gd):\n",
    "\n",
    "\n",
    "    final_df = gd.copy()\n",
    "\n",
    "\n",
    "    final_df.fillna(-999,inplace=True)\n",
    "\n",
    "\n",
    "    # In[ ]:\n",
    "\n",
    "\n",
    "    train = final_df[:split_70(len(final_df))]\n",
    "    test = final_df[split_70(len(final_df)):]\n",
    "\n",
    "\n",
    "\n",
    "    # In[ ]:\n",
    "\n",
    "\n",
    "    y_train = train['dischargestatus']\n",
    "    X_train = train.drop('dischargestatus',axis=1)\n",
    "    X_train = X_train.drop('uhid',axis=1)\n",
    "    #X_train = X_train.drop('visittime',axis=1)\n",
    "\n",
    "    y_test = test['dischargestatus']\n",
    "    X_test = test.drop('dischargestatus',axis=1)\n",
    "    X_test = X_test.drop('uhid',axis=1)\n",
    "    #X_test = X_test.drop('startdate',axis=1)\n",
    "\n",
    "\n",
    "    # In[ ]:\n",
    "\n",
    "    auc_roc_inter = []\n",
    "    val_a = []\n",
    "    train_a = []\n",
    "\n",
    "\n",
    "    #converting the data into a numpy array\n",
    "    X_train = np.array(X_train)\n",
    "    y_train = np.array(y_train)\n",
    "    X_test = np.array(X_test)\n",
    "    y_test = np.array(y_test)\n",
    "    ytrain1 = []\n",
    "    for i in range(0,len(y_train),15):\n",
    "        #print(i)\n",
    "        y1 = y_train[i:i+15]\n",
    "        ytrain1.append(y1[-1])\n",
    "\n",
    "    ytest1 = []\n",
    "    for i in range(0,len(y_test),15):\n",
    "        #print(i)\n",
    "        y1 = y_test[i:i+15]\n",
    "        ytest1.append(y1[-1])\n",
    "\n",
    "    ytrain1 = np.array(ytrain1)\n",
    "    ytest1 = np.array(ytest1)\n",
    "\n",
    "    Xtrain = np.reshape(X_train, (-1, 15, X_train.shape[1]))\n",
    "    Xtest = np.reshape(X_test, (-1, 15, X_test.shape[1]))\n",
    "\n",
    "    return Xtrain,Xtest,ytrain1,ytest1\n",
    "\n",
    "def lstm_model(n,Xtrain,Xtest,ytrain1,ytest1):\n",
    "    auc_roc_inter = []\n",
    "    val_a = []\n",
    "    train_a = []\n",
    "    for i in range(2):\n",
    "        #Building the LSTM model\n",
    "        X = Input(shape=(None, n), name='X')\n",
    "        mX = Masking()(X)\n",
    "        lstm = Bidirectional(LSTM(units=512,activation='tanh',return_sequences=True,recurrent_dropout=0.5,dropout=0.3))\n",
    "        mX = lstm(mX)\n",
    "        L = LSTM(units=64,activation='tanh',return_sequences=False)(mX)\n",
    "        y = Dense(1, activation=\"sigmoid\")(L)\n",
    "        outputs = [y]\n",
    "        inputs = [X]\n",
    "        model = Model(inputs,outputs)\n",
    "        model.compile(loss=\"binary_crossentropy\",optimizer='adam',metrics=['accuracy'])\n",
    "\n",
    "        v_a = []\n",
    "        t_a = []\n",
    "        #fitting the model\n",
    "        model.fit(Xtrain, ytrain1, batch_size=60 ,validation_split=0.15,epochs=38,callbacks=[es])\n",
    "        #history = model.fit(Xtrain, ytrain1, batch_size=60 ,validation_split=0.15,epochs=38,callbacks=[es])\n",
    "        for i in range(len(model.history.history['val_accuracy'])):\n",
    "            v_a.append(model.history.history['val_accuracy'][i])\n",
    "            t_a.append(model.history.history['accuracy'][i])\n",
    "        #predictions\n",
    "        y_pred = model.predict(Xtest)\n",
    "        #y_pred = y_pred.round()\n",
    "        y_test = np.array(ytest1)\n",
    "        y_pred = np.array(y_pred)\n",
    "        y_test = pd.DataFrame(y_test)\n",
    "        y_test = np.array(y_test)\n",
    "\n",
    "        def acc(x):\n",
    "            if x>0.5:\n",
    "                return 1\n",
    "            else:\n",
    "                return 0\n",
    "\n",
    "        y_model=[]\n",
    "        for i in y_pred:\n",
    "            y_model.append(acc(i))\n",
    "        y_answer=[]\n",
    "        for j in y_test:\n",
    "            y_answer.append(acc(j))\n",
    "            \n",
    "        val_a.append(v_a)\n",
    "        train_a.append(t_a)\n",
    "        auc_roc_inter.append(roc_auc_score(y_answer,y_pred))\n",
    "        continue\n",
    "    \n",
    "    \n",
    "        \n",
    "    return auc_roc_inter,y_model,y_answer\n",
    "\n",
    "\n"
   ]
  },
  {
   "cell_type": "code",
   "execution_count": null,
   "metadata": {
    "scrolled": true
   },
   "outputs": [],
   "source": [
    "cols_to_use = ['uhid','pulserate',  'ecg_resprate', 'spo2', 'heartrate','new_ph','dischargestatus']\n",
    "gd = gs[cols_to_use]\n",
    "Xtrain,Xtest,ytrain1,ytest1 = make_lstm(gd)\n",
    "an,y_model,y_answer = lstm_model((len(cols_to_use)-2),Xtrain,Xtest,ytrain1,ytest1)\n",
    "a_a = mean_confidence_interval(an)"
   ]
  },
  {
   "cell_type": "code",
   "execution_count": null,
   "metadata": {},
   "outputs": [],
   "source": [
    "cols_to_use = ['uhid','pulserate',  'ecg_resprate', 'spo2', 'heartrate','rbs','dischargestatus']\n",
    "gd = gs[cols_to_use]\n",
    "Xtrain,Xtest,ytrain1,ytest1 = make_lstm(gd)\n",
    "an,y_model,y_answer = lstm_model((len(cols_to_use)-2),Xtrain,Xtest,ytrain1,ytest1)\n",
    "a_b = mean_confidence_interval(an)"
   ]
  },
  {
   "cell_type": "code",
   "execution_count": null,
   "metadata": {},
   "outputs": [],
   "source": [
    "cols_to_use = ['uhid','pulserate',  'ecg_resprate', 'spo2', 'heartrate','temp','dischargestatus']\n",
    "gd = gs[cols_to_use]\n",
    "Xtrain,Xtest,ytrain1,ytest1 = make_lstm(gd)\n",
    "an,y_model,y_answer = lstm_model((len(cols_to_use)-2),Xtrain,Xtest,ytrain1,ytest1)\n",
    "a_c = mean_confidence_interval(an)"
   ]
  },
  {
   "cell_type": "code",
   "execution_count": null,
   "metadata": {},
   "outputs": [],
   "source": [
    "cols_to_use = ['uhid','pulserate',  'ecg_resprate', 'spo2', 'heartrate','currentdateweight','dischargestatus']\n",
    "gd = gs[cols_to_use]\n",
    "Xtrain,Xtest,ytrain1,ytest1 = make_lstm(gd)\n",
    "an,y_model,y_answer = lstm_model((len(cols_to_use)-2),Xtrain,Xtest,ytrain1,ytest1)\n",
    "a_d = mean_confidence_interval(an)"
   ]
  },
  {
   "cell_type": "code",
   "execution_count": null,
   "metadata": {},
   "outputs": [],
   "source": [
    "cols_to_use = ['uhid','pulserate',  'ecg_resprate', 'spo2', 'heartrate','currentdateheight','dischargestatus']\n",
    "gd = gs[cols_to_use]\n",
    "Xtrain,Xtest,ytrain1,ytest1 = make_lstm(gd)\n",
    "an,y_model,y_answer = lstm_model((len(cols_to_use)-2),Xtrain,Xtest,ytrain1,ytest1)\n",
    "a_e = mean_confidence_interval(an)"
   ]
  },
  {
   "cell_type": "code",
   "execution_count": null,
   "metadata": {},
   "outputs": [],
   "source": [
    "cols_to_use = ['uhid','pulserate',  'ecg_resprate', 'spo2', 'heartrate','urine_per_kg_hour','dischargestatus']\n",
    "gd = gs[cols_to_use]\n",
    "Xtrain,Xtest,ytrain1,ytest1 = make_lstm(gd)\n",
    "an,y_model,y_answer = lstm_model((len(cols_to_use)-2),Xtrain,Xtest,ytrain1,ytest1)\n",
    "a_f = mean_confidence_interval(an)"
   ]
  },
  {
   "cell_type": "code",
   "execution_count": null,
   "metadata": {},
   "outputs": [],
   "source": [
    "cols_to_use = ['uhid','pulserate',  'ecg_resprate', 'spo2', 'heartrate','abd_difference_y','dischargestatus']\n",
    "gd = gs[cols_to_use]\n",
    "Xtrain,Xtest,ytrain1,ytest1 = make_lstm(gd)\n",
    "an,y_model,y_answer = lstm_model((len(cols_to_use)-2),Xtrain,Xtest,ytrain1,ytest1)\n",
    "a_g = mean_confidence_interval(an)"
   ]
  },
  {
   "cell_type": "code",
   "execution_count": null,
   "metadata": {},
   "outputs": [],
   "source": [
    "cols_to_use = ['uhid','pulserate',  'ecg_resprate', 'spo2', 'heartrate','tpn-tfl','dischargestatus']\n",
    "gd = gs[cols_to_use]\n",
    "Xtrain,Xtest,ytrain1,ytest1 = make_lstm(gd)\n",
    "an,y_model,y_answer = lstm_model((len(cols_to_use)-2),Xtrain,Xtest,ytrain1,ytest1)\n",
    "a_h = mean_confidence_interval(an)"
   ]
  },
  {
   "cell_type": "code",
   "execution_count": null,
   "metadata": {},
   "outputs": [],
   "source": [
    "cols_to_use = ['uhid','pulserate',  'ecg_resprate', 'spo2', 'heartrate','mean_bp','dischargestatus']\n",
    "gd = gs[cols_to_use]\n",
    "Xtrain,Xtest,ytrain1,ytest1 = make_lstm(gd)\n",
    "an,y_model,y_answer = lstm_model((len(cols_to_use)-2),Xtrain,Xtest,ytrain1,ytest1)\n",
    "a_i = mean_confidence_interval(an)"
   ]
  },
  {
   "cell_type": "code",
   "execution_count": null,
   "metadata": {},
   "outputs": [],
   "source": [
    "cols_to_use = ['uhid','pulserate',  'ecg_resprate', 'spo2', 'heartrate','sys_bp','dischargestatus']\n",
    "gd = gs[cols_to_use]\n",
    "Xtrain,Xtest,ytrain1,ytest1 = make_lstm(gd)\n",
    "an,y_model,y_answer = lstm_model((len(cols_to_use)-2),Xtrain,Xtest,ytrain1,ytest1)\n",
    "a_j = mean_confidence_interval(an)"
   ]
  },
  {
   "cell_type": "code",
   "execution_count": null,
   "metadata": {},
   "outputs": [],
   "source": [
    "cols_to_use = ['uhid','pulserate',  'ecg_resprate', 'spo2', 'heartrate','dia_bp','dischargestatus']\n",
    "gd = gs[cols_to_use]\n",
    "Xtrain,Xtest,ytrain1,ytest1 = make_lstm(gd)\n",
    "an,y_model,y_answer = lstm_model((len(cols_to_use)-2),Xtrain,Xtest,ytrain1,ytest1)\n",
    "a_k = mean_confidence_interval(an)"
   ]
  },
  {
   "cell_type": "code",
   "execution_count": null,
   "metadata": {},
   "outputs": [],
   "source": [
    "cols_to_use = ['uhid','pulserate',  'ecg_resprate', 'spo2', 'heartrate','peep','dischargestatus']\n",
    "gd = gs[cols_to_use]\n",
    "Xtrain,Xtest,ytrain1,ytest1 = make_lstm(gd)\n",
    "an,y_model,y_answer = lstm_model((len(cols_to_use)-2),Xtrain,Xtest,ytrain1,ytest1)\n",
    "a_l = mean_confidence_interval(an)"
   ]
  },
  {
   "cell_type": "code",
   "execution_count": null,
   "metadata": {},
   "outputs": [],
   "source": [
    "cols_to_use = ['uhid','pulserate',  'ecg_resprate', 'spo2', 'heartrate','pip','dischargestatus']\n",
    "gd = gs[cols_to_use]\n",
    "Xtrain,Xtest,ytrain1,ytest1 = make_lstm(gd)\n",
    "an,y_model,y_answer = lstm_model((len(cols_to_use)-2),Xtrain,Xtest,ytrain1,ytest1)\n",
    "a_m = mean_confidence_interval(an)"
   ]
  },
  {
   "cell_type": "code",
   "execution_count": null,
   "metadata": {},
   "outputs": [],
   "source": [
    "cols_to_use = ['uhid','pulserate',  'ecg_resprate', 'spo2', 'heartrate','map','dischargestatus']\n",
    "gd = gs[cols_to_use]\n",
    "Xtrain,Xtest,ytrain1,ytest1 = make_lstm(gd)\n",
    "an,y_model,y_answer = lstm_model((len(cols_to_use)-2),Xtrain,Xtest,ytrain1,ytest1)\n",
    "a_n = mean_confidence_interval(an)"
   ]
  },
  {
   "cell_type": "code",
   "execution_count": null,
   "metadata": {},
   "outputs": [],
   "source": [
    "cols_to_use = ['uhid','pulserate',  'ecg_resprate', 'spo2', 'heartrate','fio2','dischargestatus']\n",
    "gd = gs[cols_to_use]\n",
    "Xtrain,Xtest,ytrain1,ytest1 = make_lstm(gd)\n",
    "an,y_model,y_answer = lstm_model((len(cols_to_use)-2),Xtrain,Xtest,ytrain1,ytest1)\n",
    "a_o = mean_confidence_interval(an)"
   ]
  },
  {
   "cell_type": "code",
   "execution_count": null,
   "metadata": {},
   "outputs": [],
   "source": [
    "cols_to_use = ['uhid','pulserate',  'ecg_resprate', 'spo2', 'heartrate','tidalvol','dischargestatus']\n",
    "gd = gs[cols_to_use]\n",
    "Xtrain,Xtest,ytrain1,ytest1 = make_lstm(gd)\n",
    "an,y_model,y_answer = lstm_model((len(cols_to_use)-2),Xtrain,Xtest,ytrain1,ytest1)\n",
    "a_p = mean_confidence_interval(an)"
   ]
  },
  {
   "cell_type": "code",
   "execution_count": null,
   "metadata": {},
   "outputs": [],
   "source": [
    "cols_to_use = ['uhid','pulserate',  'ecg_resprate', 'spo2', 'heartrate','minvol','dischargestatus']\n",
    "gd = gs[cols_to_use]\n",
    "Xtrain,Xtest,ytrain1,ytest1 = make_lstm(gd)\n",
    "an,y_model,y_answer = lstm_model((len(cols_to_use)-2),Xtrain,Xtest,ytrain1,ytest1)\n",
    "a_q = mean_confidence_interval(an)"
   ]
  },
  {
   "cell_type": "code",
   "execution_count": null,
   "metadata": {},
   "outputs": [],
   "source": [
    "cols_to_use = ['uhid','pulserate',  'ecg_resprate', 'spo2', 'heartrate','ti','dischargestatus']\n",
    "gd = gs[cols_to_use]\n",
    "Xtrain,Xtest,ytrain1,ytest1 = make_lstm(gd)\n",
    "an,y_model,y_answer = lstm_model((len(cols_to_use)-2),Xtrain,Xtest,ytrain1,ytest1)\n",
    "a_r = mean_confidence_interval(an)"
   ]
  },
  {
   "cell_type": "code",
   "execution_count": null,
   "metadata": {},
   "outputs": [],
   "source": [
    "l = [[\"pH\" ,a_a],[\"RBS\" ,a_b],[\"Temp\" ,a_c],[\"Daily Weight\" ,a_d],[\"Daily Height\" ,a_e],[\"Urine/kg/Hr\" ,a_f],[\"Abdomen Girth Difference\" ,a_g],[\"TPN/TFL\" ,a_h],[\"Mean BP\" ,a_i],[\"Sys BP\" ,a_j],[\"Dia BP\" ,a_k],[\"PEEP\" ,a_l],[\"PIP\" ,a_m],[\"MAP\" ,a_n],[\"FiO2\" ,a_o],[\"Tidal Vol\" ,a_p],[\"MinVol\" ,a_q],[\"Ti\" ,a_r]]\n",
    "\n",
    "table = PrettyTable(['Parameter', 'AUC-ROC'])\n",
    "\n",
    "for rec in l:\n",
    "    table.add_row(rec)\n",
    "\n",
    "print(table)"
   ]
  },
  {
   "cell_type": "code",
   "execution_count": null,
   "metadata": {},
   "outputs": [],
   "source": []
  }
 ],
 "metadata": {
  "kernelspec": {
   "display_name": "Python 3",
   "language": "python",
   "name": "python3"
  },
  "language_info": {
   "codemirror_mode": {
    "name": "ipython",
    "version": 2
   },
   "file_extension": ".py",
   "mimetype": "text/x-python",
   "name": "python",
   "nbconvert_exporter": "python",
   "pygments_lexer": "ipython2",
   "version": "2.7.17"
  }
 },
 "nbformat": 4,
 "nbformat_minor": 2
}
