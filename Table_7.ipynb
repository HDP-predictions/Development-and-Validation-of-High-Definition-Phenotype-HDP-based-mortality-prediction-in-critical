{
 "cells": [
  {
   "cell_type": "code",
   "execution_count": 1,
   "metadata": {},
   "outputs": [],
   "source": [
    "import pandas as pd\n",
    "import numpy as np"
   ]
  },
  {
   "cell_type": "code",
   "execution_count": null,
   "metadata": {},
   "outputs": [],
   "source": []
  },
  {
   "cell_type": "code",
   "execution_count": 2,
   "metadata": {},
   "outputs": [
    {
     "name": "stderr",
     "output_type": "stream",
     "text": [
      "/usr/local/lib/python3.7/site-packages/IPython/core/interactiveshell.py:3049: DtypeWarning: Columns (14,20,22,30,36,38,46,47,48,49,53,54,56,58,64,65,69,70,71,72,74,82,87,91,92,93,101,102) have mixed types. Specify dtype option on import or set low_memory=False.\n",
      "  interactivity=interactivity, compiler=compiler, result=result)\n"
     ]
    }
   ],
   "source": [
    "data = pd.read_csv('lstm_analysis.csv')\n",
    "data.fillna(-999,inplace=True)"
   ]
  },
  {
   "cell_type": "code",
   "execution_count": null,
   "metadata": {},
   "outputs": [],
   "source": []
  },
  {
   "cell_type": "code",
   "execution_count": 3,
   "metadata": {},
   "outputs": [
    {
     "data": {
      "text/plain": [
       "Index(['Unnamed: 0', 'Unnamed: 0.1', 'actual_DOB', 'uhid', 'dischargeddate',\n",
       "       'actual_DOA', 'gender', 'birthweight', 'birthlength',\n",
       "       'birthheadcircumference',\n",
       "       ...\n",
       "       'pip', 'map', 'tidalvol', 'minvol', 'ti', 'fio2', 'hour_series_y',\n",
       "       'ref_hour_y', 'dischargestatus', 'typevalue_Inotropes'],\n",
       "      dtype='object', length=105)"
      ]
     },
     "execution_count": 3,
     "metadata": {},
     "output_type": "execute_result"
    }
   ],
   "source": [
    "data.columns"
   ]
  },
  {
   "cell_type": "code",
   "execution_count": null,
   "metadata": {},
   "outputs": [],
   "source": []
  },
  {
   "cell_type": "code",
   "execution_count": 4,
   "metadata": {},
   "outputs": [],
   "source": [
    "cols = ['uhid','pulserate', 'ecg_resprate',\n",
    "       'spo2', 'heartrate', 'mean_bp', 'sys_bp', 'dia_bp',\n",
    "       'peep', 'pip', 'map', 'tidalvol', 'minvol', 'ti', 'fio2',\n",
    "       'abd_difference_y',\n",
    "       'currentdateheight',\n",
    "       'currentdateweight','dischargestatus', \n",
    "       'new_ph', \n",
    "       'rbs',  'stool_day_total', \n",
    "       'temp', 'total_intake', 'totalparenteralvolume',\n",
    "       'tpn-tfl', 'typevalue_Antibiotics', 'typevalue_Inotropes',\n",
    "       'urine','gender', 'birthweight',\n",
    "       'birthlength', 'birthheadcircumference', 'inout_patient_status',\n",
    "       'gestationweekbylmp', 'gestationdaysbylmp',\n",
    "       'baby_type', 'central_temp', 'apgar_onemin', 'apgar_fivemin',\n",
    "       'apgar_tenmin', 'motherage', 'conception_type', 'mode_of_delivery',\n",
    "       'steroidname', 'numberofdose', 'gestation']"
   ]
  },
  {
   "cell_type": "code",
   "execution_count": null,
   "metadata": {},
   "outputs": [],
   "source": []
  },
  {
   "cell_type": "code",
   "execution_count": 5,
   "metadata": {},
   "outputs": [],
   "source": [
    "death = data[data['dischargestatus']==1]\n",
    "dis = data[data['dischargestatus']==0]"
   ]
  },
  {
   "cell_type": "code",
   "execution_count": null,
   "metadata": {},
   "outputs": [],
   "source": []
  },
  {
   "cell_type": "code",
   "execution_count": null,
   "metadata": {},
   "outputs": [],
   "source": []
  },
  {
   "cell_type": "code",
   "execution_count": null,
   "metadata": {},
   "outputs": [],
   "source": []
  },
  {
   "cell_type": "code",
   "execution_count": 6,
   "metadata": {},
   "outputs": [],
   "source": [
    "n_dis = len(dis)\n",
    "n_dea = len(death)"
   ]
  },
  {
   "cell_type": "code",
   "execution_count": null,
   "metadata": {},
   "outputs": [],
   "source": []
  },
  {
   "cell_type": "code",
   "execution_count": null,
   "metadata": {},
   "outputs": [],
   "source": []
  },
  {
   "cell_type": "code",
   "execution_count": null,
   "metadata": {},
   "outputs": [],
   "source": []
  },
  {
   "cell_type": "code",
   "execution_count": null,
   "metadata": {},
   "outputs": [],
   "source": [
    "\n",
    "    "
   ]
  },
  {
   "cell_type": "code",
   "execution_count": null,
   "metadata": {},
   "outputs": [],
   "source": []
  },
  {
   "cell_type": "code",
   "execution_count": null,
   "metadata": {},
   "outputs": [],
   "source": []
  },
  {
   "cell_type": "code",
   "execution_count": null,
   "metadata": {},
   "outputs": [],
   "source": []
  },
  {
   "cell_type": "code",
   "execution_count": null,
   "metadata": {},
   "outputs": [],
   "source": []
  },
  {
   "cell_type": "code",
   "execution_count": 7,
   "metadata": {},
   "outputs": [
    {
     "name": "stdout",
     "output_type": "stream",
     "text": [
      "uhid 0 0.0\n",
      "pulserate 83062 20.016193785634762\n",
      "ecg_resprate 153013 36.87291251982052\n",
      "spo2 82467 19.872811308660303\n",
      "heartrate 118380 28.527088444095295\n",
      "mean_bp 403794 97.30585530659752\n",
      "sys_bp 403692 97.2812754534019\n",
      "dia_bp 403700 97.28320328502508\n",
      "peep 351129 84.61469875221098\n",
      "pip 343295 82.72686963520606\n",
      "map 386271 93.08318111496142\n",
      "tidalvol 372341 89.72634430108874\n",
      "minvol 410079 98.82040802556304\n",
      "ti 370086 89.18293676230317\n",
      "fio2 346978 83.61439511873033\n",
      "abd_difference_y 274596 66.17185655004893\n",
      "currentdateheight 376885 90.8213526630584\n",
      "currentdateweight 81548 19.651351650946804\n",
      "dischargestatus 0 0.0\n",
      "new_ph 411102 99.06692949437796\n",
      "rbs 368969 88.91376327191584\n",
      "stool_day_total 0 0.0\n",
      "temp 84517 20.366818162101723\n",
      "total_intake 386359 93.10438726281647\n",
      "totalparenteralvolume 386496 93.13740137936352\n",
      "tpn-tfl 386496 93.13740137936352\n",
      "typevalue_Antibiotics 404563 97.49116812137628\n",
      "typevalue_Inotropes 407090 98.10012193535017\n",
      "urine 312360 75.27218572729858\n",
      "gender 0 0.0\n",
      "birthweight 0 0.0\n",
      "birthlength 392873 94.67412416199569\n",
      "birthheadcircumference 267634 64.49416107997128\n",
      "inout_patient_status 0 0.0\n",
      "gestationweekbylmp 0 0.0\n",
      "gestationdaysbylmp 0 0.0\n",
      "baby_type 0 0.0\n",
      "central_temp 335532 80.85615002385693\n",
      "apgar_onemin 86735 20.901309479630047\n",
      "apgar_fivemin 86735 20.901309479630047\n",
      "apgar_tenmin 349743 84.28070192349401\n",
      "motherage 100896 24.31381243162222\n",
      "conception_type 1526 0.3677338821227354\n",
      "mode_of_delivery 0 0.0\n",
      "steroidname 127412 30.70361034667232\n",
      "numberofdose 226719 54.63450722213922\n",
      "gestation 0 0.0\n"
     ]
    }
   ],
   "source": [
    "for i in cols:\n",
    "    print(i,(len(death[death[i]==-999])),((len(death[death[i]==-999]))/n_dea)*100)"
   ]
  },
  {
   "cell_type": "code",
   "execution_count": null,
   "metadata": {},
   "outputs": [],
   "source": []
  },
  {
   "cell_type": "code",
   "execution_count": 8,
   "metadata": {},
   "outputs": [
    {
     "name": "stdout",
     "output_type": "stream",
     "text": [
      "uhid 0 0.0\n",
      "pulserate 207776 36.85879923648414\n",
      "ecg_resprate 417155 74.00196555663571\n",
      "spo2 207573 36.822787684403984\n",
      "heartrate 332610 59.0039524008884\n",
      "mean_bp 560647 99.45698836986526\n",
      "sys_bp 560641 99.45592398901559\n",
      "dia_bp 560642 99.45610138582387\n",
      "peep 556165 98.66189587516942\n",
      "pip 556152 98.65958971666183\n",
      "map 534367 94.79500024835554\n",
      "tidalvol 563708 100.0\n",
      "minvol 563708 100.0\n",
      "ti 563708 100.0\n",
      "fio2 538426 95.51505389315037\n",
      "abd_difference_y 430808 76.42396418003648\n",
      "currentdateheight 513677 91.12466028511214\n",
      "currentdateweight 161319 28.617475714376944\n",
      "dischargestatus 0 0.0\n",
      "new_ph 563408 99.946780957517\n",
      "rbs 541159 95.99987937017038\n",
      "stool_day_total 0 0.0\n",
      "temp 265537 47.1054162793503\n",
      "total_intake 540384 95.86239684375599\n",
      "totalparenteralvolume 540444 95.87304065225258\n",
      "tpn-tfl 540444 95.87304065225258\n",
      "typevalue_Antibiotics 554503 98.36706237981366\n",
      "typevalue_Inotropes 563708 100.0\n",
      "urine 447549 79.39376414739546\n",
      "gender 0 0.0\n",
      "birthweight 0 0.0\n",
      "birthlength 313203 55.56121254266393\n",
      "birthheadcircumference 267628 47.47635300545673\n",
      "inout_patient_status 0 0.0\n",
      "gestationweekbylmp 0 0.0\n",
      "gestationdaysbylmp 0 0.0\n",
      "baby_type 161427 28.63663456967082\n",
      "central_temp 563708 100.0\n",
      "apgar_onemin 248792 44.13490672475821\n",
      "apgar_fivemin 248792 44.13490672475821\n",
      "apgar_tenmin 518133 91.91514046279279\n",
      "motherage 443068 78.5988490495079\n",
      "conception_type 141561 25.11246957644738\n",
      "mode_of_delivery 0 0.0\n",
      "steroidname 388872 68.9846516281479\n",
      "numberofdose 443068 78.5988490495079\n",
      "gestation 0 0.0\n"
     ]
    }
   ],
   "source": [
    "for i in cols:\n",
    "    print(i,(len(dis[dis[i]==-999])),((len(dis[dis[i]==-999]))/n_dis)*100)"
   ]
  },
  {
   "cell_type": "code",
   "execution_count": null,
   "metadata": {},
   "outputs": [],
   "source": []
  },
  {
   "cell_type": "code",
   "execution_count": null,
   "metadata": {},
   "outputs": [],
   "source": []
  }
 ],
 "metadata": {
  "kernelspec": {
   "display_name": "Python 3",
   "language": "python",
   "name": "python3"
  },
  "language_info": {
   "codemirror_mode": {
    "name": "ipython",
    "version": 3
   },
   "file_extension": ".py",
   "mimetype": "text/x-python",
   "name": "python",
   "nbconvert_exporter": "python",
   "pygments_lexer": "ipython3",
   "version": "3.7.6"
  }
 },
 "nbformat": 4,
 "nbformat_minor": 4
}
