{
 "cells": [
  {
   "cell_type": "code",
   "execution_count": null,
   "metadata": {},
   "outputs": [],
   "source": [
    "import pandas as pd\n",
    "import numpy as np"
   ]
  },
  {
   "cell_type": "code",
   "execution_count": null,
   "metadata": {},
   "outputs": [],
   "source": [
    "data = pd.read_csv('data_23_june.csv')"
   ]
  },
  {
   "cell_type": "code",
   "execution_count": null,
   "metadata": {},
   "outputs": [],
   "source": [
    "data.columns"
   ]
  },
  {
   "cell_type": "code",
   "execution_count": null,
   "metadata": {},
   "outputs": [],
   "source": [
    "cols = ['pulserate',\n",
    "       'ecg_resprate', 'spo2', 'heartrate', 'mean_bp',\n",
    "       'sys_bp', 'dia_bp', 'peep', 'pip', 'map', 'tidalvol',\n",
    "       'minvol', 'ti', 'fio2',\n",
    "       'abd_difference', 'abd_difference_y', 'abdomen_girth_x',\n",
    "       'abdomen_girth_y', 'currentdateheight', 'currentdateweight', 'medicationtype', 'medicinename',\n",
    "       'medicineorderdate', 'modificationtime', 'new_ph', 'ph', 'rbs',\n",
    "       'skintemp', 'startdate', 'stool_day_total', 'stool_passed', 'temp',\n",
    "       'total_intake', 'totalparenteralvolume',\n",
    "       'tpn-tfl', 'typevalue_Antibiotics', 'typevalue_Inotropes',\n",
    "       'urine', 'urine_per_hour',\n",
    "       'urine_per_kg_hour','dischargestatus',\n",
    "       'baby_type']"
   ]
  },
  {
   "cell_type": "code",
   "execution_count": null,
   "metadata": {},
   "outputs": [],
   "source": [
    "death = data[data['dischargestatus']==1]\n",
    "dis = data[data['dischargestatus']==0]"
   ]
  },
  {
   "cell_type": "code",
   "execution_count": null,
   "metadata": {},
   "outputs": [],
   "source": [
    "t = dis[dis['uhid']=='RSHI.0000017472']\n",
    "t['dischargestatus'] = 1\n",
    "death = pd.concat([death,t])"
   ]
  },
  {
   "cell_type": "code",
   "execution_count": null,
   "metadata": {},
   "outputs": [],
   "source": [
    "dis = dis[dis['uhid']!='RSHI.0000017472']"
   ]
  },
  {
   "cell_type": "code",
   "execution_count": null,
   "metadata": {},
   "outputs": [],
   "source": [
    "n_dis = len(dis)\n",
    "n_dea = len(death)"
   ]
  },
  {
   "cell_type": "code",
   "execution_count": null,
   "metadata": {},
   "outputs": [],
   "source": [
    "dis = dis.replace([-999],np.nan)\n",
    "death = death.replace([-999],np.nan)"
   ]
  },
  {
   "cell_type": "code",
   "execution_count": null,
   "metadata": {},
   "outputs": [],
   "source": [
    "df = pd.DataFrame()"
   ]
  },
  {
   "cell_type": "code",
   "execution_count": null,
   "metadata": {},
   "outputs": [],
   "source": [
    "for i in data.uhid.unique():\n",
    "    x = data[data['uhid']==i]\n",
    "    x.fillna(method='ffill',inplace=True)\n",
    "    df = df.append(x,ignore_index=True)\n",
    "    \n",
    "    "
   ]
  },
  {
   "cell_type": "code",
   "execution_count": null,
   "metadata": {},
   "outputs": [],
   "source": [
    "df.fillna(-999,inplace=True)"
   ]
  },
  {
   "cell_type": "code",
   "execution_count": null,
   "metadata": {},
   "outputs": [],
   "source": [
    "death = df[df['dischargestatus']==1]\n",
    "dis = df[df['dischargestatus']==0]"
   ]
  },
  {
   "cell_type": "code",
   "execution_count": null,
   "metadata": {},
   "outputs": [],
   "source": [
    "death = df[df['dischargestatus']==1]\n",
    "dis = df[df['dischargestatus']==0]"
   ]
  },
  {
   "cell_type": "code",
   "execution_count": null,
   "metadata": {},
   "outputs": [],
   "source": []
  },
  {
   "cell_type": "code",
   "execution_count": null,
   "metadata": {},
   "outputs": [],
   "source": [
    "for i in cols:\n",
    "    print(i,(len(death[death[i]==-999])),((len(death[death[i]==-999]))/n_dea)*100)"
   ]
  },
  {
   "cell_type": "code",
   "execution_count": null,
   "metadata": {},
   "outputs": [],
   "source": [
    "for i in cols:\n",
    "    print(i,(len(dis[dis[i]==-999])),((len(dis[dis[i]==-999]))/n_dis)*100)"
   ]
  },
  {
   "cell_type": "code",
   "execution_count": null,
   "metadata": {},
   "outputs": [],
   "source": []
  }
 ],
 "metadata": {
  "kernelspec": {
   "display_name": "Python 3",
   "language": "python",
   "name": "python3"
  },
  "language_info": {
   "codemirror_mode": {
    "name": "ipython",
    "version": 2
   },
   "file_extension": ".py",
   "mimetype": "text/x-python",
   "name": "python",
   "nbconvert_exporter": "python",
   "pygments_lexer": "ipython2",
   "version": "2.7.17"
  }
 },
 "nbformat": 4,
 "nbformat_minor": 4
}
