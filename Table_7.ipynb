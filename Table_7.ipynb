{
 "cells": [
  {
   "cell_type": "code",
   "execution_count": 35,
   "metadata": {},
   "outputs": [],
   "source": [
    "import pandas as pd\n",
    "import numpy as np\n",
    "import matplotlib.pyplot as plt"
   ]
  },
  {
   "cell_type": "code",
   "execution_count": 22,
   "metadata": {},
   "outputs": [
    {
     "name": "stderr",
     "output_type": "stream",
     "text": [
      "/usr/local/lib/python3.7/site-packages/ipykernel_launcher.py:11: FutureWarning: Sorting because non-concatenation axis is not aligned. A future version\n",
      "of pandas will change to not sort by default.\n",
      "\n",
      "To accept the future behavior, pass 'sort=False'.\n",
      "\n",
      "To retain the current behavior and silence the warning, pass 'sort=True'.\n",
      "\n",
      "  # This is added back by InteractiveShellApp.init_path()\n"
     ]
    },
    {
     "data": {
      "text/plain": [
       "254387"
      ]
     },
     "execution_count": 22,
     "metadata": {},
     "output_type": "execute_result"
    }
   ],
   "source": []
  },
  {
   "cell_type": "code",
   "execution_count": null,
   "metadata": {},
   "outputs": [],
   "source": []
  },
  {
   "cell_type": "code",
   "execution_count": 29,
   "metadata": {},
   "outputs": [],
   "source": [
    "data = pd.read_csv('lstm_analysis.csv')\n",
    "data.fillna(-999,inplace=True)"
   ]
  },
  {
   "cell_type": "code",
   "execution_count": 23,
   "metadata": {},
   "outputs": [],
   "source": []
  },
  {
   "cell_type": "code",
   "execution_count": null,
   "metadata": {},
   "outputs": [],
   "source": []
  },
  {
   "cell_type": "code",
   "execution_count": 30,
   "metadata": {},
   "outputs": [
    {
     "data": {
      "text/plain": [
       "Index(['Unnamed: 0', 'Unnamed: 0.1', 'abd_difference_y', 'abdomen_girth',\n",
       "       'actual_DOA', 'actual_DOB', 'apgar_fivemin', 'apgar_onemin',\n",
       "       'apgar_tenmin', 'baby_type', 'birthheadcircumference', 'birthlength',\n",
       "       'birthweight', 'central_temp', 'centraltemp', 'conception_type',\n",
       "       'cont_time', 'creationtime_x', 'creationtime_y', 'currentdateheight',\n",
       "       'currentdateweight', 'date', 'day', 'day_1', 'day_x', 'day_y', 'dia_bp',\n",
       "       'dischargeddate', 'dischargestatus', 'dischargestatus_x',\n",
       "       'dischargestatus_y', 'ecg_resprate', 'entry_timestamp', 'entrydate_x',\n",
       "       'entrydate_y', 'entrydatetime', 'fio2', 'gender', 'gestation',\n",
       "       'gestationdaysbylmp', 'gestationweekbylmp', 'heartrate', 'hour',\n",
       "       'hour_series_x', 'hour_series_y', 'inout_patient_status', 'los', 'map',\n",
       "       'mean_bp', 'medicationtype', 'medicinename', 'medicineorderdate',\n",
       "       'minvol', 'mode_of_delivery', 'modificationtime', 'motherage', 'new_ph',\n",
       "       'numberofdose', 'peep', 'ph', 'pip', 'pulserate', 'rbs', 'ref_hour_x',\n",
       "       'ref_hour_y', 'series', 'skintemp', 'spo2', 'start_time', 'startdate',\n",
       "       'starttime', 'steroidname', 'stool', 'stool_day_total', 'stool_passed',\n",
       "       'sys_bp', 'temp', 'ti', 'tidalvol', 'time_divide', 'total_intake',\n",
       "       'totalparenteralvolume', 'tpn-tfl', 'typevalue_Antibiotics',\n",
       "       'typevalue_Inotropes', 'uhid', 'urine', 'urine_per_hour', 'visitdate',\n",
       "       'visittime'],\n",
       "      dtype='object')"
      ]
     },
     "execution_count": 30,
     "metadata": {},
     "output_type": "execute_result"
    }
   ],
   "source": [
    "data.columns"
   ]
  },
  {
   "cell_type": "code",
   "execution_count": null,
   "metadata": {},
   "outputs": [],
   "source": []
  },
  {
   "cell_type": "code",
   "execution_count": 31,
   "metadata": {},
   "outputs": [],
   "source": [
    "cols = ['uhid','pulserate', 'ecg_resprate',\n",
    "       'spo2', 'heartrate', 'mean_bp', 'sys_bp', 'dia_bp',\n",
    "       'peep', 'pip', 'map', 'tidalvol', 'minvol', 'ti', 'fio2',\n",
    "       'abd_difference_y',\n",
    "       'currentdateheight',\n",
    "       'currentdateweight','dischargestatus', \n",
    "       'new_ph', \n",
    "       'rbs',  'stool_day_total', \n",
    "       'temp', 'total_intake', 'totalparenteralvolume',\n",
    "       'tpn-tfl', 'typevalue_Antibiotics', 'typevalue_Inotropes',\n",
    "       'urine','gender', 'birthweight',\n",
    "       'birthlength', 'birthheadcircumference', 'inout_patient_status',\n",
    "       'gestationweekbylmp', 'gestationdaysbylmp',\n",
    "       'baby_type', 'central_temp', 'apgar_onemin', 'apgar_fivemin',\n",
    "       'apgar_tenmin', 'motherage', 'conception_type', 'mode_of_delivery',\n",
    "       'steroidname', 'numberofdose', 'gestation']"
   ]
  },
  {
   "cell_type": "code",
   "execution_count": 13,
   "metadata": {},
   "outputs": [
    {
     "data": {
      "text/plain": [
       "0          1\n",
       "1          1\n",
       "2          1\n",
       "3          1\n",
       "4          1\n",
       "5          1\n",
       "6          1\n",
       "7          1\n",
       "8          1\n",
       "9          1\n",
       "10         1\n",
       "11         1\n",
       "12         1\n",
       "13         1\n",
       "14         1\n",
       "15         1\n",
       "16         1\n",
       "17         1\n",
       "18         1\n",
       "19         1\n",
       "20         1\n",
       "21         1\n",
       "22         1\n",
       "23         1\n",
       "24         1\n",
       "25         1\n",
       "26         1\n",
       "27         1\n",
       "28         1\n",
       "29         1\n",
       "          ..\n",
       "1569259    0\n",
       "1569260    0\n",
       "1569261    0\n",
       "1569262    0\n",
       "1569263    0\n",
       "1569264    0\n",
       "1569265    0\n",
       "1569266    0\n",
       "1569267    0\n",
       "1569268    0\n",
       "1569269    0\n",
       "1569270    0\n",
       "1569271    0\n",
       "1569272    0\n",
       "1569273    0\n",
       "1569274    0\n",
       "1569275    0\n",
       "1569276    0\n",
       "1569277    0\n",
       "1569278    0\n",
       "1569279    0\n",
       "1569280    0\n",
       "1569281    0\n",
       "1569282    0\n",
       "1569283    0\n",
       "1569284    0\n",
       "1569285    0\n",
       "1569286    0\n",
       "1569287    0\n",
       "1569288    0\n",
       "Name: dischargestatus, Length: 1569289, dtype: int64"
      ]
     },
     "execution_count": 13,
     "metadata": {},
     "output_type": "execute_result"
    }
   ],
   "source": [
    "data.dischargestatus"
   ]
  },
  {
   "cell_type": "code",
   "execution_count": null,
   "metadata": {},
   "outputs": [],
   "source": []
  },
  {
   "cell_type": "code",
   "execution_count": 32,
   "metadata": {},
   "outputs": [],
   "source": [
    "death = data[data['dischargestatus']==1]\n",
    "dis = data[data['dischargestatus']==0]"
   ]
  },
  {
   "cell_type": "code",
   "execution_count": null,
   "metadata": {},
   "outputs": [],
   "source": []
  },
  {
   "cell_type": "code",
   "execution_count": null,
   "metadata": {},
   "outputs": [],
   "source": []
  },
  {
   "cell_type": "code",
   "execution_count": null,
   "metadata": {},
   "outputs": [],
   "source": []
  },
  {
   "cell_type": "code",
   "execution_count": null,
   "metadata": {},
   "outputs": [],
   "source": []
  },
  {
   "cell_type": "code",
   "execution_count": 33,
   "metadata": {},
   "outputs": [],
   "source": [
    "n_dis = len(dis)\n",
    "n_dea = len(death)"
   ]
  },
  {
   "cell_type": "code",
   "execution_count": null,
   "metadata": {},
   "outputs": [],
   "source": []
  },
  {
   "cell_type": "code",
   "execution_count": null,
   "metadata": {},
   "outputs": [],
   "source": []
  },
  {
   "cell_type": "code",
   "execution_count": null,
   "metadata": {},
   "outputs": [],
   "source": []
  },
  {
   "cell_type": "code",
   "execution_count": null,
   "metadata": {},
   "outputs": [],
   "source": []
  },
  {
   "cell_type": "code",
   "execution_count": null,
   "metadata": {},
   "outputs": [],
   "source": []
  },
  {
   "cell_type": "code",
   "execution_count": null,
   "metadata": {},
   "outputs": [],
   "source": [
    "\n",
    "    "
   ]
  },
  {
   "cell_type": "code",
   "execution_count": null,
   "metadata": {},
   "outputs": [],
   "source": []
  },
  {
   "cell_type": "code",
   "execution_count": 30,
   "metadata": {},
   "outputs": [],
   "source": []
  },
  {
   "cell_type": "code",
   "execution_count": 10,
   "metadata": {},
   "outputs": [
    {
     "data": {
      "text/plain": [
       "414974"
      ]
     },
     "execution_count": 10,
     "metadata": {},
     "output_type": "execute_result"
    }
   ],
   "source": []
  },
  {
   "cell_type": "code",
   "execution_count": 11,
   "metadata": {},
   "outputs": [
    {
     "data": {
      "text/plain": [
       "array(['RNEH.0000012581', 'RSHI.0000014720', 'RSHI.0000015691',\n",
       "       'RSHI.0000023451', 'RSHI.0000015178', 'RNEH.0000008375',\n",
       "       'RNEH.0000011301', 'RSHI.0000012088', 'RSHI.0000017471',\n",
       "       'RSHI.0000017472', 'RSHI.0000019707', 'RSHI.0000021953',\n",
       "       'RSHI.0000015211', 'RNEH.0000013713', 'RSHI.0000016373'],\n",
       "      dtype=object)"
      ]
     },
     "execution_count": 11,
     "metadata": {},
     "output_type": "execute_result"
    }
   ],
   "source": []
  },
  {
   "cell_type": "code",
   "execution_count": 28,
   "metadata": {},
   "outputs": [],
   "source": []
  },
  {
   "cell_type": "code",
   "execution_count": 29,
   "metadata": {},
   "outputs": [
    {
     "data": {
      "text/plain": [
       "61001"
      ]
     },
     "execution_count": 29,
     "metadata": {},
     "output_type": "execute_result"
    }
   ],
   "source": []
  },
  {
   "cell_type": "code",
   "execution_count": 18,
   "metadata": {},
   "outputs": [
    {
     "data": {
      "text/plain": [
       "357261    2020-03-16 06:01:00.000000\n",
       "357262    2020-03-16 06:01:00.000000\n",
       "357263    2020-03-16 06:01:00.000000\n",
       "357264    2020-03-16 06:01:00.000000\n",
       "357265    2020-03-16 06:01:00.000000\n",
       "357266    2020-03-16 06:01:00.000000\n",
       "357267    2020-03-16 06:01:00.000000\n",
       "357268    2020-03-16 06:01:00.000000\n",
       "357269    2020-03-16 06:01:00.000000\n",
       "357270    2020-03-16 06:01:00.000000\n",
       "357271    2020-03-16 06:01:00.000000\n",
       "357272    2020-03-16 06:01:00.000000\n",
       "357273    2020-03-16 06:01:00.000000\n",
       "357274    2020-03-16 06:01:00.000000\n",
       "357275    2020-03-16 06:01:00.000000\n",
       "357276    2020-03-16 06:01:00.000000\n",
       "357277    2020-03-16 06:01:00.000000\n",
       "357278    2020-03-16 06:01:00.000000\n",
       "357279    2020-03-16 06:01:00.000000\n",
       "357280    2020-03-16 06:01:00.000000\n",
       "357281    2020-03-16 06:01:00.000000\n",
       "357282    2020-03-16 06:01:00.000000\n",
       "357283    2020-03-16 06:01:00.000000\n",
       "357284    2020-03-16 06:01:00.000000\n",
       "357285    2020-03-16 06:01:00.000000\n",
       "357286    2020-03-16 06:01:00.000000\n",
       "357287    2020-03-16 06:01:00.000000\n",
       "357288    2020-03-16 06:01:00.000000\n",
       "357289    2020-03-16 06:01:00.000000\n",
       "357290    2020-03-16 06:01:00.000000\n",
       "                     ...            \n",
       "418232       2020-03-16 06:01:00.000\n",
       "418233       2020-03-16 06:01:00.000\n",
       "418234       2020-03-16 06:01:00.000\n",
       "418235       2020-03-16 06:01:00.000\n",
       "418236       2020-03-16 06:01:00.000\n",
       "418237       2020-03-16 06:01:00.000\n",
       "418238       2020-03-16 06:01:00.000\n",
       "418239       2020-03-16 06:01:00.000\n",
       "418240       2020-03-16 06:01:00.000\n",
       "418241       2020-03-16 06:01:00.000\n",
       "418242       2020-03-16 06:01:00.000\n",
       "418243       2020-03-16 06:01:00.000\n",
       "418244       2020-03-16 06:01:00.000\n",
       "418245       2020-03-16 06:01:00.000\n",
       "418246       2020-03-16 06:01:00.000\n",
       "418247       2020-03-16 06:01:00.000\n",
       "418248       2020-03-16 06:01:00.000\n",
       "418249       2020-03-16 06:01:00.000\n",
       "418250       2020-03-16 06:01:00.000\n",
       "418251       2020-03-16 06:01:00.000\n",
       "418252       2020-03-16 06:01:00.000\n",
       "418253       2020-03-16 06:01:00.000\n",
       "418254       2020-03-16 06:01:00.000\n",
       "418255       2020-03-16 06:01:00.000\n",
       "418256       2020-03-16 06:01:00.000\n",
       "418257       2020-03-16 06:01:00.000\n",
       "418258       2020-03-16 06:01:00.000\n",
       "418259       2020-03-16 06:01:00.000\n",
       "418260       2020-03-16 06:01:00.000\n",
       "418261       2020-03-16 06:01:00.000\n",
       "Name: dischargeddate, Length: 61001, dtype: object"
      ]
     },
     "execution_count": 18,
     "metadata": {},
     "output_type": "execute_result"
    }
   ],
   "source": []
  },
  {
   "cell_type": "code",
   "execution_count": null,
   "metadata": {},
   "outputs": [],
   "source": []
  },
  {
   "cell_type": "code",
   "execution_count": 46,
   "metadata": {},
   "outputs": [],
   "source": []
  },
  {
   "cell_type": "code",
   "execution_count": 47,
   "metadata": {},
   "outputs": [
    {
     "data": {
      "text/plain": [
       "18"
      ]
     },
     "execution_count": 47,
     "metadata": {},
     "output_type": "execute_result"
    }
   ],
   "source": []
  },
  {
   "cell_type": "code",
   "execution_count": null,
   "metadata": {},
   "outputs": [],
   "source": []
  },
  {
   "cell_type": "code",
   "execution_count": 14,
   "metadata": {},
   "outputs": [
    {
     "data": {
      "image/png": "[encoded data removed]",
      "text/plain": [
       "<Figure size 432x288 with 1 Axes>"
      ]
     },
     "metadata": {
      "needs_background": "light"
     },
     "output_type": "display_data"
    }
   ],
   "source": []
  },
  {
   "cell_type": "code",
   "execution_count": 10,
   "metadata": {},
   "outputs": [],
   "source": []
  },
  {
   "cell_type": "code",
   "execution_count": null,
   "metadata": {},
   "outputs": [],
   "source": []
  },
  {
   "cell_type": "code",
   "execution_count": 11,
   "metadata": {},
   "outputs": [
    {
     "name": "stdout",
     "output_type": "stream",
     "text": [
      "uhid 0 0.0\n",
      "pulserate 83062 20.016193785634762\n",
      "ecg_resprate 153013 36.87291251982052\n",
      "spo2 82467 19.872811308660303\n",
      "heartrate 118380 28.527088444095295\n",
      "mean_bp 403794 97.30585530659752\n",
      "sys_bp 403692 97.2812754534019\n",
      "dia_bp 403700 97.28320328502508\n",
      "peep 351129 84.61469875221098\n",
      "pip 343295 82.72686963520606\n",
      "map 386271 93.08318111496142\n",
      "tidalvol 372341 89.72634430108874\n",
      "minvol 410079 98.82040802556304\n",
      "ti 370086 89.18293676230317\n",
      "fio2 346978 83.61439511873033\n",
      "abd_difference_y 274596 66.17185655004893\n",
      "currentdateheight 376885 90.8213526630584\n",
      "currentdateweight 81548 19.651351650946804\n",
      "dischargestatus 0 0.0\n",
      "new_ph 411102 99.06692949437796\n",
      "rbs 368969 88.91376327191584\n",
      "stool_day_total 0 0.0\n",
      "temp 84517 20.366818162101723\n",
      "total_intake 386359 93.10438726281647\n",
      "totalparenteralvolume 386496 93.13740137936352\n",
      "tpn-tfl 386496 93.13740137936352\n",
      "typevalue_Antibiotics 404563 97.49116812137628\n",
      "typevalue_Inotropes 407090 98.10012193535017\n",
      "urine 312360 75.27218572729858\n",
      "gender 0 0.0\n",
      "birthweight 0 0.0\n",
      "birthlength 392873 94.67412416199569\n",
      "birthheadcircumference 267634 64.49416107997128\n",
      "inout_patient_status 0 0.0\n",
      "gestationweekbylmp 0 0.0\n",
      "gestationdaysbylmp 0 0.0\n",
      "baby_type 0 0.0\n",
      "central_temp 335532 80.85615002385693\n",
      "apgar_onemin 86735 20.901309479630047\n",
      "apgar_fivemin 86735 20.901309479630047\n",
      "apgar_tenmin 349743 84.28070192349401\n",
      "motherage 100896 24.31381243162222\n",
      "conception_type 1526 0.3677338821227354\n",
      "mode_of_delivery 0 0.0\n",
      "steroidname 127412 30.70361034667232\n",
      "numberofdose 226719 54.63450722213922\n",
      "gestation 0 0.0\n"
     ]
    },
    {
     "ename": "NameError",
     "evalue": "name 'plt' is not defined",
     "output_type": "error",
     "traceback": [
      "\u001b[0;31m---------------------------------------------------------------------------\u001b[0m",
      "\u001b[0;31mNameError\u001b[0m                                 Traceback (most recent call last)",
      "\u001b[0;32m<ipython-input-11-ed13d109a400>\u001b[0m in \u001b[0;36m<module>\u001b[0;34m\u001b[0m\n\u001b[1;32m      3\u001b[0m     \u001b[0my_series\u001b[0m\u001b[0;34m.\u001b[0m\u001b[0mappend\u001b[0m\u001b[0;34m(\u001b[0m\u001b[0;34m(\u001b[0m\u001b[0;34m(\u001b[0m\u001b[0mlen\u001b[0m\u001b[0;34m(\u001b[0m\u001b[0mdeath\u001b[0m\u001b[0;34m[\u001b[0m\u001b[0mdeath\u001b[0m\u001b[0;34m[\u001b[0m\u001b[0mi\u001b[0m\u001b[0;34m]\u001b[0m\u001b[0;34m==\u001b[0m\u001b[0;34m-\u001b[0m\u001b[0;36m999\u001b[0m\u001b[0;34m]\u001b[0m\u001b[0;34m)\u001b[0m\u001b[0;34m)\u001b[0m\u001b[0;34m/\u001b[0m\u001b[0mn_dea\u001b[0m\u001b[0;34m)\u001b[0m\u001b[0;34m*\u001b[0m\u001b[0;36m100\u001b[0m\u001b[0;34m)\u001b[0m\u001b[0;34m\u001b[0m\u001b[0;34m\u001b[0m\u001b[0m\n\u001b[1;32m      4\u001b[0m     \u001b[0mprint\u001b[0m\u001b[0;34m(\u001b[0m\u001b[0mi\u001b[0m\u001b[0;34m,\u001b[0m\u001b[0;34m(\u001b[0m\u001b[0mlen\u001b[0m\u001b[0;34m(\u001b[0m\u001b[0mdeath\u001b[0m\u001b[0;34m[\u001b[0m\u001b[0mdeath\u001b[0m\u001b[0;34m[\u001b[0m\u001b[0mi\u001b[0m\u001b[0;34m]\u001b[0m\u001b[0;34m==\u001b[0m\u001b[0;34m-\u001b[0m\u001b[0;36m999\u001b[0m\u001b[0;34m]\u001b[0m\u001b[0;34m)\u001b[0m\u001b[0;34m)\u001b[0m\u001b[0;34m,\u001b[0m\u001b[0;34m(\u001b[0m\u001b[0;34m(\u001b[0m\u001b[0mlen\u001b[0m\u001b[0;34m(\u001b[0m\u001b[0mdeath\u001b[0m\u001b[0;34m[\u001b[0m\u001b[0mdeath\u001b[0m\u001b[0;34m[\u001b[0m\u001b[0mi\u001b[0m\u001b[0;34m]\u001b[0m\u001b[0;34m==\u001b[0m\u001b[0;34m-\u001b[0m\u001b[0;36m999\u001b[0m\u001b[0;34m]\u001b[0m\u001b[0;34m)\u001b[0m\u001b[0;34m)\u001b[0m\u001b[0;34m/\u001b[0m\u001b[0mn_dea\u001b[0m\u001b[0;34m)\u001b[0m\u001b[0;34m*\u001b[0m\u001b[0;36m100\u001b[0m\u001b[0;34m)\u001b[0m\u001b[0;34m\u001b[0m\u001b[0;34m\u001b[0m\u001b[0m\n\u001b[0;32m----> 5\u001b[0;31m \u001b[0mplt\u001b[0m\u001b[0;34m.\u001b[0m\u001b[0mplot\u001b[0m\u001b[0;34m(\u001b[0m\u001b[0mx\u001b[0m\u001b[0;34m,\u001b[0m \u001b[0my\u001b[0m\u001b[0;34m)\u001b[0m\u001b[0;34m\u001b[0m\u001b[0;34m\u001b[0m\u001b[0m\n\u001b[0m\u001b[1;32m      6\u001b[0m \u001b[0mplt\u001b[0m\u001b[0;34m.\u001b[0m\u001b[0mxlabel\u001b[0m\u001b[0;34m(\u001b[0m\u001b[0;34m'Parameters'\u001b[0m\u001b[0;34m)\u001b[0m\u001b[0;34m\u001b[0m\u001b[0;34m\u001b[0m\u001b[0m\n\u001b[1;32m      7\u001b[0m \u001b[0mplt\u001b[0m\u001b[0;34m.\u001b[0m\u001b[0mylabel\u001b[0m\u001b[0;34m(\u001b[0m\u001b[0;34m'Data Missing(percentage)'\u001b[0m\u001b[0;34m)\u001b[0m\u001b[0;34m\u001b[0m\u001b[0;34m\u001b[0m\u001b[0m\n",
      "\u001b[0;31mNameError\u001b[0m: name 'plt' is not defined"
     ]
    }
   ],
   "source": []
  },
  {
   "cell_type": "code",
   "execution_count": 15,
   "metadata": {},
   "outputs": [
    {
     "data": {
      "image/png": "[encoded data removed]",
      "text/plain": [
       "<Figure size 432x288 with 1 Axes>"
      ]
     },
     "metadata": {
      "needs_background": "light"
     },
     "output_type": "display_data"
    }
   ],
   "source": []
  },
  {
   "cell_type": "code",
   "execution_count": 36,
   "metadata": {},
   "outputs": [
    {
     "name": "stdout",
     "output_type": "stream",
     "text": [
      "uhid 0 0.0\n",
      "pulserate 411542 99.26457641386331\n",
      "ecg_resprate 412275 99.44137716448259\n",
      "spo2 411542 99.26457641386331\n",
      "heartrate 411884 99.34706735071431\n",
      "mean_bp 414320 99.9346343746005\n"
     ]
    },
    {
     "data": {
      "image/png": "[encoded data removed]",
      "text/plain": [
       "<Figure size 432x288 with 1 Axes>"
      ]
     },
     "metadata": {
      "needs_background": "light"
     },
     "output_type": "display_data"
    },
    {
     "name": "stdout",
     "output_type": "stream",
     "text": [
      "sys_bp 414320 99.9346343746005\n",
      "dia_bp 414320 99.9346343746005\n",
      "peep 414571 99.9951759686052\n",
      "pip 414559 99.99228154976832\n",
      "map 414591 100.0\n",
      "tidalvol 414579 99.99710558116313\n"
     ]
    },
    {
     "data": {
      "image/png": "[encoded data removed]",
      "text/plain": [
       "<Figure size 432x288 with 1 Axes>"
      ]
     },
     "metadata": {
      "needs_background": "light"
     },
     "output_type": "display_data"
    },
    {
     "name": "stdout",
     "output_type": "stream",
     "text": [
      "minvol 414571 99.9951759686052\n",
      "ti 414577 99.99662317802364\n",
      "fio2 414559 99.99228154976832\n",
      "abd_difference_y 52657 12.700951057789483\n",
      "currentdateheight 72103 17.391356782949945\n",
      "currentdateweight 0 0.0\n"
     ]
    },
    {
     "data": {
      "image/png": "[encoded data removed]",
      "text/plain": [
       "<Figure size 432x288 with 1 Axes>"
      ]
     },
     "metadata": {
      "needs_background": "light"
     },
     "output_type": "display_data"
    },
    {
     "name": "stdout",
     "output_type": "stream",
     "text": [
      "dischargestatus 0 0.0\n",
      "new_ph 410721 99.06654992510691\n",
      "rbs 25676 6.193091504639512\n",
      "stool_day_total 0 0.0\n",
      "temp 84381 20.352829656215402\n",
      "total_intake 5623 1.3562764266469847\n"
     ]
    },
    {
     "data": {
      "image/png": "[encoded data removed]",
      "text/plain": [
       "<Figure size 432x288 with 1 Axes>"
      ]
     },
     "metadata": {
      "needs_background": "light"
     },
     "output_type": "display_data"
    },
    {
     "name": "stdout",
     "output_type": "stream",
     "text": [
      "totalparenteralvolume 8265 1.9935309738995783\n",
      "tpn-tfl 8265 1.9935309738995783\n",
      "typevalue_Antibiotics 404024 97.45122301255937\n",
      "typevalue_Inotropes 406730 98.1039144602753\n",
      "urine 312480 75.37066651229766\n",
      "gender 0 0.0\n"
     ]
    },
    {
     "data": {
      "image/png": "[encoded data removed]",
      "text/plain": [
       "<Figure size 432x288 with 1 Axes>"
      ]
     },
     "metadata": {
      "needs_background": "light"
     },
     "output_type": "display_data"
    },
    {
     "name": "stdout",
     "output_type": "stream",
     "text": [
      "birthweight 0 0.0\n",
      "birthlength 392504 94.6725809291567\n",
      "birthheadcircumference 267540 64.53106796819034\n",
      "inout_patient_status 0 0.0\n",
      "gestationweekbylmp 0 0.0\n",
      "gestationdaysbylmp 0 0.0\n"
     ]
    },
    {
     "data": {
      "image/png": "[encoded data removed]",
      "text/plain": [
       "<Figure size 432x288 with 1 Axes>"
      ]
     },
     "metadata": {
      "needs_background": "light"
     },
     "output_type": "display_data"
    },
    {
     "name": "stdout",
     "output_type": "stream",
     "text": [
      "baby_type 0 0.0\n",
      "central_temp 335369 80.8915292420723\n",
      "apgar_onemin 86735 20.920618151382932\n",
      "apgar_fivemin 86735 20.920618151382932\n",
      "apgar_tenmin 349378 84.2705220325574\n",
      "motherage 100888 24.33434396791054\n"
     ]
    },
    {
     "data": {
      "image/png": "[encoded data removed]",
      "text/plain": [
       "<Figure size 432x288 with 1 Axes>"
      ]
     },
     "metadata": {
      "needs_background": "light"
     },
     "output_type": "display_data"
    },
    {
     "name": "stdout",
     "output_type": "stream",
     "text": [
      "conception_type 0 0.0\n",
      "mode_of_delivery 0 0.0\n",
      "steroidname 0 0.0\n",
      "numberofdose 226481 54.627572716243236\n",
      "gestation 0 0.0\n"
     ]
    },
    {
     "data": {
      "image/png": "[encoded data removed]",
      "text/plain": [
       "<Figure size 432x288 with 1 Axes>"
      ]
     },
     "metadata": {
      "needs_background": "light"
     },
     "output_type": "display_data"
    }
   ],
   "source": [
    "x_series = []\n",
    "y_series = []\n",
    "counter = -1\n",
    "for i in cols:\n",
    "    counter = counter + 1\n",
    "        \n",
    "    if(counter == 6):\n",
    "        plt.bar(x_series,y_series,align='center') # A bar chart\n",
    "        plt.xlabel('Parameters')\n",
    "        plt.ylabel('Data Missing(percentage)')\n",
    "        for inner in range(len(y_series)):\n",
    "            plt.hlines(y_series[inner],0,x_series[inner]) # Here you are drawing the horizontal lines\n",
    "        plt.show()\n",
    "        x_series = []\n",
    "        y_series = []\n",
    "        counter = 0\n",
    "    x_series.append(i)\n",
    "    y_series.append(((len(death[death[i]==-999]))/n_dea)*100)\n",
    "    print(i,(len(death[death[i]==-999])),((len(death[death[i]==-999]))/n_dea)*100)\n",
    "    \n",
    "if(counter > 0):\n",
    "    plt.bar(x_series,y_series,align='center') # A bar chart\n",
    "    plt.xlabel('Parameters')\n",
    "    plt.ylabel('Data Missing(percentage)')\n",
    "    for inner in range(len(y_series)):\n",
    "        plt.hlines(y_series[inner],0,x_series[inner]) # Here you are drawing the horizontal lines\n",
    "    plt.show()\n",
    "    x_series = []\n",
    "    y_series = []\n",
    "    counter = 0\n",
    "  \n",
    "\n",
    "\n",
    "\n",
    "\n",
    "\n",
    "\n",
    "\n"
   ]
  },
  {
   "cell_type": "code",
   "execution_count": null,
   "metadata": {},
   "outputs": [],
   "source": []
  },
  {
   "cell_type": "code",
   "execution_count": null,
   "metadata": {},
   "outputs": [],
   "source": []
  },
  {
   "cell_type": "code",
   "execution_count": 34,
   "metadata": {},
   "outputs": [
    {
     "name": "stdout",
     "output_type": "stream",
     "text": [
      "uhid 0 0.0\n",
      "pulserate 364212 31.501323323357955\n",
      "ecg_resprate 595911 51.54136899098756\n",
      "spo2 362541 31.35679565465585\n",
      "heartrate 348143 30.111487830614607\n",
      "mean_bp 1150327 99.4937639467903\n",
      "sys_bp 1150313 99.4925530626719\n",
      "dia_bp 1150315 99.49272604611738\n",
      "peep 1131601 97.8741199467211\n",
      "pip 1131407 97.85734055250911\n",
      "map 1102319 95.34146932138594\n",
      "tidalvol 1143195 98.87690498019339\n",
      "minvol 1152860 99.71284748049611\n",
      "ti 1142668 98.8313238423083\n",
      "fio2 1088302 94.12911484370946\n",
      "abd_difference_y 15 0.0012973758411320038\n",
      "currentdateheight 0 0.0\n",
      "currentdateweight 0 0.0\n",
      "dischargestatus 0 0.0\n",
      "new_ph 1155159 99.91169195108029\n",
      "rbs 24856 2.149838260478472\n",
      "stool_day_total 0 0.0\n",
      "temp 197912 17.117749831341143\n",
      "total_intake 4225 0.36542752858551436\n",
      "totalparenteralvolume 5006 0.4329775640471207\n",
      "tpn-tfl 5006 0.4329775640471207\n",
      "typevalue_Antibiotics 1141629 98.74145894237921\n",
      "typevalue_Inotropes 1156180 100.0\n",
      "urine 804052 69.54384265425799\n",
      "gender 0 0.0\n",
      "birthweight 0 0.0\n",
      "birthlength 907367 78.47973498936152\n",
      "birthheadcircumference 715713 61.90325035894065\n",
      "inout_patient_status 0 0.0\n",
      "gestationweekbylmp 0 0.0\n",
      "gestationdaysbylmp 0 0.0\n",
      "baby_type 0 0.0\n",
      "central_temp 1156180 100.0\n",
      "apgar_onemin 294999 25.514971717206663\n",
      "apgar_fivemin 294999 25.514971717206663\n",
      "apgar_tenmin 1088516 94.14762407237627\n",
      "motherage 520432 45.01306025013406\n",
      "conception_type 0 0.0\n",
      "mode_of_delivery 0 0.0\n",
      "steroidname 0 0.0\n",
      "numberofdose 742914 64.25591170924943\n",
      "gestation 0 0.0\n"
     ]
    }
   ],
   "source": [
    "for i in cols:\n",
    "    print(i,(len(dis[dis[i]==-999])),((len(dis[dis[i]==-999]))/n_dis)*100)"
   ]
  },
  {
   "cell_type": "code",
   "execution_count": null,
   "metadata": {},
   "outputs": [],
   "source": []
  },
  {
   "cell_type": "code",
   "execution_count": null,
   "metadata": {},
   "outputs": [],
   "source": []
  },
  {
   "cell_type": "code",
   "execution_count": null,
   "metadata": {},
   "outputs": [],
   "source": []
  },
  {
   "cell_type": "code",
   "execution_count": null,
   "metadata": {},
   "outputs": [],
   "source": []
  }
 ],
 "metadata": {
  "kernelspec": {
   "display_name": "Python 3",
   "language": "python",
   "name": "python3"
  },
  "language_info": {
   "codemirror_mode": {
    "name": "ipython",
    "version": 3
   },
   "file_extension": ".py",
   "mimetype": "text/x-python",
   "name": "python",
   "nbconvert_exporter": "python",
   "pygments_lexer": "ipython3",
   "version": "3.7.6"
  }
 },
 "nbformat": 4,
 "nbformat_minor": 4
}
