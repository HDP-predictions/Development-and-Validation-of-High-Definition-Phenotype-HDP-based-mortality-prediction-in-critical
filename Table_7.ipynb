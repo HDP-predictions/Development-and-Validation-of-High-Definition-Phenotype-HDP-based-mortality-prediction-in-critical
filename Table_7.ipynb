{
 "cells": [
  {
   "cell_type": "code",
   "execution_count": 1,
   "metadata": {},
   "outputs": [],
   "source": [
    "import pandas as pd\n",
    "import numpy as np\n",
    "import matplotlib.pyplot as plt"
   ]
  },
  {
   "cell_type": "code",
   "execution_count": 2,
   "metadata": {},
   "outputs": [
    {
     "name": "stderr",
     "output_type": "stream",
     "text": [
      "/usr/local/lib/python3.7/site-packages/IPython/core/interactiveshell.py:3049: DtypeWarning: Columns (17,18,21,25,30,32,33,44,49,50,51,54,64,68,69,70,72,74,88,89) have mixed types. Specify dtype option on import or set low_memory=False.\n",
      "  interactivity=interactivity, compiler=compiler, result=result)\n"
     ]
    }
   ],
   "source": [
    "#Reading CSV for 30 patients\n",
    "data = pd.read_csv('lstm_analysis.csv')\n",
    "#Replacing -999 with NaN values\n",
    "data.fillna(-999,inplace=True)"
   ]
  },
  {
   "cell_type": "code",
   "execution_count": 9,
   "metadata": {},
   "outputs": [
    {
     "data": {
      "text/plain": [
       "Index(['Unnamed: 0', 'Unnamed: 0.1', 'abd_difference_y', 'abdomen_girth',\n",
       "       'actual_DOA', 'actual_DOB', 'apgar_fivemin', 'apgar_onemin',\n",
       "       'apgar_tenmin', 'baby_type', 'birthheadcircumference', 'birthlength',\n",
       "       'birthweight', 'central_temp', 'centraltemp', 'conception_type',\n",
       "       'cont_time', 'creationtime_x', 'creationtime_y', 'currentdateheight',\n",
       "       'currentdateweight', 'date', 'day', 'day_1', 'day_x', 'day_y', 'dia_bp',\n",
       "       'dischargeddate', 'dischargestatus', 'dischargestatus_x',\n",
       "       'dischargestatus_y', 'ecg_resprate', 'entry_timestamp', 'entrydate_x',\n",
       "       'entrydate_y', 'entrydatetime', 'fio2', 'gender', 'gestation',\n",
       "       'gestationdaysbylmp', 'gestationweekbylmp', 'heartrate', 'hour',\n",
       "       'hour_series_x', 'hour_series_y', 'inout_patient_status', 'los', 'map',\n",
       "       'mean_bp', 'medicationtype', 'medicinename', 'medicineorderdate',\n",
       "       'minvol', 'mode_of_delivery', 'modificationtime', 'motherage', 'new_ph',\n",
       "       'numberofdose', 'peep', 'ph', 'pip', 'pulserate', 'rbs', 'ref_hour_x',\n",
       "       'ref_hour_y', 'series', 'skintemp', 'spo2', 'start_time', 'startdate',\n",
       "       'starttime', 'steroidname', 'stool', 'stool_day_total', 'stool_passed',\n",
       "       'sys_bp', 'temp', 'ti', 'tidalvol', 'time_divide', 'total_intake',\n",
       "       'totalparenteralvolume', 'tpn-tfl', 'typevalue_Antibiotics',\n",
       "       'typevalue_Inotropes', 'uhid', 'urine', 'urine_per_hour', 'visitdate',\n",
       "       'visittime'],\n",
       "      dtype='object')"
      ]
     },
     "execution_count": 9,
     "metadata": {},
     "output_type": "execute_result"
    }
   ],
   "source": [
    "data.columns"
   ]
  },
  {
   "cell_type": "code",
   "execution_count": 10,
   "metadata": {},
   "outputs": [],
   "source": [
    "cols = ['uhid','pulserate', 'ecg_resprate',\n",
    "       'spo2', 'heartrate', 'mean_bp', 'sys_bp', 'dia_bp',\n",
    "       'peep', 'pip', 'map', 'tidalvol', 'minvol', 'ti', 'fio2',\n",
    "       'abd_difference_y',\n",
    "       'currentdateheight',\n",
    "       'currentdateweight','dischargestatus', \n",
    "       'new_ph', \n",
    "       'rbs',  'stool_day_total', \n",
    "       'temp', 'total_intake', 'totalparenteralvolume',\n",
    "       'tpn-tfl', 'typevalue_Antibiotics','typevalue_Inotropes',\n",
    "       'urine','gender', 'birthweight',\n",
    "       'birthlength', 'birthheadcircumference', 'inout_patient_status',\n",
    "       'gestationweekbylmp', 'gestationdaysbylmp',\n",
    "       'baby_type', 'central_temp', 'apgar_onemin', 'apgar_fivemin',\n",
    "       'apgar_tenmin', 'motherage', 'conception_type', 'mode_of_delivery',\n",
    "       'steroidname', 'numberofdose', 'gestation']"
   ]
  },
  {
   "cell_type": "code",
   "execution_count": null,
   "metadata": {},
   "outputs": [],
   "source": [
    "#Divide the data set into two sub sets according to discharge and death\n",
    "death = data[data['dischargestatus']==1]\n",
    "dis = data[data['dischargestatus']==0]"
   ]
  },
  {
   "cell_type": "code",
   "execution_count": null,
   "metadata": {},
   "outputs": [],
   "source": [
    "#Calculating Length\n",
    "n_dis = len(dis)\n",
    "n_dea = len(death)"
   ]
  },
  {
   "cell_type": "code",
   "execution_count": null,
   "metadata": {},
   "outputs": [],
   "source": [
    "#Plotting Graphs and calculating imputation of each variable for death cases\n",
    "x_series = []\n",
    "y_series = []\n",
    "counter = -1\n",
    "for i in cols:\n",
    "    counter = counter + 1\n",
    "        \n",
    "    if(counter == 6):\n",
    "        plt.bar(x_series,y_series,align='center') # A bar chart\n",
    "        plt.xlabel('Parameters')\n",
    "        plt.ylabel('Data Missing(percentage)')\n",
    "        for inner in range(len(y_series)):\n",
    "            plt.hlines(y_series[inner],0,x_series[inner]) # Here you are drawing the horizontal lines\n",
    "        plt.show()\n",
    "        x_series = []\n",
    "        y_series = []\n",
    "        counter = 0\n",
    "    x_series.append(i)\n",
    "    y_series.append(((len(death[death[i]==-999]))/n_dea)*100)\n",
    "    print(i,(len(death[death[i]==-999])),((len(death[death[i]==-999]))/n_dea)*100)\n",
    "    \n",
    "if(counter > 0):\n",
    "    plt.bar(x_series,y_series,align='center') # A bar chart\n",
    "    plt.xlabel('Parameters')\n",
    "    plt.ylabel('Data Missing(percentage)')\n",
    "    for inner in range(len(y_series)):\n",
    "        plt.hlines(y_series[inner],0,x_series[inner]) # Here you are drawing the horizontal lines\n",
    "    plt.show()\n",
    "    x_series = []\n",
    "    y_series = []\n",
    "    counter = 0\n",
    "  \n",
    "\n",
    "\n",
    "\n",
    "\n",
    "\n",
    "\n",
    "\n"
   ]
  },
  {
   "cell_type": "code",
   "execution_count": 8,
   "metadata": {},
   "outputs": [
    {
     "name": "stdout",
     "output_type": "stream",
     "text": [
      "uhid 0 0.0\n",
      "pulserate 364212 31.501323323357955\n",
      "ecg_resprate 595911 51.54136899098756\n",
      "spo2 362541 31.35679565465585\n",
      "heartrate 348143 30.111487830614607\n",
      "mean_bp 1150327 99.4937639467903\n",
      "sys_bp 1150313 99.4925530626719\n",
      "dia_bp 1150315 99.49272604611738\n",
      "peep 1131601 97.8741199467211\n",
      "pip 1131407 97.85734055250911\n",
      "map 1102319 95.34146932138594\n",
      "tidalvol 1143195 98.87690498019339\n",
      "minvol 1152860 99.71284748049611\n",
      "ti 1142668 98.8313238423083\n",
      "fio2 1088302 94.12911484370946\n",
      "abd_difference_y 15 0.0012973758411320038\n",
      "currentdateheight 0 0.0\n",
      "currentdateweight 0 0.0\n",
      "dischargestatus 0 0.0\n",
      "new_ph 1155159 99.91169195108029\n",
      "rbs 24856 2.149838260478472\n",
      "stool_day_total 0 0.0\n",
      "temp 197912 17.117749831341143\n",
      "total_intake 4225 0.36542752858551436\n",
      "totalparenteralvolume 5006 0.4329775640471207\n",
      "tpn-tfl 5006 0.4329775640471207\n",
      "typevalue_Antibiotics 1141629 98.74145894237921\n",
      "urine 804052 69.54384265425799\n",
      "gender 0 0.0\n",
      "birthweight 0 0.0\n",
      "birthlength 907367 78.47973498936152\n",
      "birthheadcircumference 715713 61.90325035894065\n",
      "inout_patient_status 0 0.0\n",
      "gestationweekbylmp 0 0.0\n",
      "gestationdaysbylmp 0 0.0\n",
      "baby_type 0 0.0\n",
      "central_temp 1156180 100.0\n",
      "apgar_onemin 294999 25.514971717206663\n",
      "apgar_fivemin 294999 25.514971717206663\n",
      "apgar_tenmin 1088516 94.14762407237627\n",
      "motherage 520432 45.01306025013406\n",
      "conception_type 0 0.0\n",
      "mode_of_delivery 0 0.0\n",
      "steroidname 0 0.0\n",
      "numberofdose 742914 64.25591170924943\n",
      "gestation 0 0.0\n"
     ]
    }
   ],
   "source": [
    "#Calculating imputation of each variable for Discharge cases\n",
    "for i in cols:\n",
    "    print(i,(len(dis[dis[i]==-999])),((len(dis[dis[i]==-999]))/len(dis))*100)"
   ]
  },
  {
   "cell_type": "code",
   "execution_count": null,
   "metadata": {},
   "outputs": [],
   "source": []
  },
  {
   "cell_type": "code",
   "execution_count": null,
   "metadata": {},
   "outputs": [],
   "source": []
  },
  {
   "cell_type": "code",
   "execution_count": null,
   "metadata": {},
   "outputs": [],
   "source": []
  },
  {
   "cell_type": "code",
   "execution_count": null,
   "metadata": {},
   "outputs": [],
   "source": []
  }
 ],
 "metadata": {
  "kernelspec": {
   "display_name": "Python 3",
   "language": "python",
   "name": "python3"
  },
  "language_info": {
   "codemirror_mode": {
    "name": "ipython",
    "version": 3
   },
   "file_extension": ".py",
   "mimetype": "text/x-python",
   "name": "python",
   "nbconvert_exporter": "python",
   "pygments_lexer": "ipython3",
   "version": "3.7.6"
  }
 },
 "nbformat": 4,
 "nbformat_minor": 4
}
