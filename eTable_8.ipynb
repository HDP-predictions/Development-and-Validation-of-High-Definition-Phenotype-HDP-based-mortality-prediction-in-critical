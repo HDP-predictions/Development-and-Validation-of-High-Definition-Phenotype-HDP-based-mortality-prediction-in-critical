{
 "cells": [
  {
   "cell_type": "code",
   "execution_count": 1,
   "metadata": {},
   "outputs": [
    {
     "name": "stderr",
     "output_type": "stream",
     "text": [
      "Using TensorFlow backend.\n",
      "/usr/local/lib/python3.5/dist-packages/tensorflow/python/framework/dtypes.py:516: FutureWarning: Passing (type, 1) or '1type' as a synonym of type is deprecated; in a future version of numpy, it will be understood as (type, (1,)) / '(1,)type'.\n",
      "  _np_qint8 = np.dtype([(\"qint8\", np.int8, 1)])\n",
      "/usr/local/lib/python3.5/dist-packages/tensorflow/python/framework/dtypes.py:517: FutureWarning: Passing (type, 1) or '1type' as a synonym of type is deprecated; in a future version of numpy, it will be understood as (type, (1,)) / '(1,)type'.\n",
      "  _np_quint8 = np.dtype([(\"quint8\", np.uint8, 1)])\n",
      "/usr/local/lib/python3.5/dist-packages/tensorflow/python/framework/dtypes.py:518: FutureWarning: Passing (type, 1) or '1type' as a synonym of type is deprecated; in a future version of numpy, it will be understood as (type, (1,)) / '(1,)type'.\n",
      "  _np_qint16 = np.dtype([(\"qint16\", np.int16, 1)])\n",
      "/usr/local/lib/python3.5/dist-packages/tensorflow/python/framework/dtypes.py:519: FutureWarning: Passing (type, 1) or '1type' as a synonym of type is deprecated; in a future version of numpy, it will be understood as (type, (1,)) / '(1,)type'.\n",
      "  _np_quint16 = np.dtype([(\"quint16\", np.uint16, 1)])\n",
      "/usr/local/lib/python3.5/dist-packages/tensorflow/python/framework/dtypes.py:520: FutureWarning: Passing (type, 1) or '1type' as a synonym of type is deprecated; in a future version of numpy, it will be understood as (type, (1,)) / '(1,)type'.\n",
      "  _np_qint32 = np.dtype([(\"qint32\", np.int32, 1)])\n",
      "/usr/local/lib/python3.5/dist-packages/tensorflow/python/framework/dtypes.py:525: FutureWarning: Passing (type, 1) or '1type' as a synonym of type is deprecated; in a future version of numpy, it will be understood as (type, (1,)) / '(1,)type'.\n",
      "  np_resource = np.dtype([(\"resource\", np.ubyte, 1)])\n",
      "/usr/local/lib/python3.5/dist-packages/tensorboard/compat/tensorflow_stub/dtypes.py:541: FutureWarning: Passing (type, 1) or '1type' as a synonym of type is deprecated; in a future version of numpy, it will be understood as (type, (1,)) / '(1,)type'.\n",
      "  _np_qint8 = np.dtype([(\"qint8\", np.int8, 1)])\n",
      "/usr/local/lib/python3.5/dist-packages/tensorboard/compat/tensorflow_stub/dtypes.py:542: FutureWarning: Passing (type, 1) or '1type' as a synonym of type is deprecated; in a future version of numpy, it will be understood as (type, (1,)) / '(1,)type'.\n",
      "  _np_quint8 = np.dtype([(\"quint8\", np.uint8, 1)])\n",
      "/usr/local/lib/python3.5/dist-packages/tensorboard/compat/tensorflow_stub/dtypes.py:543: FutureWarning: Passing (type, 1) or '1type' as a synonym of type is deprecated; in a future version of numpy, it will be understood as (type, (1,)) / '(1,)type'.\n",
      "  _np_qint16 = np.dtype([(\"qint16\", np.int16, 1)])\n",
      "/usr/local/lib/python3.5/dist-packages/tensorboard/compat/tensorflow_stub/dtypes.py:544: FutureWarning: Passing (type, 1) or '1type' as a synonym of type is deprecated; in a future version of numpy, it will be understood as (type, (1,)) / '(1,)type'.\n",
      "  _np_quint16 = np.dtype([(\"quint16\", np.uint16, 1)])\n",
      "/usr/local/lib/python3.5/dist-packages/tensorboard/compat/tensorflow_stub/dtypes.py:545: FutureWarning: Passing (type, 1) or '1type' as a synonym of type is deprecated; in a future version of numpy, it will be understood as (type, (1,)) / '(1,)type'.\n",
      "  _np_qint32 = np.dtype([(\"qint32\", np.int32, 1)])\n",
      "/usr/local/lib/python3.5/dist-packages/tensorboard/compat/tensorflow_stub/dtypes.py:550: FutureWarning: Passing (type, 1) or '1type' as a synonym of type is deprecated; in a future version of numpy, it will be understood as (type, (1,)) / '(1,)type'.\n",
      "  np_resource = np.dtype([(\"resource\", np.ubyte, 1)])\n"
     ]
    }
   ],
   "source": [
    "import pandas as pd\n",
    "import numpy as np\n",
    "from keras.layers import Activation, Dense, Dropout, SpatialDropout1D,Input,Masking,Bidirectional, TimeDistributed\n",
    "from keras.layers.embeddings import Embedding\n",
    "from keras.layers.recurrent import LSTM,GRU\n",
    "from keras.models import Sequential, Model\n",
    "from keras.preprocessing import sequence\n",
    "from sklearn.model_selection import train_test_split\n",
    "from keras.callbacks import EarlyStopping\n",
    "from random import seed\n",
    "#seed(1)\n",
    "import tensorflow as tf\n",
    "from keras.layers import Input, Dense\n",
    "from keras.models import Model\n",
    "\n",
    "#defining the early stopping criteria\n",
    "es = EarlyStopping(monitor='val_loss', mode='min', verbose=1,restore_best_weights=True,patience=3)\n"
   ]
  },
  {
   "cell_type": "code",
   "execution_count": 2,
   "metadata": {},
   "outputs": [
    {
     "name": "stderr",
     "output_type": "stream",
     "text": [
      "/usr/local/lib/python3.5/dist-packages/IPython/core/interactiveshell.py:2785: DtypeWarning: Columns (15,16,17,25,32,33,35,38,39,41,42,43,44,45,46,47,48,53,55,57,68,69) have mixed types. Specify dtype option on import or set low_memory=False.\n",
      "  interactivity=interactivity, compiler=compiler, result=result)\n"
     ]
    }
   ],
   "source": [
    "gs = pd.read_csv('data_8th_june.csv')"
   ]
  },
  {
   "cell_type": "code",
   "execution_count": 3,
   "metadata": {},
   "outputs": [],
   "source": [
    "gs.drop('Unnamed: 0',axis=1,inplace=True)\n",
    "gs.drop('Unnamed: 0.1',axis=1,inplace=True)"
   ]
  },
  {
   "cell_type": "code",
   "execution_count": 4,
   "metadata": {},
   "outputs": [],
   "source": [
    "cols_to_use = ['uhid','pulserate', 'dischargestatus']"
   ]
  },
  {
   "cell_type": "code",
   "execution_count": 5,
   "metadata": {},
   "outputs": [],
   "source": [
    "gd = gs[cols_to_use]"
   ]
  },
  {
   "cell_type": "code",
   "execution_count": 6,
   "metadata": {},
   "outputs": [],
   "source": [
    "def range_finder(x):\n",
    "    length = x\n",
    "    fractional = (x/15.0) - math.floor(x/15.0)\n",
    "    return int(round(fractional*15))"
   ]
  },
  {
   "cell_type": "code",
   "execution_count": 7,
   "metadata": {},
   "outputs": [],
   "source": [
    "import math\n",
    "final_df = pd.DataFrame(columns=gd.columns)\n",
    "for i in gd.uhid.unique():\n",
    "    x = gd[gd['uhid']==i]\n",
    "    x = x[range_finder(len(x)):len(x)]\n",
    "    \n",
    "    final_df = final_df.append(x,ignore_index=True)\n",
    "    "
   ]
  },
  {
   "cell_type": "code",
   "execution_count": 8,
   "metadata": {},
   "outputs": [],
   "source": [
    "final_df.fillna(-999,inplace=True)"
   ]
  },
  {
   "cell_type": "code",
   "execution_count": 9,
   "metadata": {},
   "outputs": [],
   "source": [
    "train = final_df[:515340]\n",
    "test = final_df[515340:]"
   ]
  },
  {
   "cell_type": "code",
   "execution_count": 10,
   "metadata": {},
   "outputs": [],
   "source": [
    "y_train = train['dischargestatus']\n",
    "X_train = train.drop('dischargestatus',axis=1)\n",
    "X_train = X_train.drop('uhid',axis=1)\n",
    "#X_train = X_train.drop('visittime',axis=1)\n",
    "\n",
    "y_test = test['dischargestatus']\n",
    "X_test = test.drop('dischargestatus',axis=1)\n",
    "X_test = X_test.drop('uhid',axis=1)\n",
    "#X_test = X_test.drop('startdate',axis=1)"
   ]
  },
  {
   "cell_type": "code",
   "execution_count": 11,
   "metadata": {},
   "outputs": [],
   "source": [
    "#converting the data into a numpy array\n",
    "X_train = np.array(X_train)\n",
    "y_train = np.array(y_train)\n",
    "X_test = np.array(X_test)\n",
    "y_test = np.array(y_test)\n",
    "\n",
    "ytrain1 = []\n",
    "for i in range(0,len(y_train),15):\n",
    "    #print(i)\n",
    "    y1 = y_train[i:i+15]\n",
    "    ytrain1.append(y1[-1])\n",
    "    \n",
    "ytest1 = []\n",
    "for i in range(0,len(y_test),15):\n",
    "    #print(i)\n",
    "    y1 = y_test[i:i+15]\n",
    "    ytest1.append(y1[-1])\n",
    "    \n",
    "ytrain1 = np.array(ytrain1)\n",
    "ytest1 = np.array(ytest1)\n",
    "\n",
    "Xtrain = np.reshape(X_train, (-1, 15, X_train.shape[1]))\n",
    "Xtest = np.reshape(X_test, (-1, 15, X_test.shape[1]))"
   ]
  },
  {
   "cell_type": "code",
   "execution_count": 14,
   "metadata": {},
   "outputs": [],
   "source": [
    "from sklearn.metrics import roc_auc_score"
   ]
  },
  {
   "cell_type": "code",
   "execution_count": 16,
   "metadata": {},
   "outputs": [
    {
     "name": "stdout",
     "output_type": "stream",
     "text": [
      "Train on 29202 samples, validate on 5154 samples\n",
      "Epoch 1/38\n",
      "29202/29202 [==============================] - 54s 2ms/step - loss: 0.6829 - acc: 0.5592 - val_loss: 0.8110 - val_acc: 0.0386\n",
      "Epoch 2/38\n",
      "29202/29202 [==============================] - 50s 2ms/step - loss: 0.6807 - acc: 0.5645 - val_loss: 0.7870 - val_acc: 0.0386\n",
      "Epoch 3/38\n",
      "29202/29202 [==============================] - 50s 2ms/step - loss: 0.6797 - acc: 0.5660 - val_loss: 0.8114 - val_acc: 0.0388\n",
      "Epoch 4/38\n",
      "29202/29202 [==============================] - 48s 2ms/step - loss: 0.6795 - acc: 0.5650 - val_loss: 0.8020 - val_acc: 0.0388\n",
      "Epoch 5/38\n",
      "29202/29202 [==============================] - 48s 2ms/step - loss: 0.6794 - acc: 0.5664 - val_loss: 0.7923 - val_acc: 0.0388\n",
      "Restoring model weights from the end of the best epoch\n",
      "Epoch 00005: early stopping\n"
     ]
    }
   ],
   "source": [
    "#Building the LSTM model\n",
    "X = Input(shape=(None, 1), name='X')\n",
    "mX = Masking()(X)\n",
    "lstm = Bidirectional(LSTM(units=512,activation='tanh',return_sequences=True,recurrent_dropout=0.5,dropout=0.3))\n",
    "mX = lstm(mX)\n",
    "L = LSTM(units=64,activation='tanh',return_sequences=False)(mX)\n",
    "y = Dense(1, activation=\"sigmoid\")(L)\n",
    "outputs = [y]\n",
    "inputs = [X]\n",
    "model = Model(inputs,outputs)\n",
    "model.compile(loss=\"binary_crossentropy\",optimizer='adam',metrics=['accuracy'])\n",
    "\n",
    "\n",
    "#fitting the model\n",
    "model.fit(Xtrain, ytrain1, batch_size=60 ,validation_split=0.15,epochs=38,callbacks=[es])\n",
    "#predictions\n",
    "y_pred = model.predict(Xtest)\n",
    "#y_pred = y_pred.round()\n",
    "y_test = np.array(ytest1)\n",
    "y_pred = np.array(y_pred)\n",
    "y_test = pd.DataFrame(y_test)\n",
    "y_test = np.array(y_test)\n",
    "\n",
    "def acc(x):\n",
    "    if x>0.5:\n",
    "        return 1\n",
    "    else:\n",
    "        return 0\n",
    "\n",
    "y_model=[]\n",
    "for i in y_pred:\n",
    "    y_model.append(acc(i))\n",
    "y_answer=[]\n",
    "for j in y_test:\n",
    "    y_answer.append(acc(j))\n",
    "\n",
    "auc_roc = roc_auc_score(y_answer,y_pred)"
   ]
  },
  {
   "cell_type": "code",
   "execution_count": 18,
   "metadata": {},
   "outputs": [],
   "source": [
    "death = gs[gs['dischargestatus']==1]"
   ]
  },
  {
   "cell_type": "code",
   "execution_count": 20,
   "metadata": {},
   "outputs": [],
   "source": [
    "dis = gs[gs['dischargestatus']==0]"
   ]
  },
  {
   "cell_type": "code",
   "execution_count": 27,
   "metadata": {},
   "outputs": [
    {
     "name": "stdout",
     "output_type": "stream",
     "text": [
      "2.4132791438275274\n"
     ]
    }
   ],
   "source": [
    "#% Imputation Death\n",
    "print((len(death[death['pulserate']==-999])/len(death))*100)"
   ]
  },
  {
   "cell_type": "code",
   "execution_count": 28,
   "metadata": {},
   "outputs": [
    {
     "name": "stdout",
     "output_type": "stream",
     "text": [
      "0.0010859620401968849\n"
     ]
    }
   ],
   "source": [
    "#% Imputation Discharge\n",
    "print((len(dis[dis['pulserate']==-999])/len(dis))*100)"
   ]
  },
  {
   "cell_type": "code",
   "execution_count": 29,
   "metadata": {},
   "outputs": [],
   "source": [
    "cols_to_use = ['uhid','heartrate', 'dischargestatus']"
   ]
  },
  {
   "cell_type": "code",
   "execution_count": 30,
   "metadata": {},
   "outputs": [],
   "source": [
    "gd = gs[cols_to_use]"
   ]
  },
  {
   "cell_type": "code",
   "execution_count": 31,
   "metadata": {},
   "outputs": [],
   "source": [
    "def range_finder(x):\n",
    "    length = x\n",
    "    fractional = (x/15.0) - math.floor(x/15.0)\n",
    "    return int(round(fractional*15))"
   ]
  },
  {
   "cell_type": "code",
   "execution_count": 32,
   "metadata": {},
   "outputs": [],
   "source": [
    "final_df = pd.DataFrame(columns=gd.columns)\n",
    "for i in gd.uhid.unique():\n",
    "    x = gd[gd['uhid']==i]\n",
    "    x = x[range_finder(len(x)):len(x)]\n",
    "    \n",
    "    final_df = final_df.append(x,ignore_index=True)\n",
    "    "
   ]
  },
  {
   "cell_type": "code",
   "execution_count": 33,
   "metadata": {},
   "outputs": [],
   "source": [
    "final_df.fillna(-999,inplace=True)\n",
    "train = final_df[:515340]\n",
    "test = final_df[515340:]"
   ]
  },
  {
   "cell_type": "code",
   "execution_count": 34,
   "metadata": {},
   "outputs": [],
   "source": [
    "y_train = train['dischargestatus']\n",
    "X_train = train.drop('dischargestatus',axis=1)\n",
    "X_train = X_train.drop('uhid',axis=1)\n",
    "#X_train = X_train.drop('visittime',axis=1)\n",
    "\n",
    "y_test = test['dischargestatus']\n",
    "X_test = test.drop('dischargestatus',axis=1)\n",
    "X_test = X_test.drop('uhid',axis=1)\n",
    "#X_test = X_test.drop('startdate',axis=1)"
   ]
  },
  {
   "cell_type": "code",
   "execution_count": 35,
   "metadata": {},
   "outputs": [],
   "source": [
    "#converting the data into a numpy array\n",
    "X_train = np.array(X_train)\n",
    "y_train = np.array(y_train)\n",
    "X_test = np.array(X_test)\n",
    "y_test = np.array(y_test)\n",
    "\n",
    "ytrain1 = []\n",
    "for i in range(0,len(y_train),15):\n",
    "    #print(i)\n",
    "    y1 = y_train[i:i+15]\n",
    "    ytrain1.append(y1[-1])\n",
    "    \n",
    "ytest1 = []\n",
    "for i in range(0,len(y_test),15):\n",
    "    #print(i)\n",
    "    y1 = y_test[i:i+15]\n",
    "    ytest1.append(y1[-1])\n",
    "    \n",
    "ytrain1 = np.array(ytrain1)\n",
    "ytest1 = np.array(ytest1)\n",
    "\n",
    "Xtrain = np.reshape(X_train, (-1, 15, X_train.shape[1]))\n",
    "Xtest = np.reshape(X_test, (-1, 15, X_test.shape[1]))"
   ]
  },
  {
   "cell_type": "code",
   "execution_count": 37,
   "metadata": {},
   "outputs": [
    {
     "name": "stdout",
     "output_type": "stream",
     "text": [
      "Train on 29202 samples, validate on 5154 samples\n",
      "Epoch 1/38\n",
      "29202/29202 [==============================] - 52s 2ms/step - loss: 0.6530 - acc: 0.5962 - val_loss: 0.8512 - val_acc: 0.0388\n",
      "Epoch 2/38\n",
      "29202/29202 [==============================] - 49s 2ms/step - loss: 0.6501 - acc: 0.6017 - val_loss: 0.8524 - val_acc: 0.0388\n",
      "Epoch 3/38\n",
      "29202/29202 [==============================] - 49s 2ms/step - loss: 0.6495 - acc: 0.6016 - val_loss: 0.8698 - val_acc: 0.0409\n",
      "Epoch 4/38\n",
      "29202/29202 [==============================] - 49s 2ms/step - loss: 0.6493 - acc: 0.6018 - val_loss: 0.8683 - val_acc: 0.0388\n",
      "Restoring model weights from the end of the best epoch\n",
      "Epoch 00004: early stopping\n"
     ]
    }
   ],
   "source": [
    "#Building the LSTM model\n",
    "X = Input(shape=(None, 1), name='X')\n",
    "mX = Masking()(X)\n",
    "lstm = Bidirectional(LSTM(units=512,activation='tanh',return_sequences=True,recurrent_dropout=0.5,dropout=0.3))\n",
    "mX = lstm(mX)\n",
    "L = LSTM(units=64,activation='tanh',return_sequences=False)(mX)\n",
    "y = Dense(1, activation=\"sigmoid\")(L)\n",
    "outputs = [y]\n",
    "inputs = [X]\n",
    "model = Model(inputs,outputs)\n",
    "model.compile(loss=\"binary_crossentropy\",optimizer='adam',metrics=['accuracy'])\n",
    "\n",
    "\n",
    "#fitting the model\n",
    "model.fit(Xtrain, ytrain1, batch_size=60 ,validation_split=0.15,epochs=38,callbacks=[es])\n",
    "#predictions\n",
    "y_pred = model.predict(Xtest)\n",
    "#y_pred = y_pred.round()\n",
    "y_test = np.array(ytest1)\n",
    "y_pred = np.array(y_pred)\n",
    "y_test = pd.DataFrame(y_test)\n",
    "y_test = np.array(y_test)\n",
    "\n",
    "def acc(x):\n",
    "    if x>0.5:\n",
    "        return 1\n",
    "    else:\n",
    "        return 0\n",
    "\n",
    "y_model=[]\n",
    "for i in y_pred:\n",
    "    y_model.append(acc(i))\n",
    "y_answer=[]\n",
    "for j in y_test:\n",
    "    y_answer.append(acc(j))\n",
    "\n",
    "auc_roc = roc_auc_score(y_answer,y_pred)"
   ]
  },
  {
   "cell_type": "code",
   "execution_count": 38,
   "metadata": {},
   "outputs": [],
   "source": [
    "death = gs[gs['dischargestatus']==1]\n",
    "dis = gs[gs['dischargestatus']==0]"
   ]
  },
  {
   "cell_type": "code",
   "execution_count": 41,
   "metadata": {},
   "outputs": [
    {
     "name": "stdout",
     "output_type": "stream",
     "text": [
      "12.157345040004126\n"
     ]
    }
   ],
   "source": [
    "#% Imputation Death\n",
    "print((len(death[death['heartrate']==-999])/len(death))*100)"
   ]
  },
  {
   "cell_type": "code",
   "execution_count": 42,
   "metadata": {},
   "outputs": [
    {
     "name": "stdout",
     "output_type": "stream",
     "text": [
      "0.7050608545978275\n"
     ]
    }
   ],
   "source": [
    "#% Imputation Discharge\n",
    "print((len(dis[dis['heartrate']==-999])/len(dis))*100)"
   ]
  },
  {
   "cell_type": "code",
   "execution_count": 43,
   "metadata": {},
   "outputs": [
    {
     "data": {
      "text/plain": [
       "0.6962056984958658"
      ]
     },
     "execution_count": 43,
     "metadata": {},
     "output_type": "execute_result"
    }
   ],
   "source": [
    "auc_roc"
   ]
  },
  {
   "cell_type": "code",
   "execution_count": 44,
   "metadata": {},
   "outputs": [],
   "source": [
    "cols_to_use = ['uhid','spo2', 'dischargestatus']"
   ]
  },
  {
   "cell_type": "code",
   "execution_count": 45,
   "metadata": {},
   "outputs": [],
   "source": [
    "gd = gs[cols_to_use]"
   ]
  },
  {
   "cell_type": "code",
   "execution_count": 46,
   "metadata": {},
   "outputs": [],
   "source": [
    "def range_finder(x):\n",
    "    length = x\n",
    "    fractional = (x/15.0) - math.floor(x/15.0)\n",
    "    return int(round(fractional*15))"
   ]
  },
  {
   "cell_type": "code",
   "execution_count": 47,
   "metadata": {},
   "outputs": [],
   "source": [
    "final_df = pd.DataFrame(columns=gd.columns)\n",
    "for i in gd.uhid.unique():\n",
    "    x = gd[gd['uhid']==i]\n",
    "    x = x[range_finder(len(x)):len(x)]\n",
    "    \n",
    "    final_df = final_df.append(x,ignore_index=True)\n",
    "    "
   ]
  },
  {
   "cell_type": "code",
   "execution_count": 48,
   "metadata": {},
   "outputs": [],
   "source": [
    "final_df.fillna(-999,inplace=True)\n",
    "train = final_df[:515340]\n",
    "test = final_df[515340:]"
   ]
  },
  {
   "cell_type": "code",
   "execution_count": 49,
   "metadata": {},
   "outputs": [],
   "source": [
    "y_train = train['dischargestatus']\n",
    "X_train = train.drop('dischargestatus',axis=1)\n",
    "X_train = X_train.drop('uhid',axis=1)\n",
    "#X_train = X_train.drop('visittime',axis=1)\n",
    "\n",
    "y_test = test['dischargestatus']\n",
    "X_test = test.drop('dischargestatus',axis=1)\n",
    "X_test = X_test.drop('uhid',axis=1)\n",
    "#X_test = X_test.drop('startdate',axis=1)"
   ]
  },
  {
   "cell_type": "code",
   "execution_count": 50,
   "metadata": {},
   "outputs": [],
   "source": [
    "#converting the data into a numpy array\n",
    "X_train = np.array(X_train)\n",
    "y_train = np.array(y_train)\n",
    "X_test = np.array(X_test)\n",
    "y_test = np.array(y_test)\n",
    "\n",
    "ytrain1 = []\n",
    "for i in range(0,len(y_train),15):\n",
    "    #print(i)\n",
    "    y1 = y_train[i:i+15]\n",
    "    ytrain1.append(y1[-1])\n",
    "    \n",
    "ytest1 = []\n",
    "for i in range(0,len(y_test),15):\n",
    "    #print(i)\n",
    "    y1 = y_test[i:i+15]\n",
    "    ytest1.append(y1[-1])\n",
    "    \n",
    "ytrain1 = np.array(ytrain1)\n",
    "ytest1 = np.array(ytest1)\n",
    "\n",
    "Xtrain = np.reshape(X_train, (-1, 15, X_train.shape[1]))\n",
    "Xtest = np.reshape(X_test, (-1, 15, X_test.shape[1]))"
   ]
  },
  {
   "cell_type": "code",
   "execution_count": 51,
   "metadata": {},
   "outputs": [
    {
     "name": "stdout",
     "output_type": "stream",
     "text": [
      "Train on 29202 samples, validate on 5154 samples\n",
      "Epoch 1/38\n",
      "29202/29202 [==============================] - 52s 2ms/step - loss: 0.6821 - acc: 0.5584 - val_loss: 0.6784 - val_acc: 0.5927\n",
      "Epoch 2/38\n",
      "29202/29202 [==============================] - 50s 2ms/step - loss: 0.6793 - acc: 0.5648 - val_loss: 0.6594 - val_acc: 0.9373\n",
      "Epoch 3/38\n",
      "29202/29202 [==============================] - 51s 2ms/step - loss: 0.6782 - acc: 0.5664 - val_loss: 0.6651 - val_acc: 0.8104\n",
      "Epoch 4/38\n",
      "29202/29202 [==============================] - 48s 2ms/step - loss: 0.6773 - acc: 0.5682 - val_loss: 0.6322 - val_acc: 0.9777\n",
      "Epoch 5/38\n",
      "29202/29202 [==============================] - 48s 2ms/step - loss: 0.6770 - acc: 0.5694 - val_loss: 0.6623 - val_acc: 0.8890\n",
      "Epoch 6/38\n",
      "29202/29202 [==============================] - 51s 2ms/step - loss: 0.6752 - acc: 0.5747 - val_loss: 0.4843 - val_acc: 0.9777\n",
      "Epoch 7/38\n",
      "29202/29202 [==============================] - 50s 2ms/step - loss: 0.6737 - acc: 0.5790 - val_loss: 0.4468 - val_acc: 0.9777\n",
      "Epoch 8/38\n",
      "29202/29202 [==============================] - 56s 2ms/step - loss: 0.6725 - acc: 0.5785 - val_loss: 0.4285 - val_acc: 0.9777\n",
      "Epoch 9/38\n",
      "29202/29202 [==============================] - 52s 2ms/step - loss: 0.6737 - acc: 0.5794 - val_loss: 0.4709 - val_acc: 0.9777\n",
      "Epoch 10/38\n",
      "29202/29202 [==============================] - 53s 2ms/step - loss: 0.6718 - acc: 0.5818 - val_loss: 0.3998 - val_acc: 0.9777\n",
      "Epoch 11/38\n",
      "29202/29202 [==============================] - 53s 2ms/step - loss: 0.6707 - acc: 0.5838 - val_loss: 0.3309 - val_acc: 0.9777\n",
      "Epoch 12/38\n",
      "29202/29202 [==============================] - 51s 2ms/step - loss: 0.6713 - acc: 0.5833 - val_loss: 0.3542 - val_acc: 0.9777\n",
      "Epoch 13/38\n",
      "29202/29202 [==============================] - 53s 2ms/step - loss: 0.6696 - acc: 0.5836 - val_loss: 0.2648 - val_acc: 0.9777\n",
      "Epoch 14/38\n",
      "29202/29202 [==============================] - 53s 2ms/step - loss: 0.6715 - acc: 0.5824 - val_loss: 0.3615 - val_acc: 0.9777\n",
      "Epoch 15/38\n",
      "29202/29202 [==============================] - 52s 2ms/step - loss: 0.6698 - acc: 0.5860 - val_loss: 0.3287 - val_acc: 0.9777\n",
      "Epoch 16/38\n",
      "29202/29202 [==============================] - 51s 2ms/step - loss: 0.6706 - acc: 0.5843 - val_loss: 0.3226 - val_acc: 0.9777\n",
      "Restoring model weights from the end of the best epoch\n",
      "Epoch 00016: early stopping\n"
     ]
    }
   ],
   "source": [
    "#Building the LSTM model\n",
    "X = Input(shape=(None, 1), name='X')\n",
    "mX = Masking()(X)\n",
    "lstm = Bidirectional(LSTM(units=512,activation='tanh',return_sequences=True,recurrent_dropout=0.5,dropout=0.3))\n",
    "mX = lstm(mX)\n",
    "L = LSTM(units=64,activation='tanh',return_sequences=False)(mX)\n",
    "y = Dense(1, activation=\"sigmoid\")(L)\n",
    "outputs = [y]\n",
    "inputs = [X]\n",
    "model = Model(inputs,outputs)\n",
    "model.compile(loss=\"binary_crossentropy\",optimizer='adam',metrics=['accuracy'])\n",
    "\n",
    "\n",
    "#fitting the model\n",
    "model.fit(Xtrain, ytrain1, batch_size=60 ,validation_split=0.15,epochs=38,callbacks=[es])\n",
    "#predictions\n",
    "y_pred = model.predict(Xtest)\n",
    "#y_pred = y_pred.round()\n",
    "y_test = np.array(ytest1)\n",
    "y_pred = np.array(y_pred)\n",
    "y_test = pd.DataFrame(y_test)\n",
    "y_test = np.array(y_test)\n",
    "\n",
    "def acc(x):\n",
    "    if x>0.5:\n",
    "        return 1\n",
    "    else:\n",
    "        return 0\n",
    "\n",
    "y_model=[]\n",
    "for i in y_pred:\n",
    "    y_model.append(acc(i))\n",
    "y_answer=[]\n",
    "for j in y_test:\n",
    "    y_answer.append(acc(j))\n",
    "\n",
    "auc_roc = roc_auc_score(y_answer,y_pred)"
   ]
  },
  {
   "cell_type": "code",
   "execution_count": 52,
   "metadata": {},
   "outputs": [
    {
     "name": "stdout",
     "output_type": "stream",
     "text": [
      "2.2742760026823263\n"
     ]
    }
   ],
   "source": [
    "#% Imputation Death\n",
    "print((len(death[death['spo2']==-999])/len(death))*100)"
   ]
  },
  {
   "cell_type": "code",
   "execution_count": 78,
   "metadata": {},
   "outputs": [
    {
     "name": "stdout",
     "output_type": "stream",
     "text": [
      "0.0021719240803937698\n"
     ]
    }
   ],
   "source": [
    "#% Imputation Discharge\n",
    "print((len(dis[dis['spo2']==-999])/len(dis))*100)"
   ]
  },
  {
   "cell_type": "code",
   "execution_count": 54,
   "metadata": {},
   "outputs": [
    {
     "data": {
      "text/plain": [
       "0.39503299209961856"
      ]
     },
     "execution_count": 54,
     "metadata": {},
     "output_type": "execute_result"
    }
   ],
   "source": [
    "auc_roc"
   ]
  },
  {
   "cell_type": "code",
   "execution_count": 67,
   "metadata": {},
   "outputs": [],
   "source": [
    "cols_to_use = ['uhid','ecg_resprate', 'dischargestatus']"
   ]
  },
  {
   "cell_type": "code",
   "execution_count": 68,
   "metadata": {},
   "outputs": [],
   "source": [
    "gd = gs[cols_to_use]"
   ]
  },
  {
   "cell_type": "code",
   "execution_count": 69,
   "metadata": {},
   "outputs": [],
   "source": [
    "def range_finder(x):\n",
    "    length = x\n",
    "    fractional = (x/15.0) - math.floor(x/15.0)\n",
    "    return int(round(fractional*15))"
   ]
  },
  {
   "cell_type": "code",
   "execution_count": 70,
   "metadata": {},
   "outputs": [],
   "source": [
    "final_df = pd.DataFrame(columns=gd.columns)\n",
    "for i in gd.uhid.unique():\n",
    "    x = gd[gd['uhid']==i]\n",
    "    x = x[range_finder(len(x)):len(x)]\n",
    "    \n",
    "    final_df = final_df.append(x,ignore_index=True)\n",
    "    "
   ]
  },
  {
   "cell_type": "code",
   "execution_count": 71,
   "metadata": {},
   "outputs": [],
   "source": [
    "final_df.fillna(-999,inplace=True)\n",
    "train = final_df[:515340]\n",
    "test = final_df[515340:]"
   ]
  },
  {
   "cell_type": "code",
   "execution_count": 72,
   "metadata": {},
   "outputs": [],
   "source": [
    "y_train = train['dischargestatus']\n",
    "X_train = train.drop('dischargestatus',axis=1)\n",
    "X_train = X_train.drop('uhid',axis=1)\n",
    "#X_train = X_train.drop('visittime',axis=1)\n",
    "\n",
    "y_test = test['dischargestatus']\n",
    "X_test = test.drop('dischargestatus',axis=1)\n",
    "X_test = X_test.drop('uhid',axis=1)\n",
    "#X_test = X_test.drop('startdate',axis=1)"
   ]
  },
  {
   "cell_type": "code",
   "execution_count": 73,
   "metadata": {},
   "outputs": [],
   "source": [
    "#converting the data into a numpy array\n",
    "X_train = np.array(X_train)\n",
    "y_train = np.array(y_train)\n",
    "X_test = np.array(X_test)\n",
    "y_test = np.array(y_test)\n",
    "\n",
    "ytrain1 = []\n",
    "for i in range(0,len(y_train),15):\n",
    "    #print(i)\n",
    "    y1 = y_train[i:i+15]\n",
    "    ytrain1.append(y1[-1])\n",
    "    \n",
    "ytest1 = []\n",
    "for i in range(0,len(y_test),15):\n",
    "    #print(i)\n",
    "    y1 = y_test[i:i+15]\n",
    "    ytest1.append(y1[-1])\n",
    "    \n",
    "ytrain1 = np.array(ytrain1)\n",
    "ytest1 = np.array(ytest1)\n",
    "\n",
    "Xtrain = np.reshape(X_train, (-1, 15, X_train.shape[1]))\n",
    "Xtest = np.reshape(X_test, (-1, 15, X_test.shape[1]))"
   ]
  },
  {
   "cell_type": "code",
   "execution_count": 74,
   "metadata": {},
   "outputs": [
    {
     "name": "stdout",
     "output_type": "stream",
     "text": [
      "Train on 29202 samples, validate on 5154 samples\n",
      "Epoch 1/38\n",
      "29202/29202 [==============================] - 53s 2ms/step - loss: 0.2737 - acc: 0.9081 - val_loss: 0.2428 - val_acc: 0.8855\n",
      "Epoch 2/38\n",
      "29202/29202 [==============================] - 49s 2ms/step - loss: 0.2664 - acc: 0.9110 - val_loss: 0.2382 - val_acc: 0.8857\n",
      "Epoch 3/38\n",
      "29202/29202 [==============================] - 48s 2ms/step - loss: 0.2658 - acc: 0.9114 - val_loss: 0.2515 - val_acc: 0.8857\n",
      "Epoch 4/38\n",
      "29202/29202 [==============================] - 48s 2ms/step - loss: 0.2649 - acc: 0.9117 - val_loss: 0.2342 - val_acc: 0.8857\n",
      "Epoch 5/38\n",
      "29202/29202 [==============================] - 52s 2ms/step - loss: 0.2652 - acc: 0.9114 - val_loss: 0.2410 - val_acc: 0.8857\n",
      "Epoch 6/38\n",
      "29202/29202 [==============================] - 49s 2ms/step - loss: 0.2645 - acc: 0.9116 - val_loss: 0.2401 - val_acc: 0.8857\n",
      "Epoch 7/38\n",
      "29202/29202 [==============================] - 49s 2ms/step - loss: 0.2644 - acc: 0.9117 - val_loss: 0.2514 - val_acc: 0.8857\n",
      "Restoring model weights from the end of the best epoch\n",
      "Epoch 00007: early stopping\n"
     ]
    }
   ],
   "source": [
    "#Building the LSTM model\n",
    "X = Input(shape=(None, 1), name='X')\n",
    "mX = Masking()(X)\n",
    "lstm = Bidirectional(LSTM(units=512,activation='tanh',return_sequences=True,recurrent_dropout=0.5,dropout=0.3))\n",
    "mX = lstm(mX)\n",
    "L = LSTM(units=64,activation='tanh',return_sequences=False)(mX)\n",
    "y = Dense(1, activation=\"sigmoid\")(L)\n",
    "outputs = [y]\n",
    "inputs = [X]\n",
    "model = Model(inputs,outputs)\n",
    "model.compile(loss=\"binary_crossentropy\",optimizer='adam',metrics=['accuracy'])\n",
    "\n",
    "\n",
    "#fitting the model\n",
    "model.fit(Xtrain, ytrain1, batch_size=60 ,validation_split=0.15,epochs=38,callbacks=[es])\n",
    "#predictions\n",
    "y_pred = model.predict(Xtest)\n",
    "#y_pred = y_pred.round()\n",
    "y_test = np.array(ytest1)\n",
    "y_pred = np.array(y_pred)\n",
    "y_test = pd.DataFrame(y_test)\n",
    "y_test = np.array(y_test)\n",
    "\n",
    "def acc(x):\n",
    "    if x>0.5:\n",
    "        return 1\n",
    "    else:\n",
    "        return 0\n",
    "\n",
    "y_model=[]\n",
    "for i in y_pred:\n",
    "    y_model.append(acc(i))\n",
    "y_answer=[]\n",
    "for j in y_test:\n",
    "    y_answer.append(acc(j))\n",
    "\n",
    "auc_roc = roc_auc_score(y_answer,y_pred)"
   ]
  },
  {
   "cell_type": "code",
   "execution_count": 75,
   "metadata": {},
   "outputs": [
    {
     "name": "stdout",
     "output_type": "stream",
     "text": [
      "21.926116572595205\n"
     ]
    }
   ],
   "source": [
    "#% Imputation Death\n",
    "print((len(death[death['ecg_resprate']==-999])/len(death))*100)"
   ]
  },
  {
   "cell_type": "code",
   "execution_count": 76,
   "metadata": {},
   "outputs": [
    {
     "name": "stdout",
     "output_type": "stream",
     "text": [
      "98.0297933685728\n"
     ]
    }
   ],
   "source": [
    "#% Imputation Discharge\n",
    "print((len(dis[dis['ecg_resprate']==-999])/len(dis))*100)"
   ]
  },
  {
   "cell_type": "code",
   "execution_count": 77,
   "metadata": {},
   "outputs": [
    {
     "data": {
      "text/plain": [
       "0.8256769249629745"
      ]
     },
     "execution_count": 77,
     "metadata": {},
     "output_type": "execute_result"
    }
   ],
   "source": [
    "auc_roc"
   ]
  },
  {
   "cell_type": "code",
   "execution_count": null,
   "metadata": {},
   "outputs": [],
   "source": []
  }
 ],
 "metadata": {
  "kernelspec": {
   "display_name": "Python 3",
   "language": "python",
   "name": "python3"
  },
  "language_info": {
   "codemirror_mode": {
    "name": "ipython",
    "version": 3
   },
   "file_extension": ".py",
   "mimetype": "text/x-python",
   "name": "python",
   "nbconvert_exporter": "python",
   "pygments_lexer": "ipython3",
   "version": "3.5.2"
  }
 },
 "nbformat": 4,
 "nbformat_minor": 4
}
