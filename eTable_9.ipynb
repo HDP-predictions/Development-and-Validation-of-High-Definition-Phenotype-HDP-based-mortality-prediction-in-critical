{
 "cells": [
  {
   "cell_type": "code",
   "execution_count": null,
   "metadata": {},
   "outputs": [],
   "source": [
    "import pandas as pd\n",
    "import numpy as np\n",
    "from keras.layers import Activation, Dense, Dropout, SpatialDropout1D,Input,Masking,Bidirectional, TimeDistributed\n",
    "from keras.layers.embeddings import Embedding\n",
    "from keras.layers.recurrent import LSTM,GRU\n",
    "from keras.models import Sequential, Model\n",
    "from keras.preprocessing import sequence\n",
    "from sklearn.model_selection import train_test_split\n",
    "from keras.callbacks import EarlyStopping\n",
    "from random import seed\n",
    "#seed(1)\n",
    "import tensorflow as tf\n",
    "from keras.layers import Input, Dense\n",
    "from keras.models import Model\n",
    "\n",
    "#defining the early stopping criteria\n",
    "es = EarlyStopping(monitor='val_loss', mode='min', verbose=1,restore_best_weights=True,patience=3)\n"
   ]
  },
  {
   "cell_type": "code",
   "execution_count": null,
   "metadata": {},
   "outputs": [],
   "source": [
    "gs = pd.read_csv('data_8th_june.csv')"
   ]
  },
  {
   "cell_type": "code",
   "execution_count": null,
   "metadata": {},
   "outputs": [],
   "source": [
    "gs.drop('Unnamed: 0',axis=1,inplace=True)\n",
    "gs.drop('Unnamed: 0.1',axis=1,inplace=True)"
   ]
  },
  {
   "cell_type": "code",
   "execution_count": null,
   "metadata": {},
   "outputs": [],
   "source": [
    "cols_to_use = ['uhid','heartrate', 'spo2', 'ecg_resprate' ,'dischargestatus']"
   ]
  },
  {
   "cell_type": "code",
   "execution_count": null,
   "metadata": {},
   "outputs": [],
   "source": [
    "gd = gs[cols_to_use]"
   ]
  },
  {
   "cell_type": "code",
   "execution_count": null,
   "metadata": {},
   "outputs": [],
   "source": [
    "def range_finder(x):\n",
    "    length = x\n",
    "    fractional = (x/15.0) - math.floor(x/15.0)\n",
    "    return int(round(fractional*15))"
   ]
  },
  {
   "cell_type": "code",
   "execution_count": null,
   "metadata": {},
   "outputs": [],
   "source": [
    "import math\n",
    "final_df = pd.DataFrame(columns=gd.columns)\n",
    "for i in gd.uhid.unique():\n",
    "    x = gd[gd['uhid']==i]\n",
    "    x = x[range_finder(len(x)):len(x)]\n",
    "    \n",
    "    final_df = final_df.append(x,ignore_index=True)\n",
    "    "
   ]
  },
  {
   "cell_type": "code",
   "execution_count": null,
   "metadata": {},
   "outputs": [],
   "source": [
    "final_df.fillna(-999,inplace=True)"
   ]
  },
  {
   "cell_type": "code",
   "execution_count": null,
   "metadata": {},
   "outputs": [],
   "source": [
    "train = final_df[:515340]\n",
    "test = final_df[515340:]"
   ]
  },
  {
   "cell_type": "code",
   "execution_count": null,
   "metadata": {},
   "outputs": [],
   "source": [
    "y_train = train['dischargestatus']\n",
    "X_train = train.drop('dischargestatus',axis=1)\n",
    "X_train = X_train.drop('uhid',axis=1)\n",
    "#X_train = X_train.drop('visittime',axis=1)\n",
    "\n",
    "y_test = test['dischargestatus']\n",
    "X_test = test.drop('dischargestatus',axis=1)\n",
    "X_test = X_test.drop('uhid',axis=1)\n",
    "#X_test = X_test.drop('startdate',axis=1)"
   ]
  },
  {
   "cell_type": "code",
   "execution_count": null,
   "metadata": {},
   "outputs": [],
   "source": [
    "#converting the data into a numpy array\n",
    "X_train = np.array(X_train)\n",
    "y_train = np.array(y_train)\n",
    "X_test = np.array(X_test)\n",
    "y_test = np.array(y_test)\n",
    "\n",
    "ytrain1 = []\n",
    "for i in range(0,len(y_train),15):\n",
    "    #print(i)\n",
    "    y1 = y_train[i:i+15]\n",
    "    ytrain1.append(y1[-1])\n",
    "    \n",
    "ytest1 = []\n",
    "for i in range(0,len(y_test),15):\n",
    "    #print(i)\n",
    "    y1 = y_test[i:i+15]\n",
    "    ytest1.append(y1[-1])\n",
    "    \n",
    "ytrain1 = np.array(ytrain1)\n",
    "ytest1 = np.array(ytest1)\n",
    "\n",
    "Xtrain = np.reshape(X_train, (-1, 15, X_train.shape[1]))\n",
    "Xtest = np.reshape(X_test, (-1, 15, X_test.shape[1]))"
   ]
  },
  {
   "cell_type": "code",
   "execution_count": null,
   "metadata": {},
   "outputs": [],
   "source": [
    "from sklearn.metrics import roc_auc_score\n",
    "auc_roc_inter = []\n",
    "from sklearn.metrics import roc_auc_score\n",
    "val_a = []\n",
    "train_a = []"
   ]
  },
  {
   "cell_type": "code",
   "execution_count": null,
   "metadata": {},
   "outputs": [],
   "source": [
    "for i in range(5):\n",
    "    #Building the LSTM model\n",
    "    X = Input(shape=(None, 3), name='X')\n",
    "    mX = Masking()(X)\n",
    "    lstm = Bidirectional(LSTM(units=512,activation='tanh',return_sequences=True,recurrent_dropout=0.5,dropout=0.3))\n",
    "    mX = lstm(mX)\n",
    "    L = LSTM(units=64,activation='tanh',return_sequences=False)(mX)\n",
    "    y = Dense(1, activation=\"sigmoid\")(L)\n",
    "    outputs = [y]\n",
    "    inputs = [X]\n",
    "    model = Model(inputs,outputs)\n",
    "    model.compile(loss=\"binary_crossentropy\",optimizer='adam',metrics=['accuracy'])\n",
    "\n",
    "    \n",
    "    #fitting the model\n",
    "    model.fit(Xtrain, ytrain1, batch_size=60 ,validation_split=0.15,epochs=38,callbacks=[es])\n",
    "    #history = model.fit(Xtrain, ytrain1, batch_size=60 ,validation_split=0.15,epochs=38,callbacks=[es])\n",
    "    for i in range(len(model.history.history['val_acc'])):\n",
    "        val_a.append(model.history.history['val_acc'][i])\n",
    "        train_a.append(model.history.history['acc'][i])\n",
    "    #predictions\n",
    "    y_pred = model.predict(Xtest)\n",
    "    #y_pred = y_pred.round()\n",
    "    y_test = np.array(ytest1)\n",
    "    y_pred = np.array(y_pred)\n",
    "    y_test = pd.DataFrame(y_test)\n",
    "    y_test = np.array(y_test)\n",
    "\n",
    "    def acc(x):\n",
    "        if x>0.5:\n",
    "            return 1\n",
    "        else:\n",
    "            return 0\n",
    "\n",
    "    y_model=[]\n",
    "    for i in y_pred:\n",
    "        y_model.append(acc(i))\n",
    "    y_answer=[]\n",
    "    for j in y_test:\n",
    "        y_answer.append(acc(j))\n",
    "    \n",
    "    auc_roc_inter.append(roc_auc_score(y_answer,y_pred))"
   ]
  },
  {
   "cell_type": "code",
   "execution_count": null,
   "metadata": {},
   "outputs": [],
   "source": [
    "import scipy.stats\n",
    "def mean_confidence_interval(data, confidence=0.95):\n",
    "    a = 1.0 * np.array(data)\n",
    "    n = len(a)\n",
    "    m, se = np.mean(a), scipy.stats.sem(a)\n",
    "    h = se * scipy.stats.t.ppf((1 + confidence) / 2., n-1)\n",
    "    return m, m-h, m+h"
   ]
  },
  {
   "cell_type": "code",
   "execution_count": null,
   "metadata": {},
   "outputs": [],
   "source": [
    "mean_confidence_interval(auc_roc_inter)"
   ]
  },
  {
   "cell_type": "code",
   "execution_count": null,
   "metadata": {},
   "outputs": [],
   "source": [
    "cols_to_use = ['uhid','heartrate','spo2', 'dischargestatus']"
   ]
  },
  {
   "cell_type": "code",
   "execution_count": null,
   "metadata": {},
   "outputs": [],
   "source": [
    "gd = gs[cols_to_use]"
   ]
  },
  {
   "cell_type": "code",
   "execution_count": null,
   "metadata": {},
   "outputs": [],
   "source": [
    "def range_finder(x):\n",
    "    length = x\n",
    "    fractional = (x/15.0) - math.floor(x/15.0)\n",
    "    return int(round(fractional*15))"
   ]
  },
  {
   "cell_type": "code",
   "execution_count": null,
   "metadata": {},
   "outputs": [],
   "source": [
    "final_df = pd.DataFrame(columns=gd.columns)\n",
    "for i in gd.uhid.unique():\n",
    "    x = gd[gd['uhid']==i]\n",
    "    x = x[range_finder(len(x)):len(x)]\n",
    "    \n",
    "    final_df = final_df.append(x,ignore_index=True)\n",
    "    "
   ]
  },
  {
   "cell_type": "code",
   "execution_count": null,
   "metadata": {},
   "outputs": [],
   "source": [
    "final_df.fillna(-999,inplace=True)\n",
    "train = final_df[:515340]\n",
    "test = final_df[515340:]"
   ]
  },
  {
   "cell_type": "code",
   "execution_count": null,
   "metadata": {},
   "outputs": [],
   "source": [
    "y_train = train['dischargestatus']\n",
    "X_train = train.drop('dischargestatus',axis=1)\n",
    "X_train = X_train.drop('uhid',axis=1)\n",
    "#X_train = X_train.drop('visittime',axis=1)\n",
    "\n",
    "y_test = test['dischargestatus']\n",
    "X_test = test.drop('dischargestatus',axis=1)\n",
    "X_test = X_test.drop('uhid',axis=1)\n",
    "#X_test = X_test.drop('startdate',axis=1)"
   ]
  },
  {
   "cell_type": "code",
   "execution_count": null,
   "metadata": {},
   "outputs": [],
   "source": [
    "#converting the data into a numpy array\n",
    "X_train = np.array(X_train)\n",
    "y_train = np.array(y_train)\n",
    "X_test = np.array(X_test)\n",
    "y_test = np.array(y_test)\n",
    "\n",
    "ytrain1 = []\n",
    "for i in range(0,len(y_train),15):\n",
    "    #print(i)\n",
    "    y1 = y_train[i:i+15]\n",
    "    ytrain1.append(y1[-1])\n",
    "    \n",
    "ytest1 = []\n",
    "for i in range(0,len(y_test),15):\n",
    "    #print(i)\n",
    "    y1 = y_test[i:i+15]\n",
    "    ytest1.append(y1[-1])\n",
    "    \n",
    "ytrain1 = np.array(ytrain1)\n",
    "ytest1 = np.array(ytest1)\n",
    "\n",
    "Xtrain = np.reshape(X_train, (-1, 15, X_train.shape[1]))\n",
    "Xtest = np.reshape(X_test, (-1, 15, X_test.shape[1]))"
   ]
  },
  {
   "cell_type": "code",
   "execution_count": null,
   "metadata": {},
   "outputs": [],
   "source": [
    "from sklearn.metrics import roc_auc_score\n",
    "auc_roc_inter = []\n",
    "from sklearn.metrics import roc_auc_score\n",
    "val_a = []\n",
    "train_a = []"
   ]
  },
  {
   "cell_type": "code",
   "execution_count": null,
   "metadata": {},
   "outputs": [],
   "source": [
    "for i in range(5):\n",
    "    #Building the LSTM model\n",
    "    X = Input(shape=(None, 2), name='X')\n",
    "    mX = Masking()(X)\n",
    "    lstm = Bidirectional(LSTM(units=512,activation='tanh',return_sequences=True,recurrent_dropout=0.5,dropout=0.3))\n",
    "    mX = lstm(mX)\n",
    "    L = LSTM(units=64,activation='tanh',return_sequences=False)(mX)\n",
    "    y = Dense(1, activation=\"sigmoid\")(L)\n",
    "    outputs = [y]\n",
    "    inputs = [X]\n",
    "    model = Model(inputs,outputs)\n",
    "    model.compile(loss=\"binary_crossentropy\",optimizer='adam',metrics=['accuracy'])\n",
    "\n",
    "    \n",
    "    #fitting the model\n",
    "    model.fit(Xtrain, ytrain1, batch_size=60 ,validation_split=0.15,epochs=38,callbacks=[es])\n",
    "    #history = model.fit(Xtrain, ytrain1, batch_size=60 ,validation_split=0.15,epochs=38,callbacks=[es])\n",
    "    for i in range(len(model.history.history['val_acc'])):\n",
    "        val_a.append(model.history.history['val_acc'][i])\n",
    "        train_a.append(model.history.history['acc'][i])\n",
    "    #predictions\n",
    "    y_pred = model.predict(Xtest)\n",
    "    #y_pred = y_pred.round()\n",
    "    y_test = np.array(ytest1)\n",
    "    y_pred = np.array(y_pred)\n",
    "    y_test = pd.DataFrame(y_test)\n",
    "    y_test = np.array(y_test)\n",
    "\n",
    "    def acc(x):\n",
    "        if x>0.5:\n",
    "            return 1\n",
    "        else:\n",
    "            return 0\n",
    "\n",
    "    y_model=[]\n",
    "    for i in y_pred:\n",
    "        y_model.append(acc(i))\n",
    "    y_answer=[]\n",
    "    for j in y_test:\n",
    "        y_answer.append(acc(j))\n",
    "    \n",
    "    auc_roc_inter.append(roc_auc_score(y_answer,y_pred))"
   ]
  },
  {
   "cell_type": "code",
   "execution_count": null,
   "metadata": {},
   "outputs": [],
   "source": [
    "mean_confidence_interval(auc_roc_inter)"
   ]
  },
  {
   "cell_type": "code",
   "execution_count": null,
   "metadata": {},
   "outputs": [],
   "source": [
    "cols_to_use = ['uhid','spo2','ecg_resprate', 'dischargestatus']"
   ]
  },
  {
   "cell_type": "code",
   "execution_count": null,
   "metadata": {},
   "outputs": [],
   "source": [
    "gd = gs[cols_to_use]"
   ]
  },
  {
   "cell_type": "code",
   "execution_count": null,
   "metadata": {},
   "outputs": [],
   "source": [
    "def range_finder(x):\n",
    "    length = x\n",
    "    fractional = (x/15.0) - math.floor(x/15.0)\n",
    "    return int(round(fractional*15))"
   ]
  },
  {
   "cell_type": "code",
   "execution_count": null,
   "metadata": {},
   "outputs": [],
   "source": [
    "final_df = pd.DataFrame(columns=gd.columns)\n",
    "for i in gd.uhid.unique():\n",
    "    x = gd[gd['uhid']==i]\n",
    "    x = x[range_finder(len(x)):len(x)]\n",
    "    \n",
    "    final_df = final_df.append(x,ignore_index=True)\n",
    "    "
   ]
  },
  {
   "cell_type": "code",
   "execution_count": null,
   "metadata": {},
   "outputs": [],
   "source": [
    "final_df.fillna(-999,inplace=True)\n",
    "train = final_df[:515340]\n",
    "test = final_df[515340:]"
   ]
  },
  {
   "cell_type": "code",
   "execution_count": null,
   "metadata": {},
   "outputs": [],
   "source": [
    "y_train = train['dischargestatus']\n",
    "X_train = train.drop('dischargestatus',axis=1)\n",
    "X_train = X_train.drop('uhid',axis=1)\n",
    "#X_train = X_train.drop('visittime',axis=1)\n",
    "\n",
    "y_test = test['dischargestatus']\n",
    "X_test = test.drop('dischargestatus',axis=1)\n",
    "X_test = X_test.drop('uhid',axis=1)\n",
    "#X_test = X_test.drop('startdate',axis=1)"
   ]
  },
  {
   "cell_type": "code",
   "execution_count": null,
   "metadata": {},
   "outputs": [],
   "source": [
    "#converting the data into a numpy array\n",
    "X_train = np.array(X_train)\n",
    "y_train = np.array(y_train)\n",
    "X_test = np.array(X_test)\n",
    "y_test = np.array(y_test)\n",
    "\n",
    "ytrain1 = []\n",
    "for i in range(0,len(y_train),15):\n",
    "    #print(i)\n",
    "    y1 = y_train[i:i+15]\n",
    "    ytrain1.append(y1[-1])\n",
    "    \n",
    "ytest1 = []\n",
    "for i in range(0,len(y_test),15):\n",
    "    #print(i)\n",
    "    y1 = y_test[i:i+15]\n",
    "    ytest1.append(y1[-1])\n",
    "    \n",
    "ytrain1 = np.array(ytrain1)\n",
    "ytest1 = np.array(ytest1)\n",
    "\n",
    "Xtrain = np.reshape(X_train, (-1, 15, X_train.shape[1]))\n",
    "Xtest = np.reshape(X_test, (-1, 15, X_test.shape[1]))"
   ]
  },
  {
   "cell_type": "code",
   "execution_count": null,
   "metadata": {},
   "outputs": [],
   "source": [
    "from sklearn.metrics import roc_auc_score\n",
    "auc_roc_inter = []\n",
    "from sklearn.metrics import roc_auc_score\n",
    "val_a = []\n",
    "train_a = []"
   ]
  },
  {
   "cell_type": "code",
   "execution_count": null,
   "metadata": {},
   "outputs": [],
   "source": [
    "for i in range(5):\n",
    "    #Building the LSTM model\n",
    "    X = Input(shape=(None, 2), name='X')\n",
    "    mX = Masking()(X)\n",
    "    lstm = Bidirectional(LSTM(units=512,activation='tanh',return_sequences=True,recurrent_dropout=0.5,dropout=0.3))\n",
    "    mX = lstm(mX)\n",
    "    L = LSTM(units=64,activation='tanh',return_sequences=False)(mX)\n",
    "    y = Dense(1, activation=\"sigmoid\")(L)\n",
    "    outputs = [y]\n",
    "    inputs = [X]\n",
    "    model = Model(inputs,outputs)\n",
    "    model.compile(loss=\"binary_crossentropy\",optimizer='adam',metrics=['accuracy'])\n",
    "\n",
    "    \n",
    "    #fitting the model\n",
    "    model.fit(Xtrain, ytrain1, batch_size=60 ,validation_split=0.15,epochs=38,callbacks=[es])\n",
    "    #history = model.fit(Xtrain, ytrain1, batch_size=60 ,validation_split=0.15,epochs=38,callbacks=[es])\n",
    "    for i in range(len(model.history.history['val_acc'])):\n",
    "        val_a.append(model.history.history['val_acc'][i])\n",
    "        train_a.append(model.history.history['acc'][i])\n",
    "    #predictions\n",
    "    y_pred = model.predict(Xtest)\n",
    "    #y_pred = y_pred.round()\n",
    "    y_test = np.array(ytest1)\n",
    "    y_pred = np.array(y_pred)\n",
    "    y_test = pd.DataFrame(y_test)\n",
    "    y_test = np.array(y_test)\n",
    "\n",
    "    def acc(x):\n",
    "        if x>0.5:\n",
    "            return 1\n",
    "        else:\n",
    "            return 0\n",
    "\n",
    "    y_model=[]\n",
    "    for i in y_pred:\n",
    "        y_model.append(acc(i))\n",
    "    y_answer=[]\n",
    "    for j in y_test:\n",
    "        y_answer.append(acc(j))\n",
    "    \n",
    "    auc_roc_inter.append(roc_auc_score(y_answer,y_pred))"
   ]
  },
  {
   "cell_type": "code",
   "execution_count": null,
   "metadata": {},
   "outputs": [],
   "source": [
    "mean_confidence_interval(auc_roc_inter)"
   ]
  },
  {
   "cell_type": "code",
   "execution_count": null,
   "metadata": {},
   "outputs": [],
   "source": [
    "cols_to_use = ['uhid','heartrate','ecg_resprate', 'dischargestatus']"
   ]
  },
  {
   "cell_type": "code",
   "execution_count": null,
   "metadata": {},
   "outputs": [],
   "source": [
    "gd = gs[cols_to_use]"
   ]
  },
  {
   "cell_type": "code",
   "execution_count": null,
   "metadata": {},
   "outputs": [],
   "source": [
    "def range_finder(x):\n",
    "    length = x\n",
    "    fractional = (x/15.0) - math.floor(x/15.0)\n",
    "    return int(round(fractional*15))"
   ]
  },
  {
   "cell_type": "code",
   "execution_count": null,
   "metadata": {},
   "outputs": [],
   "source": [
    "final_df = pd.DataFrame(columns=gd.columns)\n",
    "for i in gd.uhid.unique():\n",
    "    x = gd[gd['uhid']==i]\n",
    "    x = x[range_finder(len(x)):len(x)]\n",
    "    \n",
    "    final_df = final_df.append(x,ignore_index=True)\n",
    "    "
   ]
  },
  {
   "cell_type": "code",
   "execution_count": null,
   "metadata": {},
   "outputs": [],
   "source": [
    "final_df.fillna(-999,inplace=True)\n",
    "train = final_df[:515340]\n",
    "test = final_df[515340:]"
   ]
  },
  {
   "cell_type": "code",
   "execution_count": null,
   "metadata": {},
   "outputs": [],
   "source": [
    "y_train = train['dischargestatus']\n",
    "X_train = train.drop('dischargestatus',axis=1)\n",
    "X_train = X_train.drop('uhid',axis=1)\n",
    "#X_train = X_train.drop('visittime',axis=1)\n",
    "\n",
    "y_test = test['dischargestatus']\n",
    "X_test = test.drop('dischargestatus',axis=1)\n",
    "X_test = X_test.drop('uhid',axis=1)\n",
    "#X_test = X_test.drop('startdate',axis=1)"
   ]
  },
  {
   "cell_type": "code",
   "execution_count": null,
   "metadata": {},
   "outputs": [],
   "source": [
    "#converting the data into a numpy array\n",
    "X_train = np.array(X_train)\n",
    "y_train = np.array(y_train)\n",
    "X_test = np.array(X_test)\n",
    "y_test = np.array(y_test)\n",
    "\n",
    "ytrain1 = []\n",
    "for i in range(0,len(y_train),15):\n",
    "    #print(i)\n",
    "    y1 = y_train[i:i+15]\n",
    "    ytrain1.append(y1[-1])\n",
    "    \n",
    "ytest1 = []\n",
    "for i in range(0,len(y_test),15):\n",
    "    #print(i)\n",
    "    y1 = y_test[i:i+15]\n",
    "    ytest1.append(y1[-1])\n",
    "    \n",
    "ytrain1 = np.array(ytrain1)\n",
    "ytest1 = np.array(ytest1)\n",
    "\n",
    "Xtrain = np.reshape(X_train, (-1, 15, X_train.shape[1]))\n",
    "Xtest = np.reshape(X_test, (-1, 15, X_test.shape[1]))"
   ]
  },
  {
   "cell_type": "code",
   "execution_count": null,
   "metadata": {},
   "outputs": [],
   "source": [
    "from sklearn.metrics import roc_auc_score\n",
    "auc_roc_inter = []\n",
    "from sklearn.metrics import roc_auc_score\n",
    "val_a = []\n",
    "train_a = []"
   ]
  },
  {
   "cell_type": "code",
   "execution_count": null,
   "metadata": {},
   "outputs": [],
   "source": [
    "for i in range(5):\n",
    "    #Building the LSTM model\n",
    "    X = Input(shape=(None, 2), name='X')\n",
    "    mX = Masking()(X)\n",
    "    lstm = Bidirectional(LSTM(units=512,activation='tanh',return_sequences=True,recurrent_dropout=0.5,dropout=0.3))\n",
    "    mX = lstm(mX)\n",
    "    L = LSTM(units=64,activation='tanh',return_sequences=False)(mX)\n",
    "    y = Dense(1, activation=\"sigmoid\")(L)\n",
    "    outputs = [y]\n",
    "    inputs = [X]\n",
    "    model = Model(inputs,outputs)\n",
    "    model.compile(loss=\"binary_crossentropy\",optimizer='adam',metrics=['accuracy'])\n",
    "\n",
    "    \n",
    "    #fitting the model\n",
    "    model.fit(Xtrain, ytrain1, batch_size=60 ,validation_split=0.15,epochs=38,callbacks=[es])\n",
    "    #history = model.fit(Xtrain, ytrain1, batch_size=60 ,validation_split=0.15,epochs=38,callbacks=[es])\n",
    "    for i in range(len(model.history.history['val_acc'])):\n",
    "        val_a.append(model.history.history['val_acc'][i])\n",
    "        train_a.append(model.history.history['acc'][i])\n",
    "    #predictions\n",
    "    y_pred = model.predict(Xtest)\n",
    "    #y_pred = y_pred.round()\n",
    "    y_test = np.array(ytest1)\n",
    "    y_pred = np.array(y_pred)\n",
    "    y_test = pd.DataFrame(y_test)\n",
    "    y_test = np.array(y_test)\n",
    "\n",
    "    def acc(x):\n",
    "        if x>0.5:\n",
    "            return 1\n",
    "        else:\n",
    "            return 0\n",
    "\n",
    "    y_model=[]\n",
    "    for i in y_pred:\n",
    "        y_model.append(acc(i))\n",
    "    y_answer=[]\n",
    "    for j in y_test:\n",
    "        y_answer.append(acc(j))\n",
    "    \n",
    "    auc_roc_inter.append(roc_auc_score(y_answer,y_pred))"
   ]
  },
  {
   "cell_type": "code",
   "execution_count": null,
   "metadata": {},
   "outputs": [],
   "source": [
    "mean_confidence_interval(auc_roc_inter)"
   ]
  },
  {
   "cell_type": "code",
   "execution_count": null,
   "metadata": {},
   "outputs": [],
   "source": []
  }
 ],
 "metadata": {
  "kernelspec": {
   "display_name": "Python 3",
   "language": "python",
   "name": "python3"
  },
  "language_info": {
   "codemirror_mode": {
    "name": "ipython",
    "version": 3
   },
   "file_extension": ".py",
   "mimetype": "text/x-python",
   "name": "python",
   "nbconvert_exporter": "python",
   "pygments_lexer": "ipython3",
   "version": "3.5.2"
  }
 },
 "nbformat": 4,
 "nbformat_minor": 4
}
