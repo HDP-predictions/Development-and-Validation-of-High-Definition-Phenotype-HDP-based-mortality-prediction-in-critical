{
 "cells": [
  {
   "cell_type": "code",
   "execution_count": 1,
   "metadata": {},
   "outputs": [
    {
     "name": "stderr",
     "output_type": "stream",
     "text": [
      "/usr/local/lib/python3.5/dist-packages/tensorflow/python/framework/dtypes.py:516: FutureWarning: Passing (type, 1) or '1type' as a synonym of type is deprecated; in a future version of numpy, it will be understood as (type, (1,)) / '(1,)type'.\n",
      "  _np_qint8 = np.dtype([(\"qint8\", np.int8, 1)])\n",
      "/usr/local/lib/python3.5/dist-packages/tensorflow/python/framework/dtypes.py:517: FutureWarning: Passing (type, 1) or '1type' as a synonym of type is deprecated; in a future version of numpy, it will be understood as (type, (1,)) / '(1,)type'.\n",
      "  _np_quint8 = np.dtype([(\"quint8\", np.uint8, 1)])\n",
      "/usr/local/lib/python3.5/dist-packages/tensorflow/python/framework/dtypes.py:518: FutureWarning: Passing (type, 1) or '1type' as a synonym of type is deprecated; in a future version of numpy, it will be understood as (type, (1,)) / '(1,)type'.\n",
      "  _np_qint16 = np.dtype([(\"qint16\", np.int16, 1)])\n",
      "/usr/local/lib/python3.5/dist-packages/tensorflow/python/framework/dtypes.py:519: FutureWarning: Passing (type, 1) or '1type' as a synonym of type is deprecated; in a future version of numpy, it will be understood as (type, (1,)) / '(1,)type'.\n",
      "  _np_quint16 = np.dtype([(\"quint16\", np.uint16, 1)])\n",
      "/usr/local/lib/python3.5/dist-packages/tensorflow/python/framework/dtypes.py:520: FutureWarning: Passing (type, 1) or '1type' as a synonym of type is deprecated; in a future version of numpy, it will be understood as (type, (1,)) / '(1,)type'.\n",
      "  _np_qint32 = np.dtype([(\"qint32\", np.int32, 1)])\n",
      "/usr/local/lib/python3.5/dist-packages/tensorflow/python/framework/dtypes.py:525: FutureWarning: Passing (type, 1) or '1type' as a synonym of type is deprecated; in a future version of numpy, it will be understood as (type, (1,)) / '(1,)type'.\n",
      "  np_resource = np.dtype([(\"resource\", np.ubyte, 1)])\n",
      "/usr/local/lib/python3.5/dist-packages/tensorboard/compat/tensorflow_stub/dtypes.py:541: FutureWarning: Passing (type, 1) or '1type' as a synonym of type is deprecated; in a future version of numpy, it will be understood as (type, (1,)) / '(1,)type'.\n",
      "  _np_qint8 = np.dtype([(\"qint8\", np.int8, 1)])\n",
      "/usr/local/lib/python3.5/dist-packages/tensorboard/compat/tensorflow_stub/dtypes.py:542: FutureWarning: Passing (type, 1) or '1type' as a synonym of type is deprecated; in a future version of numpy, it will be understood as (type, (1,)) / '(1,)type'.\n",
      "  _np_quint8 = np.dtype([(\"quint8\", np.uint8, 1)])\n",
      "/usr/local/lib/python3.5/dist-packages/tensorboard/compat/tensorflow_stub/dtypes.py:543: FutureWarning: Passing (type, 1) or '1type' as a synonym of type is deprecated; in a future version of numpy, it will be understood as (type, (1,)) / '(1,)type'.\n",
      "  _np_qint16 = np.dtype([(\"qint16\", np.int16, 1)])\n",
      "/usr/local/lib/python3.5/dist-packages/tensorboard/compat/tensorflow_stub/dtypes.py:544: FutureWarning: Passing (type, 1) or '1type' as a synonym of type is deprecated; in a future version of numpy, it will be understood as (type, (1,)) / '(1,)type'.\n",
      "  _np_quint16 = np.dtype([(\"quint16\", np.uint16, 1)])\n",
      "/usr/local/lib/python3.5/dist-packages/tensorboard/compat/tensorflow_stub/dtypes.py:545: FutureWarning: Passing (type, 1) or '1type' as a synonym of type is deprecated; in a future version of numpy, it will be understood as (type, (1,)) / '(1,)type'.\n",
      "  _np_qint32 = np.dtype([(\"qint32\", np.int32, 1)])\n",
      "/usr/local/lib/python3.5/dist-packages/tensorboard/compat/tensorflow_stub/dtypes.py:550: FutureWarning: Passing (type, 1) or '1type' as a synonym of type is deprecated; in a future version of numpy, it will be understood as (type, (1,)) / '(1,)type'.\n",
      "  np_resource = np.dtype([(\"resource\", np.ubyte, 1)])\n"
     ]
    }
   ],
   "source": [
    "import pandas as pd\n",
    "import numpy as np\n",
    "import tensorflow as tf\n",
    "from tensorflow import keras\n",
    "import matplotlib.pyplot as plt\n",
    "import seaborn as sns\n",
    "import math"
   ]
  },
  {
   "cell_type": "code",
   "execution_count": 2,
   "metadata": {},
   "outputs": [
    {
     "name": "stderr",
     "output_type": "stream",
     "text": [
      "/usr/local/lib/python3.5/dist-packages/IPython/core/interactiveshell.py:2785: DtypeWarning: Columns (2,18,21,24,32,38,39,40,51) have mixed types. Specify dtype option on import or set low_memory=False.\n",
      "  interactivity=interactivity, compiler=compiler, result=result)\n"
     ]
    }
   ],
   "source": [
    "data = pd.read_csv('new_processed_17th_march.csv')"
   ]
  },
  {
   "cell_type": "code",
   "execution_count": 3,
   "metadata": {},
   "outputs": [],
   "source": [
    "cols = ['uhid', 'modificationtime', 'pulserate', 'ecg_resprate',\n",
    "       'spo2', 'heartrate', 'dischargestatus_x', 'mean_bp', 'sys_bp', 'dia_bp',\n",
    "       'peep', 'pip', 'map', 'tidalvol', 'minvol', 'ti', 'fio2',\n",
    "       'creationtime_y', 'abdomen_girth_y', 'urine', 'stool',\n",
    "       'totalparenteralvolume', 'ph_y', 'entrydate_x', 'gender', 'birthweight',\n",
    "       'birthlength', 'birthheadcircumference', 'inout_patient_status',\n",
    "       'gestationweekbylmp', 'gestationdaysbylmp', 'baby_type', 'central_temp',\n",
    "       'apgar_onemin', 'apgar_fivemin', 'apgar_tenmin', 'motherage',\n",
    "       'conception_type', 'mode_of_delivery', 'steroidname', 'numberofdose',\n",
    "       'rbs', 'skintemp', 'centraltemp', 'visitdate', 'currentdateweight',\n",
    "       'currentdateheight', 'urine_pre_min', 'abd_diff', 'dose', 'typevalue',\n",
    "       'medicinename_Amikacin', 'medicinename_Amoxicillin',\n",
    "       'medicinename_Ampicillin', 'medicinename_Azithromycin',\n",
    "       'medicinename_Cefoperazone + Sulbactam', 'medicinename_Cefotaxim',\n",
    "       'medicinename_Cefotaxim (Biotax)', 'medicinename_Ceftriaxone',\n",
    "       'medicinename_Ciprofloxacin', 'medicinename_Clarithromycin',\n",
    "       'medicinename_Colisitin', 'medicinename_Colistin (intraventricular)',\n",
    "       'medicinename_Dobutamine', 'medicinename_Dopamine',\n",
    "       'medicinename_Doputamine', 'medicinename_Epinephrine',\n",
    "       'medicinename_Gentamicin', 'medicinename_Linezolid',\n",
    "       'medicinename_Magnix', 'medicinename_Meropenem',\n",
    "       'medicinename_Metronidazole', 'medicinename_Midazolam',\n",
    "       'medicinename_Milrinone', 'medicinename_Morphine',\n",
    "       'medicinename_Netilmicin', 'medicinename_Ofloxacin',\n",
    "       'medicinename_Piperacilin Tazobactam', 'medicinename_Teicoplanin',\n",
    "       'medicinename_Tigecycline', 'medicinename_Vancomycin',\n",
    "       'medicinename_Vasopressin',\n",
    "       'medicinename_Zosyn (Piperacilin Tazobactam)', 'medicinename_levoflox']"
   ]
  },
  {
   "cell_type": "code",
   "execution_count": 4,
   "metadata": {},
   "outputs": [],
   "source": [
    "data_ = data.copy()"
   ]
  },
  {
   "cell_type": "code",
   "execution_count": 5,
   "metadata": {},
   "outputs": [],
   "source": [
    "data = data[cols]\n",
    "data_ = data_[cols]"
   ]
  },
  {
   "cell_type": "code",
   "execution_count": 6,
   "metadata": {},
   "outputs": [],
   "source": [
    "data = pd.get_dummies(data,columns=['stool'])\n",
    "data_ = pd.get_dummies(data_,columns=['stool'])"
   ]
  },
  {
   "cell_type": "code",
   "execution_count": 7,
   "metadata": {},
   "outputs": [],
   "source": [
    "data = pd.get_dummies(data,columns=['steroidname'])\n",
    "data_ = pd.get_dummies(data_,columns=['steroidname'])"
   ]
  },
  {
   "cell_type": "code",
   "execution_count": 8,
   "metadata": {},
   "outputs": [],
   "source": [
    "data = pd.get_dummies(data,columns=['mode_of_delivery'])\n",
    "data_ = pd.get_dummies(data_,columns=['mode_of_delivery'])"
   ]
  },
  {
   "cell_type": "code",
   "execution_count": 9,
   "metadata": {},
   "outputs": [],
   "source": [
    "def conception(x):\n",
    "    if x == 'ivf':\n",
    "        return 1\n",
    "    else:\n",
    "        return 0\n",
    "data.conception_type = data.conception_type.apply(conception)\n",
    "data_.conception_type = data_.conception_type.apply(conception)"
   ]
  },
  {
   "cell_type": "code",
   "execution_count": 10,
   "metadata": {},
   "outputs": [],
   "source": [
    "def baby_type(x):\n",
    "    if x == 'Twins' or x == 'Triplets':\n",
    "        return 1\n",
    "    else:\n",
    "        return 0\n",
    "data.baby_type = data.baby_type.apply(baby_type)\n",
    "data_.baby_type = data_.baby_type.apply(baby_type)"
   ]
  },
  {
   "cell_type": "code",
   "execution_count": 11,
   "metadata": {},
   "outputs": [],
   "source": [
    "def gender(x):\n",
    "    if x == 'Male':\n",
    "        return 1\n",
    "    else:\n",
    "        return 0\n",
    "    \n",
    "data.gender = data.gender.apply(gender)\n",
    "data_.gender = data_.gender.apply(gender)"
   ]
  },
  {
   "cell_type": "code",
   "execution_count": 12,
   "metadata": {},
   "outputs": [],
   "source": [
    "def discharge(x):\n",
    "    if x == 'Discharge':\n",
    "        return 0\n",
    "    else:\n",
    "        return 1\n",
    "\n",
    "data.dischargestatus_x = data.dischargestatus_x.apply(discharge)\n",
    "data_.dischargestatus_x = data_.dischargestatus_x.apply(discharge)"
   ]
  },
  {
   "cell_type": "code",
   "execution_count": 13,
   "metadata": {},
   "outputs": [],
   "source": [
    "cols = ['uhid','pulserate', 'ecg_resprate', 'spo2', 'heartrate', 'dischargestatus_x',\n",
    "       'mean_bp', 'sys_bp', 'dia_bp', 'peep', 'pip', 'map', 'tidalvol',\n",
    "       'minvol', 'ti', 'fio2', 'abdomen_girth_y', 'urine',\n",
    "       'totalparenteralvolume', 'ph_y', 'gender', 'birthweight', 'birthlength',\n",
    "       'birthheadcircumference', 'inout_patient_status', 'gestationweekbylmp',\n",
    "       'gestationdaysbylmp', 'baby_type', 'central_temp', 'apgar_onemin',\n",
    "       'apgar_fivemin', 'apgar_tenmin', 'motherage', 'conception_type',\n",
    "       'numberofdose', 'rbs', 'centraltemp', 'currentdateweight',\n",
    "       'currentdateheight', 'urine_pre_min', 'abd_diff', 'dose',\n",
    "       'medicinename_Amikacin', 'medicinename_Amoxicillin',\n",
    "       'medicinename_Ampicillin', 'medicinename_Azithromycin',\n",
    "       'medicinename_Cefoperazone + Sulbactam', 'medicinename_Cefotaxim',\n",
    "       'medicinename_Cefotaxim (Biotax)', 'medicinename_Ceftriaxone',\n",
    "       'medicinename_Ciprofloxacin', 'medicinename_Clarithromycin',\n",
    "       'medicinename_Colisitin', 'medicinename_Colistin (intraventricular)',\n",
    "       'medicinename_Dobutamine', 'medicinename_Dopamine',\n",
    "       'medicinename_Doputamine', 'medicinename_Epinephrine',\n",
    "       'medicinename_Gentamicin', 'medicinename_Linezolid',\n",
    "       'medicinename_Magnix', 'medicinename_Meropenem',\n",
    "       'medicinename_Metronidazole', 'medicinename_Midazolam',\n",
    "       'medicinename_Milrinone', 'medicinename_Morphine',\n",
    "       'medicinename_Netilmicin', 'medicinename_Ofloxacin',\n",
    "       'medicinename_Piperacilin Tazobactam', 'medicinename_Teicoplanin',\n",
    "       'medicinename_Tigecycline', 'medicinename_Vancomycin',\n",
    "       'medicinename_Vasopressin',\n",
    "       'medicinename_Zosyn (Piperacilin Tazobactam)', 'medicinename_levoflox',\n",
    "       'stool_Large', 'stool_Medium', 'stool_Small', 'steroidname_Beta',\n",
    "       'steroidname_Dexa', 'mode_of_delivery_Forceps', 'mode_of_delivery_LSCS',\n",
    "       'mode_of_delivery_NVD', 'mode_of_delivery_Vaccum']"
   ]
  },
  {
   "cell_type": "code",
   "execution_count": 14,
   "metadata": {},
   "outputs": [],
   "source": [
    "cols_2 = ['pulserate', 'ecg_resprate', 'spo2', 'heartrate',\n",
    "       'mean_bp', 'sys_bp', 'dia_bp', 'peep', 'pip', 'map', 'tidalvol',\n",
    "       'minvol', 'ti', 'fio2', 'abdomen_girth_y', 'urine',\n",
    "       'totalparenteralvolume', 'ph_y', 'gender', 'birthweight', 'birthlength',\n",
    "       'birthheadcircumference', 'inout_patient_status', 'gestationweekbylmp',\n",
    "       'gestationdaysbylmp', 'baby_type', 'central_temp', 'apgar_onemin',\n",
    "       'apgar_fivemin', 'apgar_tenmin', 'motherage', 'conception_type',\n",
    "       'numberofdose', 'rbs', 'centraltemp', 'currentdateweight',\n",
    "       'currentdateheight', 'urine_pre_min', 'abd_diff', 'dose',\n",
    "       'medicinename_Amikacin', 'medicinename_Amoxicillin',\n",
    "       'medicinename_Ampicillin', 'medicinename_Azithromycin',\n",
    "       'medicinename_Cefoperazone + Sulbactam', 'medicinename_Cefotaxim',\n",
    "       'medicinename_Cefotaxim (Biotax)', 'medicinename_Ceftriaxone',\n",
    "       'medicinename_Ciprofloxacin', 'medicinename_Clarithromycin',\n",
    "       'medicinename_Colisitin', 'medicinename_Colistin (intraventricular)',\n",
    "       'medicinename_Dobutamine', 'medicinename_Dopamine',\n",
    "       'medicinename_Doputamine', 'medicinename_Epinephrine',\n",
    "       'medicinename_Gentamicin', 'medicinename_Linezolid',\n",
    "       'medicinename_Magnix', 'medicinename_Meropenem',\n",
    "       'medicinename_Metronidazole', 'medicinename_Midazolam',\n",
    "       'medicinename_Milrinone', 'medicinename_Morphine',\n",
    "       'medicinename_Netilmicin', 'medicinename_Ofloxacin',\n",
    "       'medicinename_Piperacilin Tazobactam', 'medicinename_Teicoplanin',\n",
    "       'medicinename_Tigecycline', 'medicinename_Vancomycin',\n",
    "       'medicinename_Vasopressin',\n",
    "       'medicinename_Zosyn (Piperacilin Tazobactam)', 'medicinename_levoflox',\n",
    "       'stool_Large', 'stool_Medium', 'stool_Small', 'steroidname_Beta',\n",
    "       'steroidname_Dexa', 'mode_of_delivery_Forceps', 'mode_of_delivery_LSCS',\n",
    "       'mode_of_delivery_NVD', 'mode_of_delivery_Vaccum']"
   ]
  },
  {
   "cell_type": "code",
   "execution_count": 15,
   "metadata": {},
   "outputs": [],
   "source": [
    "d = {'Out Born':0,'In Born':1}\n",
    "\n",
    "data.inout_patient_status = data.inout_patient_status.map(d)\n",
    "data_.inout_patient_status = data_.inout_patient_status.map(d)"
   ]
  },
  {
   "cell_type": "code",
   "execution_count": 16,
   "metadata": {},
   "outputs": [],
   "source": [
    "data = data[cols]\n",
    "data_ = data_[cols]\n",
    "data.fillna(-999,inplace=True)"
   ]
  },
  {
   "cell_type": "code",
   "execution_count": 17,
   "metadata": {},
   "outputs": [
    {
     "name": "stdout",
     "output_type": "stream",
     "text": [
      "WARNING:tensorflow:From /usr/local/lib/python3.5/dist-packages/tensorflow/python/ops/init_ops.py:97: calling VarianceScaling.__init__ (from tensorflow.python.ops.init_ops) with dtype is deprecated and will be removed in a future version.\n",
      "Instructions for updating:\n",
      "Call initializer instance with the dtype argument instead of passing it to the constructor\n",
      "WARNING:tensorflow:From /usr/local/lib/python3.5/dist-packages/tensorflow/python/ops/init_ops.py:97: calling Orthogonal.__init__ (from tensorflow.python.ops.init_ops) with dtype is deprecated and will be removed in a future version.\n",
      "Instructions for updating:\n",
      "Call initializer instance with the dtype argument instead of passing it to the constructor\n",
      "WARNING:tensorflow:From /usr/local/lib/python3.5/dist-packages/tensorflow/python/ops/init_ops.py:97: calling Zeros.__init__ (from tensorflow.python.ops.init_ops) with dtype is deprecated and will be removed in a future version.\n",
      "Instructions for updating:\n",
      "Call initializer instance with the dtype argument instead of passing it to the constructor\n",
      "WARNING:tensorflow:From /usr/local/lib/python3.5/dist-packages/tensorflow/python/keras/backend.py:3794: add_dispatch_support.<locals>.wrapper (from tensorflow.python.ops.array_ops) is deprecated and will be removed in a future version.\n",
      "Instructions for updating:\n",
      "Use tf.where in 2.0, which has the same broadcast rule as np.where\n"
     ]
    }
   ],
   "source": [
    "new_model = tf.keras.models.load_model('LSTM_model_23rd_march.h5')"
   ]
  },
  {
   "cell_type": "code",
   "execution_count": 18,
   "metadata": {},
   "outputs": [],
   "source": [
    "data_death = data[data['dischargestatus_x']==1]\n",
    "data_discharge = data[data['dischargestatus_x']==0]"
   ]
  },
  {
   "cell_type": "code",
   "execution_count": 19,
   "metadata": {},
   "outputs": [],
   "source": [
    "def range_finder(x):\n",
    "    length = x\n",
    "    fractional = (x/15.0) - math.floor(x/15.0)\n",
    "    return int(round(fractional*15))"
   ]
  },
  {
   "cell_type": "code",
   "execution_count": null,
   "metadata": {},
   "outputs": [],
   "source": []
  },
  {
   "cell_type": "code",
   "execution_count": null,
   "metadata": {},
   "outputs": [],
   "source": [
    "for i in data_death.uhid.unique():\n",
    "    try:\n",
    "        x = data_death[data_death['uhid']==i]\n",
    "        x = x[cols_2]\n",
    "        X = x[range_finder(len(x)):len(x)]\n",
    "        X = np.array(X)\n",
    "        Xtest = np.reshape(X, (-1, 15, X.shape[1]))\n",
    "        y_pred = new_model.predict(Xtest)\n",
    "        y_df = pd.DataFrame(y_pred)\n",
    "        from pylab import rcParams\n",
    "        rcParams['figure.figsize'] = 20, 6\n",
    "        axes = plt.gca()\n",
    "\n",
    "\n",
    "        sns.set(font_scale = 2)\n",
    "        sns.scatterplot(y = y_df[0], x = np.arange(len(y_pred)),linewidth=0)\n",
    "        #plt.title(uhid)\n",
    "        plt.xlabel('LOS in Time Steps of 15 Minutes',fontsize=18)\n",
    "        plt.ylabel('Probability',fontsize=18)\n",
    "        axes.set_ylim([0,1])\n",
    "        plt.savefig(str(i) + \".png\",dpi = 300)\n",
    "        pass\n",
    "    except:\n",
    "        continue"
   ]
  },
  {
   "cell_type": "code",
   "execution_count": 20,
   "metadata": {},
   "outputs": [
    {
     "data": {
      "text/plain": [
       "array(['RSHI.0000006216', 'RSHI.0000008273', 'RSHI.0000008539',\n",
       "       'RSHI.0000008187', 'RSHI.0000008834', 'RSHI.0000008451',\n",
       "       'RSHI.0000008900', 'RSHI.0000008450', 'RSHI.0000008551',\n",
       "       'RSHI.0000008910', 'RSHI.0000008911', 'RSHI.0000009189',\n",
       "       'RSHI.0000009105', 'RSHI.0000009048', 'RSHI.0000009229',\n",
       "       'RSHI.0000009228', 'RSHI.0000009402', 'RSHI.0000009258',\n",
       "       'RSHI.0000009259', 'RSHI.0000009438', 'RSHI.0000009469',\n",
       "       'RSHI.0000009435', 'RSHI.0000009436', 'RSHI.0000009505',\n",
       "       'RSHI.0000009583', 'RSHI.0000009584', 'RSHI.0000009512',\n",
       "       'RSHI.0000009580', 'RSHI.0000009692', 'RSHI.0000009680',\n",
       "       'RSHI.0000009743', 'RSHI.0000009791', 'RSHI.0000009834',\n",
       "       'RSHI.0000009969', 'RSHI.0000009949', 'RSHI.0000010149',\n",
       "       'RSHI.0000010210', 'RSHI.0000010222', 'RSHI.0000010649',\n",
       "       'RSHI.0000010779', 'RSHI.0000010778', 'RSHI.0000010486',\n",
       "       'RSHI.0000010700', 'RSHI.0000010796', 'RSHI.0000010798',\n",
       "       'RSHI.0000010678', 'RSHI.0000010795', 'RSHI.0000010679',\n",
       "       'RSHI.0000010797', 'RSHI.0000010818', 'RSHI.0000010843',\n",
       "       'RSHI.0000010877', 'RSHI.0000010876', 'RSHI.0000010931',\n",
       "       'RSHI.0000010896', 'RSHI.00000010959', 'RSHI.0000011096',\n",
       "       'RSHI.0000011097', 'RSHI.0000011120', 'RSHI.0000011119',\n",
       "       'RSHI.0000011054', 'RSHI.0000010973', 'RSHI.0000011375',\n",
       "       'RSHI.0000011053', 'RSHI.0000011393', 'RSHI.0000011445',\n",
       "       'RSHI.0000011380', 'RSHI.0000011499', 'RSHI.0000011607',\n",
       "       'RSHI.0000011606', 'RSHI.0000011582', 'RSHI.0000011797',\n",
       "       'RSHI.0000011608', 'RSHI.0000011609', 'RSHI.0000011583',\n",
       "       'RSHI.0000011976', 'RSHI.0000012002', 'RSHI.0000012436',\n",
       "       'RSHI.0000011990', 'RSHI.0000012087', 'RSHI.0000012100',\n",
       "       'RSHI.0000012004', 'RNEH.0000008001', 'RNEH.0000008002',\n",
       "       'RNEH.0000007605', 'RSHI.0000012851', 'RSHI.0000012865',\n",
       "       'RSHI.0000012965', 'RSHI.0000012964', 'RSHI.0000013025',\n",
       "       'RSHI.0000013024', 'RSHI.0000013066', 'RKON0000017733',\n",
       "       'RKON0000017734', 'RSHI.0000013266', 'RSHI.0000013288',\n",
       "       'RNEH.0000008302', 'RJUB.0000012544', 'RSHI.0000013264',\n",
       "       'RNEH.0000008351', 'RNEH.0000008377', 'RKON.0000017973',\n",
       "       'RSHI.0000013579', 'RJUB.12475', 'RKON.0000017759',\n",
       "       'RJUB 0000012696', 'RKON.0000018142', 'RKON.0000018262',\n",
       "       'RSHI.0000013807', 'RSHI.0000013907', 'RSHI.0000013800',\n",
       "       'RSHI.0000013747', 'RSHI.0000013799', 'RSHI.0000013961',\n",
       "       'RKON.0000018396', 'RSHI.0000013995', 'RSHI.0000013998',\n",
       "       'RKON.0000018392', 'RSHI.0000014054', 'RSHI.0000012827',\n",
       "       'RSHI.0000012828', 'RSHI.0000012969', 'RSHI.0000013036',\n",
       "       'RSHI.0000012984', 'RSHI.0000011571', 'RSHI.0000012985',\n",
       "       'RSHI.0000011572', 'RSHI.0000013299', 'RSHI.0000013718',\n",
       "       'RSHI.0000011498', 'RSHI.0000012314', 'RSHI.0000012661',\n",
       "       'RSHI.0000012830', 'RSHI.0000012831', 'RSHI.0000013162',\n",
       "       'RSHI.0000013163', 'RSHI.0000013253', 'RSHI.0000013252',\n",
       "       'RSHI.0000010225', 'RSHI.0000010948', 'RSHI.0000010972',\n",
       "       'RSHI.0000010537', 'RSHI.0000010659', 'RSHI.0000110063',\n",
       "       'RSHI.0000010334', 'RSHI.0000010335', 'RSHI.0000010317',\n",
       "       'RSHI.0000013944', 'RSHI.0000014097', 'RSHI.0000014103',\n",
       "       'RSHI.0000014196', 'RSHI.0000014215', 'RSHI.0000014218',\n",
       "       'RKON0000018625', 'RSHI.0000014239', 'RSHI.0000014262',\n",
       "       'RSHI.0000014265', 'RSHI.0000014261', 'RAMR.0000003268',\n",
       "       'RSHI.0000014191', 'RSHI.0000014267', 'RSHI.0000014313',\n",
       "       'RSHI.0000014306', 'RSHI.0000014327', 'RSHI.0000014368',\n",
       "       'RSHI.0000014371', 'RSHI.0000014367', 'RSHI.0000014378',\n",
       "       'RSHI.0000014330', 'RSHI.0000014389', 'RSHI.0000014400',\n",
       "       'RSHI.0000014407', 'RSHI.0000014468', 'RSHI.0000014325',\n",
       "       'RSHI.0000014433', 'RSHI.0000014497', 'RSHI.0000014510',\n",
       "       'RSHI.0000014511', 'RSHI.0000014457', 'RKON0000018690',\n",
       "       'RNEH.0000009029', 'RNEH.0000009034', 'RSHI.0000014530',\n",
       "       'RSHI.0000014648', 'RSHI.0000014665', 'RNEH.0000008114',\n",
       "       'RSHI.0000014664', 'RSHI.0000014688', 'RSHI.0000014677',\n",
       "       'RSHI.0000014691', 'RSHI.0000014694', 'RSHI.0000014695',\n",
       "       'RSHI.0000014699', 'RNEH.0000009026', 'RSHI.0000014719',\n",
       "       'RSHI.0000014731', 'RSHI.0000014472', 'RSHI.0000014366',\n",
       "       'RSHI.0000014730', 'RSHI.0000014844', 'RNEH.0000009161',\n",
       "       'RNEH.0000009213', 'RMAR.0000024348', 'RSHI.0000014884',\n",
       "       'RSHI.0000014883', 'RSHI.0000014898', 'RNEH.0000009061',\n",
       "       'RNEH.0000009215', 'RSHI.0000014908', 'RSHI.0000014911',\n",
       "       'RSHI.0000014902', 'RSHI.0000014935', 'RSHI.0000014934',\n",
       "       'RNEH.0000009259', 'RNEH.0000009255', 'RSHI.0000014962',\n",
       "       'RSHI.0000014975', 'RSHI.0000015000', 'RNEH.0000009286',\n",
       "       'RSHI.0000014999', 'RSHI.0000015015', 'RSHI.0000015043',\n",
       "       'RSHI.0000015057', 'RSHI.0000015058', 'RKON.0000019431',\n",
       "       'RSHI.0000015117', 'RSHI.0000015104', 'RSHI.0000015118',\n",
       "       'RSHI.0000015014', 'RNEH.0000009308', 'RSHI.0000015144',\n",
       "       'RSHI.0000015173', 'RSHI.0000015179', 'RSHI.0000015213',\n",
       "       'RSHI.0000015212', 'RKO.0000019611', 'RSHI.0000015174',\n",
       "       'RKON.0000019612', 'RSHI.0000015136', 'RSHI.0000015209',\n",
       "       'RKON.0000019649', 'RSHI.0000015297', 'RSHI.0000015331',\n",
       "       'RSHI.0000015187', 'RSHI.0000015281', 'RSHI.0000015336',\n",
       "       'RSHI.0000014933', 'RSHI.0000014592', 'RSHI.0000014456',\n",
       "       'RSHI.0000014517', 'RSHI.0000015402', 'RSHI.0000015284',\n",
       "       'RSHI.0000015458', 'RSHI.0000015459', 'RSHI.0000015491',\n",
       "       'RSHI.0000015493', 'RSHI.0000015492', 'RSHI.0000015420',\n",
       "       'RSHI.0000015482', 'RSHI.0000015522', 'RSHI.0000015540',\n",
       "       'RSHI.0000015541', 'RSHI.0000015561', 'RSHI.0000015585',\n",
       "       'RAMR.0000003966', 'RSHI.0000015661', 'RSHI.0000015552',\n",
       "       'RSHI.0000015668', 'RSHI.0000015614', 'RAMR.0000004070',\n",
       "       'RSHI.0000015737', 'RSHI.0000015772', 'RSHI.0000015793',\n",
       "       'RSHI.0000015809', 'RSHI.0000015810', 'RSHI.0000015736',\n",
       "       'RKON.0000020024', 'RSHI.0000015873', 'RSHI.0000015741',\n",
       "       'RSHI.0000015883', 'RSHI.0000015920', 'RSHI.0000015959',\n",
       "       'RSHI.0000015960', 'RSHI.0000015938', 'RSHI.0000015970',\n",
       "       'RSHI.0000015979', 'RSHI.0000015961', 'RSHI.0000016112',\n",
       "       'RSHI.0000016050', 'RSHI.0000016137', 'RSHI.0000016147',\n",
       "       'RSHI.0000016149', 'RSHI.0000016148', 'RKON.0000020411',\n",
       "       'RJUB.0000014618', 'RSHI.0000016194', 'RSHI.0000016193',\n",
       "       'RSHI.0000016291', 'RSHI.0000016185', 'RSHI.0000016142',\n",
       "       'RSHI.0000016285', 'RSHI.0000016283', 'RKON.0000020521',\n",
       "       'RSHI.0000016292', 'RKON.0000020636', 'RSHI.0000016316',\n",
       "       'RSHI.0000016315', 'RSHI.0000016325', 'RSHI.0000016326',\n",
       "       'RSHI.0000016344', 'RSHI.0000016343', 'RSHI.0000016453',\n",
       "       'RSHI.0000016454', 'RSHI.0000016503', 'RSHI.0000016530',\n",
       "       'RSHI.0000016565', 'RSHI.0000016564', 'RSHI.0000016520',\n",
       "       'RSHI.0000016434', 'RSHI.0000016535', 'RSHI.0000016460',\n",
       "       'RSHI.0000016604', 'RSHI.0000016511', 'RSHI.0000016388',\n",
       "       'RSHI.0000016666', 'RSHI.0000016647', 'RSHI.0000016689',\n",
       "       'RSHI.0000016665', 'RSHI.0000016774', 'RSHI.0000016766',\n",
       "       'RSHI.0000016765', 'RSHI.0000016832', 'RJUB.0000015013',\n",
       "       'RJUB.0000015017', 'RSHI.0000016836', 'RSHI.0000016893',\n",
       "       'RMAR.0000026647', 'RSHI.0000016872', 'RSHI.0000016935',\n",
       "       'RSHI.0000016943', 'RSHI.0000016859', 'RSHI.0000016969',\n",
       "       'RSHI.0000016970', 'RSHI.0000017007', 'RSHI.0000016924',\n",
       "       'RSHI.0000017047', 'RSHI.0000017056', 'RSHI.0000017057',\n",
       "       'RMAR.0000026969', 'RSHI0000017091', 'RSHI.0000017143',\n",
       "       'RSHI0000016859', 'RSHI.0000017091', 'RSHI0000017227',\n",
       "       'RJUB.0000015322', 'RSHI0000017181', 'RSHI0000017199',\n",
       "       'RSHI0000017263', 'RSHI0000017262', 'RKON.0000021556',\n",
       "       'RKON.0000014915', 'RSHI.0000017129', 'RSHI.0000017210',\n",
       "       'RSHI.0000017195', 'RSHI.0000017094', 'RSHI.0000016623',\n",
       "       'RMAR.0000027184', 'RSHI.0000017306', 'RSHI.0000017376',\n",
       "       'RSHI0000017284', 'RMAR.0000027018', 'RSHI0000017417',\n",
       "       'RSHI0000017338', 'RSHI.0000017431', 'RSHI0000017355',\n",
       "       'RSHI0000017397', 'RSHI0000017416', 'RSHI0000017420',\n",
       "       'RSHI.0000017466', 'RSHI.0000017474', 'RNEH.0000010531',\n",
       "       'RNEH.0000010413', 'RNEH.0000010414', 'RNEH.0000010725',\n",
       "       'RNEH.0000010724', 'RNEH.0000010548', 'RNEH.0000010694',\n",
       "       'RNEH.0000010738', 'RSHI.0000017430', 'RSHI.0000017512',\n",
       "       'RSHI.0000017602', 'RSHI.0000017603', 'RSHI.0000017624',\n",
       "       'RSHI.0000017623', 'RSHI.0000017652', 'RSHI.0000017651',\n",
       "       'RSHI.0000017562', 'RNEH.0000010784', 'RNEH.0000010783',\n",
       "       'RSHI.0000017681', 'RSHI.0000017634', 'RSHI.0000017640',\n",
       "       'RSHI.0000017763', 'RSHI.0000017762', 'RSHI.0000017787',\n",
       "       'RSHI.0000017817', 'RSHI.0000017734', 'RNEH.0000010900',\n",
       "       'RNEH.0000010901', 'RKON.0000022165', 'RNEH.0000010921',\n",
       "       'RSHI.0000017800', 'RSHI.0000017866', 'RNEH.0000010929',\n",
       "       'RSHI.0000017893', 'RSHI.0000017919', 'RSHI.0000017917',\n",
       "       'RSHI.0000017931', 'RSHI.0000017951', 'RSHI.0000017981',\n",
       "       'RSHI.0000017874', 'RNEH.0000010998', 'RSHI.0000017888',\n",
       "       'RSHI.0000017956', 'RSHI0000017909', 'RSHI0000018009',\n",
       "       'RSHI0000017466', 'RMAR.0000028112', 'RSHI.0000017768',\n",
       "       'RMAR.0000028207', 'RSHI0000017977', 'RSHI.0000018016',\n",
       "       'RSHI.0000018051', 'RSHI.0000018082', 'RSHI.0000018080',\n",
       "       'SKON.0000010685', 'RSHI.0000018152', 'RSHI.0000018153',\n",
       "       'RSHI.0000018162', 'RSHI.0000018006', 'RSHI.0000018095',\n",
       "       'RSHI.0000018114', 'RSHI.0000018136', 'RSHI0000018132',\n",
       "       'RNEH.0000011138', 'RSHI.0000018207', 'RSHI.0000018206',\n",
       "       'RSHI.0000018232', 'RSHI.0000018151', 'RNEH.0000011143',\n",
       "       'RSHI.0000018215', 'RKOR.0000032509', 'RSHI.0000018289',\n",
       "       'RSHI.0000018314', 'RSHI.0000018311', 'RSHI.0000018312',\n",
       "       'RSHI.0000018209', 'RSHI.0000018325', 'RSHI.0000018381',\n",
       "       'RSHI.0000018384', 'RSHI.0000018391', 'RSHI.0000018392',\n",
       "       'RSHI.0000018357', 'RNEH.0000011211', 'RSHI.0000018438',\n",
       "       'RSHI.0000018461', 'RSHI.0000018457', 'RSHI.0000018456',\n",
       "       'RSHI.0000018468', 'RSHI.0000018379', 'RSHI.0000018383',\n",
       "       'RMAR.0000028763', 'RSHI.0000018554', 'RSHI0000018464',\n",
       "       'RNEH.0000011260', 'RNEH.0000011300', 'RSHI.0000018598',\n",
       "       'RSHI.0000018600', 'RSHI.0000018537', 'RNEH.0000011335',\n",
       "       'RSHI.0000018584', 'RSHI.0000018523', 'RSHI.0000018687',\n",
       "       'RSHI.0000018646', 'RSHI.0000018757', 'RNEH.0000011404',\n",
       "       'RSHI.0000018734', 'RSHI.0000018749', 'RSHI.0000018789',\n",
       "       'RSHI.0000018668', 'RSHI.0000018698', 'RSHI0000018797',\n",
       "       'RSHI.0000018836', 'RSHI.0000018556', 'RSHI.0000018771',\n",
       "       'RSHI.0000018896', 'RSHI.0000018904', 'RSHI.0000018830',\n",
       "       'RSHI.0000018812', 'RSHI.0000018967', 'RSHI.0000018973',\n",
       "       'SKAR.0000063490', 'RNEH.0000011572', 'RNEH.0000011571',\n",
       "       'RSHI.0000018899', 'RSHI.0000018903', 'RSHI.0000018975',\n",
       "       'RNEH.0000011614', 'RSHI.0000019088', 'RSHI.0000019089',\n",
       "       'RSHI.0000019030', 'RMAR.0000029654', 'RSHI.0000019011',\n",
       "       'RSHI.0000018977', 'RJUB 0000016511', 'RSHI0000019063',\n",
       "       'RSHI.0000019142', 'RSHI.0000019149', 'RSHI.0000019151',\n",
       "       'RSHI.0000019056', 'RSHI.0000019172', 'RSHI.0000019134',\n",
       "       'RJUB.0000016947', 'RJUB.0000016974', 'RSHI.0000019145',\n",
       "       'RSHI.0000019147', 'RSHI00000.19243', 'RSHI.0000019213',\n",
       "       'RSHI00000.19235', 'RSHI00000.19244', 'RJOR.0000032680',\n",
       "       'RKOR.0000033184', 'RSHI.0000019298', 'RSHI0000019194',\n",
       "       'RNEH.0000011769', 'RMAR.0000029888', 'RSHI.0000019414',\n",
       "       'RSHI.0000019422', 'RSHI.0000019423', 'RSHI.0000019458',\n",
       "       'RSHI.0000019463', 'RSHI.0000019415', 'RSHI.0000019435',\n",
       "       'RSHI.0000019468', 'RSHI.0000019546', 'RSHI.0000019545',\n",
       "       'RKON.0000024053', 'RSHI.0000019552', 'RSHI.0000019560',\n",
       "       'RNEH.0000011834', 'RSHI.0000019579', 'RSHI.0000019528',\n",
       "       'RSHI.0000018261', 'RSHI.00000018290'], dtype=object)"
      ]
     },
     "execution_count": 20,
     "metadata": {},
     "output_type": "execute_result"
    }
   ],
   "source": [
    "data_discharge.uhid.unique()"
   ]
  },
  {
   "cell_type": "code",
   "execution_count": 27,
   "metadata": {},
   "outputs": [
    {
     "data": {
      "image/png": "[encoded data removed]",
      "text/plain": [
       "<Figure size 1440x432 with 1 Axes>"
      ]
     },
     "metadata": {},
     "output_type": "display_data"
    }
   ],
   "source": [
    "i = 'RSHI.0000014664'\n",
    "x = data_discharge[data_discharge['uhid']==i]\n",
    "x = x[cols_2]\n",
    "X = x[range_finder(len(x)):len(x)]\n",
    "X = np.array(X)\n",
    "Xtest = np.reshape(X, (-1, 15, X.shape[1]))\n",
    "y_pred = new_model.predict(Xtest)\n",
    "y_df = pd.DataFrame(y_pred)\n",
    "from pylab import rcParams\n",
    "rcParams['figure.figsize'] = 20, 6\n",
    "axes = plt.gca()\n",
    "\n",
    "\n",
    "sns.set(font_scale = 2)\n",
    "sns.scatterplot(y = y_df[0], x = np.arange(len(y_pred)),linewidth=0)\n",
    "#plt.title(uhid)\n",
    "plt.xlabel('LOS in Time Steps of 15 Minutes',fontsize=18)\n",
    "plt.ylabel('Probability',fontsize=18)\n",
    "axes.set_ylim([0,1])\n",
    "plt.savefig(str(i) + \"_dis.png\",dpi = 300)"
   ]
  },
  {
   "cell_type": "code",
   "execution_count": 25,
   "metadata": {},
   "outputs": [],
   "source": [
    "data = data_death[data_death['uhid']=='RSHI.0000016943']"
   ]
  },
  {
   "cell_type": "code",
   "execution_count": 28,
   "metadata": {},
   "outputs": [],
   "source": [
    "np.savetxt('RSHI.0000014664.csv',y_pred)"
   ]
  },
  {
   "cell_type": "code",
   "execution_count": null,
   "metadata": {},
   "outputs": [],
   "source": []
  }
 ],
 "metadata": {
  "kernelspec": {
   "display_name": "Python 3",
   "language": "python",
   "name": "python3"
  },
  "language_info": {
   "codemirror_mode": {
    "name": "ipython",
    "version": 2
   },
   "file_extension": ".py",
   "mimetype": "text/x-python",
   "name": "python",
   "nbconvert_exporter": "python",
   "pygments_lexer": "ipython2",
   "version": "2.7.17"
  }
 },
 "nbformat": 4,
 "nbformat_minor": 4
}
